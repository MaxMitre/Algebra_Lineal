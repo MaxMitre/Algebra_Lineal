{
  "nbformat": 4,
  "nbformat_minor": 0,
  "metadata": {
    "colab": {
      "name": "semana11_Calculo_GradienteDescendienteEstocastico.ipynb",
      "provenance": [],
      "collapsed_sections": []
    },
    "kernelspec": {
      "name": "python3",
      "display_name": "Python 3"
    },
    "language_info": {
      "name": "python"
    }
  },
  "cells": [
    {
      "cell_type": "markdown",
      "source": [
        "[![Open In Colab](https://colab.research.google.com/assets/colab-badge.svg)](https://colab.research.google.com/github/MaxMitre/Algebra_Lineal/blob/main/semana11/GradienteDescendienteEstocastico.ipynb)\n",
        "\n",
        "\n",
        "\n"
      ],
      "metadata": {
        "id": "nBZ5S2HUpIYr"
      }
    },
    {
      "cell_type": "markdown",
      "source": [
        "# Introducción\n",
        "\n",
        "Se verá como funciona el algoritmo de Gradiente Descendiente aplicado a una regresión logística que asignará las probabilidades utilizando la función softmax."
      ],
      "metadata": {
        "id": "4oifWcjIiD7g"
      }
    },
    {
      "cell_type": "markdown",
      "source": [
        "# Dependencias"
      ],
      "metadata": {
        "id": "Nyex2mbhUAYd"
      }
    },
    {
      "cell_type": "code",
      "source": [
        "import numpy as np\n",
        "import pandas as pd\n",
        "import matplotlib.pyplot as plt"
      ],
      "metadata": {
        "id": "PBpjrBycDrRq"
      },
      "execution_count": null,
      "outputs": []
    },
    {
      "cell_type": "code",
      "source": [
        "# Solo para que al mostrarnos los arreglos no nos de los valores grandes en notación científica\n",
        "np.set_printoptions(suppress=True)"
      ],
      "metadata": {
        "id": "e6EHiIOTVg8f"
      },
      "execution_count": null,
      "outputs": []
    },
    {
      "cell_type": "markdown",
      "source": [
        "# Carga de datos e interpretación\n"
      ],
      "metadata": {
        "id": "oXC7fZc5UCdu"
      }
    },
    {
      "cell_type": "code",
      "source": [
        "from google.colab import drive\n",
        "drive.mount('/content/drive')"
      ],
      "metadata": {
        "id": "f4hILff7UzDM",
        "colab": {
          "base_uri": "https://localhost:8080/"
        },
        "outputId": "44944de1-79d5-4c68-f3b9-0bb3dc24e6eb"
      },
      "execution_count": null,
      "outputs": [
        {
          "output_type": "stream",
          "name": "stdout",
          "text": [
            "Drive already mounted at /content/drive; to attempt to forcibly remount, call drive.mount(\"/content/drive\", force_remount=True).\n"
          ]
        }
      ]
    },
    {
      "cell_type": "code",
      "source": [
        "df = pd.read_csv('/content/drive/MyDrive/Curso-Algebra/semana10/pruebas_datos.csv')"
      ],
      "metadata": {
        "id": "iHs4VEOGT90s"
      },
      "execution_count": null,
      "outputs": []
    },
    {
      "cell_type": "code",
      "source": [
        "df"
      ],
      "metadata": {
        "id": "FK5Uw7BZU8s4",
        "colab": {
          "base_uri": "https://localhost:8080/",
          "height": 488
        },
        "outputId": "20bf62a9-930e-4c63-9c69-20cab7e79adc"
      },
      "execution_count": null,
      "outputs": [
        {
          "output_type": "execute_result",
          "data": {
            "text/plain": [
              "            OTR       OCR  min_time_two_events  mean_time_two_events  \\\n",
              "0     -0.264140 -0.171596            -0.034334              0.173848   \n",
              "1     -0.267371  0.071957            -0.034334             -0.394632   \n",
              "2     -0.268571  0.392193            -0.034334             -0.596358   \n",
              "3     -0.267320 -0.082373            -0.034334             -0.337735   \n",
              "4     -0.268375  0.094866            -0.034334             -0.551568   \n",
              "...         ...       ...                  ...                   ...   \n",
              "50577 -0.270438  0.040609            -0.034334             -0.587633   \n",
              "50578 -0.269299  0.040609            -0.034334             -0.704571   \n",
              "50579 -0.270456  0.952123            -0.034334             -0.592510   \n",
              "50580 -0.270274  2.659404            -0.034334             -0.648742   \n",
              "50581 -0.270277  0.662754            -0.034334             -0.694323   \n",
              "\n",
              "       10_p_time_two_events  med_time_two_events  25_p_time_two_events  \\\n",
              "0                 -0.051861            -0.194635             -0.103174   \n",
              "1                 -0.051861            -0.261262             -0.107967   \n",
              "2                 -0.051861            -0.261262             -0.107967   \n",
              "3                 -0.051861            -0.260286             -0.107966   \n",
              "4                 -0.051861            -0.261262             -0.107967   \n",
              "...                     ...                  ...                   ...   \n",
              "50577             -0.051861            -0.261262             -0.107967   \n",
              "50578             -0.051861            -0.261262             -0.107967   \n",
              "50579             -0.051861            -0.261262             -0.107967   \n",
              "50580             -0.051861            -0.261262             -0.107967   \n",
              "50581             -0.051861            -0.261262             -0.107967   \n",
              "\n",
              "       75_p_time_two_events  90_p_time_two_events  max_time_two_events  ...  \\\n",
              "0                 -0.493894              0.669772             0.113391  ...   \n",
              "1                 -0.578826             -0.714095             0.478099  ...   \n",
              "2                 -0.579091             -0.864277             0.449648  ...   \n",
              "3                 -0.574153              0.401915            -0.240214  ...   \n",
              "4                 -0.579396             -0.876131            -0.003950  ...   \n",
              "...                     ...                   ...                  ...  ...   \n",
              "50577             -0.579589             -0.811629            -0.928057  ...   \n",
              "50578             -0.573424             -0.873859            -1.356834  ...   \n",
              "50579             -0.579500             -0.894274             0.012924  ...   \n",
              "50580             -0.579477             -0.886564            -0.241991  ...   \n",
              "50581             -0.578331             -0.879211            -1.284239  ...   \n",
              "\n",
              "       90_p_lifetime_cancel  max_lifetime_cancel  NbTradeVenueMic  \\\n",
              "0                  0.446317             0.159271        -0.989267   \n",
              "1                  0.341803             0.053125        -0.989267   \n",
              "2                 -0.843156            -0.601191        -0.989267   \n",
              "3                  0.205183            -0.085628        -0.989267   \n",
              "4                  0.447088             0.160054        -0.989267   \n",
              "...                     ...                  ...              ...   \n",
              "50577             -0.499086            -0.800893        -0.989267   \n",
              "50578             -0.927494            -1.235990        -0.989267   \n",
              "50579              0.464365             0.177600        -0.989267   \n",
              "50580              0.203363            -0.087476        -0.989267   \n",
              "50581             -0.921142            -1.229538        -0.989267   \n",
              "\n",
              "       MaxNbTradesBySecond  MeanNbTradesBySecond  min_dt_TV1  mean_dt_TV1  \\\n",
              "0                -0.459192              0.414463   -0.068166     2.257305   \n",
              "1                 0.065955              2.493944   -0.174906    -0.259542   \n",
              "2                 0.223500              1.925729   -0.174906    -0.350248   \n",
              "3                -0.406677              1.394323   -0.174906    -0.056171   \n",
              "4                 0.170985              1.041917   -0.174906    -0.327099   \n",
              "...                    ...                   ...         ...          ...   \n",
              "50577            -0.039074              2.972986   -0.174905    -0.139995   \n",
              "50578            -0.616736              0.204493   -0.174905    -0.355996   \n",
              "50579             0.276014              1.680116   -0.174905    -0.076802   \n",
              "50580             0.748647              1.846925   -0.174905    -0.275480   \n",
              "50581             0.696132              2.682657   -0.174905     0.289331   \n",
              "\n",
              "       med_dt_TV1  NbSecondWithAtLeatOneTrade  type  \n",
              "0        0.215650                   -0.430203     1  \n",
              "1       -0.257432                   -0.415533     1  \n",
              "2       -0.257432                   -0.351515     1  \n",
              "3       -0.257431                   -0.430203     1  \n",
              "4       -0.257432                   -0.384858     1  \n",
              "...           ...                         ...   ...  \n",
              "50577   -0.257431                   -0.431537     1  \n",
              "50578   -0.257262                   -0.426202     1  \n",
              "50579   -0.256689                   -0.414199     1  \n",
              "50580   -0.257133                   -0.388859     1  \n",
              "50581   -0.253120                   -0.423535     1  \n",
              "\n",
              "[50582 rows x 26 columns]"
            ],
            "text/html": [
              "\n",
              "  <div id=\"df-1acf6ddb-45a4-4528-81ec-0fc53703c079\">\n",
              "    <div class=\"colab-df-container\">\n",
              "      <div>\n",
              "<style scoped>\n",
              "    .dataframe tbody tr th:only-of-type {\n",
              "        vertical-align: middle;\n",
              "    }\n",
              "\n",
              "    .dataframe tbody tr th {\n",
              "        vertical-align: top;\n",
              "    }\n",
              "\n",
              "    .dataframe thead th {\n",
              "        text-align: right;\n",
              "    }\n",
              "</style>\n",
              "<table border=\"1\" class=\"dataframe\">\n",
              "  <thead>\n",
              "    <tr style=\"text-align: right;\">\n",
              "      <th></th>\n",
              "      <th>OTR</th>\n",
              "      <th>OCR</th>\n",
              "      <th>min_time_two_events</th>\n",
              "      <th>mean_time_two_events</th>\n",
              "      <th>10_p_time_two_events</th>\n",
              "      <th>med_time_two_events</th>\n",
              "      <th>25_p_time_two_events</th>\n",
              "      <th>75_p_time_two_events</th>\n",
              "      <th>90_p_time_two_events</th>\n",
              "      <th>max_time_two_events</th>\n",
              "      <th>...</th>\n",
              "      <th>90_p_lifetime_cancel</th>\n",
              "      <th>max_lifetime_cancel</th>\n",
              "      <th>NbTradeVenueMic</th>\n",
              "      <th>MaxNbTradesBySecond</th>\n",
              "      <th>MeanNbTradesBySecond</th>\n",
              "      <th>min_dt_TV1</th>\n",
              "      <th>mean_dt_TV1</th>\n",
              "      <th>med_dt_TV1</th>\n",
              "      <th>NbSecondWithAtLeatOneTrade</th>\n",
              "      <th>type</th>\n",
              "    </tr>\n",
              "  </thead>\n",
              "  <tbody>\n",
              "    <tr>\n",
              "      <th>0</th>\n",
              "      <td>-0.264140</td>\n",
              "      <td>-0.171596</td>\n",
              "      <td>-0.034334</td>\n",
              "      <td>0.173848</td>\n",
              "      <td>-0.051861</td>\n",
              "      <td>-0.194635</td>\n",
              "      <td>-0.103174</td>\n",
              "      <td>-0.493894</td>\n",
              "      <td>0.669772</td>\n",
              "      <td>0.113391</td>\n",
              "      <td>...</td>\n",
              "      <td>0.446317</td>\n",
              "      <td>0.159271</td>\n",
              "      <td>-0.989267</td>\n",
              "      <td>-0.459192</td>\n",
              "      <td>0.414463</td>\n",
              "      <td>-0.068166</td>\n",
              "      <td>2.257305</td>\n",
              "      <td>0.215650</td>\n",
              "      <td>-0.430203</td>\n",
              "      <td>1</td>\n",
              "    </tr>\n",
              "    <tr>\n",
              "      <th>1</th>\n",
              "      <td>-0.267371</td>\n",
              "      <td>0.071957</td>\n",
              "      <td>-0.034334</td>\n",
              "      <td>-0.394632</td>\n",
              "      <td>-0.051861</td>\n",
              "      <td>-0.261262</td>\n",
              "      <td>-0.107967</td>\n",
              "      <td>-0.578826</td>\n",
              "      <td>-0.714095</td>\n",
              "      <td>0.478099</td>\n",
              "      <td>...</td>\n",
              "      <td>0.341803</td>\n",
              "      <td>0.053125</td>\n",
              "      <td>-0.989267</td>\n",
              "      <td>0.065955</td>\n",
              "      <td>2.493944</td>\n",
              "      <td>-0.174906</td>\n",
              "      <td>-0.259542</td>\n",
              "      <td>-0.257432</td>\n",
              "      <td>-0.415533</td>\n",
              "      <td>1</td>\n",
              "    </tr>\n",
              "    <tr>\n",
              "      <th>2</th>\n",
              "      <td>-0.268571</td>\n",
              "      <td>0.392193</td>\n",
              "      <td>-0.034334</td>\n",
              "      <td>-0.596358</td>\n",
              "      <td>-0.051861</td>\n",
              "      <td>-0.261262</td>\n",
              "      <td>-0.107967</td>\n",
              "      <td>-0.579091</td>\n",
              "      <td>-0.864277</td>\n",
              "      <td>0.449648</td>\n",
              "      <td>...</td>\n",
              "      <td>-0.843156</td>\n",
              "      <td>-0.601191</td>\n",
              "      <td>-0.989267</td>\n",
              "      <td>0.223500</td>\n",
              "      <td>1.925729</td>\n",
              "      <td>-0.174906</td>\n",
              "      <td>-0.350248</td>\n",
              "      <td>-0.257432</td>\n",
              "      <td>-0.351515</td>\n",
              "      <td>1</td>\n",
              "    </tr>\n",
              "    <tr>\n",
              "      <th>3</th>\n",
              "      <td>-0.267320</td>\n",
              "      <td>-0.082373</td>\n",
              "      <td>-0.034334</td>\n",
              "      <td>-0.337735</td>\n",
              "      <td>-0.051861</td>\n",
              "      <td>-0.260286</td>\n",
              "      <td>-0.107966</td>\n",
              "      <td>-0.574153</td>\n",
              "      <td>0.401915</td>\n",
              "      <td>-0.240214</td>\n",
              "      <td>...</td>\n",
              "      <td>0.205183</td>\n",
              "      <td>-0.085628</td>\n",
              "      <td>-0.989267</td>\n",
              "      <td>-0.406677</td>\n",
              "      <td>1.394323</td>\n",
              "      <td>-0.174906</td>\n",
              "      <td>-0.056171</td>\n",
              "      <td>-0.257431</td>\n",
              "      <td>-0.430203</td>\n",
              "      <td>1</td>\n",
              "    </tr>\n",
              "    <tr>\n",
              "      <th>4</th>\n",
              "      <td>-0.268375</td>\n",
              "      <td>0.094866</td>\n",
              "      <td>-0.034334</td>\n",
              "      <td>-0.551568</td>\n",
              "      <td>-0.051861</td>\n",
              "      <td>-0.261262</td>\n",
              "      <td>-0.107967</td>\n",
              "      <td>-0.579396</td>\n",
              "      <td>-0.876131</td>\n",
              "      <td>-0.003950</td>\n",
              "      <td>...</td>\n",
              "      <td>0.447088</td>\n",
              "      <td>0.160054</td>\n",
              "      <td>-0.989267</td>\n",
              "      <td>0.170985</td>\n",
              "      <td>1.041917</td>\n",
              "      <td>-0.174906</td>\n",
              "      <td>-0.327099</td>\n",
              "      <td>-0.257432</td>\n",
              "      <td>-0.384858</td>\n",
              "      <td>1</td>\n",
              "    </tr>\n",
              "    <tr>\n",
              "      <th>...</th>\n",
              "      <td>...</td>\n",
              "      <td>...</td>\n",
              "      <td>...</td>\n",
              "      <td>...</td>\n",
              "      <td>...</td>\n",
              "      <td>...</td>\n",
              "      <td>...</td>\n",
              "      <td>...</td>\n",
              "      <td>...</td>\n",
              "      <td>...</td>\n",
              "      <td>...</td>\n",
              "      <td>...</td>\n",
              "      <td>...</td>\n",
              "      <td>...</td>\n",
              "      <td>...</td>\n",
              "      <td>...</td>\n",
              "      <td>...</td>\n",
              "      <td>...</td>\n",
              "      <td>...</td>\n",
              "      <td>...</td>\n",
              "      <td>...</td>\n",
              "    </tr>\n",
              "    <tr>\n",
              "      <th>50577</th>\n",
              "      <td>-0.270438</td>\n",
              "      <td>0.040609</td>\n",
              "      <td>-0.034334</td>\n",
              "      <td>-0.587633</td>\n",
              "      <td>-0.051861</td>\n",
              "      <td>-0.261262</td>\n",
              "      <td>-0.107967</td>\n",
              "      <td>-0.579589</td>\n",
              "      <td>-0.811629</td>\n",
              "      <td>-0.928057</td>\n",
              "      <td>...</td>\n",
              "      <td>-0.499086</td>\n",
              "      <td>-0.800893</td>\n",
              "      <td>-0.989267</td>\n",
              "      <td>-0.039074</td>\n",
              "      <td>2.972986</td>\n",
              "      <td>-0.174905</td>\n",
              "      <td>-0.139995</td>\n",
              "      <td>-0.257431</td>\n",
              "      <td>-0.431537</td>\n",
              "      <td>1</td>\n",
              "    </tr>\n",
              "    <tr>\n",
              "      <th>50578</th>\n",
              "      <td>-0.269299</td>\n",
              "      <td>0.040609</td>\n",
              "      <td>-0.034334</td>\n",
              "      <td>-0.704571</td>\n",
              "      <td>-0.051861</td>\n",
              "      <td>-0.261262</td>\n",
              "      <td>-0.107967</td>\n",
              "      <td>-0.573424</td>\n",
              "      <td>-0.873859</td>\n",
              "      <td>-1.356834</td>\n",
              "      <td>...</td>\n",
              "      <td>-0.927494</td>\n",
              "      <td>-1.235990</td>\n",
              "      <td>-0.989267</td>\n",
              "      <td>-0.616736</td>\n",
              "      <td>0.204493</td>\n",
              "      <td>-0.174905</td>\n",
              "      <td>-0.355996</td>\n",
              "      <td>-0.257262</td>\n",
              "      <td>-0.426202</td>\n",
              "      <td>1</td>\n",
              "    </tr>\n",
              "    <tr>\n",
              "      <th>50579</th>\n",
              "      <td>-0.270456</td>\n",
              "      <td>0.952123</td>\n",
              "      <td>-0.034334</td>\n",
              "      <td>-0.592510</td>\n",
              "      <td>-0.051861</td>\n",
              "      <td>-0.261262</td>\n",
              "      <td>-0.107967</td>\n",
              "      <td>-0.579500</td>\n",
              "      <td>-0.894274</td>\n",
              "      <td>0.012924</td>\n",
              "      <td>...</td>\n",
              "      <td>0.464365</td>\n",
              "      <td>0.177600</td>\n",
              "      <td>-0.989267</td>\n",
              "      <td>0.276014</td>\n",
              "      <td>1.680116</td>\n",
              "      <td>-0.174905</td>\n",
              "      <td>-0.076802</td>\n",
              "      <td>-0.256689</td>\n",
              "      <td>-0.414199</td>\n",
              "      <td>1</td>\n",
              "    </tr>\n",
              "    <tr>\n",
              "      <th>50580</th>\n",
              "      <td>-0.270274</td>\n",
              "      <td>2.659404</td>\n",
              "      <td>-0.034334</td>\n",
              "      <td>-0.648742</td>\n",
              "      <td>-0.051861</td>\n",
              "      <td>-0.261262</td>\n",
              "      <td>-0.107967</td>\n",
              "      <td>-0.579477</td>\n",
              "      <td>-0.886564</td>\n",
              "      <td>-0.241991</td>\n",
              "      <td>...</td>\n",
              "      <td>0.203363</td>\n",
              "      <td>-0.087476</td>\n",
              "      <td>-0.989267</td>\n",
              "      <td>0.748647</td>\n",
              "      <td>1.846925</td>\n",
              "      <td>-0.174905</td>\n",
              "      <td>-0.275480</td>\n",
              "      <td>-0.257133</td>\n",
              "      <td>-0.388859</td>\n",
              "      <td>1</td>\n",
              "    </tr>\n",
              "    <tr>\n",
              "      <th>50581</th>\n",
              "      <td>-0.270277</td>\n",
              "      <td>0.662754</td>\n",
              "      <td>-0.034334</td>\n",
              "      <td>-0.694323</td>\n",
              "      <td>-0.051861</td>\n",
              "      <td>-0.261262</td>\n",
              "      <td>-0.107967</td>\n",
              "      <td>-0.578331</td>\n",
              "      <td>-0.879211</td>\n",
              "      <td>-1.284239</td>\n",
              "      <td>...</td>\n",
              "      <td>-0.921142</td>\n",
              "      <td>-1.229538</td>\n",
              "      <td>-0.989267</td>\n",
              "      <td>0.696132</td>\n",
              "      <td>2.682657</td>\n",
              "      <td>-0.174905</td>\n",
              "      <td>0.289331</td>\n",
              "      <td>-0.253120</td>\n",
              "      <td>-0.423535</td>\n",
              "      <td>1</td>\n",
              "    </tr>\n",
              "  </tbody>\n",
              "</table>\n",
              "<p>50582 rows × 26 columns</p>\n",
              "</div>\n",
              "      <button class=\"colab-df-convert\" onclick=\"convertToInteractive('df-1acf6ddb-45a4-4528-81ec-0fc53703c079')\"\n",
              "              title=\"Convert this dataframe to an interactive table.\"\n",
              "              style=\"display:none;\">\n",
              "        \n",
              "  <svg xmlns=\"http://www.w3.org/2000/svg\" height=\"24px\"viewBox=\"0 0 24 24\"\n",
              "       width=\"24px\">\n",
              "    <path d=\"M0 0h24v24H0V0z\" fill=\"none\"/>\n",
              "    <path d=\"M18.56 5.44l.94 2.06.94-2.06 2.06-.94-2.06-.94-.94-2.06-.94 2.06-2.06.94zm-11 1L8.5 8.5l.94-2.06 2.06-.94-2.06-.94L8.5 2.5l-.94 2.06-2.06.94zm10 10l.94 2.06.94-2.06 2.06-.94-2.06-.94-.94-2.06-.94 2.06-2.06.94z\"/><path d=\"M17.41 7.96l-1.37-1.37c-.4-.4-.92-.59-1.43-.59-.52 0-1.04.2-1.43.59L10.3 9.45l-7.72 7.72c-.78.78-.78 2.05 0 2.83L4 21.41c.39.39.9.59 1.41.59.51 0 1.02-.2 1.41-.59l7.78-7.78 2.81-2.81c.8-.78.8-2.07 0-2.86zM5.41 20L4 18.59l7.72-7.72 1.47 1.35L5.41 20z\"/>\n",
              "  </svg>\n",
              "      </button>\n",
              "      \n",
              "  <style>\n",
              "    .colab-df-container {\n",
              "      display:flex;\n",
              "      flex-wrap:wrap;\n",
              "      gap: 12px;\n",
              "    }\n",
              "\n",
              "    .colab-df-convert {\n",
              "      background-color: #E8F0FE;\n",
              "      border: none;\n",
              "      border-radius: 50%;\n",
              "      cursor: pointer;\n",
              "      display: none;\n",
              "      fill: #1967D2;\n",
              "      height: 32px;\n",
              "      padding: 0 0 0 0;\n",
              "      width: 32px;\n",
              "    }\n",
              "\n",
              "    .colab-df-convert:hover {\n",
              "      background-color: #E2EBFA;\n",
              "      box-shadow: 0px 1px 2px rgba(60, 64, 67, 0.3), 0px 1px 3px 1px rgba(60, 64, 67, 0.15);\n",
              "      fill: #174EA6;\n",
              "    }\n",
              "\n",
              "    [theme=dark] .colab-df-convert {\n",
              "      background-color: #3B4455;\n",
              "      fill: #D2E3FC;\n",
              "    }\n",
              "\n",
              "    [theme=dark] .colab-df-convert:hover {\n",
              "      background-color: #434B5C;\n",
              "      box-shadow: 0px 1px 3px 1px rgba(0, 0, 0, 0.15);\n",
              "      filter: drop-shadow(0px 1px 2px rgba(0, 0, 0, 0.3));\n",
              "      fill: #FFFFFF;\n",
              "    }\n",
              "  </style>\n",
              "\n",
              "      <script>\n",
              "        const buttonEl =\n",
              "          document.querySelector('#df-1acf6ddb-45a4-4528-81ec-0fc53703c079 button.colab-df-convert');\n",
              "        buttonEl.style.display =\n",
              "          google.colab.kernel.accessAllowed ? 'block' : 'none';\n",
              "\n",
              "        async function convertToInteractive(key) {\n",
              "          const element = document.querySelector('#df-1acf6ddb-45a4-4528-81ec-0fc53703c079');\n",
              "          const dataTable =\n",
              "            await google.colab.kernel.invokeFunction('convertToInteractive',\n",
              "                                                     [key], {});\n",
              "          if (!dataTable) return;\n",
              "\n",
              "          const docLinkHtml = 'Like what you see? Visit the ' +\n",
              "            '<a target=\"_blank\" href=https://colab.research.google.com/notebooks/data_table.ipynb>data table notebook</a>'\n",
              "            + ' to learn more about interactive tables.';\n",
              "          element.innerHTML = '';\n",
              "          dataTable['output_type'] = 'display_data';\n",
              "          await google.colab.output.renderOutput(dataTable, element);\n",
              "          const docLink = document.createElement('div');\n",
              "          docLink.innerHTML = docLinkHtml;\n",
              "          element.appendChild(docLink);\n",
              "        }\n",
              "      </script>\n",
              "    </div>\n",
              "  </div>\n",
              "  "
            ]
          },
          "metadata": {},
          "execution_count": 5
        }
      ]
    },
    {
      "cell_type": "code",
      "source": [
        "# Los valores 1 son NON-HFT y los 0 son HFT\n",
        "df.type.value_counts()"
      ],
      "metadata": {
        "id": "iU7IEu3FVEjn",
        "colab": {
          "base_uri": "https://localhost:8080/"
        },
        "outputId": "722818f9-637e-45f3-b1eb-33cdcc7bc4eb"
      },
      "execution_count": null,
      "outputs": [
        {
          "output_type": "execute_result",
          "data": {
            "text/plain": [
              "0    30522\n",
              "1    20060\n",
              "Name: type, dtype: int64"
            ]
          },
          "metadata": {},
          "execution_count": 6
        }
      ]
    },
    {
      "cell_type": "markdown",
      "source": [
        "## Agregando descripción a los datos\n",
        "\n",
        "Los datos son públicos, fueron utilizados en una competencia que pueden consultar [AQUÍ](https://challengedata.ens.fr/participants/challenges/50/) (para poder ingresar necesitarán registrarse y luego copiar la dirección en su navegador). En esta competencia registraron muchas características de \"traders\", para tratar de clasificarlos en HFT (High Frequency Traders) o NON-HFT, esto porque es de gran interes tratar de estudiar el impacto que tienen los HFT en los mercados, ya que lo que hacen es realizar intercambios dando ordenes de intercambio a un mecanismo llamado Limit Order Book (LOB), al cual le ordenan realizar compras o ventas a precios que ellos deseen.\n",
        "\n",
        "## Descripción de las variables\n",
        "1. NbTradeVenueMic (23) : Número de centros de negociación en los que opera el jugador del mercado\n",
        "\n",
        "De todos los centros de negociación, estadísticas sobre el número de operaciones observadas por segundo\n",
        "\n",
        "2. MaxNbTradesBySecond (24)\n",
        "3. MeanNbTradesBySecond (25) \n",
        "\n",
        "Estadísticas sobre el delta de tiempo observado entre dos operaciones en la plataforma de negociación TV_1[1]:\n",
        "\n",
        "4. min_dt_TV1 (26)\n",
        "5. med_dt_TV1 (28)\n",
        "6. mean_dt_TV1 (27)\n",
        "\n",
        "Estadísticas sobre el delta de tiempo observado entre dos operaciones que se producen en la plataforma de negociación TV_1 y luego en la plataforma de negociación TV_2:\n",
        "\n",
        "7. min_dt_TV1_TV2 (29)\n",
        "8. med_dt_TV1_TV2 (31)\n",
        "9. mean_dt_TV1_TV2 (30)\n",
        "\n",
        "Estadísticas sobre el delta de tiempo observado entre dos operaciones que se producen en la plataforma de negociación TV_1 y luego en la plataforma de negociación TV_3:\n",
        "\n",
        "10. min_dt_TV1_TV3 (32)\n",
        "11. med_dt_TV1_TV3 (34)\n",
        "12. mean_dt_TV1_TV3 (33)\n",
        "\n",
        "Estadísticas sobre el delta de tiempo observado entre dos operaciones que se producen en la plataforma de negociación TV_1 y luego en la plataforma de negociación TV_4 :\n",
        "\n",
        "13. min_dt_TV1_TV4 (35)\n",
        "14. med_dt_TV1_TV4 (37)\n",
        "15. mean_dt_TV1_TV4(36)\n",
        "\n",
        "De todos los centros de negociación, número de segundos durante el día de negociación donde se observa al menos una operación del jugador del mercado i\n",
        "\n",
        "16. NbSecondWithAtLeatOneTrade(38)\n",
        "\n",
        "En la plataforma de negociación TV_1, tres proporciones entre el número de todo tipo de eventos[2] enviados a la LOB y:\n",
        "\n",
        "17. el número de operaciones (OTR) (4)\n",
        "18. el número de eventos de tipo cancelación (OCR) (5)\n",
        "19. el número de eventos de tipo de modificación (OMR) (6)\n",
        "\n",
        "En el centro de negociación TV_1, estadísticas durante el delta de tiempo observado entre dos eventos de todo tipo enviados:\n",
        "\n",
        "20. min_time_two_events (7)\n",
        "21. mean_time_two_events (8)\n",
        "22. 10_p_time_two_events (9)\n",
        "23. med_time_two_events (10)\n",
        "24. 25_p_time_two_events (11)\n",
        "25. 75_p_time_two_events (12)\n",
        "26. 90_p_time_two_events (13)\n",
        "27. max_time_two_events (14)\n",
        "\n",
        "En la plataforma de negociación TV_1, estadísticas a lo largo de la vida útil observada de las órdenes canceladas:\n",
        "\n",
        "28. min_lifetime_cancel (15)\n",
        "29. mean_lifetime_cancel (16)\n",
        "30. 10_p_lifetime_cancel (17)\n",
        "31. med_lifetime_cancel (18)\n",
        "32. 25_p_lifetime_cancel (19)\n",
        "33. 75_p_lifetime_cancel (20)\n",
        "34. 90_p_lifetime_cancel (21)\n",
        "35. max_lifetime_cancel (22)\n",
        "\n",
        "Extra variables\n",
        "\n",
        "36. Type: HF, Non HFT (39)\n",
        "37. Day\n",
        "38. Share\n",
        "39. Trader\n",
        "40. Index\n"
      ],
      "metadata": {
        "id": "SCtqgR4MZsTv"
      }
    },
    {
      "cell_type": "code",
      "source": [
        "df.shape"
      ],
      "metadata": {
        "id": "jU9HDQM8VTfo",
        "colab": {
          "base_uri": "https://localhost:8080/"
        },
        "outputId": "6d7b0098-4ca4-4296-f18c-44f5f1614f77"
      },
      "execution_count": null,
      "outputs": [
        {
          "output_type": "execute_result",
          "data": {
            "text/plain": [
              "(50582, 26)"
            ]
          },
          "metadata": {},
          "execution_count": 7
        }
      ]
    },
    {
      "cell_type": "code",
      "source": [
        "X_prob = np.array(df.drop(['type'], axis=1))\n",
        "X_prob"
      ],
      "metadata": {
        "id": "FIcEwUB_WMlG",
        "colab": {
          "base_uri": "https://localhost:8080/"
        },
        "outputId": "7210daea-8737-4e23-fbd8-0d43f933d454"
      },
      "execution_count": null,
      "outputs": [
        {
          "output_type": "execute_result",
          "data": {
            "text/plain": [
              "array([[-0.26413997, -0.17159563, -0.03433358, ...,  2.25730527,\n",
              "         0.21564981, -0.43020348],\n",
              "       [-0.26737141,  0.07195718, -0.03433358, ..., -0.25954205,\n",
              "        -0.25743172, -0.41553282],\n",
              "       [-0.26857105,  0.39219296, -0.03433358, ..., -0.35024783,\n",
              "        -0.25743176, -0.35151541],\n",
              "       ...,\n",
              "       [-0.27045626,  0.9521233 , -0.03433358, ..., -0.07680184,\n",
              "        -0.25668942, -0.41419912],\n",
              "       [-0.27027382,  2.65940442, -0.03433358, ..., -0.27547952,\n",
              "        -0.25713323, -0.3888589 ],\n",
              "       [-0.2702773 ,  0.66275362, -0.03433358, ...,  0.28933079,\n",
              "        -0.25311955, -0.423535  ]])"
            ]
          },
          "metadata": {},
          "execution_count": 8
        }
      ]
    },
    {
      "cell_type": "code",
      "source": [
        "X_prob.shape"
      ],
      "metadata": {
        "id": "ysTvZku2ILgN",
        "colab": {
          "base_uri": "https://localhost:8080/"
        },
        "outputId": "84d1146b-4ec6-4d1b-f3d0-72abb8f4a0f8"
      },
      "execution_count": null,
      "outputs": [
        {
          "output_type": "execute_result",
          "data": {
            "text/plain": [
              "(50582, 25)"
            ]
          },
          "metadata": {},
          "execution_count": 9
        }
      ]
    },
    {
      "cell_type": "code",
      "source": [
        "Y_prob = np.array(df['type'])\n",
        "Y_prob"
      ],
      "metadata": {
        "id": "UpZPlZlnWARR",
        "colab": {
          "base_uri": "https://localhost:8080/"
        },
        "outputId": "f0851937-9b41-46a7-8cac-0cec5404a60b"
      },
      "execution_count": null,
      "outputs": [
        {
          "output_type": "execute_result",
          "data": {
            "text/plain": [
              "array([1, 1, 1, ..., 1, 1, 1])"
            ]
          },
          "metadata": {},
          "execution_count": 10
        }
      ]
    },
    {
      "cell_type": "code",
      "source": [
        "Y_prob.shape"
      ],
      "metadata": {
        "colab": {
          "base_uri": "https://localhost:8080/"
        },
        "id": "GyU40YXb0dIy",
        "outputId": "494545cc-38fd-46e0-f560-ca0d2ff8f6ab"
      },
      "execution_count": null,
      "outputs": [
        {
          "output_type": "execute_result",
          "data": {
            "text/plain": [
              "(50582,)"
            ]
          },
          "metadata": {},
          "execution_count": 11
        }
      ]
    },
    {
      "cell_type": "code",
      "source": [
        "num_inputs = 25\n",
        "num_outputs = 2\n",
        "\n",
        "W = np.random.normal(0, 0.1, (num_inputs, num_outputs)) # Jugaremos con este parametro\n",
        "B = np.zeros(num_outputs) # Jugaremos con este parametro"
      ],
      "metadata": {
        "id": "HgYtgbebimh0"
      },
      "execution_count": null,
      "outputs": []
    },
    {
      "cell_type": "code",
      "source": [
        "print(W)\n",
        "print(B)"
      ],
      "metadata": {
        "id": "gDLgt_L3VZNa",
        "colab": {
          "base_uri": "https://localhost:8080/"
        },
        "outputId": "24aef0bb-04b7-4a86-a838-23a5b1f46b77"
      },
      "execution_count": null,
      "outputs": [
        {
          "output_type": "stream",
          "name": "stdout",
          "text": [
            "[[-0.055533    0.19918898]\n",
            " [ 0.00578587 -0.04490817]\n",
            " [-0.13761176  0.07371542]\n",
            " [-0.02658306  0.00970704]\n",
            " [-0.1021196   0.1074764 ]\n",
            " [ 0.04653989  0.1296815 ]\n",
            " [ 0.02033075  0.03408844]\n",
            " [-0.13445878 -0.02733469]\n",
            " [-0.00808991  0.02290541]\n",
            " [-0.10140605 -0.0719802 ]\n",
            " [ 0.11296152  0.03950779]\n",
            " [ 0.04149896 -0.01512278]\n",
            " [-0.04755377  0.12154033]\n",
            " [-0.10835903  0.10944151]\n",
            " [ 0.03086934  0.05476325]\n",
            " [-0.05352661  0.08319279]\n",
            " [ 0.12960742  0.00313738]\n",
            " [ 0.07501033 -0.1262666 ]\n",
            " [-0.00937963 -0.04313942]\n",
            " [-0.04399655  0.00323588]\n",
            " [-0.01004362  0.06751011]\n",
            " [-0.13854079  0.00523499]\n",
            " [ 0.0378455   0.1160983 ]\n",
            " [-0.11484987  0.00088725]\n",
            " [-0.19373533  0.0604585 ]]\n",
            "[0. 0.]\n"
          ]
        }
      ]
    },
    {
      "cell_type": "markdown",
      "source": [
        "# Definición de la operación SoftMax\n",
        "\n",
        "Primero, notemos que dado un arreglo de numpy, nosotros podemos relizar sumas de diferentes formas utilizando el método \"sum()\". Al daro distintos argumentos se reliza de distintos modos.\n",
        "\n",
        "Si no pasamos ningún parámetro a \"sum()\", lo que obtendremos será la suma de todas las entradas de nuestra matriz (o arreglo o tensor). \n",
        "\n",
        "Si damos como parámetro el \"0\", lo que nos regresará será la suma por columnas (es decir, en el eje 0)\n",
        "\n",
        "Si damos como parámetro el \"1\", nos regresará la suma por filas (es decir, en el eje 1)"
      ],
      "metadata": {
        "id": "yLTx9XpmoPuA"
      }
    },
    {
      "cell_type": "code",
      "source": [
        "X = np.array([[1.0, 2.0, 3.0], [4.0, 5.0, 6.0]])\n",
        "X.sum(keepdims=True), X.sum(0, keepdims=True), X.sum(1, keepdims=True)"
      ],
      "metadata": {
        "id": "0prrE4B7ixOn",
        "colab": {
          "base_uri": "https://localhost:8080/"
        },
        "outputId": "f3a5a1ea-72ac-4125-f8b0-be57bb8e2b14"
      },
      "execution_count": null,
      "outputs": [
        {
          "output_type": "execute_result",
          "data": {
            "text/plain": [
              "(array([[21.]]), array([[5., 7., 9.]]), array([[ 6.],\n",
              "        [15.]]))"
            ]
          },
          "metadata": {},
          "execution_count": 13
        }
      ]
    },
    {
      "cell_type": "code",
      "source": [
        "X"
      ],
      "metadata": {
        "id": "c1tKKzybKRFB",
        "colab": {
          "base_uri": "https://localhost:8080/"
        },
        "outputId": "4018b998-a277-4228-a29c-ff770a539a6e"
      },
      "execution_count": null,
      "outputs": [
        {
          "output_type": "execute_result",
          "data": {
            "text/plain": [
              "array([[1., 2., 3.],\n",
              "       [4., 5., 6.]])"
            ]
          },
          "metadata": {},
          "execution_count": 14
        }
      ]
    },
    {
      "cell_type": "markdown",
      "source": [
        "Con esto podemos implementar de modo muy sencillo la función SoftMax, que consiste de 3 pasos:\n",
        "\n",
        "1. Obtener el exponenete de cda uno de nuestros elementos.\n",
        "2. Tomamos la suma de los elementos de su fila\n",
        "3. Dividimos cada fila por su constante de normalización (sería una suma de exponenciales)\n",
        "\n",
        "La expresión matemática de la función SoftMax es la siguiente:\n",
        "\n",
        "\n",
        "$$ \\mathrm{softmax}(\\mathbf{X})_{ij} = \\frac{\\exp(\\mathbf{X}_{ij})}{\\sum_k \\exp(\\mathbf{X}_{ik})}. $$"
      ],
      "metadata": {
        "id": "1qKW7Pn2C55P"
      }
    },
    {
      "cell_type": "code",
      "source": [
        "def softmax(X):\n",
        "    X_exp = np.exp(X)\n",
        "    partition = X_exp.sum(1, keepdims=True)\n",
        "    return X_exp / partition"
      ],
      "metadata": {
        "id": "nPCYu0LHnqxi"
      },
      "execution_count": null,
      "outputs": []
    },
    {
      "cell_type": "markdown",
      "source": [
        "Veamos un ejemplo con la matriz de 2X3 creada anteriormente."
      ],
      "metadata": {
        "id": "qNDcmahzEwGH"
      }
    },
    {
      "cell_type": "code",
      "source": [
        "softmax(X)"
      ],
      "metadata": {
        "id": "0fL_0uvtntuS",
        "colab": {
          "base_uri": "https://localhost:8080/"
        },
        "outputId": "ad9a8240-f698-4ab5-e5a1-a6469aa281e0"
      },
      "execution_count": null,
      "outputs": [
        {
          "output_type": "execute_result",
          "data": {
            "text/plain": [
              "array([[0.09003057, 0.24472847, 0.66524096],\n",
              "       [0.09003057, 0.24472847, 0.66524096]])"
            ]
          },
          "metadata": {},
          "execution_count": 16
        }
      ]
    },
    {
      "cell_type": "markdown",
      "source": [
        "Si observan con cuidado, pueden ver que con esta operación estamos transformando todas nuestras entradas en números positivos. Mas aún, cada fila suma 1, es decir, la convertimos en una distribución de probabilidad."
      ],
      "metadata": {
        "id": "CqHlJW4-E71h"
      }
    },
    {
      "cell_type": "code",
      "source": [
        "x = np.random.normal(0, 1, (2, 5))\n",
        "x_prob = softmax(x)\n",
        "x_prob, x_prob.sum(1)"
      ],
      "metadata": {
        "id": "27w0BqwBpPm2",
        "colab": {
          "base_uri": "https://localhost:8080/"
        },
        "outputId": "d088c5da-1283-4840-e122-bbdb1472fc84"
      },
      "execution_count": null,
      "outputs": [
        {
          "output_type": "execute_result",
          "data": {
            "text/plain": [
              "(array([[0.01508005, 0.40822996, 0.3429258 , 0.1422126 , 0.09155159],\n",
              "        [0.05931636, 0.43276743, 0.11688285, 0.17733754, 0.21369581]]),\n",
              " array([1., 1.]))"
            ]
          },
          "metadata": {},
          "execution_count": 17
        }
      ]
    },
    {
      "cell_type": "markdown",
      "source": [
        "# Definiendo el modelo\n",
        "\n",
        "Aquí pueden ver que tipo de modelo vamos a implementar. En este caso es una regresión softmax."
      ],
      "metadata": {
        "id": "cyDAzg-TplBX"
      }
    },
    {
      "cell_type": "code",
      "source": [
        "def net(X,W,b):\n",
        "    return softmax(np.dot(X.reshape((-1, W.shape[0])), W) + b)"
      ],
      "metadata": {
        "id": "Xt5hs-R5pmzH"
      },
      "execution_count": null,
      "outputs": []
    },
    {
      "cell_type": "markdown",
      "source": [
        "1. ¿Que nos dará como salida ésta operación?\n",
        "\n",
        "2. ¿Porqué?"
      ],
      "metadata": {
        "id": "y5Lg62VfGcnj"
      }
    },
    {
      "cell_type": "markdown",
      "source": [
        "# Definiendo la función de perdida"
      ],
      "metadata": {
        "id": "v-lGeJHLptUV"
      }
    },
    {
      "cell_type": "markdown",
      "source": [
        "Usaremos la función Cross-Entropy, una de las mas populares dado que es buena para problemas de clasficación y en la actualidad, en machine learning son mas los problemas de clasificación que los de regresión."
      ],
      "metadata": {
        "id": "-aIVnMDipv8z"
      }
    },
    {
      "cell_type": "markdown",
      "source": [
        "La función es la siguiente:\n",
        "$$ -\\sum_{c=1}^My_{o,c}\\log(p_{o,c}), $$\n",
        "\n",
        "donde $M$ es la cantidad de clases que tenemos, $log$ la función de logaritmo natural, $y$ es $0$ o $1$ dependiendo de la etiqueta real de la clase $c$ y por último $p_{o,c}$ es la probabilidad predicha de que la observación $o$ pertenezca a la clase $c$."
      ],
      "metadata": {
        "id": "5W2-3hHaHLOb"
      }
    },
    {
      "cell_type": "markdown",
      "source": [
        "Para calcular esto, en lugar de utilizar un ciclo \"for\" (que a veces termina siendo menos optimizado), utilizaremos funciones de numpy."
      ],
      "metadata": {
        "id": "p8VFVTHVHKCS"
      }
    },
    {
      "cell_type": "code",
      "source": [
        "# El resultado final es lo que alimentará a la cross-entropy, es decir etiqueta \n",
        "# de que pertenece a la clase 1 por la probabilidad de pertenecer a la clase 1\n",
        "\n",
        "# Etiquetas verdaderas\n",
        "y = np.array([0, 2])\n",
        "\n",
        "# Probabilidades predichas por el modelo\n",
        "y_hat = np.array([[0.1, 0.3, 0.6], [0.3, 0.2, 0.5]])\n",
        "\n",
        "# Recuperar las probabilidades que asigna nuestro modelo a las clases verdaderas\n",
        "y_hat[[0, 1], y]"
      ],
      "metadata": {
        "id": "VSkWQRm1p1h6",
        "colab": {
          "base_uri": "https://localhost:8080/"
        },
        "outputId": "9e68b68a-bba7-4b65-f815-efe97a7697cd"
      },
      "execution_count": null,
      "outputs": [
        {
          "output_type": "execute_result",
          "data": {
            "text/plain": [
              "array([0.1, 0.5])"
            ]
          },
          "metadata": {},
          "execution_count": 20
        }
      ]
    },
    {
      "cell_type": "code",
      "source": [
        "def cross_entropy_each(y_hat, y):\n",
        "    return - np.log(y_hat[range(len(y_hat)), y])"
      ],
      "metadata": {
        "id": "pHEEjhW3qqgJ"
      },
      "execution_count": null,
      "outputs": []
    },
    {
      "cell_type": "code",
      "source": [
        "cross_entropy_each(y_hat, y)"
      ],
      "metadata": {
        "id": "-C9idG4Lsk3W",
        "colab": {
          "base_uri": "https://localhost:8080/"
        },
        "outputId": "2b2238bb-1e71-4c92-9de4-a190acff6411"
      },
      "execution_count": null,
      "outputs": [
        {
          "output_type": "execute_result",
          "data": {
            "text/plain": [
              "array([2.30258509, 0.69314718])"
            ]
          },
          "metadata": {},
          "execution_count": 22
        }
      ]
    },
    {
      "cell_type": "markdown",
      "source": [
        "# Precisión de la clasificación"
      ],
      "metadata": {
        "id": "y0C0Wio7s5Mh"
      }
    },
    {
      "cell_type": "markdown",
      "source": [
        "En un problema de clasificación multi-clase, es decir, un problema en el que observemos varias caracteristicas de un elemento y decidamos a que clase pertenece dicho elemento. \n",
        "\n",
        "Por ejemplo: Un algoritmo de clasificación de imagenes que intente saber si algo es un perro, un gato o un ratón. Si introdujeramos características y al final diera un vector $(0.2, 0.38, 0.42)$, el algoritmo lo clasificaría como un ratón (lo marcaría como perteneciente a la tercer clase)\n",
        "\n",
        "Cuando las predicciones son consistentes con las etiquetas verdaderas, decimos que son correctas. La presición de la clasificación son la cantidad de predicciones correctas entre todas las predicciones. Sin embargo, es muy difícil optimizar esto directamente (no es una función diferenciable), pero será muy importante para ver el rendimiento de nuestro modelo."
      ],
      "metadata": {
        "id": "kST4BHoWMH4b"
      }
    },
    {
      "cell_type": "markdown",
      "source": [
        "Lo que hacemos para ver la precisión es encontrar el valor mas grande en el vector de probabilidades, convertirlo en entero (porque muy probablemente sea un valor entr 0 y 1) y compararlo con las etiquetas verdaderas de nuestros datos."
      ],
      "metadata": {
        "id": "AbMsjaRTMHNQ"
      }
    },
    {
      "cell_type": "code",
      "source": [
        "# ARGMAX regresa la posicion del elemento con mayor valor\n",
        "np.array([[0.2,0.38, 0.42]]).argmax(axis=1)"
      ],
      "metadata": {
        "id": "ULYR_9RjPljp",
        "colab": {
          "base_uri": "https://localhost:8080/"
        },
        "outputId": "3c92b2de-c9bd-4e41-c05e-9ceaf2f65678"
      },
      "execution_count": null,
      "outputs": [
        {
          "output_type": "execute_result",
          "data": {
            "text/plain": [
              "array([2])"
            ]
          },
          "metadata": {},
          "execution_count": 23
        }
      ]
    },
    {
      "cell_type": "code",
      "source": [
        "def accuracy(y_hat, y):\n",
        "    \"\"\"Calcula la cantidad de predicciones correctas.\"\"\"\n",
        "    if len(y_hat.shape) > 1 and y_hat.shape[1] > 1:\n",
        "        y_hat = y_hat.argmax(axis=1)\n",
        "    cmp = y_hat.astype(y.dtype) == y\n",
        "    return float(cmp.astype(y.dtype).sum())"
      ],
      "metadata": {
        "id": "6WRt_0Ics488"
      },
      "execution_count": null,
      "outputs": []
    },
    {
      "cell_type": "code",
      "source": [
        "accuracy(y_hat, y) / len(y)"
      ],
      "metadata": {
        "id": "ZMF7OSNCtGVC",
        "colab": {
          "base_uri": "https://localhost:8080/"
        },
        "outputId": "746b6687-ddbe-4238-aba6-49ce09fd81c2"
      },
      "execution_count": null,
      "outputs": [
        {
          "output_type": "execute_result",
          "data": {
            "text/plain": [
              "0.5"
            ]
          },
          "metadata": {},
          "execution_count": 25
        }
      ]
    },
    {
      "cell_type": "markdown",
      "source": [
        "## Veamos como sería el accuracy para nuestro modelo con pesos al azar"
      ],
      "metadata": {
        "id": "vx7hIiLYYy6l"
      }
    },
    {
      "cell_type": "code",
      "source": [
        "X_prob"
      ],
      "metadata": {
        "id": "1Bx9EcuoQT10",
        "colab": {
          "base_uri": "https://localhost:8080/"
        },
        "outputId": "98030a88-3d75-4fd2-ab27-1def73348a87"
      },
      "execution_count": null,
      "outputs": [
        {
          "output_type": "execute_result",
          "data": {
            "text/plain": [
              "array([[-0.26413997, -0.17159563, -0.03433358, ...,  2.25730527,\n",
              "         0.21564981, -0.43020348],\n",
              "       [-0.26737141,  0.07195718, -0.03433358, ..., -0.25954205,\n",
              "        -0.25743172, -0.41553282],\n",
              "       [-0.26857105,  0.39219296, -0.03433358, ..., -0.35024783,\n",
              "        -0.25743176, -0.35151541],\n",
              "       ...,\n",
              "       [-0.27045626,  0.9521233 , -0.03433358, ..., -0.07680184,\n",
              "        -0.25668942, -0.41419912],\n",
              "       [-0.27027382,  2.65940442, -0.03433358, ..., -0.27547952,\n",
              "        -0.25713323, -0.3888589 ],\n",
              "       [-0.2702773 ,  0.66275362, -0.03433358, ...,  0.28933079,\n",
              "        -0.25311955, -0.423535  ]])"
            ]
          },
          "metadata": {},
          "execution_count": 26
        }
      ]
    },
    {
      "cell_type": "code",
      "source": [
        "accuracy(net(X_prob, W, B),Y_prob) / len(Y_prob)"
      ],
      "metadata": {
        "id": "Jxzc1dXTYoaL",
        "colab": {
          "base_uri": "https://localhost:8080/"
        },
        "outputId": "c83cdbae-7ff5-49a9-c7ca-8b21cdf145c6"
      },
      "execution_count": null,
      "outputs": [
        {
          "output_type": "execute_result",
          "data": {
            "text/plain": [
              "0.7636313313036258"
            ]
          },
          "metadata": {},
          "execution_count": 27
        }
      ]
    },
    {
      "cell_type": "code",
      "source": [
        "W = np.random.normal(0, 0.1, (num_inputs, num_outputs)) # Jugaremos con este parametro\n",
        "B = np.zeros(num_outputs) # Jugaremos con este parametro"
      ],
      "metadata": {
        "id": "BWjrsx5tZEFf"
      },
      "execution_count": null,
      "outputs": []
    },
    {
      "cell_type": "code",
      "source": [
        "# Las probabilidades que predecimos para cada fila de nuestros datos\n",
        "net(X_prob, W, B)"
      ],
      "metadata": {
        "id": "1p1t9fb0YNxG",
        "colab": {
          "base_uri": "https://localhost:8080/"
        },
        "outputId": "c2bf1d4e-ff03-4546-cf87-f2ff274e411d"
      },
      "execution_count": null,
      "outputs": [
        {
          "output_type": "execute_result",
          "data": {
            "text/plain": [
              "array([[0.55460551, 0.44539449],\n",
              "       [0.45233171, 0.54766829],\n",
              "       [0.49804794, 0.50195206],\n",
              "       ...,\n",
              "       [0.68369965, 0.31630035],\n",
              "       [0.67287607, 0.32712393],\n",
              "       [0.6118438 , 0.3881562 ]])"
            ]
          },
          "metadata": {},
          "execution_count": 29
        }
      ]
    },
    {
      "cell_type": "code",
      "source": [
        "# La etiqueta verdadera de nuestros datos\n",
        "Y_prob"
      ],
      "metadata": {
        "id": "WlBh3aN-Y4GG",
        "colab": {
          "base_uri": "https://localhost:8080/"
        },
        "outputId": "0d2f6fd9-b85a-4dd7-eeb4-08e2b6656c3f"
      },
      "execution_count": null,
      "outputs": [
        {
          "output_type": "execute_result",
          "data": {
            "text/plain": [
              "array([1, 1, 1, ..., 1, 1, 1])"
            ]
          },
          "metadata": {},
          "execution_count": 30
        }
      ]
    },
    {
      "cell_type": "markdown",
      "source": [
        "# SoftMax Estable\n"
      ],
      "metadata": {
        "id": "HMbRIr47vHUi"
      }
    },
    {
      "cell_type": "code",
      "source": [
        "# El resultado final es lo que alimentará a la cross-entropy, es decir etiqueta \n",
        "# de que pertenece a la clase 1 por la probabilidad de pertenecer a la clase 1\n",
        "y = np.array([0, 2])\n",
        "y_hat = np.array([[0.1, 0.3, 0.6], [0.3, 0.2, 0.5]])\n",
        "y_hat[[0, 1], y]"
      ],
      "metadata": {
        "id": "kkI2X7gYvGWX",
        "colab": {
          "base_uri": "https://localhost:8080/"
        },
        "outputId": "5bca1083-ee46-4a83-e31e-f8292e1e0ef5"
      },
      "execution_count": null,
      "outputs": [
        {
          "output_type": "execute_result",
          "data": {
            "text/plain": [
              "array([0.1, 0.5])"
            ]
          },
          "metadata": {},
          "execution_count": 31
        }
      ]
    },
    {
      "cell_type": "code",
      "source": [
        "# Función softmax (Repetida de arriba solo para ejemplificar)\n",
        "def softmax(X):\n",
        "    X_exp = np.exp(X)\n",
        "    partition = X_exp.sum(1, keepdims=True)\n",
        "    return X_exp / partition"
      ],
      "metadata": {
        "id": "Ki01nLOMu8af"
      },
      "execution_count": null,
      "outputs": []
    },
    {
      "cell_type": "code",
      "source": [
        "# Softmax Estable\n",
        "def stable_softmax(X):\n",
        "    X_exp = np.exp(X - np.max(X, axis=1, keepdims=True))\n",
        "    partition = X_exp.sum(1, keepdims=True)\n",
        "    return X_exp / partition"
      ],
      "metadata": {
        "id": "fWGnq6Fvzlkw"
      },
      "execution_count": null,
      "outputs": []
    },
    {
      "cell_type": "markdown",
      "source": [
        "# Demostración de SoftMax estable"
      ],
      "metadata": {
        "id": "tP8jPUi-2fhP"
      }
    },
    {
      "cell_type": "code",
      "source": [
        "prueba = np.array([[99999, 99995, 99993],[9, 5, 3]])"
      ],
      "metadata": {
        "id": "A0ztJCHDz2iT"
      },
      "execution_count": null,
      "outputs": []
    },
    {
      "cell_type": "code",
      "source": [
        "softmax(prueba)"
      ],
      "metadata": {
        "id": "7NAUCE4bzq9D",
        "colab": {
          "base_uri": "https://localhost:8080/"
        },
        "outputId": "54e5b52c-0395-4f1f-b50a-73ee3566b497"
      },
      "execution_count": null,
      "outputs": [
        {
          "output_type": "stream",
          "name": "stderr",
          "text": [
            "/usr/local/lib/python3.7/dist-packages/ipykernel_launcher.py:3: RuntimeWarning: overflow encountered in exp\n",
            "  This is separate from the ipykernel package so we can avoid doing imports until\n",
            "/usr/local/lib/python3.7/dist-packages/ipykernel_launcher.py:5: RuntimeWarning: invalid value encountered in true_divide\n",
            "  \"\"\"\n"
          ]
        },
        {
          "output_type": "execute_result",
          "data": {
            "text/plain": [
              "array([[       nan,        nan,        nan],\n",
              "       [0.97962921, 0.01794253, 0.00242826]])"
            ]
          },
          "metadata": {},
          "execution_count": 35
        }
      ]
    },
    {
      "cell_type": "code",
      "source": [
        "stable_softmax(prueba)"
      ],
      "metadata": {
        "id": "w3Fxqeucz4aN",
        "colab": {
          "base_uri": "https://localhost:8080/"
        },
        "outputId": "37472393-f985-4dc1-bbf5-0afdd87440d3"
      },
      "execution_count": null,
      "outputs": [
        {
          "output_type": "execute_result",
          "data": {
            "text/plain": [
              "array([[0.97962921, 0.01794253, 0.00242826],\n",
              "       [0.97962921, 0.01794253, 0.00242826]])"
            ]
          },
          "metadata": {},
          "execution_count": 36
        }
      ]
    },
    {
      "cell_type": "code",
      "source": [
        "# Si está repetida, es solo para recordar su estructura\n",
        "def cross_entropy(y_hat, y):\n",
        "    return - np.log(y_hat[range(len(y_hat)), y]) / y.shape[0]"
      ],
      "metadata": {
        "id": "1QhptRqMu8ag"
      },
      "execution_count": null,
      "outputs": []
    },
    {
      "cell_type": "code",
      "source": [
        "cross_entropy(y_hat, y)"
      ],
      "metadata": {
        "id": "iOSGd-A2vRsv",
        "colab": {
          "base_uri": "https://localhost:8080/"
        },
        "outputId": "e56c90c1-30b9-43b8-ba76-dacc265cf050"
      },
      "execution_count": null,
      "outputs": [
        {
          "output_type": "execute_result",
          "data": {
            "text/plain": [
              "array([1.15129255, 0.34657359])"
            ]
          },
          "metadata": {},
          "execution_count": 38
        }
      ]
    },
    {
      "cell_type": "markdown",
      "source": [
        "¿Como seria el gradiente de mi función compuesta?\n",
        "\n",
        "$$ \\require{cancel} \n",
        "\\begin{align} \n",
        "\\frac{dL}{dz_i} &= \\frac{d}{dz_i} \\bigg[  – \\sum_{k=1}^c y_k log (a_k) \\bigg] \\\\ \n",
        "&= – \\sum_{k=1}^c y_k \\frac{d \\big( log (a_k) \\big)}{dz_i} \\\\ \n",
        "&= – \\sum_{k=1}^c y_k \\frac{d \\big( log (a_k) \\big)}{da_k} . \\frac{da_k}{dz_i} \\\\ \n",
        "&= – \\sum_{k=1}^c\\frac{y_k}{a_k} . \\frac{da_k}{dz_i} \\\\ \n",
        "&= – \\bigg[ \\frac{y_i}{a_i} . \\frac{da_i}{dz_i}  + \\sum_{k=1, k \\not=i}^c \\frac{y_k}{a_k}  \\frac{da_k}{dz_i} \\bigg] \\\\ \n",
        "&= – \\frac{y_i}{\\cancel{a_i}} . \\cancel{a_i}(1-a_i) \\text{ } – \\sum_{k=1, k \\not=i}^c \\frac{y_k}{\\cancel{a_k}} . (\\cancel{a_k}a_i) \\\\ \n",
        "&= – y_i +y_ia_i + \\sum_{k=1, k \\not=i}^c y_ka_i \\\\ \n",
        "&= a_i \\big( y_i + \\sum_{k=1, k \\not=i}^c y_k \\big) – y_i \\\\ \n",
        "&= a_i + \\sum_{k=1}^c y_k -y_i \\\\ \n",
        "&= a_i . 1 – y_i \\text{ , since } \\sum_{k=1}^c y_k =1 \\\\ \n",
        "&= a_i – y_i \n",
        "\\end{align} $$"
      ],
      "metadata": {
        "id": "tnvttqxF-HpF"
      }
    },
    {
      "cell_type": "code",
      "source": [
        "def grad_softmax_cross_entropy(logits, y_true):\n",
        "\n",
        "    ones_true_class = np.zeros_like(logits) # Matriz de ceros que tiene la forma de las probabilidades (logits.shape), si alimento todos los datos es 50000X2\n",
        "\n",
        "    ones_true_class[np.arange(len(logits)),y_true] = 1 # Genera 1 o cero si esta en la clasificacion correcta\n",
        " \n",
        "    softmax_ = np.exp(logits) / np.exp(logits).sum(axis=-1,keepdims=True) # softmax aplicado a mis probabilidades\n",
        "\n",
        "    return (-ones_true_class + softmax_) / logits.shape[0]"
      ],
      "metadata": {
        "id": "bdaasRLfu3cI"
      },
      "execution_count": null,
      "outputs": []
    },
    {
      "cell_type": "code",
      "source": [
        "y_probs = net(X_prob, W, B)\n",
        "y_probs"
      ],
      "metadata": {
        "id": "UWUdYIZq3bVn",
        "colab": {
          "base_uri": "https://localhost:8080/"
        },
        "outputId": "3575df9e-57f2-48f1-d7b4-416b950d9b36"
      },
      "execution_count": null,
      "outputs": [
        {
          "output_type": "execute_result",
          "data": {
            "text/plain": [
              "array([[0.55460551, 0.44539449],\n",
              "       [0.45233171, 0.54766829],\n",
              "       [0.49804794, 0.50195206],\n",
              "       ...,\n",
              "       [0.68369965, 0.31630035],\n",
              "       [0.67287607, 0.32712393],\n",
              "       [0.6118438 , 0.3881562 ]])"
            ]
          },
          "metadata": {},
          "execution_count": 40
        }
      ]
    },
    {
      "cell_type": "code",
      "source": [
        "y_hat = y_probs.argmax(axis=1)\n",
        "y_hat.shape\n",
        "y_hat"
      ],
      "metadata": {
        "id": "YjIHMcob4XCc",
        "colab": {
          "base_uri": "https://localhost:8080/"
        },
        "outputId": "929a92bb-d084-4ac6-a378-c732c947599a"
      },
      "execution_count": null,
      "outputs": [
        {
          "output_type": "execute_result",
          "data": {
            "text/plain": [
              "array([0, 1, 1, ..., 0, 0, 0])"
            ]
          },
          "metadata": {},
          "execution_count": 41
        }
      ]
    },
    {
      "cell_type": "code",
      "source": [
        "Y_prob"
      ],
      "metadata": {
        "id": "ONs4Yn3i8_OB",
        "colab": {
          "base_uri": "https://localhost:8080/"
        },
        "outputId": "7471d582-9dfc-4d06-8306-478bfd91e53d"
      },
      "execution_count": null,
      "outputs": [
        {
          "output_type": "execute_result",
          "data": {
            "text/plain": [
              "array([1, 1, 1, ..., 1, 1, 1])"
            ]
          },
          "metadata": {},
          "execution_count": 42
        }
      ]
    },
    {
      "cell_type": "code",
      "source": [
        "# Esta matriz es la que nos ayudará a ver en que dirección nos moveremos\n",
        "A = grad_softmax_cross_entropy(y_probs, Y_prob)\n",
        "-A"
      ],
      "metadata": {
        "id": "q-SL2zOSvWPk",
        "colab": {
          "base_uri": "https://localhost:8080/"
        },
        "outputId": "372259b0-7e74-47ab-fc5a-2b6a34eafdeb"
      },
      "execution_count": null,
      "outputs": [
        {
          "output_type": "execute_result",
          "data": {
            "text/plain": [
              "array([[-0.00001042,  0.00001042],\n",
              "       [-0.00000941,  0.00000941],\n",
              "       [-0.00000987,  0.00000987],\n",
              "       ...,\n",
              "       [-0.00001168,  0.00001168],\n",
              "       [-0.00001158,  0.00001158],\n",
              "       [-0.00001099,  0.00001099]])"
            ]
          },
          "metadata": {},
          "execution_count": 43
        }
      ]
    },
    {
      "cell_type": "code",
      "source": [
        "# En este factor modificaremos nuestros interceptos (Gradiente para bias, intercepto o sesgo)\n",
        "A.sum(axis=0, keepdims=True)"
      ],
      "metadata": {
        "id": "YPLKGw3_CLyJ",
        "colab": {
          "base_uri": "https://localhost:8080/"
        },
        "outputId": "deecd333-b713-40ee-b541-15130c17fcbc"
      },
      "execution_count": null,
      "outputs": [
        {
          "output_type": "execute_result",
          "data": {
            "text/plain": [
              "array([[-0.10468213,  0.10468213]])"
            ]
          },
          "metadata": {},
          "execution_count": 44
        }
      ]
    },
    {
      "cell_type": "code",
      "source": [
        "# Esta matriz le dira a nuestros parametros como moverse (gradiente para mis pesos de las características \"x\")\n",
        "(A.T@X_prob).T"
      ],
      "metadata": {
        "id": "0uv9BVhRxIXr",
        "colab": {
          "base_uri": "https://localhost:8080/"
        },
        "outputId": "66491174-6948-4193-ea49-12368a4b1974"
      },
      "execution_count": null,
      "outputs": [
        {
          "output_type": "execute_result",
          "data": {
            "text/plain": [
              "array([[-0.08936865,  0.08936865],\n",
              "       [ 0.08994616, -0.08994616],\n",
              "       [ 0.01555116, -0.01555116],\n",
              "       [ 0.13079393, -0.13079393],\n",
              "       [ 0.02426433, -0.02426433],\n",
              "       [ 0.03482743, -0.03482743],\n",
              "       [ 0.04715196, -0.04715196],\n",
              "       [ 0.05229448, -0.05229448],\n",
              "       [ 0.14482959, -0.14482959],\n",
              "       [ 0.20083769, -0.20083769],\n",
              "       [ 0.17045633, -0.17045633],\n",
              "       [ 0.19915675, -0.19915675],\n",
              "       [ 0.16237556, -0.16237556],\n",
              "       [ 0.13682799, -0.13682799],\n",
              "       [ 0.14571399, -0.14571399],\n",
              "       [ 0.16178466, -0.16178466],\n",
              "       [ 0.18660477, -0.18660477],\n",
              "       [ 0.15038025, -0.15038025],\n",
              "       [-0.33894888,  0.33894888],\n",
              "       [-0.10251825,  0.10251825],\n",
              "       [-0.07804118,  0.07804118],\n",
              "       [ 0.04100085, -0.04100085],\n",
              "       [ 0.10370101, -0.10370101],\n",
              "       [ 0.06984747, -0.06984747],\n",
              "       [-0.1364832 ,  0.1364832 ]])"
            ]
          },
          "metadata": {},
          "execution_count": 45
        }
      ]
    },
    {
      "cell_type": "code",
      "source": [
        "X_prob.shape"
      ],
      "metadata": {
        "colab": {
          "base_uri": "https://localhost:8080/"
        },
        "id": "G3Klr6tJ9hhc",
        "outputId": "55bfe76f-bc6e-4c5b-e973-6eeb03357422"
      },
      "execution_count": null,
      "outputs": [
        {
          "output_type": "execute_result",
          "data": {
            "text/plain": [
              "(50582, 25)"
            ]
          },
          "metadata": {},
          "execution_count": 46
        }
      ]
    },
    {
      "cell_type": "code",
      "source": [
        "def gradient_descent(x, y, w, b, net, learning_rate=0.1, num_epochs=10):\n",
        "\tm = x.shape[0]\n",
        "\tJ_all = []\n",
        "\t\n",
        "\tfor _ in range(num_epochs):\n",
        "\t\ty_probs = net(x, w, b)\n",
        "\t\ty_hat = y_probs.argmax(axis=1)\n",
        "\t\t\n",
        "\t\tgradient_w = ((grad_softmax_cross_entropy(y_probs,y)).T @ x).T\n",
        "\t\tgradient_b = grad_softmax_cross_entropy(y_probs,y).sum(axis=0, keepdims=True)\n",
        "\t\tw = w - (learning_rate)*gradient_w\n",
        "\t\tb = b - (learning_rate)*gradient_b\n",
        "\n",
        "\t\tJ_all.append(cross_entropy(net(x, w, b), y).sum())\n",
        "\n",
        "\treturn J_all, w, b "
      ],
      "metadata": {
        "id": "xaj_uBU4LxfB"
      },
      "execution_count": null,
      "outputs": []
    },
    {
      "cell_type": "code",
      "source": [
        "W = np.random.normal(0, 0.1, (num_inputs, num_outputs)) # Jugaremos con este parametro\n",
        "B = np.zeros(num_outputs) # Jugaremos con este parametro"
      ],
      "metadata": {
        "id": "VyLdbdMdNmAp"
      },
      "execution_count": null,
      "outputs": []
    },
    {
      "cell_type": "code",
      "source": [
        "learning_rate = 0.01\n",
        "num_epochs = 500"
      ],
      "metadata": {
        "id": "fdtOu8Gv4phz"
      },
      "execution_count": null,
      "outputs": []
    },
    {
      "cell_type": "code",
      "source": [
        "J_all, W, B = gradient_descent(X_prob, Y_prob, W, B, net, learning_rate, num_epochs)\n",
        "Y_hat = net(X_prob, W, B)\n",
        "J = cross_entropy(Y_hat, Y_prob).sum()\n",
        "print(\"Cost: \", J)\n",
        "print(\"Parameters: \", W)\n",
        "print(\"Intercepto: \", B)"
      ],
      "metadata": {
        "id": "TWTzZZQcBSEb",
        "colab": {
          "base_uri": "https://localhost:8080/"
        },
        "outputId": "5456a353-ed42-46cc-c946-9796f6bceadd"
      },
      "execution_count": null,
      "outputs": [
        {
          "output_type": "stream",
          "name": "stdout",
          "text": [
            "Cost:  0.7884070636501486\n",
            "Parameters:  [[ 0.05057004 -0.30051923]\n",
            " [-0.29226536  0.21607104]\n",
            " [-0.04264111  0.09542521]\n",
            " [-0.2906552   0.16696339]\n",
            " [-0.06878374 -0.09664852]\n",
            " [ 0.04441757  0.00516277]\n",
            " [-0.11995739  0.13512663]\n",
            " [ 0.0432912  -0.01690367]\n",
            " [-0.16564185  0.33780201]\n",
            " [-0.4959067   0.57890836]\n",
            " [-0.38691199  0.32816169]\n",
            " [-0.39714866  0.18838264]\n",
            " [-0.57210345  0.2314879 ]\n",
            " [-0.13615534  0.26845081]\n",
            " [-0.23447867  0.27141059]\n",
            " [-0.23597002  0.25363774]\n",
            " [-0.41622986  0.5098096 ]\n",
            " [-0.27614126  0.45891215]\n",
            " [ 1.07159147 -1.0929172 ]\n",
            " [ 0.1576819  -0.22494377]\n",
            " [ 0.14712668 -0.10437691]\n",
            " [ 0.06054673 -0.11909528]\n",
            " [-0.35915054  0.20051987]\n",
            " [-0.02545233  0.06715583]\n",
            " [ 0.65170577 -0.39395856]]\n",
            "Intercepto:  [[ 0.4074633 -0.4074633]]\n"
          ]
        }
      ]
    },
    {
      "cell_type": "code",
      "source": [
        "print(J_all)"
      ],
      "metadata": {
        "id": "idROj5bqPLSL",
        "colab": {
          "base_uri": "https://localhost:8080/"
        },
        "outputId": "2a034ff3-a0d6-44e4-f9df-acbba9238e52"
      },
      "execution_count": null,
      "outputs": [
        {
          "output_type": "stream",
          "name": "stdout",
          "text": [
            "[0.7805042011277499, 0.7645976072290597, 0.7493617107988284, 0.7347787334864152, 0.7208304226042824, 0.7074981458013221, 0.6947629769860794, 0.6826057735313544, 0.6710072453531638, 0.6599480169271151, 0.6494086836387751, 0.63936986403881, 0.6298122495845888, 0.620716653304244, 0.6120640585301319, 0.6038356684387812, 0.5960129566412773, 0.5885777185456319, 0.5815121227261832, 0.5747987611491849, 0.5684206968690969, 0.5623615077520456, 0.5566053248969396, 0.5511368646793413, 0.5459414536893822, 0.5410050462181302, 0.5363142343176134, 0.5318562507812513, 0.5276189656419545, 0.5235908769568723, 0.519761096743839, 0.5161193329651146, 0.5126558684326654, 0.5093615374502771, 0.5062277009245509, 0.5032462205805757, 0.5004094328177038, 0.49771012264295356, 0.49514149802855617, 0.4926971649587364, 0.49037110336024803, 0.4881576440517053, 0.48605144679789364, 0.48404747951606913, 0.48214099865061527, 0.4803275307090418, 0.4786028549350076, 0.47696298708166013, 0.4754041642401481, 0.47392283067281626, 0.4725156245976223, 0.4711793658691481, 0.4699110445017334, 0.46870780998136463, 0.46756696131470465, 0.466485937765814, 0.46546231023353185, 0.4644937732249947, 0.4635781373833122, 0.4627133225299124, 0.4618973511844917, 0.4611283425278304, 0.4604045067749733, 0.45972413992841943, 0.4590856188830254, 0.4584873968563053, 0.4579279991197129, 0.457406019008308, 0.45692011418794326, 0.4564690031607472, 0.4560514619912228, 0.4556663212367145, 0.455312463067333, 0.45498881856164836, 0.4546943651655825, 0.45442812430295115, 0.45418915912703384, 0.4539765724033921, 0.45378950451493055, 0.4536271315809008, 0.453488663682207, 0.45337334318598904, 0.4532804431630393, 0.4532092658921634, 0.4531591414461216, 0.45312942635428616, 0.4531195023376178, 0.4531287751119899, 0.4531566732562723, 0.45320264714191116, 0.4532661679210116, 0.453346726570132, 0.4534438329871492, 0.453557015138648, 0.4536858182553439, 0.4538298040730785, 0.4539885501169431, 0.45416164902610195, 0.45434870791691356, 0.45454934778197625, 0.4547632029227775, 0.4549899204136649, 0.4552291595949123, 0.455480591592686, 0.45574389886374406, 0.4560187747627142, 0.4563049231297962, 0.45660205789673197, 0.456909902708891, 0.4572281905613328, 0.45755666344675405, 0.45789507201330437, 0.45824317523037594, 0.4586007400606386, 0.4589675411368158, 0.45934336044195917, 0.45972798699231204, 0.4601212165222143, 0.46052285117091113, 0.4609326991715705, 0.4613505745432655, 0.4617762967871305, 0.4622096905883171, 0.46265058552574256, 0.4630988157918955, 0.46355421992513013, 0.4640166405568978, 0.4644859241762464, 0.46496192091364047, 0.4654444843457458, 0.46593347132230617, 0.4664287418156441, 0.4669301587926921, 0.4674375881088415, 0.46795089842232024, 0.4684699611273129, 0.4689946503036334, 0.4695248426804777, 0.4700604176116212, 0.4706012570593809, 0.47114724558473625, 0.4716982703411679, 0.47225422107001785, 0.4728149900954774, 0.4733804723176367, 0.47395056520237716, 0.4745251687672205, 0.47510418556256, 0.47568752064798375, 0.4762750815636304, 0.47686677829671975, 0.47746252324354366, 0.47806223116731883, 0.4786658191523664, 0.47927320655513467, 0.47988431495258743, 0.4804990680884836, 0.48111739181805063, 0.48173921405152964, 0.4823644646970299, 0.4829930756030939, 0.48362498050132724, 0.48426011494940974, 0.48489841627475455, 0.48553982351904584, 0.48618427738384307, 0.4868317201774064, 0.48748209576285856, 0.48813534950777676, 0.4887914282352735, 0.489450280176606, 0.49011185492533643, 0.49077610339304145, 0.4914429777665629, 0.492112431466778, 0.49278441910885656, 0.4934588964639702, 0.49413582042240967, 0.49481514895806833, 0.49549684109424036, 0.4961808568706892, 0.4968671573119359, 0.49755570439672026, 0.4982464610285859, 0.4989393910075455, 0.4996344590027806, 0.5003316305263319, 0.5010308719077408, 0.5017321502696012, 0.5024354335039843, 0.5031406902497005, 0.5038478898703627, 0.5045570024332203, 0.5052679986887315, 0.5059808500508424, 0.5066955285779484, 0.5074120069545076, 0.5081302584732813, 0.5088502570181771, 0.5095719770476714, 0.5102953935787888, 0.5110204821716152, 0.511747218914327, 0.5124755804087148, 0.5132055437561835, 0.5139370865442098, 0.5146701868332414, 0.515404823144021, 0.5161409744453186, 0.5168786201420562, 0.5176177400638137, 0.5183583144536983, 0.5191003239575663, 0.5198437496135828, 0.5205885728421085, 0.5213347754359016, 0.5220823395506227, 0.5228312476956314, 0.523581482725066, 0.524333027829194, 0.5250858665260265, 0.5258399826531834, 0.5265953603600042, 0.5273519840998938, 0.5281098386228963, 0.5288689089684862, 0.529629180458574, 0.5303906386907143, 0.531153269531512, 0.5319170591102197, 0.5326819938125184, 0.5334480602744767, 0.5342152453766819, 0.5349835362385376, 0.5357529202127211, 0.5365233848797976, 0.5372949180429819, 0.5380675077230493, 0.5388411421533833, 0.5396158097751604, 0.5403914992326679, 0.5411681993687468, 0.5419458992203584, 0.5427245880142715, 0.5435042551628628, 0.544284890260031, 0.5450664830772185, 0.5458490235595365, 0.5466325018219951, 0.5474169081458278, 0.5482022329749143, 0.5489884669122953, 0.5497756007167759, 0.5505636252996162, 0.5513525317213075, 0.5521423111884284, 0.5529329550505814, 0.5537244547974073, 0.5545168020556706, 0.5553099885864228, 0.5561040062822313, 0.5568988471644795, 0.557694503380731, 0.5584909672021608, 0.5592882310210471, 0.5600862873483239, 0.560885128811194, 0.5616847481507976, 0.5624851382199385, 0.5632862919808623, 0.5640882025030899, 0.5648908629612992, 0.5656942666332596, 0.5664984068978123, 0.5673032772328996, 0.5681088712136387, 0.568915182510441, 0.5697222048871737, 0.5705299321993652, 0.5713383583924498, 0.572147477500053, 0.5729572836423165, 0.57376777102426, 0.5745789339341802, 0.5753907667420862, 0.5762032638981689, 0.5770164199313047, 0.5778302294475943, 0.5786446871289301, 0.579459787731599, 0.5802755260849124, 0.5810918970898697, 0.5819088957178474, 0.5827265170093188, 0.5835447560726015, 0.5843636080826304, 0.5851830682797582, 0.5860031319685817, 0.5868237945167916, 0.5876450513540494, 0.5884668979708855, 0.5892893299176217, 0.5901123428033166, 0.5909359322947327, 0.5917600941153253, 0.5925848240442521, 0.5934101179154041, 0.5942359716164557, 0.5950623810879346, 0.5958893423223123, 0.5967168513631096, 0.5975449043040252, 0.5983734972880784, 0.5992026265067706, 0.6000322881992637, 0.6008624786515747, 0.6016931941957867, 0.6025244312092769, 0.6033561861139575, 0.6041884553755336, 0.6050212355027758, 0.6058545230468072, 0.6066883146004028, 0.6075226067973054, 0.6083573963115522, 0.6091926798568176, 0.6100284541857656, 0.6108647160894171, 0.611701462396529, 0.6125386899729846, 0.6133763957211964, 0.6142145765795202, 0.6150532295216806, 0.615892351556207, 0.6167319397258813, 0.6175719911071949, 0.6184125028098169, 0.6192534719760721, 0.6200948957804291, 0.6209367714289967, 0.6217790961590323, 0.6226218672384567, 0.62346508196538, 0.6243087376676348, 0.6251528317023199, 0.6259973614553502, 0.6268423243410174, 0.6276877178015554, 0.6285335393067181, 0.6293797863533608, 0.6302264564650312, 0.6310735471915685, 0.6319210561087083, 0.6327689808176953, 0.6336173189449021, 0.6344660681414578, 0.6353152260828782, 0.636164790468709, 0.6370147590221689, 0.6378651294898041, 0.638715899641146, 0.6395670672683758, 0.6404186301859962, 0.6412705862305069, 0.6421229332600868, 0.6429756691542821, 0.6438287918136995, 0.6446822991597038, 0.645536189134123, 0.6463904596989565, 0.6472451088360891, 0.6481001345470098, 0.6489555348525355, 0.6498113077925407, 0.6506674514256882, 0.6515239638291687, 0.6523808430984431, 0.6532380873469874, 0.6540956947060453, 0.6549536633243821, 0.6558119913680446, 0.6566706770201237, 0.6575297184805228, 0.6583891139657271, 0.6592488617085809, 0.6601089599580636, 0.6609694069790746, 0.6618302010522179, 0.6626913404735918, 0.6635528235545823, 0.6644146486216592, 0.665276814016176, 0.6661393180941731, 0.6670021592261836, 0.6678653357970428, 0.6687288462057018, 0.6695926888650414, 0.6704568622016923, 0.6713213646558546, 0.6721861946811244, 0.6730513507443192, 0.673916831325309, 0.6747826349168484, 0.6756487600244121, 0.6765152051660329, 0.6773819688721416, 0.6782490496854116, 0.6791164461606028, 0.6799841568644107, 0.6808521803753158, 0.6817205152834376, 0.682589160190388, 0.68345811370913, 0.6843273744638365, 0.6851969410897526, 0.6860668122330584, 0.6869369865507358, 0.6878074627104358, 0.68867823939035, 0.6895493152790809, 0.6904206890755167, 0.6912923594887072, 0.6921643252377417, 0.6930365850516285, 0.6939091376691763, 0.6947819818388781, 0.6956551163187951, 0.6965285398764447, 0.6974022512886892, 0.6982762493416238, 0.6991505328304709, 0.7000251005594723, 0.7008999513417843, 0.7017750839993747, 0.7026504973629205, 0.7035261902717073, 0.7044021615735315, 0.7052784101246014, 0.706154934789442, 0.707031734440801, 0.7079088079595541, 0.7087861542346141, 0.7096637721628403, 0.7105416606489487, 0.7114198186054257, 0.7122982449524389, 0.7131769386177542, 0.7140558985366499, 0.7149351236518349, 0.7158146129133661, 0.7166943652785679, 0.7175743797119534, 0.718454655185146, 0.7193351906768001, 0.720215985172529, 0.721097037664826, 0.7219783471529929, 0.7228599126430648, 0.7237417331477416, 0.7246238076863131, 0.7255061352845917, 0.7263887149748427, 0.727271545795717, 0.7281546267921819, 0.729037957015458, 0.7299215355229515, 0.7308053613781909, 0.731689433650764, 0.7325737514162541, 0.7334583137561802, 0.7343431197579338, 0.7352281685147206, 0.7361134591255012, 0.7369989906949312, 0.7378847623333052, 0.7387707731564999, 0.7396570222859163, 0.7405435088484262, 0.7414302319763173, 0.742317190807238, 0.743204384484146, 0.7440918121552555, 0.7449794729739839, 0.7458673660989033, 0.7467554906936876, 0.7476438459270646, 0.7485324309727657, 0.7494212450094792, 0.7503102872207998, 0.7511995567951847, 0.7520890529259039, 0.7529787748109967, 0.7538687216532253, 0.7547588926600293, 0.7556492870434834, 0.7565399040202521, 0.7574307428115475, 0.7583218026430869, 0.7592130827450498, 0.760104582352038]\n"
          ]
        }
      ]
    },
    {
      "cell_type": "code",
      "source": [
        "perdida_por_epoca = np.array(J_all).reshape(-1,1)"
      ],
      "metadata": {
        "id": "hvlLiqkyQOXF"
      },
      "execution_count": null,
      "outputs": []
    },
    {
      "cell_type": "code",
      "source": [
        "plt.plot(perdida_por_epoca)"
      ],
      "metadata": {
        "id": "Qcab99dtPXqN",
        "colab": {
          "base_uri": "https://localhost:8080/",
          "height": 284
        },
        "outputId": "330ad1e3-6f9a-4c56-be25-278705d964a5"
      },
      "execution_count": null,
      "outputs": [
        {
          "output_type": "execute_result",
          "data": {
            "text/plain": [
              "[<matplotlib.lines.Line2D at 0x7f455443a990>]"
            ]
          },
          "metadata": {},
          "execution_count": 52
        },
        {
          "output_type": "display_data",
          "data": {
            "text/plain": [
              "<Figure size 432x288 with 1 Axes>"
            ],
            "image/png": "[encoded data removed]"
          },
          "metadata": {
            "needs_background": "light"
          }
        }
      ]
    },
    {
      "cell_type": "code",
      "source": [
        "# Las probabilidades que predecimos para cada fila de nuestros datos\n",
        "net(X_prob, W, B)"
      ],
      "metadata": {
        "id": "FhTSxna-NKqK",
        "colab": {
          "base_uri": "https://localhost:8080/"
        },
        "outputId": "b9b83c6c-5a71-4df9-cf88-72aa8c5f4cbe"
      },
      "execution_count": null,
      "outputs": [
        {
          "output_type": "execute_result",
          "data": {
            "text/plain": [
              "array([[0.0214225 , 0.9785775 ],\n",
              "       [0.54408473, 0.45591527],\n",
              "       [0.87877007, 0.12122993],\n",
              "       ...,\n",
              "       [0.00014425, 0.99985575],\n",
              "       [0.00095107, 0.99904893],\n",
              "       [0.98326198, 0.01673802]])"
            ]
          },
          "metadata": {},
          "execution_count": 53
        }
      ]
    },
    {
      "cell_type": "code",
      "source": [
        "# La etiqueta verdadera de nuestros datos\n",
        "Y_prob"
      ],
      "metadata": {
        "id": "YYmxh4cRNKqL",
        "colab": {
          "base_uri": "https://localhost:8080/"
        },
        "outputId": "b51b586e-cf61-4e59-8366-9e6472b1a21b"
      },
      "execution_count": null,
      "outputs": [
        {
          "output_type": "execute_result",
          "data": {
            "text/plain": [
              "array([1, 1, 1, ..., 1, 1, 1])"
            ]
          },
          "metadata": {},
          "execution_count": 54
        }
      ]
    },
    {
      "cell_type": "code",
      "source": [
        "accuracy(net(X_prob, W, B),Y_prob) / len(Y_prob)"
      ],
      "metadata": {
        "id": "ipkiKHVyNZ8y",
        "colab": {
          "base_uri": "https://localhost:8080/"
        },
        "outputId": "d3d2e675-cff4-443a-e261-b1b299c8fc8d"
      },
      "execution_count": null,
      "outputs": [
        {
          "output_type": "execute_result",
          "data": {
            "text/plain": [
              "0.8374718279229766"
            ]
          },
          "metadata": {},
          "execution_count": 55
        }
      ]
    },
    {
      "cell_type": "markdown",
      "source": [
        "# BSGD: Batch Stochastic Gradient Descent\n",
        "\n",
        "En este caso, el algoritmo entrenara de modo un poco distinto, tomando muestras al azar de mis datos, dicha muestra será del tamaño que yo la pida."
      ],
      "metadata": {
        "id": "ABi5C3Kg4kkj"
      }
    },
    {
      "cell_type": "code",
      "source": [
        "batch_size = 200"
      ],
      "metadata": {
        "id": "t2x4Fyr16myj"
      },
      "execution_count": null,
      "outputs": []
    },
    {
      "cell_type": "code",
      "source": [
        "number_of_rows = X_prob.shape[0]  # En nuestro caso, son 50,000\n",
        "random_indices = np.random.choice(number_of_rows, size=batch_size, replace=False)\n",
        "X_prima = X_prob[random_indices, :].copy()"
      ],
      "metadata": {
        "id": "a1pc7Mns468G"
      },
      "execution_count": null,
      "outputs": []
    },
    {
      "cell_type": "code",
      "source": [
        "X_prima"
      ],
      "metadata": {
        "id": "mS-sbE2r8Oul",
        "colab": {
          "base_uri": "https://localhost:8080/"
        },
        "outputId": "0546fb10-8978-4e07-ba09-dcf9ddea0228"
      },
      "execution_count": null,
      "outputs": [
        {
          "output_type": "execute_result",
          "data": {
            "text/plain": [
              "array([[-0.22192335, -0.25713122, -0.03433358, ..., -0.3789679 ,\n",
              "        -0.25196593,  0.08060213],\n",
              "       [-0.23313648, -0.24973995, -0.03433358, ..., -0.25036536,\n",
              "        -0.24451819, -0.34884801],\n",
              "       [-0.13068742,  1.00678202, -0.03433358, ..., -0.1362161 ,\n",
              "        -0.16789556, -0.41019803],\n",
              "       ...,\n",
              "       [ 0.72541525, -0.26289039, -0.03433358, ..., -0.1476555 ,\n",
              "        -0.21704054, -0.40086216],\n",
              "       [-0.22997494,  0.15153384, -0.03433358, ...,  0.52620396,\n",
              "         0.40392022, -0.423535  ],\n",
              "       [-0.23568611, -0.23854003, -0.03433358, ..., -0.32488371,\n",
              "        -0.25740099, -0.32484148]])"
            ]
          },
          "metadata": {},
          "execution_count": 58
        }
      ]
    },
    {
      "cell_type": "code",
      "source": [
        "Y_prima = Y_prob[random_indices].copy()"
      ],
      "metadata": {
        "id": "9hmnUV6W5aBQ"
      },
      "execution_count": null,
      "outputs": []
    },
    {
      "cell_type": "code",
      "source": [
        "Y_prima"
      ],
      "metadata": {
        "id": "uS3OZYk_8Sbv",
        "colab": {
          "base_uri": "https://localhost:8080/"
        },
        "outputId": "4beda7e9-6f43-44a8-ef79-59615e449644"
      },
      "execution_count": null,
      "outputs": [
        {
          "output_type": "execute_result",
          "data": {
            "text/plain": [
              "array([0, 0, 0, 0, 0, 1, 1, 0, 0, 0, 1, 0, 0, 1, 1, 1, 0, 1, 0, 0, 1, 1,\n",
              "       1, 1, 0, 0, 0, 1, 0, 0, 0, 0, 0, 1, 0, 1, 0, 0, 1, 0, 0, 0, 1, 1,\n",
              "       0, 1, 0, 0, 0, 0, 0, 0, 0, 0, 1, 0, 1, 0, 1, 0, 0, 0, 1, 1, 0, 1,\n",
              "       0, 0, 0, 1, 0, 0, 0, 1, 1, 1, 0, 0, 1, 0, 0, 0, 0, 0, 1, 0, 1, 0,\n",
              "       0, 1, 1, 0, 0, 0, 0, 1, 0, 1, 1, 0, 0, 1, 0, 1, 1, 0, 0, 0, 1, 0,\n",
              "       1, 1, 1, 0, 1, 1, 0, 0, 0, 0, 1, 0, 1, 0, 0, 0, 0, 0, 1, 1, 1, 0,\n",
              "       0, 0, 0, 1, 0, 0, 0, 1, 0, 0, 0, 1, 0, 1, 0, 1, 0, 1, 0, 1, 0, 0,\n",
              "       0, 1, 0, 0, 0, 1, 0, 0, 0, 0, 0, 0, 0, 1, 0, 0, 0, 1, 0, 0, 1, 1,\n",
              "       0, 0, 0, 0, 0, 0, 1, 1, 1, 1, 0, 0, 1, 0, 0, 0, 0, 0, 0, 0, 0, 0,\n",
              "       1, 0])"
            ]
          },
          "metadata": {},
          "execution_count": 60
        }
      ]
    },
    {
      "cell_type": "code",
      "source": [
        "def batch_gradient_descent(x, y, w, b, net, batch_size, learning_rate=0.1, num_epochs=10):\n",
        "  m = x.shape[0]\n",
        "  J_all = []\n",
        "\t\n",
        "  for _ in range(num_epochs):\n",
        "    random_indices = np.random.choice(m, size=batch_size, replace=False)\n",
        "    x_batch = x[random_indices, :].copy()\n",
        "    y_batch = y[random_indices].copy()\n",
        "\n",
        "    y_probs = net(x_batch, w, b)\n",
        "    y_hat = y_probs.argmax(axis=1)\n",
        "    gradient_w = ((grad_softmax_cross_entropy(y_probs,y_batch)).T @ x_batch).T\n",
        "    gradient_b = grad_softmax_cross_entropy(y_probs,y_batch).sum(axis=0, keepdims=True)\n",
        "    w = w - (learning_rate)*gradient_w\n",
        "    b = b - (learning_rate)*gradient_b\n",
        "    \n",
        "    J_all.append(cross_entropy(net(x_batch, w, b), y_batch).sum())\n",
        "\n",
        "  return J_all, w, b "
      ],
      "metadata": {
        "id": "wkEVafDv6zSS"
      },
      "execution_count": null,
      "outputs": []
    },
    {
      "cell_type": "code",
      "source": [
        "W = np.random.normal(0, 0.1, (num_inputs, num_outputs)) # Jugaremos con este parametro\n",
        "B = np.zeros(num_outputs) # Jugaremos con este parametro"
      ],
      "metadata": {
        "id": "tCHpmpEL76dJ"
      },
      "execution_count": null,
      "outputs": []
    },
    {
      "cell_type": "code",
      "source": [
        "learning_rate = 0.01\n",
        "num_epochs = 100"
      ],
      "metadata": {
        "id": "577ys26F8ECc"
      },
      "execution_count": null,
      "outputs": []
    },
    {
      "cell_type": "code",
      "source": [
        "J_all, W, B = batch_gradient_descent(X_prob, Y_prob, W, B, net, batch_size, learning_rate, num_epochs)\n",
        "Y_hat = net(X_prob, W, B)\n",
        "J = cross_entropy(Y_hat, Y_prob)\n",
        "print(\"Cost: \", J)\n",
        "print(\"Parameters: \", W)\n",
        "print(\"Intercepto: \", B)"
      ],
      "metadata": {
        "id": "mI0orbzN8ECc",
        "colab": {
          "base_uri": "https://localhost:8080/"
        },
        "outputId": "08338fd1-9dd9-4187-b79a-303aba899882"
      },
      "execution_count": null,
      "outputs": [
        {
          "output_type": "stream",
          "name": "stdout",
          "text": [
            "Cost:  [0.00000657 0.00001929 0.00002719 ... 0.00000262 0.00000575 0.0000372 ]\n",
            "Parameters:  [[ 0.11594532 -0.13479685]\n",
            " [ 0.03430983 -0.04636663]\n",
            " [ 0.09496243  0.00021357]\n",
            " [-0.09730543  0.00400477]\n",
            " [-0.16362345 -0.10740517]\n",
            " [ 0.00446089  0.07228593]\n",
            " [ 0.09823224  0.02868977]\n",
            " [-0.12764113  0.10527483]\n",
            " [-0.17136504  0.16812094]\n",
            " [-0.02539731  0.19640189]\n",
            " [ 0.2637986   0.05220028]\n",
            " [-0.0857584   0.09858164]\n",
            " [-0.20499348  0.200194  ]\n",
            " [-0.06632203  0.18945012]\n",
            " [-0.07717536  0.1518398 ]\n",
            " [-0.27194574  0.07508906]\n",
            " [ 0.08906386  0.29191922]\n",
            " [-0.30628111 -0.02421961]\n",
            " [ 0.16623974 -0.43172029]\n",
            " [-0.03392466 -0.10709094]\n",
            " [ 0.08635129  0.04845807]\n",
            " [ 0.04266738 -0.09630076]\n",
            " [-0.09174386 -0.10088838]\n",
            " [-0.29936661 -0.00470402]\n",
            " [ 0.17324461  0.01716997]]\n",
            "Intercepto:  [[ 0.08200053 -0.08200053]]\n"
          ]
        }
      ]
    },
    {
      "cell_type": "code",
      "source": [
        "print(J_all)"
      ],
      "metadata": {
        "id": "FM4kNcrD8ECd",
        "colab": {
          "base_uri": "https://localhost:8080/"
        },
        "outputId": "ee665368-7028-46bb-d994-8e728c2701ab"
      },
      "execution_count": null,
      "outputs": [
        {
          "output_type": "stream",
          "name": "stdout",
          "text": [
            "[0.6713068544563241, 0.6332898183768525, 0.5959793241412538, 0.6478425310903735, 0.5945753182971778, 0.5868732395848021, 0.5964692510872863, 0.5794808716784727, 0.5919760594316605, 0.605173889392324, 0.5735741822418795, 0.6042471953694826, 0.5567704589589182, 0.575777917893392, 0.5853520660658756, 0.5569961465132738, 0.5382833106501757, 0.5782758933676242, 0.588630359891419, 0.5358913778511645, 0.6015289821513072, 0.5347926025902475, 0.5491350468641555, 0.5988670633528063, 0.5594854632225215, 0.5426822421686089, 0.628247699435912, 0.5779948165484461, 0.502938397178255, 0.5868022348345415, 0.5745700939713219, 0.5858295674170093, 0.5323719711532624, 0.5882627892507086, 0.545921060656325, 0.516581126414293, 0.5584652873413368, 0.6279119881307571, 0.4738333576831205, 0.5647119521989782, 0.4799022902751935, 0.5638388452999643, 0.42213149877515754, 0.6249673045320908, 0.5701480839771742, 0.4932042496866975, 0.5583265869999484, 0.4710007468075626, 0.5420233302433937, 0.49238313785732735, 0.4866691694923191, 0.4853977361216859, 0.3710104749541979, 0.4608235522588119, 0.5443096193958417, 0.4535159205510468, 0.5197999839330381, 0.4446962080739359, 0.4817198671070032, 0.4826671162659141, 0.46288167837269023, 0.5737507942377923, 0.5933235203264774, 0.5408912031979807, 0.4633379963175391, 0.5758240804963642, 0.5111625327469671, 0.49229808427408445, 0.49987363029624954, 0.5464585698559462, 0.517895950437532, 0.4807926223508674, 0.5139822517394635, 0.4689218780415655, 0.4920200670930569, 0.5383278447404277, 0.46401068043123617, 0.4958154675092059, 0.4855328631000305, 0.5502024237677483, 0.47130515259122063, 0.42388295681841054, 0.6951792765940974, 0.5788791169790191, 0.57137700076661, 0.4456287669979191, 0.4691684594615321, 0.5325569223187372, 0.4756374113114455, 0.45119741120738543, 0.47962355470237716, 0.6214335934225271, 0.48233791892067535, 0.5246843834489958, 0.519828762385508, 0.6276555237882513, 0.5688885289939764, 0.5000485335038078, 0.5580475309149012, 0.5501602712897282]\n"
          ]
        }
      ]
    },
    {
      "cell_type": "code",
      "source": [
        "perdida_por_epoca = np.array(J_all).reshape(-1,1)"
      ],
      "metadata": {
        "id": "B7WbR8pv8ECd"
      },
      "execution_count": null,
      "outputs": []
    },
    {
      "cell_type": "code",
      "source": [
        "plt.plot(perdida_por_epoca)"
      ],
      "metadata": {
        "id": "kbxMXwBD8ECd",
        "colab": {
          "base_uri": "https://localhost:8080/",
          "height": 282
        },
        "outputId": "d3846b33-6737-4b63-bec7-3ae251805434"
      },
      "execution_count": null,
      "outputs": [
        {
          "output_type": "execute_result",
          "data": {
            "text/plain": [
              "[<matplotlib.lines.Line2D at 0x7f4553f27ed0>]"
            ]
          },
          "metadata": {},
          "execution_count": 67
        },
        {
          "output_type": "display_data",
          "data": {
            "text/plain": [
              "<Figure size 432x288 with 1 Axes>"
            ],
            "image/png": "[encoded data removed]"
          },
          "metadata": {
            "needs_background": "light"
          }
        }
      ]
    },
    {
      "cell_type": "code",
      "source": [
        "# Las probabilidades que predecimos para cada fila de nuestros datos\n",
        "net(X_prob, W, B)"
      ],
      "metadata": {
        "id": "kLhi1JnF8ECd"
      },
      "execution_count": null,
      "outputs": []
    },
    {
      "cell_type": "code",
      "source": [
        "# La etiqueta verdadera de nuestros datos\n",
        "Y_prob"
      ],
      "metadata": {
        "id": "nQu21Iv_8ECd",
        "colab": {
          "base_uri": "https://localhost:8080/"
        },
        "outputId": "4c959604-69ea-4f39-dd1f-9d9489365cc4"
      },
      "execution_count": null,
      "outputs": [
        {
          "output_type": "execute_result",
          "data": {
            "text/plain": [
              "array([1, 1, 1, ..., 1, 1, 1])"
            ]
          },
          "metadata": {},
          "execution_count": 69
        }
      ]
    },
    {
      "cell_type": "code",
      "source": [
        "accuracy(net(X_prob, W, B),Y_prob) / len(Y_prob)"
      ],
      "metadata": {
        "id": "8jsZGmHu8ECd",
        "colab": {
          "base_uri": "https://localhost:8080/"
        },
        "outputId": "a0b5b0bf-84de-4b79-da94-95cdbf9e663f"
      },
      "execution_count": null,
      "outputs": [
        {
          "output_type": "execute_result",
          "data": {
            "text/plain": [
              "0.816357597564351"
            ]
          },
          "metadata": {},
          "execution_count": 70
        }
      ]
    },
    {
      "cell_type": "markdown",
      "source": [
        "Ejercicio: \n",
        "\n",
        "Dado nuestro código anterior, ¿Que cambios harían al código para utilizar \"Stochastic Gradient Descent\" en lugar de \"Batch Stochastic Gradient Descent\"?\n",
        "\n",
        "Tras haber discutido la pregunta anterior, traten de relizar los cambios"
      ],
      "metadata": {
        "id": "1Dx-8011-tLY"
      }
    },
    {
      "cell_type": "code",
      "source": [
        "#@title Pista para el ejercicio\n",
        "# Tengan en cuenta que deben alimentar uno a uno lo datos para usar Stochastic Gradient Descent (no usarán el mismo ciclo de epocas)"
      ],
      "metadata": {
        "cellView": "form",
        "id": "glHJ0KUOBB1K"
      },
      "execution_count": null,
      "outputs": []
    },
    {
      "cell_type": "code",
      "source": [
        "#@title Sugerencia para revolver su arreglo\n",
        "array = np.array([[1,2,3], [4,5,6], [7,8,9], [10,11,12], [13,14,15]])\n",
        "indices = np.random.choice(array.shape[0], size=array.shape[0], replace=False)\n",
        "shuffled = array[indices, :].copy()\n",
        "print(array)\n",
        "print(shuffled)\n"
      ],
      "metadata": {
        "cellView": "form",
        "id": "NeBRZQOm_Ug-"
      },
      "execution_count": null,
      "outputs": []
    },
    {
      "cell_type": "markdown",
      "source": [
        "# Ejemplo:\n",
        "\n",
        "Implementar gradien descent para los siguientes datos, ademas de la función de perdida distinta."
      ],
      "metadata": {
        "id": "UFSwTDBf2v6p"
      }
    },
    {
      "cell_type": "code",
      "source": [
        "# Los datos se encuentran en\n",
        "'/content/drive/MyDrive/Curso-Algebra/semana11/precios_casas_3.csv'"
      ],
      "metadata": {
        "colab": {
          "base_uri": "https://localhost:8080/",
          "height": 36
        },
        "id": "B35FiIA-3Se7",
        "outputId": "7521f8ec-adf3-434c-c571-954895e724f2"
      },
      "execution_count": null,
      "outputs": [
        {
          "output_type": "execute_result",
          "data": {
            "text/plain": [
              "'/content/drive/MyDrive/Curso-Algebra/semana11/precios_casas_3.csv'"
            ],
            "application/vnd.google.colaboratory.intrinsic+json": {
              "type": "string"
            }
          },
          "metadata": {},
          "execution_count": 71
        }
      ]
    },
    {
      "cell_type": "code",
      "source": [
        "df = pd.read_csv('/content/drive/MyDrive/Curso-Algebra/semana11/precios_casas_3.csv')"
      ],
      "metadata": {
        "id": "zFQxz7WU5mQA"
      },
      "execution_count": null,
      "outputs": []
    },
    {
      "cell_type": "code",
      "source": [
        "df.shape"
      ],
      "metadata": {
        "colab": {
          "base_uri": "https://localhost:8080/"
        },
        "id": "iUFn_COZ7kPN",
        "outputId": "e80db62b-4b0e-4049-f33e-a60961a596cd"
      },
      "execution_count": null,
      "outputs": [
        {
          "output_type": "execute_result",
          "data": {
            "text/plain": [
              "(1460, 4)"
            ]
          },
          "metadata": {},
          "execution_count": 73
        }
      ]
    },
    {
      "cell_type": "code",
      "source": [
        "df.head()"
      ],
      "metadata": {
        "colab": {
          "base_uri": "https://localhost:8080/",
          "height": 206
        },
        "id": "TCvz6JUQ50rv",
        "outputId": "7f8c674a-89a9-4d3d-c46a-d8d6aab640e5"
      },
      "execution_count": null,
      "outputs": [
        {
          "output_type": "execute_result",
          "data": {
            "text/plain": [
              "   LotArea  YearBuilt  GarageArea  SalePrice\n",
              "0     8450       2003         548     208500\n",
              "1     9600       1976         460     181500\n",
              "2    11250       2001         608     223500\n",
              "3     9550       1915         642     140000\n",
              "4    14260       2000         836     250000"
            ],
            "text/html": [
              "\n",
              "  <div id=\"df-8599a575-7a1a-4c09-87fa-0909a13e760f\">\n",
              "    <div class=\"colab-df-container\">\n",
              "      <div>\n",
              "<style scoped>\n",
              "    .dataframe tbody tr th:only-of-type {\n",
              "        vertical-align: middle;\n",
              "    }\n",
              "\n",
              "    .dataframe tbody tr th {\n",
              "        vertical-align: top;\n",
              "    }\n",
              "\n",
              "    .dataframe thead th {\n",
              "        text-align: right;\n",
              "    }\n",
              "</style>\n",
              "<table border=\"1\" class=\"dataframe\">\n",
              "  <thead>\n",
              "    <tr style=\"text-align: right;\">\n",
              "      <th></th>\n",
              "      <th>LotArea</th>\n",
              "      <th>YearBuilt</th>\n",
              "      <th>GarageArea</th>\n",
              "      <th>SalePrice</th>\n",
              "    </tr>\n",
              "  </thead>\n",
              "  <tbody>\n",
              "    <tr>\n",
              "      <th>0</th>\n",
              "      <td>8450</td>\n",
              "      <td>2003</td>\n",
              "      <td>548</td>\n",
              "      <td>208500</td>\n",
              "    </tr>\n",
              "    <tr>\n",
              "      <th>1</th>\n",
              "      <td>9600</td>\n",
              "      <td>1976</td>\n",
              "      <td>460</td>\n",
              "      <td>181500</td>\n",
              "    </tr>\n",
              "    <tr>\n",
              "      <th>2</th>\n",
              "      <td>11250</td>\n",
              "      <td>2001</td>\n",
              "      <td>608</td>\n",
              "      <td>223500</td>\n",
              "    </tr>\n",
              "    <tr>\n",
              "      <th>3</th>\n",
              "      <td>9550</td>\n",
              "      <td>1915</td>\n",
              "      <td>642</td>\n",
              "      <td>140000</td>\n",
              "    </tr>\n",
              "    <tr>\n",
              "      <th>4</th>\n",
              "      <td>14260</td>\n",
              "      <td>2000</td>\n",
              "      <td>836</td>\n",
              "      <td>250000</td>\n",
              "    </tr>\n",
              "  </tbody>\n",
              "</table>\n",
              "</div>\n",
              "      <button class=\"colab-df-convert\" onclick=\"convertToInteractive('df-8599a575-7a1a-4c09-87fa-0909a13e760f')\"\n",
              "              title=\"Convert this dataframe to an interactive table.\"\n",
              "              style=\"display:none;\">\n",
              "        \n",
              "  <svg xmlns=\"http://www.w3.org/2000/svg\" height=\"24px\"viewBox=\"0 0 24 24\"\n",
              "       width=\"24px\">\n",
              "    <path d=\"M0 0h24v24H0V0z\" fill=\"none\"/>\n",
              "    <path d=\"M18.56 5.44l.94 2.06.94-2.06 2.06-.94-2.06-.94-.94-2.06-.94 2.06-2.06.94zm-11 1L8.5 8.5l.94-2.06 2.06-.94-2.06-.94L8.5 2.5l-.94 2.06-2.06.94zm10 10l.94 2.06.94-2.06 2.06-.94-2.06-.94-.94-2.06-.94 2.06-2.06.94z\"/><path d=\"M17.41 7.96l-1.37-1.37c-.4-.4-.92-.59-1.43-.59-.52 0-1.04.2-1.43.59L10.3 9.45l-7.72 7.72c-.78.78-.78 2.05 0 2.83L4 21.41c.39.39.9.59 1.41.59.51 0 1.02-.2 1.41-.59l7.78-7.78 2.81-2.81c.8-.78.8-2.07 0-2.86zM5.41 20L4 18.59l7.72-7.72 1.47 1.35L5.41 20z\"/>\n",
              "  </svg>\n",
              "      </button>\n",
              "      \n",
              "  <style>\n",
              "    .colab-df-container {\n",
              "      display:flex;\n",
              "      flex-wrap:wrap;\n",
              "      gap: 12px;\n",
              "    }\n",
              "\n",
              "    .colab-df-convert {\n",
              "      background-color: #E8F0FE;\n",
              "      border: none;\n",
              "      border-radius: 50%;\n",
              "      cursor: pointer;\n",
              "      display: none;\n",
              "      fill: #1967D2;\n",
              "      height: 32px;\n",
              "      padding: 0 0 0 0;\n",
              "      width: 32px;\n",
              "    }\n",
              "\n",
              "    .colab-df-convert:hover {\n",
              "      background-color: #E2EBFA;\n",
              "      box-shadow: 0px 1px 2px rgba(60, 64, 67, 0.3), 0px 1px 3px 1px rgba(60, 64, 67, 0.15);\n",
              "      fill: #174EA6;\n",
              "    }\n",
              "\n",
              "    [theme=dark] .colab-df-convert {\n",
              "      background-color: #3B4455;\n",
              "      fill: #D2E3FC;\n",
              "    }\n",
              "\n",
              "    [theme=dark] .colab-df-convert:hover {\n",
              "      background-color: #434B5C;\n",
              "      box-shadow: 0px 1px 3px 1px rgba(0, 0, 0, 0.15);\n",
              "      filter: drop-shadow(0px 1px 2px rgba(0, 0, 0, 0.3));\n",
              "      fill: #FFFFFF;\n",
              "    }\n",
              "  </style>\n",
              "\n",
              "      <script>\n",
              "        const buttonEl =\n",
              "          document.querySelector('#df-8599a575-7a1a-4c09-87fa-0909a13e760f button.colab-df-convert');\n",
              "        buttonEl.style.display =\n",
              "          google.colab.kernel.accessAllowed ? 'block' : 'none';\n",
              "\n",
              "        async function convertToInteractive(key) {\n",
              "          const element = document.querySelector('#df-8599a575-7a1a-4c09-87fa-0909a13e760f');\n",
              "          const dataTable =\n",
              "            await google.colab.kernel.invokeFunction('convertToInteractive',\n",
              "                                                     [key], {});\n",
              "          if (!dataTable) return;\n",
              "\n",
              "          const docLinkHtml = 'Like what you see? Visit the ' +\n",
              "            '<a target=\"_blank\" href=https://colab.research.google.com/notebooks/data_table.ipynb>data table notebook</a>'\n",
              "            + ' to learn more about interactive tables.';\n",
              "          element.innerHTML = '';\n",
              "          dataTable['output_type'] = 'display_data';\n",
              "          await google.colab.output.renderOutput(dataTable, element);\n",
              "          const docLink = document.createElement('div');\n",
              "          docLink.innerHTML = docLinkHtml;\n",
              "          element.appendChild(docLink);\n",
              "        }\n",
              "      </script>\n",
              "    </div>\n",
              "  </div>\n",
              "  "
            ]
          },
          "metadata": {},
          "execution_count": 74
        }
      ]
    },
    {
      "cell_type": "code",
      "source": [
        "df['LotArea'] = df['LotArea']/1000\n",
        "df['YearBuilt'] = (2022 - df['YearBuilt'])/10\n",
        "df['GarageArea'] = df['GarageArea']/100\n",
        "df['SalePrice'] = df['SalePrice']/100000"
      ],
      "metadata": {
        "id": "JMw3m8QwBC4y"
      },
      "execution_count": null,
      "outputs": []
    },
    {
      "cell_type": "code",
      "source": [
        "X_prob = np.array(df.drop(['SalePrice'], axis=1))\n",
        "X_prob"
      ],
      "metadata": {
        "colab": {
          "base_uri": "https://localhost:8080/"
        },
        "outputId": "db6397d5-76f1-4f53-8cc5-d72134114546",
        "id": "ZWnvw0B55k21"
      },
      "execution_count": null,
      "outputs": [
        {
          "output_type": "execute_result",
          "data": {
            "text/plain": [
              "array([[ 8.45 ,  1.9  ,  5.48 ],\n",
              "       [ 9.6  ,  4.6  ,  4.6  ],\n",
              "       [11.25 ,  2.1  ,  6.08 ],\n",
              "       ...,\n",
              "       [ 9.042,  8.1  ,  2.52 ],\n",
              "       [ 9.717,  7.2  ,  2.4  ],\n",
              "       [ 9.937,  5.7  ,  2.76 ]])"
            ]
          },
          "metadata": {},
          "execution_count": 76
        }
      ]
    },
    {
      "cell_type": "code",
      "source": [
        "Y_prob = np.array(df['SalePrice'])\n",
        "Y_prob"
      ],
      "metadata": {
        "colab": {
          "base_uri": "https://localhost:8080/"
        },
        "outputId": "0d875d36-85f3-4f3a-c6fb-46fc138285df",
        "id": "_OvJa9Ya5k22"
      },
      "execution_count": null,
      "outputs": [
        {
          "output_type": "execute_result",
          "data": {
            "text/plain": [
              "array([2.085  , 1.815  , 2.235  , ..., 2.665  , 1.42125, 1.475  ])"
            ]
          },
          "metadata": {},
          "execution_count": 77
        }
      ]
    },
    {
      "cell_type": "code",
      "source": [
        "# Nuestra función de pérdida (Error cuadrátio medio)\n",
        "def mse(y_hat, y):\n",
        "    return np.sum(((y - y_hat)**2), axis=1)/(2*y.shape[0])\n",
        "\n",
        "\n",
        "# La derivada de la función de pérdida\n",
        "def d_mse(y_hat, y, x):\n",
        "    return (1/y.shape[0]) * (1/y.shape[0]) * -2 * np.sum((x.T @ (y - y_hat)), axis=1)"
      ],
      "metadata": {
        "id": "IaGa-UGW3hZW"
      },
      "execution_count": null,
      "outputs": []
    },
    {
      "cell_type": "code",
      "source": [
        "# Comparar con funcion \"net\" de caso anterior\n",
        "def net_2(X,W,b):\n",
        "    return np.dot(X.reshape((-1, W.shape[0])), W) + b"
      ],
      "metadata": {
        "id": "rR9R2b-j4RTE"
      },
      "execution_count": null,
      "outputs": []
    },
    {
      "cell_type": "code",
      "source": [
        "def gradient_descent_2(x, y, w, b, net, learning_rate=0.1, num_epochs=10):\n",
        "\tm = x.shape[0]\n",
        "\tJ_all = []\n",
        "\t\n",
        "\tfor _ in range(num_epochs):\n",
        "\t\ty_probs = net_2(x, w, b)\n",
        "\t\t\t\t\t\t\n",
        "\t\tgradient_w = d_mse(y_probs, y.reshape(-1,1), x)\n",
        "\t\tgradient_b = d_mse(y_probs, y, np.identity(y.shape[0])).sum(axis=0, keepdims=True)\n",
        "\t\t\n",
        "\n",
        "\t\tgradient_w = gradient_w.reshape(-1,1)\n",
        "\t\tgradient_b = gradient_b.reshape(-1,1)\n",
        "\n",
        "\t\tw = w - (learning_rate)*gradient_w\n",
        "\t\tb = b - (learning_rate)*gradient_b\n",
        "\n",
        "\t\tJ_all.append(mse(net_2(x, w, b), y).sum())\n",
        "\n",
        "\treturn J_all, w, b "
      ],
      "metadata": {
        "id": "GSiGPMLv5Ewm"
      },
      "execution_count": null,
      "outputs": []
    },
    {
      "cell_type": "code",
      "source": [
        "W = np.random.normal(0, 0.1, (3, 1)) # Jugaremos con este parametro\n",
        "B = np.zeros(1) # Jugaremos con este parametro"
      ],
      "metadata": {
        "id": "fHloI-aX5Ewm"
      },
      "execution_count": null,
      "outputs": []
    },
    {
      "cell_type": "code",
      "source": [
        "W.shape"
      ],
      "metadata": {
        "colab": {
          "base_uri": "https://localhost:8080/"
        },
        "id": "KFLNHw2eB15O",
        "outputId": "61ac73a6-8106-4dbf-c688-6bdefeffcf58"
      },
      "execution_count": null,
      "outputs": [
        {
          "output_type": "execute_result",
          "data": {
            "text/plain": [
              "(3, 1)"
            ]
          },
          "metadata": {},
          "execution_count": 82
        }
      ]
    },
    {
      "cell_type": "code",
      "source": [
        "learning_rate = 0.001\n",
        "num_epochs = 1000"
      ],
      "metadata": {
        "id": "j2B--99D5Ewm"
      },
      "execution_count": null,
      "outputs": []
    },
    {
      "cell_type": "code",
      "source": [
        "J_all, W, B = gradient_descent_2(X_prob, Y_prob, W, B, net_2, learning_rate, num_epochs)\n",
        "Y_hat = net_2(X_prob, W, B)\n",
        "J = mse(Y_hat, Y_prob)\n",
        "print(\"Cost: \", J)\n",
        "print(\"Parameters: \", W)\n",
        "print(\"Intercepto: \", B)"
      ],
      "metadata": {
        "colab": {
          "base_uri": "https://localhost:8080/"
        },
        "outputId": "7a77495b-31d1-4400-ccdc-cbfdacf506d1",
        "id": "NWpbTold5Ewm"
      },
      "execution_count": null,
      "outputs": [
        {
          "output_type": "stream",
          "name": "stdout",
          "text": [
            "Cost:  [0.35369503 0.33505082 0.32879399 ... 0.33282535 0.33257148 0.33584517]\n",
            "Parameters:  [[0.03426373]\n",
            " [0.02135772]\n",
            " [0.02119653]]\n",
            "Intercepto:  [[1.08597888]]\n"
          ]
        }
      ]
    },
    {
      "cell_type": "code",
      "source": [
        "J.sum()"
      ],
      "metadata": {
        "colab": {
          "base_uri": "https://localhost:8080/"
        },
        "id": "5o7rRfkXHcU3",
        "outputId": "5e5b3746-ec84-4687-94f0-a20b6bd6d4e5"
      },
      "execution_count": null,
      "outputs": [
        {
          "output_type": "execute_result",
          "data": {
            "text/plain": [
              "659.5859808104439"
            ]
          },
          "metadata": {},
          "execution_count": 287
        }
      ]
    },
    {
      "cell_type": "code",
      "source": [
        "import matplotlib.pyplot as plt\n",
        "\n",
        "plt.plot(J_all)"
      ],
      "metadata": {
        "colab": {
          "base_uri": "https://localhost:8080/",
          "height": 282
        },
        "id": "j5tM3A3dGqzx",
        "outputId": "71edec63-9d9d-425a-d2ad-836dd6680b71"
      },
      "execution_count": null,
      "outputs": [
        {
          "output_type": "execute_result",
          "data": {
            "text/plain": [
              "[<matplotlib.lines.Line2D at 0x7fc84a5d5590>]"
            ]
          },
          "metadata": {},
          "execution_count": 288
        },
        {
          "output_type": "display_data",
          "data": {
            "text/plain": [
              "<Figure size 432x288 with 1 Axes>"
            ],
            "image/png": "[encoded data removed]"
          },
          "metadata": {
            "needs_background": "light"
          }
        }
      ]
    },
    {
      "cell_type": "code",
      "source": [
        "plt.plot(J)"
      ],
      "metadata": {
        "colab": {
          "base_uri": "https://localhost:8080/",
          "height": 282
        },
        "id": "rO9P5mVxJCZl",
        "outputId": "4d20fba6-9740-491f-a8e7-6af70dacaa6f"
      },
      "execution_count": null,
      "outputs": [
        {
          "output_type": "execute_result",
          "data": {
            "text/plain": [
              "[<matplotlib.lines.Line2D at 0x7fc84a5411d0>]"
            ]
          },
          "metadata": {},
          "execution_count": 289
        },
        {
          "output_type": "display_data",
          "data": {
            "text/plain": [
              "<Figure size 432x288 with 1 Axes>"
            ],
            "image/png": "[encoded data removed]"
          },
          "metadata": {
            "needs_background": "light"
          }
        }
      ]
    },
    {
      "cell_type": "markdown",
      "source": [
        "# Ejercicio: Modificar el anterior para que en lugar de Gradient Descent sea Batch Stochastic Gradient Descent"
      ],
      "metadata": {
        "id": "c2PeOaue0Cdp"
      }
    }
  ]
}