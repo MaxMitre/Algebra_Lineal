{
  "nbformat": 4,
  "nbformat_minor": 0,
  "metadata": {
    "colab": {
      "name": "semana6_Algebra_Textrank.ipynb",
      "provenance": [],
      "collapsed_sections": []
    },
    "kernelspec": {
      "name": "python3",
      "display_name": "Python 3"
    },
    "language_info": {
      "name": "python"
    },
    "widgets": {
      "application/vnd.jupyter.widget-state+json": {
        "dedc925fb8914354a0392b2372e5c070": {
          "model_module": "@jupyter-widgets/controls",
          "model_name": "HBoxModel",
          "model_module_version": "1.5.0",
          "state": {
            "_dom_classes": [],
            "_model_module": "@jupyter-widgets/controls",
            "_model_module_version": "1.5.0",
            "_model_name": "HBoxModel",
            "_view_count": null,
            "_view_module": "@jupyter-widgets/controls",
            "_view_module_version": "1.5.0",
            "_view_name": "HBoxView",
            "box_style": "",
            "children": [
              "IPY_MODEL_c73ee62019e8448f82e54d74896331b0",
              "IPY_MODEL_50b0f685f867431cafd75e21e931279a",
              "IPY_MODEL_be3d8c8dbabc474092a613eaef78b8db"
            ],
            "layout": "IPY_MODEL_78bd7351e5a44b67b3c5587ca6689f4e"
          }
        },
        "c73ee62019e8448f82e54d74896331b0": {
          "model_module": "@jupyter-widgets/controls",
          "model_name": "HTMLModel",
          "model_module_version": "1.5.0",
          "state": {
            "_dom_classes": [],
            "_model_module": "@jupyter-widgets/controls",
            "_model_module_version": "1.5.0",
            "_model_name": "HTMLModel",
            "_view_count": null,
            "_view_module": "@jupyter-widgets/controls",
            "_view_module_version": "1.5.0",
            "_view_name": "HTMLView",
            "description": "",
            "description_tooltip": null,
            "layout": "IPY_MODEL_25cee8ec3f854743a3908f3ce770194c",
            "placeholder": "​",
            "style": "IPY_MODEL_16412652589d4149bdb6dd593f166ae5",
            "value": "Downloading: 100%"
          }
        },
        "50b0f685f867431cafd75e21e931279a": {
          "model_module": "@jupyter-widgets/controls",
          "model_name": "FloatProgressModel",
          "model_module_version": "1.5.0",
          "state": {
            "_dom_classes": [],
            "_model_module": "@jupyter-widgets/controls",
            "_model_module_version": "1.5.0",
            "_model_name": "FloatProgressModel",
            "_view_count": null,
            "_view_module": "@jupyter-widgets/controls",
            "_view_module_version": "1.5.0",
            "_view_name": "ProgressView",
            "bar_style": "success",
            "description": "",
            "description_tooltip": null,
            "layout": "IPY_MODEL_afd520fa96bd4c87abf49845c42c9552",
            "max": 938013,
            "min": 0,
            "orientation": "horizontal",
            "style": "IPY_MODEL_fe64fd4e12d048dd9491783e38aab60f",
            "value": 938013
          }
        },
        "be3d8c8dbabc474092a613eaef78b8db": {
          "model_module": "@jupyter-widgets/controls",
          "model_name": "HTMLModel",
          "model_module_version": "1.5.0",
          "state": {
            "_dom_classes": [],
            "_model_module": "@jupyter-widgets/controls",
            "_model_module_version": "1.5.0",
            "_model_name": "HTMLModel",
            "_view_count": null,
            "_view_module": "@jupyter-widgets/controls",
            "_view_module_version": "1.5.0",
            "_view_name": "HTMLView",
            "description": "",
            "description_tooltip": null,
            "layout": "IPY_MODEL_ce139b197f5c4d3c9046de7f3c1577ec",
            "placeholder": "​",
            "style": "IPY_MODEL_fa56ac0c247448248afb1c45fcc1f06d",
            "value": " 916k/916k [00:00&lt;00:00, 1.55MB/s]"
          }
        },
        "78bd7351e5a44b67b3c5587ca6689f4e": {
          "model_module": "@jupyter-widgets/base",
          "model_name": "LayoutModel",
          "model_module_version": "1.2.0",
          "state": {
            "_model_module": "@jupyter-widgets/base",
            "_model_module_version": "1.2.0",
            "_model_name": "LayoutModel",
            "_view_count": null,
            "_view_module": "@jupyter-widgets/base",
            "_view_module_version": "1.2.0",
            "_view_name": "LayoutView",
            "align_content": null,
            "align_items": null,
            "align_self": null,
            "border": null,
            "bottom": null,
            "display": null,
            "flex": null,
            "flex_flow": null,
            "grid_area": null,
            "grid_auto_columns": null,
            "grid_auto_flow": null,
            "grid_auto_rows": null,
            "grid_column": null,
            "grid_gap": null,
            "grid_row": null,
            "grid_template_areas": null,
            "grid_template_columns": null,
            "grid_template_rows": null,
            "height": null,
            "justify_content": null,
            "justify_items": null,
            "left": null,
            "margin": null,
            "max_height": null,
            "max_width": null,
            "min_height": null,
            "min_width": null,
            "object_fit": null,
            "object_position": null,
            "order": null,
            "overflow": null,
            "overflow_x": null,
            "overflow_y": null,
            "padding": null,
            "right": null,
            "top": null,
            "visibility": null,
            "width": null
          }
        },
        "25cee8ec3f854743a3908f3ce770194c": {
          "model_module": "@jupyter-widgets/base",
          "model_name": "LayoutModel",
          "model_module_version": "1.2.0",
          "state": {
            "_model_module": "@jupyter-widgets/base",
            "_model_module_version": "1.2.0",
            "_model_name": "LayoutModel",
            "_view_count": null,
            "_view_module": "@jupyter-widgets/base",
            "_view_module_version": "1.2.0",
            "_view_name": "LayoutView",
            "align_content": null,
            "align_items": null,
            "align_self": null,
            "border": null,
            "bottom": null,
            "display": null,
            "flex": null,
            "flex_flow": null,
            "grid_area": null,
            "grid_auto_columns": null,
            "grid_auto_flow": null,
            "grid_auto_rows": null,
            "grid_column": null,
            "grid_gap": null,
            "grid_row": null,
            "grid_template_areas": null,
            "grid_template_columns": null,
            "grid_template_rows": null,
            "height": null,
            "justify_content": null,
            "justify_items": null,
            "left": null,
            "margin": null,
            "max_height": null,
            "max_width": null,
            "min_height": null,
            "min_width": null,
            "object_fit": null,
            "object_position": null,
            "order": null,
            "overflow": null,
            "overflow_x": null,
            "overflow_y": null,
            "padding": null,
            "right": null,
            "top": null,
            "visibility": null,
            "width": null
          }
        },
        "16412652589d4149bdb6dd593f166ae5": {
          "model_module": "@jupyter-widgets/controls",
          "model_name": "DescriptionStyleModel",
          "model_module_version": "1.5.0",
          "state": {
            "_model_module": "@jupyter-widgets/controls",
            "_model_module_version": "1.5.0",
            "_model_name": "DescriptionStyleModel",
            "_view_count": null,
            "_view_module": "@jupyter-widgets/base",
            "_view_module_version": "1.2.0",
            "_view_name": "StyleView",
            "description_width": ""
          }
        },
        "afd520fa96bd4c87abf49845c42c9552": {
          "model_module": "@jupyter-widgets/base",
          "model_name": "LayoutModel",
          "model_module_version": "1.2.0",
          "state": {
            "_model_module": "@jupyter-widgets/base",
            "_model_module_version": "1.2.0",
            "_model_name": "LayoutModel",
            "_view_count": null,
            "_view_module": "@jupyter-widgets/base",
            "_view_module_version": "1.2.0",
            "_view_name": "LayoutView",
            "align_content": null,
            "align_items": null,
            "align_self": null,
            "border": null,
            "bottom": null,
            "display": null,
            "flex": null,
            "flex_flow": null,
            "grid_area": null,
            "grid_auto_columns": null,
            "grid_auto_flow": null,
            "grid_auto_rows": null,
            "grid_column": null,
            "grid_gap": null,
            "grid_row": null,
            "grid_template_areas": null,
            "grid_template_columns": null,
            "grid_template_rows": null,
            "height": null,
            "justify_content": null,
            "justify_items": null,
            "left": null,
            "margin": null,
            "max_height": null,
            "max_width": null,
            "min_height": null,
            "min_width": null,
            "object_fit": null,
            "object_position": null,
            "order": null,
            "overflow": null,
            "overflow_x": null,
            "overflow_y": null,
            "padding": null,
            "right": null,
            "top": null,
            "visibility": null,
            "width": null
          }
        },
        "fe64fd4e12d048dd9491783e38aab60f": {
          "model_module": "@jupyter-widgets/controls",
          "model_name": "ProgressStyleModel",
          "model_module_version": "1.5.0",
          "state": {
            "_model_module": "@jupyter-widgets/controls",
            "_model_module_version": "1.5.0",
            "_model_name": "ProgressStyleModel",
            "_view_count": null,
            "_view_module": "@jupyter-widgets/base",
            "_view_module_version": "1.2.0",
            "_view_name": "StyleView",
            "bar_color": null,
            "description_width": ""
          }
        },
        "ce139b197f5c4d3c9046de7f3c1577ec": {
          "model_module": "@jupyter-widgets/base",
          "model_name": "LayoutModel",
          "model_module_version": "1.2.0",
          "state": {
            "_model_module": "@jupyter-widgets/base",
            "_model_module_version": "1.2.0",
            "_model_name": "LayoutModel",
            "_view_count": null,
            "_view_module": "@jupyter-widgets/base",
            "_view_module_version": "1.2.0",
            "_view_name": "LayoutView",
            "align_content": null,
            "align_items": null,
            "align_self": null,
            "border": null,
            "bottom": null,
            "display": null,
            "flex": null,
            "flex_flow": null,
            "grid_area": null,
            "grid_auto_columns": null,
            "grid_auto_flow": null,
            "grid_auto_rows": null,
            "grid_column": null,
            "grid_gap": null,
            "grid_row": null,
            "grid_template_areas": null,
            "grid_template_columns": null,
            "grid_template_rows": null,
            "height": null,
            "justify_content": null,
            "justify_items": null,
            "left": null,
            "margin": null,
            "max_height": null,
            "max_width": null,
            "min_height": null,
            "min_width": null,
            "object_fit": null,
            "object_position": null,
            "order": null,
            "overflow": null,
            "overflow_x": null,
            "overflow_y": null,
            "padding": null,
            "right": null,
            "top": null,
            "visibility": null,
            "width": null
          }
        },
        "fa56ac0c247448248afb1c45fcc1f06d": {
          "model_module": "@jupyter-widgets/controls",
          "model_name": "DescriptionStyleModel",
          "model_module_version": "1.5.0",
          "state": {
            "_model_module": "@jupyter-widgets/controls",
            "_model_module_version": "1.5.0",
            "_model_name": "DescriptionStyleModel",
            "_view_count": null,
            "_view_module": "@jupyter-widgets/base",
            "_view_module_version": "1.2.0",
            "_view_name": "StyleView",
            "description_width": ""
          }
        },
        "5108bb09d9a3466fb2e626c8ca3ca9f8": {
          "model_module": "@jupyter-widgets/controls",
          "model_name": "HBoxModel",
          "model_module_version": "1.5.0",
          "state": {
            "_dom_classes": [],
            "_model_module": "@jupyter-widgets/controls",
            "_model_module_version": "1.5.0",
            "_model_name": "HBoxModel",
            "_view_count": null,
            "_view_module": "@jupyter-widgets/controls",
            "_view_module_version": "1.5.0",
            "_view_name": "HBoxView",
            "box_style": "",
            "children": [
              "IPY_MODEL_c22cfa61adc84590a295b82996796ab0",
              "IPY_MODEL_71ce73e1e0df485bb18f720ec98d1cec",
              "IPY_MODEL_85db82830c66422ba90bca5950772f7e"
            ],
            "layout": "IPY_MODEL_55d5572e6923497992a5cd17cd7b46ce"
          }
        },
        "c22cfa61adc84590a295b82996796ab0": {
          "model_module": "@jupyter-widgets/controls",
          "model_name": "HTMLModel",
          "model_module_version": "1.5.0",
          "state": {
            "_dom_classes": [],
            "_model_module": "@jupyter-widgets/controls",
            "_model_module_version": "1.5.0",
            "_model_name": "HTMLModel",
            "_view_count": null,
            "_view_module": "@jupyter-widgets/controls",
            "_view_module_version": "1.5.0",
            "_view_name": "HTMLView",
            "description": "",
            "description_tooltip": null,
            "layout": "IPY_MODEL_41e7129e00dd410f8f02341e332a7127",
            "placeholder": "​",
            "style": "IPY_MODEL_8fb7d9c85b5843c1b083427f769eb174",
            "value": "Downloading: 100%"
          }
        },
        "71ce73e1e0df485bb18f720ec98d1cec": {
          "model_module": "@jupyter-widgets/controls",
          "model_name": "FloatProgressModel",
          "model_module_version": "1.5.0",
          "state": {
            "_dom_classes": [],
            "_model_module": "@jupyter-widgets/controls",
            "_model_module_version": "1.5.0",
            "_model_name": "FloatProgressModel",
            "_view_count": null,
            "_view_module": "@jupyter-widgets/controls",
            "_view_module_version": "1.5.0",
            "_view_name": "ProgressView",
            "bar_style": "success",
            "description": "",
            "description_tooltip": null,
            "layout": "IPY_MODEL_c057fdc0b10e4186a5adb1341fb12d0d",
            "max": 1343,
            "min": 0,
            "orientation": "horizontal",
            "style": "IPY_MODEL_c3240111d60242f6b0ac31cfa343edbb",
            "value": 1343
          }
        },
        "85db82830c66422ba90bca5950772f7e": {
          "model_module": "@jupyter-widgets/controls",
          "model_name": "HTMLModel",
          "model_module_version": "1.5.0",
          "state": {
            "_dom_classes": [],
            "_model_module": "@jupyter-widgets/controls",
            "_model_module_version": "1.5.0",
            "_model_name": "HTMLModel",
            "_view_count": null,
            "_view_module": "@jupyter-widgets/controls",
            "_view_module_version": "1.5.0",
            "_view_name": "HTMLView",
            "description": "",
            "description_tooltip": null,
            "layout": "IPY_MODEL_199415810ca64537b7e788f406012466",
            "placeholder": "​",
            "style": "IPY_MODEL_f926a07f44414b8faca564f056a12fb8",
            "value": " 1.31k/1.31k [00:00&lt;00:00, 24.1kB/s]"
          }
        },
        "55d5572e6923497992a5cd17cd7b46ce": {
          "model_module": "@jupyter-widgets/base",
          "model_name": "LayoutModel",
          "model_module_version": "1.2.0",
          "state": {
            "_model_module": "@jupyter-widgets/base",
            "_model_module_version": "1.2.0",
            "_model_name": "LayoutModel",
            "_view_count": null,
            "_view_module": "@jupyter-widgets/base",
            "_view_module_version": "1.2.0",
            "_view_name": "LayoutView",
            "align_content": null,
            "align_items": null,
            "align_self": null,
            "border": null,
            "bottom": null,
            "display": null,
            "flex": null,
            "flex_flow": null,
            "grid_area": null,
            "grid_auto_columns": null,
            "grid_auto_flow": null,
            "grid_auto_rows": null,
            "grid_column": null,
            "grid_gap": null,
            "grid_row": null,
            "grid_template_areas": null,
            "grid_template_columns": null,
            "grid_template_rows": null,
            "height": null,
            "justify_content": null,
            "justify_items": null,
            "left": null,
            "margin": null,
            "max_height": null,
            "max_width": null,
            "min_height": null,
            "min_width": null,
            "object_fit": null,
            "object_position": null,
            "order": null,
            "overflow": null,
            "overflow_x": null,
            "overflow_y": null,
            "padding": null,
            "right": null,
            "top": null,
            "visibility": null,
            "width": null
          }
        },
        "41e7129e00dd410f8f02341e332a7127": {
          "model_module": "@jupyter-widgets/base",
          "model_name": "LayoutModel",
          "model_module_version": "1.2.0",
          "state": {
            "_model_module": "@jupyter-widgets/base",
            "_model_module_version": "1.2.0",
            "_model_name": "LayoutModel",
            "_view_count": null,
            "_view_module": "@jupyter-widgets/base",
            "_view_module_version": "1.2.0",
            "_view_name": "LayoutView",
            "align_content": null,
            "align_items": null,
            "align_self": null,
            "border": null,
            "bottom": null,
            "display": null,
            "flex": null,
            "flex_flow": null,
            "grid_area": null,
            "grid_auto_columns": null,
            "grid_auto_flow": null,
            "grid_auto_rows": null,
            "grid_column": null,
            "grid_gap": null,
            "grid_row": null,
            "grid_template_areas": null,
            "grid_template_columns": null,
            "grid_template_rows": null,
            "height": null,
            "justify_content": null,
            "justify_items": null,
            "left": null,
            "margin": null,
            "max_height": null,
            "max_width": null,
            "min_height": null,
            "min_width": null,
            "object_fit": null,
            "object_position": null,
            "order": null,
            "overflow": null,
            "overflow_x": null,
            "overflow_y": null,
            "padding": null,
            "right": null,
            "top": null,
            "visibility": null,
            "width": null
          }
        },
        "8fb7d9c85b5843c1b083427f769eb174": {
          "model_module": "@jupyter-widgets/controls",
          "model_name": "DescriptionStyleModel",
          "model_module_version": "1.5.0",
          "state": {
            "_model_module": "@jupyter-widgets/controls",
            "_model_module_version": "1.5.0",
            "_model_name": "DescriptionStyleModel",
            "_view_count": null,
            "_view_module": "@jupyter-widgets/base",
            "_view_module_version": "1.2.0",
            "_view_name": "StyleView",
            "description_width": ""
          }
        },
        "c057fdc0b10e4186a5adb1341fb12d0d": {
          "model_module": "@jupyter-widgets/base",
          "model_name": "LayoutModel",
          "model_module_version": "1.2.0",
          "state": {
            "_model_module": "@jupyter-widgets/base",
            "_model_module_version": "1.2.0",
            "_model_name": "LayoutModel",
            "_view_count": null,
            "_view_module": "@jupyter-widgets/base",
            "_view_module_version": "1.2.0",
            "_view_name": "LayoutView",
            "align_content": null,
            "align_items": null,
            "align_self": null,
            "border": null,
            "bottom": null,
            "display": null,
            "flex": null,
            "flex_flow": null,
            "grid_area": null,
            "grid_auto_columns": null,
            "grid_auto_flow": null,
            "grid_auto_rows": null,
            "grid_column": null,
            "grid_gap": null,
            "grid_row": null,
            "grid_template_areas": null,
            "grid_template_columns": null,
            "grid_template_rows": null,
            "height": null,
            "justify_content": null,
            "justify_items": null,
            "left": null,
            "margin": null,
            "max_height": null,
            "max_width": null,
            "min_height": null,
            "min_width": null,
            "object_fit": null,
            "object_position": null,
            "order": null,
            "overflow": null,
            "overflow_x": null,
            "overflow_y": null,
            "padding": null,
            "right": null,
            "top": null,
            "visibility": null,
            "width": null
          }
        },
        "c3240111d60242f6b0ac31cfa343edbb": {
          "model_module": "@jupyter-widgets/controls",
          "model_name": "ProgressStyleModel",
          "model_module_version": "1.5.0",
          "state": {
            "_model_module": "@jupyter-widgets/controls",
            "_model_module_version": "1.5.0",
            "_model_name": "ProgressStyleModel",
            "_view_count": null,
            "_view_module": "@jupyter-widgets/base",
            "_view_module_version": "1.2.0",
            "_view_name": "StyleView",
            "bar_color": null,
            "description_width": ""
          }
        },
        "199415810ca64537b7e788f406012466": {
          "model_module": "@jupyter-widgets/base",
          "model_name": "LayoutModel",
          "model_module_version": "1.2.0",
          "state": {
            "_model_module": "@jupyter-widgets/base",
            "_model_module_version": "1.2.0",
            "_model_name": "LayoutModel",
            "_view_count": null,
            "_view_module": "@jupyter-widgets/base",
            "_view_module_version": "1.2.0",
            "_view_name": "LayoutView",
            "align_content": null,
            "align_items": null,
            "align_self": null,
            "border": null,
            "bottom": null,
            "display": null,
            "flex": null,
            "flex_flow": null,
            "grid_area": null,
            "grid_auto_columns": null,
            "grid_auto_flow": null,
            "grid_auto_rows": null,
            "grid_column": null,
            "grid_gap": null,
            "grid_row": null,
            "grid_template_areas": null,
            "grid_template_columns": null,
            "grid_template_rows": null,
            "height": null,
            "justify_content": null,
            "justify_items": null,
            "left": null,
            "margin": null,
            "max_height": null,
            "max_width": null,
            "min_height": null,
            "min_width": null,
            "object_fit": null,
            "object_position": null,
            "order": null,
            "overflow": null,
            "overflow_x": null,
            "overflow_y": null,
            "padding": null,
            "right": null,
            "top": null,
            "visibility": null,
            "width": null
          }
        },
        "f926a07f44414b8faca564f056a12fb8": {
          "model_module": "@jupyter-widgets/controls",
          "model_name": "DescriptionStyleModel",
          "model_module_version": "1.5.0",
          "state": {
            "_model_module": "@jupyter-widgets/controls",
            "_model_module_version": "1.5.0",
            "_model_name": "DescriptionStyleModel",
            "_view_count": null,
            "_view_module": "@jupyter-widgets/base",
            "_view_module_version": "1.2.0",
            "_view_name": "StyleView",
            "description_width": ""
          }
        },
        "bb2b681057b34d2db0b0604ae206e108": {
          "model_module": "@jupyter-widgets/controls",
          "model_name": "HBoxModel",
          "model_module_version": "1.5.0",
          "state": {
            "_dom_classes": [],
            "_model_module": "@jupyter-widgets/controls",
            "_model_module_version": "1.5.0",
            "_model_name": "HBoxModel",
            "_view_count": null,
            "_view_module": "@jupyter-widgets/controls",
            "_view_module_version": "1.5.0",
            "_view_name": "HBoxView",
            "box_style": "",
            "children": [
              "IPY_MODEL_25ffb5d6da754e0ba4182701f194fd6d",
              "IPY_MODEL_a49cb80a54504391a62eb563103340be",
              "IPY_MODEL_830e35569e674f6da3f987a4d5d67e13"
            ],
            "layout": "IPY_MODEL_8d10de9306de4efe9cc0faf79ed10342"
          }
        },
        "25ffb5d6da754e0ba4182701f194fd6d": {
          "model_module": "@jupyter-widgets/controls",
          "model_name": "HTMLModel",
          "model_module_version": "1.5.0",
          "state": {
            "_dom_classes": [],
            "_model_module": "@jupyter-widgets/controls",
            "_model_module_version": "1.5.0",
            "_model_name": "HTMLModel",
            "_view_count": null,
            "_view_module": "@jupyter-widgets/controls",
            "_view_module_version": "1.5.0",
            "_view_name": "HTMLView",
            "description": "",
            "description_tooltip": null,
            "layout": "IPY_MODEL_8ca8e5d0e1934ab080d79a8641dfda92",
            "placeholder": "​",
            "style": "IPY_MODEL_bfe29a436dcd4a5ea189fc9dc67343d6",
            "value": "Downloading: 100%"
          }
        },
        "a49cb80a54504391a62eb563103340be": {
          "model_module": "@jupyter-widgets/controls",
          "model_name": "FloatProgressModel",
          "model_module_version": "1.5.0",
          "state": {
            "_dom_classes": [],
            "_model_module": "@jupyter-widgets/controls",
            "_model_module_version": "1.5.0",
            "_model_name": "FloatProgressModel",
            "_view_count": null,
            "_view_module": "@jupyter-widgets/controls",
            "_view_module_version": "1.5.0",
            "_view_name": "ProgressView",
            "bar_style": "success",
            "description": "",
            "description_tooltip": null,
            "layout": "IPY_MODEL_4c3e6758a2d5486db5ea4b352c7d5914",
            "max": 312087523,
            "min": 0,
            "orientation": "horizontal",
            "style": "IPY_MODEL_4c3b67fe4ab44b8f836772608b0b5eef",
            "value": 312087523
          }
        },
        "830e35569e674f6da3f987a4d5d67e13": {
          "model_module": "@jupyter-widgets/controls",
          "model_name": "HTMLModel",
          "model_module_version": "1.5.0",
          "state": {
            "_dom_classes": [],
            "_model_module": "@jupyter-widgets/controls",
            "_model_module_version": "1.5.0",
            "_model_name": "HTMLModel",
            "_view_count": null,
            "_view_module": "@jupyter-widgets/controls",
            "_view_module_version": "1.5.0",
            "_view_name": "HTMLView",
            "description": "",
            "description_tooltip": null,
            "layout": "IPY_MODEL_c8efb4668170462a9affa732659cf76e",
            "placeholder": "​",
            "style": "IPY_MODEL_ccfb28fb67864aef9c3969b04eddefe9",
            "value": " 298M/298M [00:14&lt;00:00, 37.8MB/s]"
          }
        },
        "8d10de9306de4efe9cc0faf79ed10342": {
          "model_module": "@jupyter-widgets/base",
          "model_name": "LayoutModel",
          "model_module_version": "1.2.0",
          "state": {
            "_model_module": "@jupyter-widgets/base",
            "_model_module_version": "1.2.0",
            "_model_name": "LayoutModel",
            "_view_count": null,
            "_view_module": "@jupyter-widgets/base",
            "_view_module_version": "1.2.0",
            "_view_name": "LayoutView",
            "align_content": null,
            "align_items": null,
            "align_self": null,
            "border": null,
            "bottom": null,
            "display": null,
            "flex": null,
            "flex_flow": null,
            "grid_area": null,
            "grid_auto_columns": null,
            "grid_auto_flow": null,
            "grid_auto_rows": null,
            "grid_column": null,
            "grid_gap": null,
            "grid_row": null,
            "grid_template_areas": null,
            "grid_template_columns": null,
            "grid_template_rows": null,
            "height": null,
            "justify_content": null,
            "justify_items": null,
            "left": null,
            "margin": null,
            "max_height": null,
            "max_width": null,
            "min_height": null,
            "min_width": null,
            "object_fit": null,
            "object_position": null,
            "order": null,
            "overflow": null,
            "overflow_x": null,
            "overflow_y": null,
            "padding": null,
            "right": null,
            "top": null,
            "visibility": null,
            "width": null
          }
        },
        "8ca8e5d0e1934ab080d79a8641dfda92": {
          "model_module": "@jupyter-widgets/base",
          "model_name": "LayoutModel",
          "model_module_version": "1.2.0",
          "state": {
            "_model_module": "@jupyter-widgets/base",
            "_model_module_version": "1.2.0",
            "_model_name": "LayoutModel",
            "_view_count": null,
            "_view_module": "@jupyter-widgets/base",
            "_view_module_version": "1.2.0",
            "_view_name": "LayoutView",
            "align_content": null,
            "align_items": null,
            "align_self": null,
            "border": null,
            "bottom": null,
            "display": null,
            "flex": null,
            "flex_flow": null,
            "grid_area": null,
            "grid_auto_columns": null,
            "grid_auto_flow": null,
            "grid_auto_rows": null,
            "grid_column": null,
            "grid_gap": null,
            "grid_row": null,
            "grid_template_areas": null,
            "grid_template_columns": null,
            "grid_template_rows": null,
            "height": null,
            "justify_content": null,
            "justify_items": null,
            "left": null,
            "margin": null,
            "max_height": null,
            "max_width": null,
            "min_height": null,
            "min_width": null,
            "object_fit": null,
            "object_position": null,
            "order": null,
            "overflow": null,
            "overflow_x": null,
            "overflow_y": null,
            "padding": null,
            "right": null,
            "top": null,
            "visibility": null,
            "width": null
          }
        },
        "bfe29a436dcd4a5ea189fc9dc67343d6": {
          "model_module": "@jupyter-widgets/controls",
          "model_name": "DescriptionStyleModel",
          "model_module_version": "1.5.0",
          "state": {
            "_model_module": "@jupyter-widgets/controls",
            "_model_module_version": "1.5.0",
            "_model_name": "DescriptionStyleModel",
            "_view_count": null,
            "_view_module": "@jupyter-widgets/base",
            "_view_module_version": "1.2.0",
            "_view_name": "StyleView",
            "description_width": ""
          }
        },
        "4c3e6758a2d5486db5ea4b352c7d5914": {
          "model_module": "@jupyter-widgets/base",
          "model_name": "LayoutModel",
          "model_module_version": "1.2.0",
          "state": {
            "_model_module": "@jupyter-widgets/base",
            "_model_module_version": "1.2.0",
            "_model_name": "LayoutModel",
            "_view_count": null,
            "_view_module": "@jupyter-widgets/base",
            "_view_module_version": "1.2.0",
            "_view_name": "LayoutView",
            "align_content": null,
            "align_items": null,
            "align_self": null,
            "border": null,
            "bottom": null,
            "display": null,
            "flex": null,
            "flex_flow": null,
            "grid_area": null,
            "grid_auto_columns": null,
            "grid_auto_flow": null,
            "grid_auto_rows": null,
            "grid_column": null,
            "grid_gap": null,
            "grid_row": null,
            "grid_template_areas": null,
            "grid_template_columns": null,
            "grid_template_rows": null,
            "height": null,
            "justify_content": null,
            "justify_items": null,
            "left": null,
            "margin": null,
            "max_height": null,
            "max_width": null,
            "min_height": null,
            "min_width": null,
            "object_fit": null,
            "object_position": null,
            "order": null,
            "overflow": null,
            "overflow_x": null,
            "overflow_y": null,
            "padding": null,
            "right": null,
            "top": null,
            "visibility": null,
            "width": null
          }
        },
        "4c3b67fe4ab44b8f836772608b0b5eef": {
          "model_module": "@jupyter-widgets/controls",
          "model_name": "ProgressStyleModel",
          "model_module_version": "1.5.0",
          "state": {
            "_model_module": "@jupyter-widgets/controls",
            "_model_module_version": "1.5.0",
            "_model_name": "ProgressStyleModel",
            "_view_count": null,
            "_view_module": "@jupyter-widgets/base",
            "_view_module_version": "1.2.0",
            "_view_name": "StyleView",
            "bar_color": null,
            "description_width": ""
          }
        },
        "c8efb4668170462a9affa732659cf76e": {
          "model_module": "@jupyter-widgets/base",
          "model_name": "LayoutModel",
          "model_module_version": "1.2.0",
          "state": {
            "_model_module": "@jupyter-widgets/base",
            "_model_module_version": "1.2.0",
            "_model_name": "LayoutModel",
            "_view_count": null,
            "_view_module": "@jupyter-widgets/base",
            "_view_module_version": "1.2.0",
            "_view_name": "LayoutView",
            "align_content": null,
            "align_items": null,
            "align_self": null,
            "border": null,
            "bottom": null,
            "display": null,
            "flex": null,
            "flex_flow": null,
            "grid_area": null,
            "grid_auto_columns": null,
            "grid_auto_flow": null,
            "grid_auto_rows": null,
            "grid_column": null,
            "grid_gap": null,
            "grid_row": null,
            "grid_template_areas": null,
            "grid_template_columns": null,
            "grid_template_rows": null,
            "height": null,
            "justify_content": null,
            "justify_items": null,
            "left": null,
            "margin": null,
            "max_height": null,
            "max_width": null,
            "min_height": null,
            "min_width": null,
            "object_fit": null,
            "object_position": null,
            "order": null,
            "overflow": null,
            "overflow_x": null,
            "overflow_y": null,
            "padding": null,
            "right": null,
            "top": null,
            "visibility": null,
            "width": null
          }
        },
        "ccfb28fb67864aef9c3969b04eddefe9": {
          "model_module": "@jupyter-widgets/controls",
          "model_name": "DescriptionStyleModel",
          "model_module_version": "1.5.0",
          "state": {
            "_model_module": "@jupyter-widgets/controls",
            "_model_module_version": "1.5.0",
            "_model_name": "DescriptionStyleModel",
            "_view_count": null,
            "_view_module": "@jupyter-widgets/base",
            "_view_module_version": "1.2.0",
            "_view_name": "StyleView",
            "description_width": ""
          }
        },
        "314e1cd909d24bd38c55664e01a7b76d": {
          "model_module": "@jupyter-widgets/controls",
          "model_name": "HBoxModel",
          "model_module_version": "1.5.0",
          "state": {
            "_dom_classes": [],
            "_model_module": "@jupyter-widgets/controls",
            "_model_module_version": "1.5.0",
            "_model_name": "HBoxModel",
            "_view_count": null,
            "_view_module": "@jupyter-widgets/controls",
            "_view_module_version": "1.5.0",
            "_view_name": "HBoxView",
            "box_style": "",
            "children": [
              "IPY_MODEL_51d0827929d3498b9885be54a7d56708",
              "IPY_MODEL_2b53f0d5a46a48ec955b85b5f12cf9ab",
              "IPY_MODEL_1a02f45c40b647a59ad7d35a72d882e3"
            ],
            "layout": "IPY_MODEL_5ea64e1ef7e84a6b9e5d319697af6cf3"
          }
        },
        "51d0827929d3498b9885be54a7d56708": {
          "model_module": "@jupyter-widgets/controls",
          "model_name": "HTMLModel",
          "model_module_version": "1.5.0",
          "state": {
            "_dom_classes": [],
            "_model_module": "@jupyter-widgets/controls",
            "_model_module_version": "1.5.0",
            "_model_name": "HTMLModel",
            "_view_count": null,
            "_view_module": "@jupyter-widgets/controls",
            "_view_module_version": "1.5.0",
            "_view_name": "HTMLView",
            "description": "",
            "description_tooltip": null,
            "layout": "IPY_MODEL_2904bdf3183e4dc8b89de85d349d8fae",
            "placeholder": "​",
            "style": "IPY_MODEL_aa193d921dc14eabbfea475e01494a45",
            "value": "Downloading: 100%"
          }
        },
        "2b53f0d5a46a48ec955b85b5f12cf9ab": {
          "model_module": "@jupyter-widgets/controls",
          "model_name": "FloatProgressModel",
          "model_module_version": "1.5.0",
          "state": {
            "_dom_classes": [],
            "_model_module": "@jupyter-widgets/controls",
            "_model_module_version": "1.5.0",
            "_model_name": "FloatProgressModel",
            "_view_count": null,
            "_view_module": "@jupyter-widgets/controls",
            "_view_module_version": "1.5.0",
            "_view_name": "ProgressView",
            "bar_style": "success",
            "description": "",
            "description_tooltip": null,
            "layout": "IPY_MODEL_c70ebf3729dd48e396819fac0e236556",
            "max": 801636,
            "min": 0,
            "orientation": "horizontal",
            "style": "IPY_MODEL_e1942c9249574b65ad956f6251014e4b",
            "value": 801636
          }
        },
        "1a02f45c40b647a59ad7d35a72d882e3": {
          "model_module": "@jupyter-widgets/controls",
          "model_name": "HTMLModel",
          "model_module_version": "1.5.0",
          "state": {
            "_dom_classes": [],
            "_model_module": "@jupyter-widgets/controls",
            "_model_module_version": "1.5.0",
            "_model_name": "HTMLModel",
            "_view_count": null,
            "_view_module": "@jupyter-widgets/controls",
            "_view_module_version": "1.5.0",
            "_view_name": "HTMLView",
            "description": "",
            "description_tooltip": null,
            "layout": "IPY_MODEL_db1980aa3e1a4c01a1bc77067289d5bc",
            "placeholder": "​",
            "style": "IPY_MODEL_7c518c1286624b8f9f0d80ba68b8969a",
            "value": " 783k/783k [00:00&lt;00:00, 1.39MB/s]"
          }
        },
        "5ea64e1ef7e84a6b9e5d319697af6cf3": {
          "model_module": "@jupyter-widgets/base",
          "model_name": "LayoutModel",
          "model_module_version": "1.2.0",
          "state": {
            "_model_module": "@jupyter-widgets/base",
            "_model_module_version": "1.2.0",
            "_model_name": "LayoutModel",
            "_view_count": null,
            "_view_module": "@jupyter-widgets/base",
            "_view_module_version": "1.2.0",
            "_view_name": "LayoutView",
            "align_content": null,
            "align_items": null,
            "align_self": null,
            "border": null,
            "bottom": null,
            "display": null,
            "flex": null,
            "flex_flow": null,
            "grid_area": null,
            "grid_auto_columns": null,
            "grid_auto_flow": null,
            "grid_auto_rows": null,
            "grid_column": null,
            "grid_gap": null,
            "grid_row": null,
            "grid_template_areas": null,
            "grid_template_columns": null,
            "grid_template_rows": null,
            "height": null,
            "justify_content": null,
            "justify_items": null,
            "left": null,
            "margin": null,
            "max_height": null,
            "max_width": null,
            "min_height": null,
            "min_width": null,
            "object_fit": null,
            "object_position": null,
            "order": null,
            "overflow": null,
            "overflow_x": null,
            "overflow_y": null,
            "padding": null,
            "right": null,
            "top": null,
            "visibility": null,
            "width": null
          }
        },
        "2904bdf3183e4dc8b89de85d349d8fae": {
          "model_module": "@jupyter-widgets/base",
          "model_name": "LayoutModel",
          "model_module_version": "1.2.0",
          "state": {
            "_model_module": "@jupyter-widgets/base",
            "_model_module_version": "1.2.0",
            "_model_name": "LayoutModel",
            "_view_count": null,
            "_view_module": "@jupyter-widgets/base",
            "_view_module_version": "1.2.0",
            "_view_name": "LayoutView",
            "align_content": null,
            "align_items": null,
            "align_self": null,
            "border": null,
            "bottom": null,
            "display": null,
            "flex": null,
            "flex_flow": null,
            "grid_area": null,
            "grid_auto_columns": null,
            "grid_auto_flow": null,
            "grid_auto_rows": null,
            "grid_column": null,
            "grid_gap": null,
            "grid_row": null,
            "grid_template_areas": null,
            "grid_template_columns": null,
            "grid_template_rows": null,
            "height": null,
            "justify_content": null,
            "justify_items": null,
            "left": null,
            "margin": null,
            "max_height": null,
            "max_width": null,
            "min_height": null,
            "min_width": null,
            "object_fit": null,
            "object_position": null,
            "order": null,
            "overflow": null,
            "overflow_x": null,
            "overflow_y": null,
            "padding": null,
            "right": null,
            "top": null,
            "visibility": null,
            "width": null
          }
        },
        "aa193d921dc14eabbfea475e01494a45": {
          "model_module": "@jupyter-widgets/controls",
          "model_name": "DescriptionStyleModel",
          "model_module_version": "1.5.0",
          "state": {
            "_model_module": "@jupyter-widgets/controls",
            "_model_module_version": "1.5.0",
            "_model_name": "DescriptionStyleModel",
            "_view_count": null,
            "_view_module": "@jupyter-widgets/base",
            "_view_module_version": "1.2.0",
            "_view_name": "StyleView",
            "description_width": ""
          }
        },
        "c70ebf3729dd48e396819fac0e236556": {
          "model_module": "@jupyter-widgets/base",
          "model_name": "LayoutModel",
          "model_module_version": "1.2.0",
          "state": {
            "_model_module": "@jupyter-widgets/base",
            "_model_module_version": "1.2.0",
            "_model_name": "LayoutModel",
            "_view_count": null,
            "_view_module": "@jupyter-widgets/base",
            "_view_module_version": "1.2.0",
            "_view_name": "LayoutView",
            "align_content": null,
            "align_items": null,
            "align_self": null,
            "border": null,
            "bottom": null,
            "display": null,
            "flex": null,
            "flex_flow": null,
            "grid_area": null,
            "grid_auto_columns": null,
            "grid_auto_flow": null,
            "grid_auto_rows": null,
            "grid_column": null,
            "grid_gap": null,
            "grid_row": null,
            "grid_template_areas": null,
            "grid_template_columns": null,
            "grid_template_rows": null,
            "height": null,
            "justify_content": null,
            "justify_items": null,
            "left": null,
            "margin": null,
            "max_height": null,
            "max_width": null,
            "min_height": null,
            "min_width": null,
            "object_fit": null,
            "object_position": null,
            "order": null,
            "overflow": null,
            "overflow_x": null,
            "overflow_y": null,
            "padding": null,
            "right": null,
            "top": null,
            "visibility": null,
            "width": null
          }
        },
        "e1942c9249574b65ad956f6251014e4b": {
          "model_module": "@jupyter-widgets/controls",
          "model_name": "ProgressStyleModel",
          "model_module_version": "1.5.0",
          "state": {
            "_model_module": "@jupyter-widgets/controls",
            "_model_module_version": "1.5.0",
            "_model_name": "ProgressStyleModel",
            "_view_count": null,
            "_view_module": "@jupyter-widgets/base",
            "_view_module_version": "1.2.0",
            "_view_name": "StyleView",
            "bar_color": null,
            "description_width": ""
          }
        },
        "db1980aa3e1a4c01a1bc77067289d5bc": {
          "model_module": "@jupyter-widgets/base",
          "model_name": "LayoutModel",
          "model_module_version": "1.2.0",
          "state": {
            "_model_module": "@jupyter-widgets/base",
            "_model_module_version": "1.2.0",
            "_model_name": "LayoutModel",
            "_view_count": null,
            "_view_module": "@jupyter-widgets/base",
            "_view_module_version": "1.2.0",
            "_view_name": "LayoutView",
            "align_content": null,
            "align_items": null,
            "align_self": null,
            "border": null,
            "bottom": null,
            "display": null,
            "flex": null,
            "flex_flow": null,
            "grid_area": null,
            "grid_auto_columns": null,
            "grid_auto_flow": null,
            "grid_auto_rows": null,
            "grid_column": null,
            "grid_gap": null,
            "grid_row": null,
            "grid_template_areas": null,
            "grid_template_columns": null,
            "grid_template_rows": null,
            "height": null,
            "justify_content": null,
            "justify_items": null,
            "left": null,
            "margin": null,
            "max_height": null,
            "max_width": null,
            "min_height": null,
            "min_width": null,
            "object_fit": null,
            "object_position": null,
            "order": null,
            "overflow": null,
            "overflow_x": null,
            "overflow_y": null,
            "padding": null,
            "right": null,
            "top": null,
            "visibility": null,
            "width": null
          }
        },
        "7c518c1286624b8f9f0d80ba68b8969a": {
          "model_module": "@jupyter-widgets/controls",
          "model_name": "DescriptionStyleModel",
          "model_module_version": "1.5.0",
          "state": {
            "_model_module": "@jupyter-widgets/controls",
            "_model_module_version": "1.5.0",
            "_model_name": "DescriptionStyleModel",
            "_view_count": null,
            "_view_module": "@jupyter-widgets/base",
            "_view_module_version": "1.2.0",
            "_view_name": "StyleView",
            "description_width": ""
          }
        },
        "c3c76083b9bd471db05500d6865c3ea9": {
          "model_module": "@jupyter-widgets/controls",
          "model_name": "HBoxModel",
          "model_module_version": "1.5.0",
          "state": {
            "_dom_classes": [],
            "_model_module": "@jupyter-widgets/controls",
            "_model_module_version": "1.5.0",
            "_model_name": "HBoxModel",
            "_view_count": null,
            "_view_module": "@jupyter-widgets/controls",
            "_view_module_version": "1.5.0",
            "_view_name": "HBoxView",
            "box_style": "",
            "children": [
              "IPY_MODEL_ea1e024e968f4ca78b4b3a674190a7ab",
              "IPY_MODEL_4842683eb43147b881fc754049f2025a",
              "IPY_MODEL_834d9dbfabf14e4a8aed1cd87273f94d"
            ],
            "layout": "IPY_MODEL_eb3faf8942024eef8c2f81689c8d46b8"
          }
        },
        "ea1e024e968f4ca78b4b3a674190a7ab": {
          "model_module": "@jupyter-widgets/controls",
          "model_name": "HTMLModel",
          "model_module_version": "1.5.0",
          "state": {
            "_dom_classes": [],
            "_model_module": "@jupyter-widgets/controls",
            "_model_module_version": "1.5.0",
            "_model_name": "HTMLModel",
            "_view_count": null,
            "_view_module": "@jupyter-widgets/controls",
            "_view_module_version": "1.5.0",
            "_view_name": "HTMLView",
            "description": "",
            "description_tooltip": null,
            "layout": "IPY_MODEL_2e63fd7352dd469cb59fbefa1559a064",
            "placeholder": "​",
            "style": "IPY_MODEL_934a752845b24c82914eb85852561e45",
            "value": "Downloading: 100%"
          }
        },
        "4842683eb43147b881fc754049f2025a": {
          "model_module": "@jupyter-widgets/controls",
          "model_name": "FloatProgressModel",
          "model_module_version": "1.5.0",
          "state": {
            "_dom_classes": [],
            "_model_module": "@jupyter-widgets/controls",
            "_model_module_version": "1.5.0",
            "_model_name": "FloatProgressModel",
            "_view_count": null,
            "_view_module": "@jupyter-widgets/controls",
            "_view_module_version": "1.5.0",
            "_view_name": "ProgressView",
            "bar_style": "success",
            "description": "",
            "description_tooltip": null,
            "layout": "IPY_MODEL_156f7dd9261d469ab1457e0b5f9aca13",
            "max": 825924,
            "min": 0,
            "orientation": "horizontal",
            "style": "IPY_MODEL_d22fd76e47174753b06aad2406741081",
            "value": 825924
          }
        },
        "834d9dbfabf14e4a8aed1cd87273f94d": {
          "model_module": "@jupyter-widgets/controls",
          "model_name": "HTMLModel",
          "model_module_version": "1.5.0",
          "state": {
            "_dom_classes": [],
            "_model_module": "@jupyter-widgets/controls",
            "_model_module_version": "1.5.0",
            "_model_name": "HTMLModel",
            "_view_count": null,
            "_view_module": "@jupyter-widgets/controls",
            "_view_module_version": "1.5.0",
            "_view_name": "HTMLView",
            "description": "",
            "description_tooltip": null,
            "layout": "IPY_MODEL_65dd70cfc0f04378bfb1527f2142ac39",
            "placeholder": "​",
            "style": "IPY_MODEL_7b1ed4c50a54421fbe6bbaab6dd74182",
            "value": " 807k/807k [00:00&lt;00:00, 3.95MB/s]"
          }
        },
        "eb3faf8942024eef8c2f81689c8d46b8": {
          "model_module": "@jupyter-widgets/base",
          "model_name": "LayoutModel",
          "model_module_version": "1.2.0",
          "state": {
            "_model_module": "@jupyter-widgets/base",
            "_model_module_version": "1.2.0",
            "_model_name": "LayoutModel",
            "_view_count": null,
            "_view_module": "@jupyter-widgets/base",
            "_view_module_version": "1.2.0",
            "_view_name": "LayoutView",
            "align_content": null,
            "align_items": null,
            "align_self": null,
            "border": null,
            "bottom": null,
            "display": null,
            "flex": null,
            "flex_flow": null,
            "grid_area": null,
            "grid_auto_columns": null,
            "grid_auto_flow": null,
            "grid_auto_rows": null,
            "grid_column": null,
            "grid_gap": null,
            "grid_row": null,
            "grid_template_areas": null,
            "grid_template_columns": null,
            "grid_template_rows": null,
            "height": null,
            "justify_content": null,
            "justify_items": null,
            "left": null,
            "margin": null,
            "max_height": null,
            "max_width": null,
            "min_height": null,
            "min_width": null,
            "object_fit": null,
            "object_position": null,
            "order": null,
            "overflow": null,
            "overflow_x": null,
            "overflow_y": null,
            "padding": null,
            "right": null,
            "top": null,
            "visibility": null,
            "width": null
          }
        },
        "2e63fd7352dd469cb59fbefa1559a064": {
          "model_module": "@jupyter-widgets/base",
          "model_name": "LayoutModel",
          "model_module_version": "1.2.0",
          "state": {
            "_model_module": "@jupyter-widgets/base",
            "_model_module_version": "1.2.0",
            "_model_name": "LayoutModel",
            "_view_count": null,
            "_view_module": "@jupyter-widgets/base",
            "_view_module_version": "1.2.0",
            "_view_name": "LayoutView",
            "align_content": null,
            "align_items": null,
            "align_self": null,
            "border": null,
            "bottom": null,
            "display": null,
            "flex": null,
            "flex_flow": null,
            "grid_area": null,
            "grid_auto_columns": null,
            "grid_auto_flow": null,
            "grid_auto_rows": null,
            "grid_column": null,
            "grid_gap": null,
            "grid_row": null,
            "grid_template_areas": null,
            "grid_template_columns": null,
            "grid_template_rows": null,
            "height": null,
            "justify_content": null,
            "justify_items": null,
            "left": null,
            "margin": null,
            "max_height": null,
            "max_width": null,
            "min_height": null,
            "min_width": null,
            "object_fit": null,
            "object_position": null,
            "order": null,
            "overflow": null,
            "overflow_x": null,
            "overflow_y": null,
            "padding": null,
            "right": null,
            "top": null,
            "visibility": null,
            "width": null
          }
        },
        "934a752845b24c82914eb85852561e45": {
          "model_module": "@jupyter-widgets/controls",
          "model_name": "DescriptionStyleModel",
          "model_module_version": "1.5.0",
          "state": {
            "_model_module": "@jupyter-widgets/controls",
            "_model_module_version": "1.5.0",
            "_model_name": "DescriptionStyleModel",
            "_view_count": null,
            "_view_module": "@jupyter-widgets/base",
            "_view_module_version": "1.2.0",
            "_view_name": "StyleView",
            "description_width": ""
          }
        },
        "156f7dd9261d469ab1457e0b5f9aca13": {
          "model_module": "@jupyter-widgets/base",
          "model_name": "LayoutModel",
          "model_module_version": "1.2.0",
          "state": {
            "_model_module": "@jupyter-widgets/base",
            "_model_module_version": "1.2.0",
            "_model_name": "LayoutModel",
            "_view_count": null,
            "_view_module": "@jupyter-widgets/base",
            "_view_module_version": "1.2.0",
            "_view_name": "LayoutView",
            "align_content": null,
            "align_items": null,
            "align_self": null,
            "border": null,
            "bottom": null,
            "display": null,
            "flex": null,
            "flex_flow": null,
            "grid_area": null,
            "grid_auto_columns": null,
            "grid_auto_flow": null,
            "grid_auto_rows": null,
            "grid_column": null,
            "grid_gap": null,
            "grid_row": null,
            "grid_template_areas": null,
            "grid_template_columns": null,
            "grid_template_rows": null,
            "height": null,
            "justify_content": null,
            "justify_items": null,
            "left": null,
            "margin": null,
            "max_height": null,
            "max_width": null,
            "min_height": null,
            "min_width": null,
            "object_fit": null,
            "object_position": null,
            "order": null,
            "overflow": null,
            "overflow_x": null,
            "overflow_y": null,
            "padding": null,
            "right": null,
            "top": null,
            "visibility": null,
            "width": null
          }
        },
        "d22fd76e47174753b06aad2406741081": {
          "model_module": "@jupyter-widgets/controls",
          "model_name": "ProgressStyleModel",
          "model_module_version": "1.5.0",
          "state": {
            "_model_module": "@jupyter-widgets/controls",
            "_model_module_version": "1.5.0",
            "_model_name": "ProgressStyleModel",
            "_view_count": null,
            "_view_module": "@jupyter-widgets/base",
            "_view_module_version": "1.2.0",
            "_view_name": "StyleView",
            "bar_color": null,
            "description_width": ""
          }
        },
        "65dd70cfc0f04378bfb1527f2142ac39": {
          "model_module": "@jupyter-widgets/base",
          "model_name": "LayoutModel",
          "model_module_version": "1.2.0",
          "state": {
            "_model_module": "@jupyter-widgets/base",
            "_model_module_version": "1.2.0",
            "_model_name": "LayoutModel",
            "_view_count": null,
            "_view_module": "@jupyter-widgets/base",
            "_view_module_version": "1.2.0",
            "_view_name": "LayoutView",
            "align_content": null,
            "align_items": null,
            "align_self": null,
            "border": null,
            "bottom": null,
            "display": null,
            "flex": null,
            "flex_flow": null,
            "grid_area": null,
            "grid_auto_columns": null,
            "grid_auto_flow": null,
            "grid_auto_rows": null,
            "grid_column": null,
            "grid_gap": null,
            "grid_row": null,
            "grid_template_areas": null,
            "grid_template_columns": null,
            "grid_template_rows": null,
            "height": null,
            "justify_content": null,
            "justify_items": null,
            "left": null,
            "margin": null,
            "max_height": null,
            "max_width": null,
            "min_height": null,
            "min_width": null,
            "object_fit": null,
            "object_position": null,
            "order": null,
            "overflow": null,
            "overflow_x": null,
            "overflow_y": null,
            "padding": null,
            "right": null,
            "top": null,
            "visibility": null,
            "width": null
          }
        },
        "7b1ed4c50a54421fbe6bbaab6dd74182": {
          "model_module": "@jupyter-widgets/controls",
          "model_name": "DescriptionStyleModel",
          "model_module_version": "1.5.0",
          "state": {
            "_model_module": "@jupyter-widgets/controls",
            "_model_module_version": "1.5.0",
            "_model_name": "DescriptionStyleModel",
            "_view_count": null,
            "_view_module": "@jupyter-widgets/base",
            "_view_module_version": "1.2.0",
            "_view_name": "StyleView",
            "description_width": ""
          }
        },
        "37c69de50de045239c25324bbdf7c7af": {
          "model_module": "@jupyter-widgets/controls",
          "model_name": "HBoxModel",
          "model_module_version": "1.5.0",
          "state": {
            "_dom_classes": [],
            "_model_module": "@jupyter-widgets/controls",
            "_model_module_version": "1.5.0",
            "_model_name": "HBoxModel",
            "_view_count": null,
            "_view_module": "@jupyter-widgets/controls",
            "_view_module_version": "1.5.0",
            "_view_name": "HBoxView",
            "box_style": "",
            "children": [
              "IPY_MODEL_f0aa88dc5d344cb3a9c094632c19effa",
              "IPY_MODEL_8e50f99c88624cfcb8d6c077ed36ba11",
              "IPY_MODEL_985c676bcaad47529455999495bf6bed"
            ],
            "layout": "IPY_MODEL_540302993f2b4057be3405287b5a312b"
          }
        },
        "f0aa88dc5d344cb3a9c094632c19effa": {
          "model_module": "@jupyter-widgets/controls",
          "model_name": "HTMLModel",
          "model_module_version": "1.5.0",
          "state": {
            "_dom_classes": [],
            "_model_module": "@jupyter-widgets/controls",
            "_model_module_version": "1.5.0",
            "_model_name": "HTMLModel",
            "_view_count": null,
            "_view_module": "@jupyter-widgets/controls",
            "_view_module_version": "1.5.0",
            "_view_name": "HTMLView",
            "description": "",
            "description_tooltip": null,
            "layout": "IPY_MODEL_84cf5704e825479fa780d84de0ac8d6c",
            "placeholder": "​",
            "style": "IPY_MODEL_24b613f8a7334612911e327d5fc7a05d",
            "value": "Downloading: 100%"
          }
        },
        "8e50f99c88624cfcb8d6c077ed36ba11": {
          "model_module": "@jupyter-widgets/controls",
          "model_name": "FloatProgressModel",
          "model_module_version": "1.5.0",
          "state": {
            "_dom_classes": [],
            "_model_module": "@jupyter-widgets/controls",
            "_model_module_version": "1.5.0",
            "_model_name": "FloatProgressModel",
            "_view_count": null,
            "_view_module": "@jupyter-widgets/controls",
            "_view_module_version": "1.5.0",
            "_view_name": "ProgressView",
            "bar_style": "success",
            "description": "",
            "description_tooltip": null,
            "layout": "IPY_MODEL_3f2035a5b73c4934bdb25f194bfcad03",
            "max": 1590040,
            "min": 0,
            "orientation": "horizontal",
            "style": "IPY_MODEL_0839a1427e0c4a80b4498512412a34e8",
            "value": 1590040
          }
        },
        "985c676bcaad47529455999495bf6bed": {
          "model_module": "@jupyter-widgets/controls",
          "model_name": "HTMLModel",
          "model_module_version": "1.5.0",
          "state": {
            "_dom_classes": [],
            "_model_module": "@jupyter-widgets/controls",
            "_model_module_version": "1.5.0",
            "_model_name": "HTMLModel",
            "_view_count": null,
            "_view_module": "@jupyter-widgets/controls",
            "_view_module_version": "1.5.0",
            "_view_name": "HTMLView",
            "description": "",
            "description_tooltip": null,
            "layout": "IPY_MODEL_68f58fe6acd4474fa44761cd9e5a737b",
            "placeholder": "​",
            "style": "IPY_MODEL_cbe6698dd2be40469a22fa2b5ffdb570",
            "value": " 1.52M/1.52M [00:00&lt;00:00, 1.18MB/s]"
          }
        },
        "540302993f2b4057be3405287b5a312b": {
          "model_module": "@jupyter-widgets/base",
          "model_name": "LayoutModel",
          "model_module_version": "1.2.0",
          "state": {
            "_model_module": "@jupyter-widgets/base",
            "_model_module_version": "1.2.0",
            "_model_name": "LayoutModel",
            "_view_count": null,
            "_view_module": "@jupyter-widgets/base",
            "_view_module_version": "1.2.0",
            "_view_name": "LayoutView",
            "align_content": null,
            "align_items": null,
            "align_self": null,
            "border": null,
            "bottom": null,
            "display": null,
            "flex": null,
            "flex_flow": null,
            "grid_area": null,
            "grid_auto_columns": null,
            "grid_auto_flow": null,
            "grid_auto_rows": null,
            "grid_column": null,
            "grid_gap": null,
            "grid_row": null,
            "grid_template_areas": null,
            "grid_template_columns": null,
            "grid_template_rows": null,
            "height": null,
            "justify_content": null,
            "justify_items": null,
            "left": null,
            "margin": null,
            "max_height": null,
            "max_width": null,
            "min_height": null,
            "min_width": null,
            "object_fit": null,
            "object_position": null,
            "order": null,
            "overflow": null,
            "overflow_x": null,
            "overflow_y": null,
            "padding": null,
            "right": null,
            "top": null,
            "visibility": null,
            "width": null
          }
        },
        "84cf5704e825479fa780d84de0ac8d6c": {
          "model_module": "@jupyter-widgets/base",
          "model_name": "LayoutModel",
          "model_module_version": "1.2.0",
          "state": {
            "_model_module": "@jupyter-widgets/base",
            "_model_module_version": "1.2.0",
            "_model_name": "LayoutModel",
            "_view_count": null,
            "_view_module": "@jupyter-widgets/base",
            "_view_module_version": "1.2.0",
            "_view_name": "LayoutView",
            "align_content": null,
            "align_items": null,
            "align_self": null,
            "border": null,
            "bottom": null,
            "display": null,
            "flex": null,
            "flex_flow": null,
            "grid_area": null,
            "grid_auto_columns": null,
            "grid_auto_flow": null,
            "grid_auto_rows": null,
            "grid_column": null,
            "grid_gap": null,
            "grid_row": null,
            "grid_template_areas": null,
            "grid_template_columns": null,
            "grid_template_rows": null,
            "height": null,
            "justify_content": null,
            "justify_items": null,
            "left": null,
            "margin": null,
            "max_height": null,
            "max_width": null,
            "min_height": null,
            "min_width": null,
            "object_fit": null,
            "object_position": null,
            "order": null,
            "overflow": null,
            "overflow_x": null,
            "overflow_y": null,
            "padding": null,
            "right": null,
            "top": null,
            "visibility": null,
            "width": null
          }
        },
        "24b613f8a7334612911e327d5fc7a05d": {
          "model_module": "@jupyter-widgets/controls",
          "model_name": "DescriptionStyleModel",
          "model_module_version": "1.5.0",
          "state": {
            "_model_module": "@jupyter-widgets/controls",
            "_model_module_version": "1.5.0",
            "_model_name": "DescriptionStyleModel",
            "_view_count": null,
            "_view_module": "@jupyter-widgets/base",
            "_view_module_version": "1.2.0",
            "_view_name": "StyleView",
            "description_width": ""
          }
        },
        "3f2035a5b73c4934bdb25f194bfcad03": {
          "model_module": "@jupyter-widgets/base",
          "model_name": "LayoutModel",
          "model_module_version": "1.2.0",
          "state": {
            "_model_module": "@jupyter-widgets/base",
            "_model_module_version": "1.2.0",
            "_model_name": "LayoutModel",
            "_view_count": null,
            "_view_module": "@jupyter-widgets/base",
            "_view_module_version": "1.2.0",
            "_view_name": "LayoutView",
            "align_content": null,
            "align_items": null,
            "align_self": null,
            "border": null,
            "bottom": null,
            "display": null,
            "flex": null,
            "flex_flow": null,
            "grid_area": null,
            "grid_auto_columns": null,
            "grid_auto_flow": null,
            "grid_auto_rows": null,
            "grid_column": null,
            "grid_gap": null,
            "grid_row": null,
            "grid_template_areas": null,
            "grid_template_columns": null,
            "grid_template_rows": null,
            "height": null,
            "justify_content": null,
            "justify_items": null,
            "left": null,
            "margin": null,
            "max_height": null,
            "max_width": null,
            "min_height": null,
            "min_width": null,
            "object_fit": null,
            "object_position": null,
            "order": null,
            "overflow": null,
            "overflow_x": null,
            "overflow_y": null,
            "padding": null,
            "right": null,
            "top": null,
            "visibility": null,
            "width": null
          }
        },
        "0839a1427e0c4a80b4498512412a34e8": {
          "model_module": "@jupyter-widgets/controls",
          "model_name": "ProgressStyleModel",
          "model_module_version": "1.5.0",
          "state": {
            "_model_module": "@jupyter-widgets/controls",
            "_model_module_version": "1.5.0",
            "_model_name": "ProgressStyleModel",
            "_view_count": null,
            "_view_module": "@jupyter-widgets/base",
            "_view_module_version": "1.2.0",
            "_view_name": "StyleView",
            "bar_color": null,
            "description_width": ""
          }
        },
        "68f58fe6acd4474fa44761cd9e5a737b": {
          "model_module": "@jupyter-widgets/base",
          "model_name": "LayoutModel",
          "model_module_version": "1.2.0",
          "state": {
            "_model_module": "@jupyter-widgets/base",
            "_model_module_version": "1.2.0",
            "_model_name": "LayoutModel",
            "_view_count": null,
            "_view_module": "@jupyter-widgets/base",
            "_view_module_version": "1.2.0",
            "_view_name": "LayoutView",
            "align_content": null,
            "align_items": null,
            "align_self": null,
            "border": null,
            "bottom": null,
            "display": null,
            "flex": null,
            "flex_flow": null,
            "grid_area": null,
            "grid_auto_columns": null,
            "grid_auto_flow": null,
            "grid_auto_rows": null,
            "grid_column": null,
            "grid_gap": null,
            "grid_row": null,
            "grid_template_areas": null,
            "grid_template_columns": null,
            "grid_template_rows": null,
            "height": null,
            "justify_content": null,
            "justify_items": null,
            "left": null,
            "margin": null,
            "max_height": null,
            "max_width": null,
            "min_height": null,
            "min_width": null,
            "object_fit": null,
            "object_position": null,
            "order": null,
            "overflow": null,
            "overflow_x": null,
            "overflow_y": null,
            "padding": null,
            "right": null,
            "top": null,
            "visibility": null,
            "width": null
          }
        },
        "cbe6698dd2be40469a22fa2b5ffdb570": {
          "model_module": "@jupyter-widgets/controls",
          "model_name": "DescriptionStyleModel",
          "model_module_version": "1.5.0",
          "state": {
            "_model_module": "@jupyter-widgets/controls",
            "_model_module_version": "1.5.0",
            "_model_name": "DescriptionStyleModel",
            "_view_count": null,
            "_view_module": "@jupyter-widgets/base",
            "_view_module_version": "1.2.0",
            "_view_name": "StyleView",
            "description_width": ""
          }
        },
        "09bf67fb68d04f2bb963c258e93c640d": {
          "model_module": "@jupyter-widgets/controls",
          "model_name": "HBoxModel",
          "model_module_version": "1.5.0",
          "state": {
            "_dom_classes": [],
            "_model_module": "@jupyter-widgets/controls",
            "_model_module_version": "1.5.0",
            "_model_name": "HBoxModel",
            "_view_count": null,
            "_view_module": "@jupyter-widgets/controls",
            "_view_module_version": "1.5.0",
            "_view_name": "HBoxView",
            "box_style": "",
            "children": [
              "IPY_MODEL_8c896d68ddc8498481aa6125d045e838",
              "IPY_MODEL_b889412c6f274ce7b8c0e05cd65396ce",
              "IPY_MODEL_6c2a5fae1f7045bfa55afeb90e0c950a"
            ],
            "layout": "IPY_MODEL_633df985cb3f406db57505874f9aa0be"
          }
        },
        "8c896d68ddc8498481aa6125d045e838": {
          "model_module": "@jupyter-widgets/controls",
          "model_name": "HTMLModel",
          "model_module_version": "1.5.0",
          "state": {
            "_dom_classes": [],
            "_model_module": "@jupyter-widgets/controls",
            "_model_module_version": "1.5.0",
            "_model_name": "HTMLModel",
            "_view_count": null,
            "_view_module": "@jupyter-widgets/controls",
            "_view_module_version": "1.5.0",
            "_view_name": "HTMLView",
            "description": "",
            "description_tooltip": null,
            "layout": "IPY_MODEL_4be8e75d95cd47009cf688dc868a9d6f",
            "placeholder": "​",
            "style": "IPY_MODEL_0407a8b6d7b546a49e0a9c17fedd9334",
            "value": "Downloading: 100%"
          }
        },
        "b889412c6f274ce7b8c0e05cd65396ce": {
          "model_module": "@jupyter-widgets/controls",
          "model_name": "FloatProgressModel",
          "model_module_version": "1.5.0",
          "state": {
            "_dom_classes": [],
            "_model_module": "@jupyter-widgets/controls",
            "_model_module_version": "1.5.0",
            "_model_name": "FloatProgressModel",
            "_view_count": null,
            "_view_module": "@jupyter-widgets/controls",
            "_view_module_version": "1.5.0",
            "_view_name": "ProgressView",
            "bar_style": "success",
            "description": "",
            "description_tooltip": null,
            "layout": "IPY_MODEL_de7852f94f784c5da258516325d75948",
            "max": 44,
            "min": 0,
            "orientation": "horizontal",
            "style": "IPY_MODEL_f90f290c89f64c2c8d8ef5c514856636",
            "value": 44
          }
        },
        "6c2a5fae1f7045bfa55afeb90e0c950a": {
          "model_module": "@jupyter-widgets/controls",
          "model_name": "HTMLModel",
          "model_module_version": "1.5.0",
          "state": {
            "_dom_classes": [],
            "_model_module": "@jupyter-widgets/controls",
            "_model_module_version": "1.5.0",
            "_model_name": "HTMLModel",
            "_view_count": null,
            "_view_module": "@jupyter-widgets/controls",
            "_view_module_version": "1.5.0",
            "_view_name": "HTMLView",
            "description": "",
            "description_tooltip": null,
            "layout": "IPY_MODEL_fd66176aad9046038b79f726072ad912",
            "placeholder": "​",
            "style": "IPY_MODEL_c068107f8873469ba2e5b39f9fd9b053",
            "value": " 44.0/44.0 [00:00&lt;00:00, 964B/s]"
          }
        },
        "633df985cb3f406db57505874f9aa0be": {
          "model_module": "@jupyter-widgets/base",
          "model_name": "LayoutModel",
          "model_module_version": "1.2.0",
          "state": {
            "_model_module": "@jupyter-widgets/base",
            "_model_module_version": "1.2.0",
            "_model_name": "LayoutModel",
            "_view_count": null,
            "_view_module": "@jupyter-widgets/base",
            "_view_module_version": "1.2.0",
            "_view_name": "LayoutView",
            "align_content": null,
            "align_items": null,
            "align_self": null,
            "border": null,
            "bottom": null,
            "display": null,
            "flex": null,
            "flex_flow": null,
            "grid_area": null,
            "grid_auto_columns": null,
            "grid_auto_flow": null,
            "grid_auto_rows": null,
            "grid_column": null,
            "grid_gap": null,
            "grid_row": null,
            "grid_template_areas": null,
            "grid_template_columns": null,
            "grid_template_rows": null,
            "height": null,
            "justify_content": null,
            "justify_items": null,
            "left": null,
            "margin": null,
            "max_height": null,
            "max_width": null,
            "min_height": null,
            "min_width": null,
            "object_fit": null,
            "object_position": null,
            "order": null,
            "overflow": null,
            "overflow_x": null,
            "overflow_y": null,
            "padding": null,
            "right": null,
            "top": null,
            "visibility": null,
            "width": null
          }
        },
        "4be8e75d95cd47009cf688dc868a9d6f": {
          "model_module": "@jupyter-widgets/base",
          "model_name": "LayoutModel",
          "model_module_version": "1.2.0",
          "state": {
            "_model_module": "@jupyter-widgets/base",
            "_model_module_version": "1.2.0",
            "_model_name": "LayoutModel",
            "_view_count": null,
            "_view_module": "@jupyter-widgets/base",
            "_view_module_version": "1.2.0",
            "_view_name": "LayoutView",
            "align_content": null,
            "align_items": null,
            "align_self": null,
            "border": null,
            "bottom": null,
            "display": null,
            "flex": null,
            "flex_flow": null,
            "grid_area": null,
            "grid_auto_columns": null,
            "grid_auto_flow": null,
            "grid_auto_rows": null,
            "grid_column": null,
            "grid_gap": null,
            "grid_row": null,
            "grid_template_areas": null,
            "grid_template_columns": null,
            "grid_template_rows": null,
            "height": null,
            "justify_content": null,
            "justify_items": null,
            "left": null,
            "margin": null,
            "max_height": null,
            "max_width": null,
            "min_height": null,
            "min_width": null,
            "object_fit": null,
            "object_position": null,
            "order": null,
            "overflow": null,
            "overflow_x": null,
            "overflow_y": null,
            "padding": null,
            "right": null,
            "top": null,
            "visibility": null,
            "width": null
          }
        },
        "0407a8b6d7b546a49e0a9c17fedd9334": {
          "model_module": "@jupyter-widgets/controls",
          "model_name": "DescriptionStyleModel",
          "model_module_version": "1.5.0",
          "state": {
            "_model_module": "@jupyter-widgets/controls",
            "_model_module_version": "1.5.0",
            "_model_name": "DescriptionStyleModel",
            "_view_count": null,
            "_view_module": "@jupyter-widgets/base",
            "_view_module_version": "1.2.0",
            "_view_name": "StyleView",
            "description_width": ""
          }
        },
        "de7852f94f784c5da258516325d75948": {
          "model_module": "@jupyter-widgets/base",
          "model_name": "LayoutModel",
          "model_module_version": "1.2.0",
          "state": {
            "_model_module": "@jupyter-widgets/base",
            "_model_module_version": "1.2.0",
            "_model_name": "LayoutModel",
            "_view_count": null,
            "_view_module": "@jupyter-widgets/base",
            "_view_module_version": "1.2.0",
            "_view_name": "LayoutView",
            "align_content": null,
            "align_items": null,
            "align_self": null,
            "border": null,
            "bottom": null,
            "display": null,
            "flex": null,
            "flex_flow": null,
            "grid_area": null,
            "grid_auto_columns": null,
            "grid_auto_flow": null,
            "grid_auto_rows": null,
            "grid_column": null,
            "grid_gap": null,
            "grid_row": null,
            "grid_template_areas": null,
            "grid_template_columns": null,
            "grid_template_rows": null,
            "height": null,
            "justify_content": null,
            "justify_items": null,
            "left": null,
            "margin": null,
            "max_height": null,
            "max_width": null,
            "min_height": null,
            "min_width": null,
            "object_fit": null,
            "object_position": null,
            "order": null,
            "overflow": null,
            "overflow_x": null,
            "overflow_y": null,
            "padding": null,
            "right": null,
            "top": null,
            "visibility": null,
            "width": null
          }
        },
        "f90f290c89f64c2c8d8ef5c514856636": {
          "model_module": "@jupyter-widgets/controls",
          "model_name": "ProgressStyleModel",
          "model_module_version": "1.5.0",
          "state": {
            "_model_module": "@jupyter-widgets/controls",
            "_model_module_version": "1.5.0",
            "_model_name": "ProgressStyleModel",
            "_view_count": null,
            "_view_module": "@jupyter-widgets/base",
            "_view_module_version": "1.2.0",
            "_view_name": "StyleView",
            "bar_color": null,
            "description_width": ""
          }
        },
        "fd66176aad9046038b79f726072ad912": {
          "model_module": "@jupyter-widgets/base",
          "model_name": "LayoutModel",
          "model_module_version": "1.2.0",
          "state": {
            "_model_module": "@jupyter-widgets/base",
            "_model_module_version": "1.2.0",
            "_model_name": "LayoutModel",
            "_view_count": null,
            "_view_module": "@jupyter-widgets/base",
            "_view_module_version": "1.2.0",
            "_view_name": "LayoutView",
            "align_content": null,
            "align_items": null,
            "align_self": null,
            "border": null,
            "bottom": null,
            "display": null,
            "flex": null,
            "flex_flow": null,
            "grid_area": null,
            "grid_auto_columns": null,
            "grid_auto_flow": null,
            "grid_auto_rows": null,
            "grid_column": null,
            "grid_gap": null,
            "grid_row": null,
            "grid_template_areas": null,
            "grid_template_columns": null,
            "grid_template_rows": null,
            "height": null,
            "justify_content": null,
            "justify_items": null,
            "left": null,
            "margin": null,
            "max_height": null,
            "max_width": null,
            "min_height": null,
            "min_width": null,
            "object_fit": null,
            "object_position": null,
            "order": null,
            "overflow": null,
            "overflow_x": null,
            "overflow_y": null,
            "padding": null,
            "right": null,
            "top": null,
            "visibility": null,
            "width": null
          }
        },
        "c068107f8873469ba2e5b39f9fd9b053": {
          "model_module": "@jupyter-widgets/controls",
          "model_name": "DescriptionStyleModel",
          "model_module_version": "1.5.0",
          "state": {
            "_model_module": "@jupyter-widgets/controls",
            "_model_module_version": "1.5.0",
            "_model_name": "DescriptionStyleModel",
            "_view_count": null,
            "_view_module": "@jupyter-widgets/base",
            "_view_module_version": "1.2.0",
            "_view_name": "StyleView",
            "description_width": ""
          }
        }
      }
    }
  },
  "cells": [
    {
      "cell_type": "markdown",
      "source": [
        "[![Open In Colab](https://colab.research.google.com/assets/colab-badge.svg)](https://colab.research.google.com/github/MaxMitre/Algebra_Lineal/blob/main/semana6/Textrank.ipynb)"
      ],
      "metadata": {
        "id": "xD-f3h4j-lV0"
      }
    },
    {
      "cell_type": "markdown",
      "metadata": {
        "id": "ccYq5VAqlz-T"
      },
      "source": [
        "## Implementación de TextRank para la obtención de resúmenes"
      ]
    },
    {
      "cell_type": "markdown",
      "metadata": {
        "id": "QkXRhT3nlsuC"
      },
      "source": [
        "En este Notebook se implementará TextRank para obtener un resumen con las oraciones clave de todo un texto."
      ]
    },
    {
      "cell_type": "markdown",
      "metadata": {
        "id": "CDdVl3jFU6pW"
      },
      "source": [
        "# Dependencias"
      ]
    },
    {
      "cell_type": "code",
      "metadata": {
        "id": "m5panRZIU04F"
      },
      "source": [
        "%%capture\n",
        "!pip install wikipedia git+https://github.com/neuml/txtai#egg=txtai[pipeline]"
      ],
      "execution_count": null,
      "outputs": []
    },
    {
      "cell_type": "code",
      "source": [
        "# PUEDE ser necesario utilizar una versión anterior de pillow\n",
        "!pip install Pillow==9.0.0"
      ],
      "metadata": {
        "colab": {
          "base_uri": "https://localhost:8080/",
          "height": 315
        },
        "id": "Lgm_83kCa_LO",
        "outputId": "b913edf5-652f-49d4-946f-7aedea747af8"
      },
      "execution_count": null,
      "outputs": [
        {
          "output_type": "stream",
          "name": "stdout",
          "text": [
            "Collecting Pillow==9.0.0\n",
            "  Downloading Pillow-9.0.0-cp37-cp37m-manylinux_2_17_x86_64.manylinux2014_x86_64.whl (4.3 MB)\n",
            "\u001b[K     |████████████████████████████████| 4.3 MB 5.3 MB/s \n",
            "\u001b[?25hInstalling collected packages: Pillow\n",
            "  Attempting uninstall: Pillow\n",
            "    Found existing installation: Pillow 9.1.0\n",
            "    Uninstalling Pillow-9.1.0:\n",
            "      Successfully uninstalled Pillow-9.1.0\n",
            "\u001b[31mERROR: pip's dependency resolver does not currently take into account all the packages that are installed. This behaviour is the source of the following dependency conflicts.\n",
            "albumentations 0.1.12 requires imgaug<0.2.7,>=0.2.5, but you have imgaug 0.2.9 which is incompatible.\u001b[0m\n",
            "Successfully installed Pillow-9.0.0\n"
          ]
        },
        {
          "output_type": "display_data",
          "data": {
            "application/vnd.colab-display-data+json": {
              "pip_warning": {
                "packages": [
                  "PIL"
                ]
              }
            }
          },
          "metadata": {}
        }
      ]
    },
    {
      "cell_type": "code",
      "metadata": {
        "id": "S_urJE6MrUmm"
      },
      "source": [
        "import re\n",
        "\n",
        "import pandas as pd\n",
        "import numpy as np\n",
        "import scipy.linalg as splinalg\n",
        "\n",
        "import nltk\n",
        "from nltk.tokenize import sent_tokenize, word_tokenize\n",
        "from nltk.corpus import stopwords\n",
        "from nltk.stem import PorterStemmer\n",
        "\n",
        "import wikipedia\n",
        "\n",
        "from txtai.pipeline import Translation"
      ],
      "execution_count": null,
      "outputs": []
    },
    {
      "cell_type": "code",
      "metadata": {
        "colab": {
          "base_uri": "https://localhost:8080/"
        },
        "id": "UxckIS4y1EMR",
        "outputId": "a3ba4055-ffcd-45d4-b6c2-c4a7b14e6679"
      },
      "source": [
        "nltk.download(\"punkt\")\n",
        "nltk.download('stopwords')"
      ],
      "execution_count": null,
      "outputs": [
        {
          "output_type": "stream",
          "name": "stderr",
          "text": [
            "[nltk_data] Downloading package punkt to /root/nltk_data...\n",
            "[nltk_data]   Unzipping tokenizers/punkt.zip.\n",
            "[nltk_data] Downloading package stopwords to /root/nltk_data...\n",
            "[nltk_data]   Unzipping corpora/stopwords.zip.\n"
          ]
        },
        {
          "output_type": "execute_result",
          "data": {
            "text/plain": [
              "True"
            ]
          },
          "metadata": {},
          "execution_count": 2
        }
      ]
    },
    {
      "cell_type": "code",
      "metadata": {
        "id": "Ov9GnghY7iv1",
        "colab": {
          "base_uri": "https://localhost:8080/"
        },
        "outputId": "5191f23e-4c0e-47f1-8573-0b158ff702a7"
      },
      "source": [
        "# Radicalizador\n",
        "stemmer = PorterStemmer()\n",
        "\n",
        "# Palabras de paro\n",
        "cached_stopwords = stopwords.words('english')\n",
        "print(cached_stopwords[:10])\n",
        "\n",
        "# Traductor\n",
        "translate = Translation()"
      ],
      "execution_count": null,
      "outputs": [
        {
          "output_type": "stream",
          "name": "stdout",
          "text": [
            "['i', 'me', 'my', 'myself', 'we', 'our', 'ours', 'ourselves', 'you', \"you're\"]\n"
          ]
        }
      ]
    },
    {
      "cell_type": "markdown",
      "metadata": {
        "id": "WyYn_meLU_SE"
      },
      "source": [
        "# Datos"
      ]
    },
    {
      "cell_type": "markdown",
      "metadata": {
        "id": "rxh6OST4lp95"
      },
      "source": [
        "Los datos que ocuparemos serán el texto de páginas de Wikipedia. Descargaremos el texto ocupando el módulo [```wikipedia```](https://pypi.org/project/wikipedia/) que es un \"wrapper\" del API de Wikipedia. A este texto lo dividiremos en oraciones, procesaremos cada oración, radicalizaremos cada palabra, y aplicaremos TextRank para obtener las oraciones más importantes de todo el documento."
      ]
    },
    {
      "cell_type": "markdown",
      "metadata": {
        "id": "qpg8u735nGUj"
      },
      "source": [
        "## Lectura de los datos"
      ]
    },
    {
      "cell_type": "markdown",
      "metadata": {
        "id": "ADUkdhJmnQK0"
      },
      "source": [
        "Descargamos un artículos de Wikipedia."
      ]
    },
    {
      "cell_type": "code",
      "metadata": {
        "colab": {
          "base_uri": "https://localhost:8080/"
        },
        "id": "JXH8g08gSHAO",
        "outputId": "10f90826-df04-4bcf-e6e8-fa87b3dd4cbe"
      },
      "source": [
        "wiki = wikipedia.page('Expropiación del petróleo en México')\n",
        "book = wiki.content\n",
        "print(book)"
      ],
      "execution_count": null,
      "outputs": [
        {
          "output_type": "stream",
          "name": "stdout",
          "text": [
            "The Mexican oil expropriation (Spanish: expropiación petrolera) was the nationalization of all petroleum reserves, facilities, and foreign oil companies in Mexico on March 18, 1938.  In accordance with Article 27 of the Constitution of 1917, President Lázaro Cárdenas declared that all mineral and oil reserves found within Mexico belong to \"the nation\", i.e., the federal government. The Mexican government established a state-owned petroleum company, Petróleos Mexicanos, or PEMEX.  For a short period, this measure caused an international boycott of Mexican products in the following years, especially by the United States, the United Kingdom, and the Netherlands, but with the outbreak of World War II and the alliance between Mexico and the Allies, the disputes with private companies over compensation were resolved. The anniversary, March 18, is now a Mexican civic holiday.\n",
            "\n",
            "\n",
            "== Background ==\n",
            "\n",
            "On August 16, 1935, the Petroleum Workers Union of Mexico (Sindicato de Trabajadores Petroleros de la República Mexicana) was formed and one of the first actions was the writing of a lengthy draft contract transmitted to the petroleum companies demanding a 40-hour working week, a full salary paid in the event of sickness, and the payment of 65 million pesos towards benefits and wages. The foreign oil companies refused to sign the agreement, and counter offered with a payment of 14 million pesos toward wages and benefits.On November 3, 1937, the union demanded that the companies sign the collective agreement and on May 17, the union summoned a strike in case their demands were not met. On May 28 the strike became effective throughout the country.\n",
            "The petroleum workers' struggle was well regarded by the President and the population despite problems caused by the petroleum shortage. Due to these problems, the union accepted a lift of the strike on June 9, after the president urged them to present their case before the General Arbitration and Conciliation Board (Junta General de Conciliación y Arbitraje). In July, as instructed by the arbitration board, a commission of financial experts was formed that investigated the petroleum companies' finances, concluding that their profits easily permitted them to cover the demands of the workers. The report stated that just one company (El Aguila) had received annual profits of over 55 million pesos. The arbitration board concluded that the oil companies should pay 26 million pesos for wages and benefits to the workers. \n",
            "The companies, however, insisted the demands would cripple production and bankrupt them, and refused to pay. The president once again intervened to mediate between the parties, and met with oil company representatives at the National Palace on September 2. In this meeting, one of the El Aguila representatives took issue with the description of it being a foreign company, and stated that El Aguila was a Mexican company. In response, Jesus Silva Herzog (present in the meeting) responded with a financial newspaper from London that cited a report from the Royal Dutch Shell of 1928: \"Our Mexican subsidiary, Oil Company El Aguila, has obtained good returns during the last fiscal cycle.\" It was also explained that El Aguila de Mexico would set the price of an oil barrel at 1.96 when sold to The Eagle Shipping company. This price was below the market value of US$3.19 per barrel. This way profits would be hidden to the Mexican treasury, and taxes were saved.\n",
            "\n",
            "But, on December 8, the companies hired other unemployed workers and had not responded to the arbitration board. On December 18, 1937, the board gave a verdict in favor of the union by means of a \"laudo\" (binding judgment in arbitration) which demanded that the companies fulfil the requirements of the petitions and pay 26 million pesos in lost salaries. The petroleum companies initiated a lawsuit on January 2, 1938 before the Mexican Supreme Court to protect their property from the labor union and arbitration board, which denied the request.\n",
            "Consequently, the foreign companies rebelled against the imposed contract, and the maximum Judicial Authority responded by rendering a decision on March 1, giving the companies until March 7 to pay the 26 million pesos penalty.\n",
            "In 1935, all companies in the business of extraction, processing, and exporting of oil in Mexico were foreign companies with foreign capital. These companies attempted to block the creation of labor unions and used legal and illegal tactics to do so. However, the creation of individual unions within each company was made possible, but work conditions differed from one another.\n",
            "On December 27, 1935, the Sindicato Único de Trabajadores Petroleros was created, despite the legal opposition in the states of Tamaulipas and Veracruz. On January 29, 1936, this union joined the Comité de Defensa Proletaria (\"Committee of Proletarian Defense\") which would become in February the Confederation of Mexican Workers (CTM). On July 20, the union celebrated its first convention, in which it was proposed a project of general contracts for each oil company and it was decided on a strike to push towards an agreement.\n",
            "Lázaro Cárdenas intervened between the union and the oil companies in order to force an agreement on the contract. The strike was delayed for six months, but the companies never agreed to the contract and on May 28, the strike took place. The entire country was paralyzed for 12 days, with consumers unable to buy gasoline. Cárdenas convinced the union to end the strike until a decision by the companies could be made. However, the companies declared themselves unable to meet the demands because of financial problems. Cárdenas ordered an investigation and on August 3, and the findings were that the Mexican oil industry produced higher returns than the U.S. oil industry.\n",
            "\n",
            "\n",
            "== Legal conflicts ==\n",
            "After the publication of the findings, the oil companies threatened to leave Mexico and take all of their capital with them. The government entity in charge of the conflict between these companies and the union, the Junta Federal de Conciliación y Arbitraje (Federal Conciliation and Arbitration Board), was not able to make a decision quickly and the union declared a 24-hour strike in protest on December 8.\n",
            "On December 18, the Arbitration Board declared in favor of the union. The oil companies had to pay 26 million pesos of wages lost because of the strike, but they appealed to the Supreme Court. The Supreme Court then rejected the appeal and ordered them to raise salaries and improve working conditions for the union members. The oil companies protested this decision and President Cárdenas mediated a compromise; the union would accept 26 million pesos. Cárdenas offered to end the strike if the oil companies paid the sum. According to witnesses of this meeting, representatives of the oil companies asked the President \"Who can guarantee that the strike will be over\", to which the President replied \"I, the President of the Republic.\" After the businessmen asked with sarcasm \"You?\" President Cárdenas ended the meeting saying \"Sirs, we are finished!\". Cárdenas moved to expropriate the oil industry and create a national oil company, PEMEX.\n",
            "\n",
            "\n",
            "== Oil Expropriation Day, March 18, 1938 ==\n",
            "On March 18, 1938 President Cárdenas embarked on the expropriation of all oil resources and facilities by the state, nationalizing the U.S. and Anglo-Dutch (Mexican Eagle Petroleum Company) operating companies. Two hours before informing his cabinet of his decision, he made the announcement on the radio to the rest of the country. Five days later, a crowd of 200,000 (according to the press) rallied in the zócalo in support of Cárdenas's action. On April 12, 1938, a crowd of thousands of all classes gathered in front of the Palacio de Bellas Artes to make donations to pay the debt to foreign companies. Donations varied from chickens to jewelry. (see photo).\n",
            "On June 7, 1938, President Cárdenas issued a decree creating Petróleos Mexicanos (PEMEX), with exclusive rights over exploration, extraction, refining, and commercialization of oil in Mexico. On June 20, PEMEX started operations.\n",
            "\n",
            "\n",
            "== Opposition ==\n",
            "\n",
            "\n",
            "=== International ===\n",
            "In retaliation, the oil companies initiated a public relations campaign against Mexico, urging people to stop buying Mexican goods and lobbying to embargo U.S. technology to Mexico. Many foreign governments closed their markets to Mexican oil, hoping that PEMEX would drown in its own oil. However, the U.S. government of Franklin Delano Roosevelt had issued the Good Neighbor Policy, aiming to recalibrate U.S.-Latin American relations; the U.S. government did not intervene to aid U.S. oil companies affected by the Mexican  expropriation. Mexican finances suffered due to the boycott, the Mexican peso was devalued, and an immediate 20% increase in prices was suffered by the Mexican population. In a trip to New York to negotiate with oil companies,  Mexican treasury minister, Suarez, serendipitously met an American intermediate, William Rhodes Davis from Davis Oil Company, who had a refinery in Europe, and asked for a collaboration. Davis mediated between Mexico and Germany to a barter agreement where Mexico would give crude oil to Davis, who then would provide refined oil products to Germany in exchange for machinery to Mexico. By 1940, Mexico had an agreement with the American Sinclair Oil Corporation to sell crude oil to the U.S, and the full-scale war in Europe guaranteed that Mexican oil would have international customers. PEMEX developed into one of the largest oil companies in the world and helped Mexico become the world's seventh-largest oil exporter.\n",
            "\n",
            "\n",
            "=== Domestic ===\n",
            "Saturnino Cedillo, a cacique from San Luis Potosí and former Secretary of Agriculture, showed the strongest opposition to Cárdenas's measures. Cedillo had in the past supported Cárdenas in a conflict with ex-President Plutarco Elías Calles, but disagreed with his plan of reforms. On May 15 of the same year, the state congress of San Luis Potosí issued a decree where it refused to recognize Cárdenas as President and declared that the expropiación petrolera did not benefit the economy of Mexico. Cárdenas did not consider this a serious threat and minimized efforts to suppress the rebellion, instead choosing persuasion. The US government did not support the rebellion because it was more concerned that fascist and communist movements from Europe would spread to Mexico.\n",
            "The key to the success of the measures taken by Cárdenas was not just to control the opposition, but to keep afloat an industry in the absence of qualified personnel. The government had to depend on the Sindicato de Trabajadores Petroleros de la República Mexicana (STPRM, or the Union of Oil Workers of the Mexican Republic) to resolve disagreements over the management of oil resources, and deal with threats of strikes and sabotage. In spite of these and technical challenges, local workers who replaced the foreign technicians were successful in making the new nationalized oil industry work. Josephus Daniels, U.S. ambassador to Mexico, explained to President Franklin D. Roosevelt and Secretary of State Cordell Hull that Cárdenas' reforms could not be undone, since his position as president and the position of PEMEX were secure.\n",
            "Critics of the expropriation point out that since Pemex took control of the nation's petroleum, the company has been rife with corruption through every administration since that of Cárdenas, including both the PRI (Partido Revolucionario Institucional) and the PAN (Partido Accion Nacional). In addition, the casus belli of the expropriation was a wage hike of 26 million pesos. In fact, in the aftermath, not only was the promised wage hike postponed indefinitely, wages were actually cut.\n",
            "\n",
            "\n",
            "== See also ==\n",
            "\n",
            "Nationalization of oil supplies\n",
            "Economic nationalism\n",
            "Petroleum industry in Mexico\n",
            "\n",
            "\n",
            "== References ==\n",
            "\n",
            "\n",
            "== Further reading ==\n",
            "Brown, Jonathan C. Oil and Revolution in Mexico. Berkeley: University of California Press 1993.\n",
            "Brown, Jonathan C. and Alan Knight, eds.  The Mexican Petroleum Industry in the Twentieth Century. Austin: University of Texas Press 1992.\n",
            "Gordon, Wendell. The Expropriation of Foreign-Owned Property in Mexico (1941)\n",
            "Hall, Linda B. Oil, Banks, and Politics: the United States and Postrevolutionary Mexico, 1917-1924. Austin: University of Texas Press 1995.\n",
            "Jayne, Catherine E. Oil, war, and Anglo-American relations: American and British reactions to Mexico's expropriation of foreign oil properties, 1937-1941 (Praeger, 2001)\n",
            "Maurer, Noel. \"The empire struck back: sanctions and compensation in the Mexican oil expropriation of 1938.\" Journal of Economic History 71.03 (2011): 590–615. online\n",
            "Meyer, Lorenzo. Mexico and the United States in the oil controversy, 1917–1942 (University of Texas Press, 2014)\n",
            "Rippy, Merrill. Oil and the Mexican Revolution. Leiden: Brill 1972.\n",
            "Wirth, John D., ed. Latin American Oil Companies and the Politics of Energy. Lincoln: University of Nebraska Press 1985.\n"
          ]
        }
      ]
    },
    {
      "cell_type": "markdown",
      "metadata": {
        "id": "V9o2M4-23kIo"
      },
      "source": [
        "## Procesamiento"
      ]
    },
    {
      "cell_type": "markdown",
      "metadata": {
        "id": "cQTst86Zm5Ew"
      },
      "source": [
        "Dividimos el texto en oraciones."
      ]
    },
    {
      "cell_type": "code",
      "metadata": {
        "colab": {
          "base_uri": "https://localhost:8080/"
        },
        "id": "UudewwgC0npT",
        "outputId": "db9e1493-77c1-478e-c5d2-6dcf993a0c31"
      },
      "source": [
        "sentences = [x for x in sent_tokenize(book)]\n",
        "print(f\"# oraciones: {len(sentences)}\")\n",
        "for sentence in sentences[:3]:\n",
        "    print(sentence)\n",
        "    print()\n",
        "    print(\"...Fin de la oración...\")\n",
        "    print()\n"
      ],
      "execution_count": null,
      "outputs": [
        {
          "output_type": "stream",
          "name": "stdout",
          "text": [
            "# oraciones: 94\n",
            "The Mexican oil expropriation (Spanish: expropiación petrolera) was the nationalization of all petroleum reserves, facilities, and foreign oil companies in Mexico on March 18, 1938.\n",
            "\n",
            "...Fin de la oración...\n",
            "\n",
            "In accordance with Article 27 of the Constitution of 1917, President Lázaro Cárdenas declared that all mineral and oil reserves found within Mexico belong to \"the nation\", i.e., the federal government.\n",
            "\n",
            "...Fin de la oración...\n",
            "\n",
            "The Mexican government established a state-owned petroleum company, Petróleos Mexicanos, or PEMEX.\n",
            "\n",
            "...Fin de la oración...\n",
            "\n"
          ]
        }
      ]
    },
    {
      "cell_type": "code",
      "source": [
        "# Ejemplo lista por comprension\n",
        "lista = []\n",
        "for i in range(9):\n",
        "  lista.append('Hola')\n",
        "\n",
        "# Otro modo de crearla\n",
        "otra_lista = ['Hola' for i in range(9)]"
      ],
      "metadata": {
        "colab": {
          "base_uri": "https://localhost:8080/"
        },
        "id": "IhjOZlBJ6CoE",
        "outputId": "133bb3d4-1f85-4aaa-90ce-0ad71a6c9993"
      },
      "execution_count": null,
      "outputs": [
        {
          "output_type": "execute_result",
          "data": {
            "text/plain": [
              "['Hola', 'Hola', 'Hola', 'Hola', 'Hola', 'Hola', 'Hola', 'Hola', 'Hola']"
            ]
          },
          "metadata": {},
          "execution_count": 8
        }
      ]
    },
    {
      "cell_type": "markdown",
      "metadata": {
        "id": "VX8wBpNYnUV1"
      },
      "source": [
        "convertimos a minúsculas, eliminamos stopwords, eliminamos signos de puntuación y radicalizamos."
      ]
    },
    {
      "cell_type": "code",
      "metadata": {
        "colab": {
          "base_uri": "https://localhost:8080/"
        },
        "id": "HhJPqlaB5fh6",
        "outputId": "aa12a211-5764-41fc-bde7-4f684a5186cd"
      },
      "source": [
        "sent_low = [[stemmer.stem(re.sub('[^a-z]', \"\", word.lower())) for word in word_tokenize(sentence) if word not in cached_stopwords and len(word) > 2] for sentence in sentences]\n",
        "sent_low[1]"
      ],
      "execution_count": null,
      "outputs": [
        {
          "output_type": "execute_result",
          "data": {
            "text/plain": [
              "['accord',\n",
              " 'articl',\n",
              " 'constitut',\n",
              " '',\n",
              " 'presid',\n",
              " 'lzaro',\n",
              " 'crdena',\n",
              " 'declar',\n",
              " 'miner',\n",
              " 'oil',\n",
              " 'reserv',\n",
              " 'found',\n",
              " 'within',\n",
              " 'mexico',\n",
              " 'belong',\n",
              " 'nation',\n",
              " 'ie',\n",
              " 'feder',\n",
              " 'govern']"
            ]
          },
          "metadata": {},
          "execution_count": 10
        }
      ]
    },
    {
      "cell_type": "markdown",
      "metadata": {
        "id": "NuWhLrCHngIg"
      },
      "source": [
        "# TextRank"
      ]
    },
    {
      "cell_type": "markdown",
      "metadata": {
        "id": "7FqpDqoADzub"
      },
      "source": [
        "Construimos la matriz de adyacencias/similitud A entre las oraciones, tomando el número de palabras que están en ambas como la similitud entre las dos oraciones."
      ]
    },
    {
      "cell_type": "code",
      "metadata": {
        "colab": {
          "base_uri": "https://localhost:8080/"
        },
        "id": "9-8lePsd8th-",
        "outputId": "e25d8494-3499-48df-ccc8-7cf6a87ba7da"
      },
      "source": [
        "A = np.zeros((len(sent_low), len(sent_low)))\n",
        "\n",
        "for i in range(len(sentences)):\n",
        "    if i % 100 == 0:\n",
        "        print(i, end=\", \")\n",
        "        if i % 1000 == 0:\n",
        "            print()\n",
        "    for j in range(i+1, len(sentences)):\n",
        "        # La simillitud entre oraciones va a ser el número de palabras que tienen en común\n",
        "        A[i][j] = A[j][i] = len([x for x in sentences[i] if x in sentences[j]])"
      ],
      "execution_count": null,
      "outputs": [
        {
          "output_type": "stream",
          "name": "stdout",
          "text": [
            "0, \n"
          ]
        }
      ]
    },
    {
      "cell_type": "markdown",
      "metadata": {
        "id": "p9s5rI9roNPv"
      },
      "source": [
        "Así es como se ve un fragmento de la matriz A."
      ]
    },
    {
      "cell_type": "code",
      "metadata": {
        "colab": {
          "base_uri": "https://localhost:8080/"
        },
        "id": "uvFYbKI48tdr",
        "outputId": "21e691f8-28f2-441f-c732-231dc1d7fa53"
      },
      "source": [
        "A[:5, :5]"
      ],
      "execution_count": null,
      "outputs": [
        {
          "output_type": "execute_result",
          "data": {
            "text/plain": [
              "array([[  0., 164., 167., 169., 151.],\n",
              "       [164.,   0., 181., 186., 160.],\n",
              "       [167., 181.,   0.,  90.,  77.],\n",
              "       [169., 186.,  90.,   0., 270.],\n",
              "       [151., 160.,  77., 270.,   0.]])"
            ]
          },
          "metadata": {},
          "execution_count": 12
        }
      ]
    },
    {
      "cell_type": "markdown",
      "metadata": {
        "id": "OoJlPw_ToUdh"
      },
      "source": [
        "Normalizamos las columnas de A"
      ]
    },
    {
      "cell_type": "code",
      "metadata": {
        "colab": {
          "base_uri": "https://localhost:8080/"
        },
        "id": "8oNFWIjZ8tbP",
        "outputId": "7852b798-98b6-4df6-90dd-d2530d496b36"
      },
      "source": [
        "# Comparamos las oraciones unas con otras, pero no consigo mismas\n",
        "suma = np.sum(A, axis=0)\n",
        "A_norm = np.divide(A, suma, where=suma!=0)\n",
        "A_norm[:5, :5]"
      ],
      "execution_count": null,
      "outputs": [
        {
          "output_type": "execute_result",
          "data": {
            "text/plain": [
              "array([[0.        , 0.01004348, 0.02120366, 0.0061283 , 0.02966601],\n",
              "       [0.01122058, 0.        , 0.02298121, 0.00674475, 0.03143418],\n",
              "       [0.01142583, 0.01108457, 0.        , 0.00326359, 0.0151277 ],\n",
              "       [0.01156267, 0.01139078, 0.01142712, 0.        , 0.05304519],\n",
              "       [0.01033114, 0.00979852, 0.00977654, 0.00979077, 0.        ]])"
            ]
          },
          "metadata": {},
          "execution_count": 13
        }
      ]
    },
    {
      "cell_type": "markdown",
      "metadata": {
        "id": "YIdFEIv2KlDT"
      },
      "source": [
        "Se crea el vector de TextRank con unos y se itera hasta que converja. Es decir, hasta que obtengamos $\\Pi$ tal que $$\\Pi = A~\\Pi$$ "
      ]
    },
    {
      "cell_type": "code",
      "source": [
        "# Impresiones mas bonitas\n",
        "np.set_printoptions(suppress=True)"
      ],
      "metadata": {
        "id": "wSg8un2uxyz3"
      },
      "execution_count": null,
      "outputs": []
    },
    {
      "cell_type": "code",
      "metadata": {
        "colab": {
          "base_uri": "https://localhost:8080/"
        },
        "id": "LUfmpayQKaCA",
        "outputId": "d3ebc827-b304-4f23-a695-435373e6a6c4"
      },
      "source": [
        "tol = 1e-7\n",
        "\n",
        "PI_ = np.ones(A_norm.shape[1])\n",
        "    \n",
        "i = 0\n",
        "while True:\n",
        "    pi_ = A_norm.dot(PI_)\n",
        "    print(i, abs(PI_- pi_).sum()) \n",
        "    if np.allclose(PI_, pi_, tol):\n",
        "        break\n",
        "    i += 1\n",
        "    PI_ = pi_"
      ],
      "execution_count": null,
      "outputs": [
        {
          "output_type": "stream",
          "name": "stdout",
          "text": [
            "0 25.119042342061313\n",
            "1 3.9834907908161306\n",
            "2 0.6743622225980425\n",
            "3 0.11271087281569248\n",
            "4 0.01906787655554515\n",
            "5 0.0032164628903882386\n",
            "6 0.0005432400722331088\n",
            "7 9.173100230158715e-05\n",
            "8 1.549020578223148e-05\n",
            "9 2.616007513722707e-06\n"
          ]
        }
      ]
    },
    {
      "cell_type": "markdown",
      "metadata": {
        "id": "QnTTffzbv2G0"
      },
      "source": [
        "Alternativamente, podemos obtener los eigenvectores izquierdos de nuestra matriz A_norm. Los valores de PageRank corresponden al vector de probabilidades del estado estacionario de la matriz A que a su vez es el eigenvector izquierdo con eigenvalor asociado 1.\n",
        "\n",
        "$$\\Pi = \\Pi A^T$$"
      ]
    },
    {
      "cell_type": "code",
      "metadata": {
        "id": "2fjuQ_v_vE-O"
      },
      "source": [
        "_, vecs = splinalg.eig(A_norm.T, left=True, right=False)"
      ],
      "execution_count": null,
      "outputs": []
    },
    {
      "cell_type": "code",
      "source": [
        "vecs.shape"
      ],
      "metadata": {
        "colab": {
          "base_uri": "https://localhost:8080/"
        },
        "id": "quf7Tyn7-yK_",
        "outputId": "b1506a51-a57a-4cf6-99be-9a50f415dc58"
      },
      "execution_count": null,
      "outputs": [
        {
          "output_type": "execute_result",
          "data": {
            "text/plain": [
              "(94, 94)"
            ]
          },
          "metadata": {},
          "execution_count": 17
        }
      ]
    },
    {
      "cell_type": "code",
      "source": [
        "vecs"
      ],
      "metadata": {
        "colab": {
          "base_uri": "https://localhost:8080/"
        },
        "id": "OTRv8mVf_D5R",
        "outputId": "998fa1a4-99f7-4142-c2e0-166f906b178e"
      },
      "execution_count": null,
      "outputs": [
        {
          "output_type": "execute_result",
          "data": {
            "text/plain": [
              "array([[ 0.11513537, -0.1298709 ,  0.07270433, ...,  0.01264542,\n",
              "        -0.01764074, -0.00807666],\n",
              "       [ 0.12862927, -0.15390402,  0.08621096, ...,  0.01506254,\n",
              "         0.03084082, -0.02168291],\n",
              "       [ 0.06204202, -0.05658369,  0.04499356, ...,  0.01795115,\n",
              "        -0.02029592,  0.00965508],\n",
              "       ...,\n",
              "       [ 0.0650039 ,  0.10501863, -0.04901833, ..., -0.05550819,\n",
              "         0.04341912, -0.0417746 ],\n",
              "       [ 0.08871473,  0.13941903, -0.06683727, ..., -0.0181895 ,\n",
              "        -0.01057409,  0.04427427],\n",
              "       [ 0.07985271,  0.1209582 , -0.06697743, ..., -0.05531248,\n",
              "        -0.05265179,  0.04349303]])"
            ]
          },
          "metadata": {},
          "execution_count": 18
        }
      ]
    },
    {
      "cell_type": "code",
      "metadata": {
        "id": "Qn60EkbGzARy",
        "colab": {
          "base_uri": "https://localhost:8080/"
        },
        "outputId": "949015e8-1a34-4ed5-f051-d3cf260f1abf"
      },
      "source": [
        "pi_ = vecs[:, 0]\n",
        "pi_"
      ],
      "execution_count": null,
      "outputs": [
        {
          "output_type": "execute_result",
          "data": {
            "text/plain": [
              "array([0.11513537, 0.12862927, 0.06204202, 0.21723372, 0.04009572,\n",
              "       0.24791601, 0.1968944 , 0.04618491, 0.09318907, 0.14523473,\n",
              "       0.15436458, 0.07491361, 0.08680841, 0.07936432, 0.10138151,\n",
              "       0.11062165, 0.15954   , 0.09155846, 0.0503284 , 0.06498815,\n",
              "       0.08231832, 0.14549468, 0.12219348, 0.13968907, 0.0981518 ,\n",
              "       0.08349993, 0.09306303, 0.10068043, 0.11075556, 0.12292607,\n",
              "       0.08794275, 0.09195232, 0.07398409, 0.07832451, 0.08063257,\n",
              "       0.10305151, 0.09930977, 0.15245038, 0.06701263, 0.09131426,\n",
              "       0.09513477, 0.09115671, 0.0710222 , 0.12204381, 0.06067924,\n",
              "       0.06411376, 0.07806455, 0.12736102, 0.089597  , 0.08630426,\n",
              "       0.10294123, 0.06479909, 0.03369143, 0.1084475 , 0.05774886,\n",
              "       0.11238617, 0.08791124, 0.12323329, 0.0999951 , 0.12122456,\n",
              "       0.11086585, 0.11203169, 0.09476454, 0.09968788, 0.09711987,\n",
              "       0.11414282, 0.09484331, 0.09988482, 0.10243708, 0.11970423,\n",
              "       0.10192505, 0.11525353, 0.12236678, 0.09449671, 0.09651331,\n",
              "       0.10630486, 0.07510267, 0.07950611, 0.0873362 , 0.07365324,\n",
              "       0.05027326, 0.08707624, 0.08891167, 0.07388168, 0.10110581,\n",
              "       0.09263765, 0.07150272, 0.0564491 , 0.0914403 , 0.07456701,\n",
              "       0.05163604, 0.0650039 , 0.08871473, 0.07985271])"
            ]
          },
          "metadata": {},
          "execution_count": 19
        }
      ]
    },
    {
      "cell_type": "markdown",
      "metadata": {
        "id": "Y4XCjrheqzkz"
      },
      "source": [
        "Obtenemos los índices de los k valores más grandes en $\\Pi$ y los usamos para obtener las oraciones más relevantes."
      ]
    },
    {
      "cell_type": "code",
      "metadata": {
        "id": "4nzzWurm0_O2",
        "colab": {
          "base_uri": "https://localhost:8080/"
        },
        "outputId": "6a0ce2b3-ebad-4e1b-86c3-47fe82a8da5e"
      },
      "source": [
        "k = 4\n",
        "pi_.argsort()[-k:][::-1]"
      ],
      "execution_count": null,
      "outputs": [
        {
          "output_type": "execute_result",
          "data": {
            "text/plain": [
              "array([ 5,  3,  6, 16])"
            ]
          },
          "metadata": {},
          "execution_count": 21
        }
      ]
    },
    {
      "cell_type": "code",
      "metadata": {
        "id": "RryDhNr5OfJ5"
      },
      "source": [
        "summary = [sentences[idx] for idx in pi_.argsort()[-k:][::-1]]"
      ],
      "execution_count": null,
      "outputs": []
    },
    {
      "cell_type": "code",
      "source": [
        "summary"
      ],
      "metadata": {
        "colab": {
          "base_uri": "https://localhost:8080/"
        },
        "id": "iACleNaJDRHu",
        "outputId": "35d4af0e-b877-4bbd-871f-b5dd8c3739a8"
      },
      "execution_count": null,
      "outputs": [
        {
          "output_type": "execute_result",
          "data": {
            "text/plain": [
              "['== Background ==\\n\\nOn August 16, 1935, the Petroleum Workers Union of Mexico (Sindicato de Trabajadores Petroleros de la República Mexicana) was formed and one of the first actions was the writing of a lengthy draft contract transmitted to the petroleum companies demanding a 40-hour working week, a full salary paid in the event of sickness, and the payment of 65 million pesos towards benefits and wages.',\n",
              " 'For a short period, this measure caused an international boycott of Mexican products in the following years, especially by the United States, the United Kingdom, and the Netherlands, but with the outbreak of World War II and the alliance between Mexico and the Allies, the disputes with private companies over compensation were resolved.',\n",
              " 'The foreign oil companies refused to sign the agreement, and counter offered with a payment of 14 million pesos toward wages and benefits.On November 3, 1937, the union demanded that the companies sign the collective agreement and on May 17, the union summoned a strike in case their demands were not met.',\n",
              " 'In response, Jesus Silva Herzog (present in the meeting) responded with a financial newspaper from London that cited a report from the Royal Dutch Shell of 1928: \"Our Mexican subsidiary, Oil Company El Aguila, has obtained good returns during the last fiscal cycle.\"']"
            ]
          },
          "metadata": {},
          "execution_count": 23
        }
      ]
    },
    {
      "cell_type": "markdown",
      "metadata": {
        "id": "DpekkaIIrFbJ"
      },
      "source": [
        "Por último, sólo queda ver qué considero TextRank como las oraciones más importantes."
      ]
    },
    {
      "cell_type": "code",
      "metadata": {
        "colab": {
          "base_uri": "https://localhost:8080/"
        },
        "id": "wAqh4QdWOh1r",
        "outputId": "f7b7ed59-a16b-4a59-eabc-39784a210a13"
      },
      "source": [
        "for bullet in summary:\n",
        "    print('___________')\n",
        "    print(bullet)"
      ],
      "execution_count": null,
      "outputs": [
        {
          "output_type": "stream",
          "name": "stdout",
          "text": [
            "___________\n",
            "== Background ==\n",
            "\n",
            "On August 16, 1935, the Petroleum Workers Union of Mexico (Sindicato de Trabajadores Petroleros de la República Mexicana) was formed and one of the first actions was the writing of a lengthy draft contract transmitted to the petroleum companies demanding a 40-hour working week, a full salary paid in the event of sickness, and the payment of 65 million pesos towards benefits and wages.\n",
            "___________\n",
            "For a short period, this measure caused an international boycott of Mexican products in the following years, especially by the United States, the United Kingdom, and the Netherlands, but with the outbreak of World War II and the alliance between Mexico and the Allies, the disputes with private companies over compensation were resolved.\n",
            "___________\n",
            "The foreign oil companies refused to sign the agreement, and counter offered with a payment of 14 million pesos toward wages and benefits.On November 3, 1937, the union demanded that the companies sign the collective agreement and on May 17, the union summoned a strike in case their demands were not met.\n",
            "___________\n",
            "In response, Jesus Silva Herzog (present in the meeting) responded with a financial newspaper from London that cited a report from the Royal Dutch Shell of 1928: \"Our Mexican subsidiary, Oil Company El Aguila, has obtained good returns during the last fiscal cycle.\"\n"
          ]
        }
      ]
    },
    {
      "cell_type": "markdown",
      "metadata": {
        "id": "xN21ZGHrrKY4"
      },
      "source": [
        "Podemos traducir la salida."
      ]
    },
    {
      "cell_type": "code",
      "metadata": {
        "colab": {
          "base_uri": "https://localhost:8080/",
          "height": 400,
          "referenced_widgets": [
            "dedc925fb8914354a0392b2372e5c070",
            "c73ee62019e8448f82e54d74896331b0",
            "50b0f685f867431cafd75e21e931279a",
            "be3d8c8dbabc474092a613eaef78b8db",
            "78bd7351e5a44b67b3c5587ca6689f4e",
            "25cee8ec3f854743a3908f3ce770194c",
            "16412652589d4149bdb6dd593f166ae5",
            "afd520fa96bd4c87abf49845c42c9552",
            "fe64fd4e12d048dd9491783e38aab60f",
            "ce139b197f5c4d3c9046de7f3c1577ec",
            "fa56ac0c247448248afb1c45fcc1f06d",
            "5108bb09d9a3466fb2e626c8ca3ca9f8",
            "c22cfa61adc84590a295b82996796ab0",
            "71ce73e1e0df485bb18f720ec98d1cec",
            "85db82830c66422ba90bca5950772f7e",
            "55d5572e6923497992a5cd17cd7b46ce",
            "41e7129e00dd410f8f02341e332a7127",
            "8fb7d9c85b5843c1b083427f769eb174",
            "c057fdc0b10e4186a5adb1341fb12d0d",
            "c3240111d60242f6b0ac31cfa343edbb",
            "199415810ca64537b7e788f406012466",
            "f926a07f44414b8faca564f056a12fb8",
            "bb2b681057b34d2db0b0604ae206e108",
            "25ffb5d6da754e0ba4182701f194fd6d",
            "a49cb80a54504391a62eb563103340be",
            "830e35569e674f6da3f987a4d5d67e13",
            "8d10de9306de4efe9cc0faf79ed10342",
            "8ca8e5d0e1934ab080d79a8641dfda92",
            "bfe29a436dcd4a5ea189fc9dc67343d6",
            "4c3e6758a2d5486db5ea4b352c7d5914",
            "4c3b67fe4ab44b8f836772608b0b5eef",
            "c8efb4668170462a9affa732659cf76e",
            "ccfb28fb67864aef9c3969b04eddefe9",
            "314e1cd909d24bd38c55664e01a7b76d",
            "51d0827929d3498b9885be54a7d56708",
            "2b53f0d5a46a48ec955b85b5f12cf9ab",
            "1a02f45c40b647a59ad7d35a72d882e3",
            "5ea64e1ef7e84a6b9e5d319697af6cf3",
            "2904bdf3183e4dc8b89de85d349d8fae",
            "aa193d921dc14eabbfea475e01494a45",
            "c70ebf3729dd48e396819fac0e236556",
            "e1942c9249574b65ad956f6251014e4b",
            "db1980aa3e1a4c01a1bc77067289d5bc",
            "7c518c1286624b8f9f0d80ba68b8969a",
            "c3c76083b9bd471db05500d6865c3ea9",
            "ea1e024e968f4ca78b4b3a674190a7ab",
            "4842683eb43147b881fc754049f2025a",
            "834d9dbfabf14e4a8aed1cd87273f94d",
            "eb3faf8942024eef8c2f81689c8d46b8",
            "2e63fd7352dd469cb59fbefa1559a064",
            "934a752845b24c82914eb85852561e45",
            "156f7dd9261d469ab1457e0b5f9aca13",
            "d22fd76e47174753b06aad2406741081",
            "65dd70cfc0f04378bfb1527f2142ac39",
            "7b1ed4c50a54421fbe6bbaab6dd74182",
            "37c69de50de045239c25324bbdf7c7af",
            "f0aa88dc5d344cb3a9c094632c19effa",
            "8e50f99c88624cfcb8d6c077ed36ba11",
            "985c676bcaad47529455999495bf6bed",
            "540302993f2b4057be3405287b5a312b",
            "84cf5704e825479fa780d84de0ac8d6c",
            "24b613f8a7334612911e327d5fc7a05d",
            "3f2035a5b73c4934bdb25f194bfcad03",
            "0839a1427e0c4a80b4498512412a34e8",
            "68f58fe6acd4474fa44761cd9e5a737b",
            "cbe6698dd2be40469a22fa2b5ffdb570",
            "09bf67fb68d04f2bb963c258e93c640d",
            "8c896d68ddc8498481aa6125d045e838",
            "b889412c6f274ce7b8c0e05cd65396ce",
            "6c2a5fae1f7045bfa55afeb90e0c950a",
            "633df985cb3f406db57505874f9aa0be",
            "4be8e75d95cd47009cf688dc868a9d6f",
            "0407a8b6d7b546a49e0a9c17fedd9334",
            "de7852f94f784c5da258516325d75948",
            "f90f290c89f64c2c8d8ef5c514856636",
            "fd66176aad9046038b79f726072ad912",
            "c068107f8873469ba2e5b39f9fd9b053"
          ]
        },
        "id": "7vpw3FScPo2L",
        "outputId": "1bf7e7ea-13ee-4a3d-9a0e-ae8d0a1b82a3"
      },
      "source": [
        "# Aprox 34 seg las primeras 10 oraciones\n",
        "for bullet in summary:\n",
        "    print()\n",
        "    print(translate(bullet, \"es\"))"
      ],
      "execution_count": null,
      "outputs": [
        {
          "output_type": "stream",
          "name": "stdout",
          "text": [
            "\n"
          ]
        },
        {
          "output_type": "display_data",
          "data": {
            "text/plain": [
              "Downloading:   0%|          | 0.00/916k [00:00<?, ?B/s]"
            ],
            "application/vnd.jupyter.widget-view+json": {
              "version_major": 2,
              "version_minor": 0,
              "model_id": "dedc925fb8914354a0392b2372e5c070"
            }
          },
          "metadata": {}
        },
        {
          "output_type": "display_data",
          "data": {
            "text/plain": [
              "Downloading:   0%|          | 0.00/1.31k [00:00<?, ?B/s]"
            ],
            "application/vnd.jupyter.widget-view+json": {
              "version_major": 2,
              "version_minor": 0,
              "model_id": "5108bb09d9a3466fb2e626c8ca3ca9f8"
            }
          },
          "metadata": {}
        },
        {
          "output_type": "display_data",
          "data": {
            "text/plain": [
              "Downloading:   0%|          | 0.00/298M [00:00<?, ?B/s]"
            ],
            "application/vnd.jupyter.widget-view+json": {
              "version_major": 2,
              "version_minor": 0,
              "model_id": "bb2b681057b34d2db0b0604ae206e108"
            }
          },
          "metadata": {}
        },
        {
          "output_type": "display_data",
          "data": {
            "text/plain": [
              "Downloading:   0%|          | 0.00/783k [00:00<?, ?B/s]"
            ],
            "application/vnd.jupyter.widget-view+json": {
              "version_major": 2,
              "version_minor": 0,
              "model_id": "314e1cd909d24bd38c55664e01a7b76d"
            }
          },
          "metadata": {}
        },
        {
          "output_type": "display_data",
          "data": {
            "text/plain": [
              "Downloading:   0%|          | 0.00/807k [00:00<?, ?B/s]"
            ],
            "application/vnd.jupyter.widget-view+json": {
              "version_major": 2,
              "version_minor": 0,
              "model_id": "c3c76083b9bd471db05500d6865c3ea9"
            }
          },
          "metadata": {}
        },
        {
          "output_type": "display_data",
          "data": {
            "text/plain": [
              "Downloading:   0%|          | 0.00/1.52M [00:00<?, ?B/s]"
            ],
            "application/vnd.jupyter.widget-view+json": {
              "version_major": 2,
              "version_minor": 0,
              "model_id": "37c69de50de045239c25324bbdf7c7af"
            }
          },
          "metadata": {}
        },
        {
          "output_type": "display_data",
          "data": {
            "text/plain": [
              "Downloading:   0%|          | 0.00/44.0 [00:00<?, ?B/s]"
            ],
            "application/vnd.jupyter.widget-view+json": {
              "version_major": 2,
              "version_minor": 0,
              "model_id": "09bf67fb68d04f2bb963c258e93c640d"
            }
          },
          "metadata": {}
        },
        {
          "output_type": "stream",
          "name": "stdout",
          "text": [
            "== Antecedentes ==El 16 de agosto de 1935, se formó el Sindicato de Trabajadores Petroleros de la República Mexicana y una de las primeras acciones fue la redacción de un largo borrador de contrato transmitido a las compañías petroleras exigiendo una semana laboral de 40 horas, un salario completo pagado en caso de enfermedad y el pago de 65 millones de pesos por beneficios y salarios.\n",
            "\n",
            "Durante un corto período, esta medida provocó un boicot internacional a los productos mexicanos en los años siguientes, especialmente por parte de los Estados Unidos, el Reino Unido y los Países Bajos, pero con el estallido de la Segunda Guerra Mundial y la alianza entre México y los Aliados, se resolvieron las disputas con empresas privadas por la compensación.\n",
            "\n",
            "El 3 de noviembre de 1937, el sindicato exigió a las empresas que firmaran el convenio colectivo y el 17 de mayo, el sindicato convocó una huelga en caso de que no se cumplieran sus demandas.\n",
            "\n",
            "En respuesta, Jesús Silva Herzog (presente en la reunión) respondió con un periódico financiero de Londres que citó un informe de la Royal Dutch Shell de 1928: \"Nuestra subsidiaria mexicana, Oil Company El Aguila, ha obtenido buenos rendimientos durante el último ciclo fiscal\".\n"
          ]
        }
      ]
    },
    {
      "cell_type": "markdown",
      "metadata": {
        "id": "sroGaAJSrNER"
      },
      "source": [
        "# Función para crear resúmenes"
      ]
    },
    {
      "cell_type": "markdown",
      "metadata": {
        "id": "o8TBd5q7rSmS"
      },
      "source": [
        "Podemos condensar todo lo anterior en una función que reciba texto y nos regrese las oraciones más relevantes de acuerdo a TextRank."
      ]
    },
    {
      "cell_type": "code",
      "metadata": {
        "id": "ACFufGGmXwCP"
      },
      "source": [
        "def summary(text, k, to_spanish = True, tol = 1e-5, d = .15, eig = False):\n",
        "    print(\"Paso 1. Obteniendo oraciones\")\n",
        "    sentences = [x for x in sent_tokenize(text)]\n",
        "\n",
        "    print(f\"# oraciones: {len(sentences)}\")\n",
        "    \n",
        "    print(\"Paso 2. Procesando texto\")\n",
        "    sent_low = [[stemmer.stem(re.sub('[^a-z]', \"\", word.lower())) for word in word_tokenize(sentence) if word not in cached_stopwords and len(word) > 2] for sentence in sentences]\n",
        "    \n",
        "    print(\"Paso 3. Creando matriz de similitud\")\n",
        "    A = np.zeros((len(sent_low), len(sent_low)))\n",
        "    \n",
        "    for i in range(len(sentences)):\n",
        "        for j in range(i+1, len(sentences)):\n",
        "            # La simillitud entre oraciones va a ser el número de palabras que tienen en común\n",
        "            A[i][j] = A[j][i] = len([x for x in sentences[i] if x in sentences[j]])\n",
        "\n",
        "    print(\"Paso 4. Normalizando matriz de similitud\")   \n",
        "    suma = np.sum(A, axis=0)\n",
        "    A_norm = np.divide(A, suma, where=suma!=0)\n",
        "    \n",
        "    print(\"Paso 5. Ejecutando TextRank\")\n",
        "    if eig:\n",
        "        vals, vecs = splinalg.eig(A_norm.T, left=True, right=False)\n",
        "        pi_ = vecs[:, 0]\n",
        "    else:\n",
        "        PI_ = np.ones(A_norm.shape[1])\n",
        "        \n",
        "        while True:\n",
        "            pi_ = A_norm.dot(PI_)\n",
        "            if np.allclose(PI_, pi_, tol):\n",
        "                break\n",
        "            PI_ = pi_\n",
        "\n",
        "    print(\"\\tPaso 5. Terminado\")\n",
        "\n",
        "    if not to_spanish:\n",
        "        return [sentences[idx] for idx in pi_.argsort()[-k:][::-1]]\n",
        "\n",
        "    print(\"Paso 6. Traduciendo\")\n",
        "    return [translate(sentences[idx], \"es\") for idx in pi_.argsort()[-k:][::-1]]\n",
        "\n",
        "def print_bullet_points(bullet_points):\n",
        "    for point in bullet_points:\n",
        "        print(f\"- {point}\\n\")\n"
      ],
      "execution_count": null,
      "outputs": []
    },
    {
      "cell_type": "code",
      "metadata": {
        "colab": {
          "base_uri": "https://localhost:8080/"
        },
        "id": "ShmZc9RaYuh3",
        "outputId": "6f49db4f-b724-47fe-9eef-94f92a66b841"
      },
      "source": [
        "wiki = wikipedia.page('Automatic summarization')\n",
        "text = wiki.content\n",
        "bullet_points = summary(text, 5, False, eig = False)"
      ],
      "execution_count": null,
      "outputs": [
        {
          "output_type": "stream",
          "name": "stdout",
          "text": [
            "Paso 1. Obteniendo oraciones\n",
            "# oraciones: 316\n",
            "Paso 2. Procesando texto\n",
            "Paso 3. Creando matriz de similitud\n",
            "Paso 4. Normalizando matriz de similitud\n",
            "Paso 5. Ejecutando TextRank\n",
            "\tPaso 5. Terminado\n"
          ]
        }
      ]
    },
    {
      "cell_type": "code",
      "metadata": {
        "colab": {
          "base_uri": "https://localhost:8080/"
        },
        "id": "14--hdHdZNkW",
        "outputId": "d8258dd2-7b65-44b0-ffed-bb9377515fd7"
      },
      "source": [
        "print_bullet_points(bullet_points)"
      ],
      "execution_count": null,
      "outputs": [
        {
          "output_type": "stream",
          "name": "stdout",
          "text": [
            "- Consider the example text from a news article:\n",
            "\n",
            "\"The Army Corps of Engineers, rushing to meet President Bush's promise to protect New Orleans by the start of the 2006 hurricane season, installed defective flood-control pumps last year despite warnings from its own expert that the equipment would fail during a storm, according to documents obtained by The Associated Press\".A keyphrase extractor might select \"Army Corps of Engineers\", \"President Bush\", \"New Orleans\", and \"defective flood-control pumps\" as keyphrases.\n",
            "\n",
            "- Text summarization finds the most informative sentences in a document; various methods of image summarization are the subject of ongoing research, with some looking to display the most representative images from a given collection or generating a video; video summarization extracts the most important frames from the video content.\n",
            "\n",
            "- For text, extraction is analogous to the process of skimming, where the summary (if available), headings and subheadings, figures, the first and last paragraphs of a section, and optionally the first and last sentences in a paragraph are read before one chooses to read the entire document in detail.\n",
            "\n",
            "- Such transformation, however, is computationally much more challenging than extraction, involving both natural language processing and often a deep understanding of the domain of the original text in cases where the original document relates to a special field of knowledge.\n",
            "\n",
            "- They can enable document browsing by providing a short summary, improve information retrieval (if documents have keyphrases assigned, a user could search by keyphrase to produce more reliable hits than a full-text search), and be employed in generating index entries for a large text corpus.\n",
            "\n"
          ]
        }
      ]
    },
    {
      "cell_type": "code",
      "metadata": {
        "colab": {
          "base_uri": "https://localhost:8080/"
        },
        "id": "z6PnPJkMZ_E9",
        "outputId": "b8bab9d0-5b1d-41c4-9c91-0b03c924ba07"
      },
      "source": [
        "!wget https://www.gutenberg.org/files/84/84-0.txt -O book.txt"
      ],
      "execution_count": null,
      "outputs": [
        {
          "output_type": "stream",
          "name": "stdout",
          "text": [
            "--2022-05-09 13:51:18--  https://www.gutenberg.org/files/84/84-0.txt\n",
            "Resolving www.gutenberg.org (www.gutenberg.org)... 152.19.134.47, 2610:28:3090:3000:0:bad:cafe:47\n",
            "Connecting to www.gutenberg.org (www.gutenberg.org)|152.19.134.47|:443... connected.\n",
            "HTTP request sent, awaiting response... 200 OK\n",
            "Length: 448821 (438K) [text/plain]\n",
            "Saving to: ‘book.txt’\n",
            "\n",
            "book.txt            100%[===================>] 438.30K  2.54MB/s    in 0.2s    \n",
            "\n",
            "2022-05-09 13:51:19 (2.54 MB/s) - ‘book.txt’ saved [448821/448821]\n",
            "\n"
          ]
        }
      ]
    },
    {
      "cell_type": "code",
      "metadata": {
        "colab": {
          "base_uri": "https://localhost:8080/"
        },
        "id": "meluoUwsaDSK",
        "outputId": "fca4401b-6f5b-48cd-f76d-73b6c4576cc0"
      },
      "source": [
        "with open(\"book.txt\") as f:\n",
        "    book_raw = f.read()\n",
        "    \n",
        "print(book_raw[0:1000])"
      ],
      "execution_count": null,
      "outputs": [
        {
          "output_type": "stream",
          "name": "stdout",
          "text": [
            "﻿The Project Gutenberg eBook of Frankenstein, by Mary Wollstonecraft (Godwin) Shelley\n",
            "\n",
            "This eBook is for the use of anyone anywhere in the United States and\n",
            "most other parts of the world at no cost and with almost no restrictions\n",
            "whatsoever. You may copy it, give it away or re-use it under the terms\n",
            "of the Project Gutenberg License included with this eBook or online at\n",
            "www.gutenberg.org. If you are not located in the United States, you\n",
            "will have to check the laws of the country where you are located before\n",
            "using this eBook.\n",
            "\n",
            "Title: Frankenstein\n",
            "       or, The Modern Prometheus\n",
            "\n",
            "Author: Mary Wollstonecraft (Godwin) Shelley\n",
            "\n",
            "Release Date: 31, 1993 [eBook #84]\n",
            "[Most recently updated: November 13, 2020]\n",
            "\n",
            "Language: English\n",
            "\n",
            "Character set encoding: UTF-8\n",
            "\n",
            "Produced by: Judith Boss, Christy Phillips, Lynn Hanninen, and David Meltzer. HTML version by Al Haines.\n",
            "Further corrections by Menno de Leeuw.\n",
            "\n",
            "*** START OF THE PROJECT GUTENBERG EBOOK FRANKENSTEIN ***\n",
            "\n",
            "\n",
            "\n",
            "\n",
            "Frankenstein;\n",
            "\n",
            "or, the Modern Pro\n"
          ]
        }
      ]
    },
    {
      "cell_type": "code",
      "source": [
        "start = book_raw.rfind(\"Chapter 5\\n\")\n",
        "end = book_raw.rfind('Chapter 6\\n')"
      ],
      "metadata": {
        "id": "DymBfakBWb9G"
      },
      "execution_count": null,
      "outputs": []
    },
    {
      "cell_type": "code",
      "source": [
        "chapter_n = book_raw[start + len(\"Chapter 5\\n\"): end]"
      ],
      "metadata": {
        "id": "hGk5g4H6Xo8l"
      },
      "execution_count": null,
      "outputs": []
    },
    {
      "cell_type": "code",
      "source": [
        "chapter_n"
      ],
      "metadata": {
        "colab": {
          "base_uri": "https://localhost:8080/",
          "height": 157
        },
        "id": "-UWfUSwEGagL",
        "outputId": "b0918834-0fd6-42b2-823e-e704bed19fba"
      },
      "execution_count": null,
      "outputs": [
        {
          "output_type": "execute_result",
          "data": {
            "text/plain": [
              "'\\n\\nIt was on a dreary night of November that I beheld the accomplishment\\nof my toils. With an anxiety that almost amounted to agony, I\\ncollected the instruments of life around me, that I might infuse a\\nspark of being into the lifeless thing that lay at my feet. It was\\nalready one in the morning; the rain pattered dismally against the\\npanes, and my candle was nearly burnt out, when, by the glimmer of the\\nhalf-extinguished light, I saw the dull yellow eye of the creature\\nopen; it breathed hard, and a convulsive motion agitated its limbs.\\n\\nHow can I describe my emotions at this catastrophe, or how delineate\\nthe wretch whom with such infinite pains and care I had endeavoured to\\nform? His limbs were in proportion, and I had selected his features as\\nbeautiful. Beautiful! Great God! His yellow skin scarcely covered\\nthe work of muscles and arteries beneath; his hair was of a lustrous\\nblack, and flowing; his teeth of a pearly whiteness; but these\\nluxuriances only formed a more horrid contrast with his watery eyes,\\nthat seemed almost of the same colour as the dun-white sockets in which\\nthey were set, his shrivelled complexion and straight black lips.\\n\\nThe different accidents of life are not so changeable as the feelings\\nof human nature. I had worked hard for nearly two years, for the sole\\npurpose of infusing life into an inanimate body. For this I had\\ndeprived myself of rest and health. I had desired it with an ardour\\nthat far exceeded moderation; but now that I had finished, the beauty\\nof the dream vanished, and breathless horror and disgust filled my\\nheart. Unable to endure the aspect of the being I had created, I\\nrushed out of the room and continued a long time traversing my\\nbed-chamber, unable to compose my mind to sleep. At length lassitude\\nsucceeded to the tumult I had before endured, and I threw myself on the\\nbed in my clothes, endeavouring to seek a few moments of forgetfulness.\\nBut it was in vain; I slept, indeed, but I was disturbed by the wildest\\ndreams. I thought I saw Elizabeth, in the bloom of health, walking in\\nthe streets of Ingolstadt. Delighted and surprised, I embraced her,\\nbut as I imprinted the first kiss on her lips, they became livid with\\nthe hue of death; her features appeared to change, and I thought that I\\nheld the corpse of my dead mother in my arms; a shroud enveloped her\\nform, and I saw the grave-worms crawling in the folds of the flannel.\\nI started from my sleep with horror; a cold dew covered my forehead, my\\nteeth chattered, and every limb became convulsed; when, by the dim and\\nyellow light of the moon, as it forced its way through the window\\nshutters, I beheld the wretch—the miserable monster whom I had\\ncreated. He held up the curtain of the bed; and his eyes, if eyes they\\nmay be called, were fixed on me. His jaws opened, and he muttered some\\ninarticulate sounds, while a grin wrinkled his cheeks. He might have\\nspoken, but I did not hear; one hand was stretched out, seemingly to\\ndetain me, but I escaped and rushed downstairs. I took refuge in the\\ncourtyard belonging to the house which I inhabited, where I remained\\nduring the rest of the night, walking up and down in the greatest\\nagitation, listening attentively, catching and fearing each sound as if\\nit were to announce the approach of the demoniacal corpse to which I\\nhad so miserably given life.\\n\\nOh! No mortal could support the horror of that countenance. A mummy\\nagain endued with animation could not be so hideous as that wretch. I\\nhad gazed on him while unfinished; he was ugly then, but when those\\nmuscles and joints were rendered capable of motion, it became a thing\\nsuch as even Dante could not have conceived.\\n\\nI passed the night wretchedly. Sometimes my pulse beat so quickly and\\nhardly that I felt the palpitation of every artery; at others, I nearly\\nsank to the ground through languor and extreme weakness. Mingled with\\nthis horror, I felt the bitterness of disappointment; dreams that had\\nbeen my food and pleasant rest for so long a space were now become a\\nhell to me; and the change was so rapid, the overthrow so complete!\\n\\nMorning, dismal and wet, at length dawned and discovered to my\\nsleepless and aching eyes the church of Ingolstadt, its white steeple\\nand clock, which indicated the sixth hour. The porter opened the gates\\nof the court, which had that night been my asylum, and I issued into\\nthe streets, pacing them with quick steps, as if I sought to avoid the\\nwretch whom I feared every turning of the street would present to my\\nview. I did not dare return to the apartment which I inhabited, but\\nfelt impelled to hurry on, although drenched by the rain which poured\\nfrom a black and comfortless sky.\\n\\nI continued walking in this manner for some time, endeavouring by\\nbodily exercise to ease the load that weighed upon my mind. I\\ntraversed the streets without any clear conception of where I was or\\nwhat I was doing. My heart palpitated in the sickness of fear, and I\\nhurried on with irregular steps, not daring to look about me:\\n \\n Like one who, on a lonely road,\\n Doth walk in fear and dread,\\n And, having once turned round, walks on,\\n And turns no more his head;\\n Because he knows a frightful fiend\\n Doth close behind him tread.\\n \\n [Coleridge’s “Ancient Mariner.”]\\n\\n\\n\\nContinuing thus, I came at length opposite to the inn at which the various\\ndiligences and carriages usually stopped. Here I paused, I knew not why;\\nbut I remained some minutes with my eyes fixed on a coach that was coming\\ntowards me from the other end of the street. As it drew nearer I observed\\nthat it was the Swiss diligence; it stopped just where I was standing, and\\non the door being opened, I perceived Henry Clerval, who, on seeing me,\\ninstantly sprung out. “My dear Frankenstein,” exclaimed he,\\n“how glad I am to see you! How fortunate that you should be here at\\nthe very moment of my alighting!”\\n\\nNothing could equal my delight on seeing Clerval; his presence brought back\\nto my thoughts my father, Elizabeth, and all those scenes of home so dear\\nto my recollection. I grasped his hand, and in a moment forgot my horror\\nand misfortune; I felt suddenly, and for the first time during many months,\\ncalm and serene joy. I welcomed my friend, therefore, in the most cordial\\nmanner, and we walked towards my college. Clerval continued talking for\\nsome time about our mutual friends and his own good fortune in being\\npermitted to come to Ingolstadt. “You may easily believe,” said\\nhe, “how great was the difficulty to persuade my father that all\\nnecessary knowledge was not comprised in the noble art of book-keeping;\\nand, indeed, I believe I left him incredulous to the last, for his constant\\nanswer to my unwearied entreaties was the same as that of the Dutch\\nschoolmaster in The Vicar of Wakefield: ‘I have ten thousand florins\\na year without Greek, I eat heartily without Greek.’ But his\\naffection for me at length overcame his dislike of learning, and he has\\npermitted me to undertake a voyage of discovery to the land of\\nknowledge.”\\n\\n“It gives me the greatest delight to see you; but tell me how you left\\nmy father, brothers, and Elizabeth.”\\n\\n“Very well, and very happy, only a little uneasy that they hear from\\nyou so seldom. By the by, I mean to lecture you a little upon their\\naccount myself. But, my dear Frankenstein,” continued he, stopping\\nshort and gazing full in my face, “I did not before remark how very ill\\nyou appear; so thin and pale; you look as if you had been watching for\\nseveral nights.”\\n\\n“You have guessed right; I have lately been so deeply engaged in one\\noccupation that I have not allowed myself sufficient rest, as you see;\\nbut I hope, I sincerely hope, that all these employments are now at an\\nend and that I am at length free.”\\n\\nI trembled excessively; I could not endure to think of, and far less to\\nallude to, the occurrences of the preceding night. I walked with a\\nquick pace, and we soon arrived at my college. I then reflected, and\\nthe thought made me shiver, that the creature whom I had left in my\\napartment might still be there, alive and walking about. I dreaded to\\nbehold this monster, but I feared still more that Henry should see him.\\nEntreating him, therefore, to remain a few minutes at the bottom of the\\nstairs, I darted up towards my own room. My hand was already on the\\nlock of the door before I recollected myself. I then paused, and a\\ncold shivering came over me. I threw the door forcibly open, as\\nchildren are accustomed to do when they expect a spectre to stand in\\nwaiting for them on the other side; but nothing appeared. I stepped\\nfearfully in: the apartment was empty, and my bedroom was also freed\\nfrom its hideous guest. I could hardly believe that so great a good\\nfortune could have befallen me, but when I became assured that my enemy\\nhad indeed fled, I clapped my hands for joy and ran down to Clerval.\\n\\nWe ascended into my room, and the servant presently brought breakfast;\\nbut I was unable to contain myself. It was not joy only that possessed\\nme; I felt my flesh tingle with excess of sensitiveness, and my pulse\\nbeat rapidly. I was unable to remain for a single instant in the same\\nplace; I jumped over the chairs, clapped my hands, and laughed aloud.\\nClerval at first attributed my unusual spirits to joy on his arrival,\\nbut when he observed me more attentively, he saw a wildness in my eyes\\nfor which he could not account, and my loud, unrestrained, heartless\\nlaughter frightened and astonished him.\\n\\n“My dear Victor,” cried he, “what, for God’s sake,\\nis the matter? Do not laugh in that manner. How ill you are! What is the\\ncause of all this?”\\n\\n“Do not ask me,” cried I, putting my hands before my eyes, for I\\nthought I saw the dreaded spectre glide into the room; “_he_ can\\ntell. Oh, save me! Save me!” I imagined that the monster seized me;\\nI struggled furiously and fell down in a fit.\\n\\nPoor Clerval! What must have been his feelings? A meeting, which he\\nanticipated with such joy, so strangely turned to bitterness. But I\\nwas not the witness of his grief, for I was lifeless and did not\\nrecover my senses for a long, long time.\\n\\nThis was the commencement of a nervous fever which confined me for\\nseveral months. During all that time Henry was my only nurse. I\\nafterwards learned that, knowing my father’s advanced age and unfitness\\nfor so long a journey, and how wretched my sickness would make\\nElizabeth, he spared them this grief by concealing the extent of my\\ndisorder. He knew that I could not have a more kind and attentive\\nnurse than himself; and, firm in the hope he felt of my recovery, he\\ndid not doubt that, instead of doing harm, he performed the kindest\\naction that he could towards them.\\n\\nBut I was in reality very ill, and surely nothing but the unbounded and\\nunremitting attentions of my friend could have restored me to life.\\nThe form of the monster on whom I had bestowed existence was for ever\\nbefore my eyes, and I raved incessantly concerning him. Doubtless my\\nwords surprised Henry; he at first believed them to be the wanderings\\nof my disturbed imagination, but the pertinacity with which I\\ncontinually recurred to the same subject persuaded him that my disorder\\nindeed owed its origin to some uncommon and terrible event.\\n\\nBy very slow degrees, and with frequent relapses that alarmed and\\ngrieved my friend, I recovered. I remember the first time I became\\ncapable of observing outward objects with any kind of pleasure, I\\nperceived that the fallen leaves had disappeared and that the young\\nbuds were shooting forth from the trees that shaded my window. It was\\na divine spring, and the season contributed greatly to my\\nconvalescence. I felt also sentiments of joy and affection revive in\\nmy bosom; my gloom disappeared, and in a short time I became as\\ncheerful as before I was attacked by the fatal passion.\\n\\n“Dearest Clerval,” exclaimed I, “how kind, how very good\\nyou are to me. This whole winter, instead of being spent in study, as you\\npromised yourself, has been consumed in my sick room. How shall I ever\\nrepay you? I feel the greatest remorse for the disappointment of which I\\nhave been the occasion, but you will forgive me.”\\n\\n“You will repay me entirely if you do not discompose yourself, but get\\nwell as fast as you can; and since you appear in such good spirits, I\\nmay speak to you on one subject, may I not?”\\n\\nI trembled. One subject! What could it be? Could he allude to an object on\\nwhom I dared not even think?\\n\\n“Compose yourself,” said Clerval, who observed my change of\\ncolour, “I will not mention it if it agitates you; but your father\\nand cousin would be very happy if they received a letter from you in your\\nown handwriting. They hardly know how ill you have been and are uneasy at\\nyour long silence.”\\n\\n“Is that all, my dear Henry? How could you suppose that my first\\nthought would not fly towards those dear, dear friends whom I love and\\nwho are so deserving of my love?”\\n\\n“If this is your present temper, my friend, you will perhaps be glad\\nto see a letter that has been lying here some days for you; it is from\\nyour cousin, I believe.”\\n\\n\\n\\n\\n'"
            ],
            "application/vnd.google.colaboratory.intrinsic+json": {
              "type": "string"
            }
          },
          "metadata": {},
          "execution_count": 34
        }
      ]
    },
    {
      "cell_type": "code",
      "metadata": {
        "colab": {
          "base_uri": "https://localhost:8080/"
        },
        "id": "ghILIorhaQWp",
        "outputId": "dd855287-8d00-406b-ea6b-5adf055a736d"
      },
      "source": [
        "bullet_points = summary(chapter_n, 5, False, eig = True)"
      ],
      "execution_count": null,
      "outputs": [
        {
          "output_type": "stream",
          "name": "stdout",
          "text": [
            "Paso 1. Obteniendo oraciones\n",
            "# oraciones: 90\n",
            "Paso 2. Procesando texto\n",
            "Paso 3. Creando matriz de similitud\n",
            "Paso 4. Normalizando matriz de similitud\n",
            "Paso 5. Ejecutando TextRank\n",
            "\tPaso 5. Terminado\n"
          ]
        }
      ]
    },
    {
      "cell_type": "code",
      "metadata": {
        "id": "7xh7Q-Cnagx5",
        "colab": {
          "base_uri": "https://localhost:8080/"
        },
        "outputId": "a4c504d2-d676-4653-9cde-25ec7a8bf729"
      },
      "source": [
        "print_bullet_points(bullet_points)"
      ],
      "execution_count": null,
      "outputs": [
        {
          "output_type": "stream",
          "name": "stdout",
          "text": [
            "- “You may easily believe,” said\n",
            "he, “how great was the difficulty to persuade my father that all\n",
            "necessary knowledge was not comprised in the noble art of book-keeping;\n",
            "and, indeed, I believe I left him incredulous to the last, for his constant\n",
            "answer to my unwearied entreaties was the same as that of the Dutch\n",
            "schoolmaster in The Vicar of Wakefield: ‘I have ten thousand florins\n",
            "a year without Greek, I eat heartily without Greek.’ But his\n",
            "affection for me at length overcame his dislike of learning, and he has\n",
            "permitted me to undertake a voyage of discovery to the land of\n",
            "knowledge.”\n",
            "\n",
            "“It gives me the greatest delight to see you; but tell me how you left\n",
            "my father, brothers, and Elizabeth.”\n",
            "\n",
            "“Very well, and very happy, only a little uneasy that they hear from\n",
            "you so seldom.\n",
            "\n",
            "- But, my dear Frankenstein,” continued he, stopping\n",
            "short and gazing full in my face, “I did not before remark how very ill\n",
            "you appear; so thin and pale; you look as if you had been watching for\n",
            "several nights.”\n",
            "\n",
            "“You have guessed right; I have lately been so deeply engaged in one\n",
            "occupation that I have not allowed myself sufficient rest, as you see;\n",
            "but I hope, I sincerely hope, that all these employments are now at an\n",
            "end and that I am at length free.”\n",
            "\n",
            "I trembled excessively; I could not endure to think of, and far less to\n",
            "allude to, the occurrences of the preceding night.\n",
            "\n",
            "- His yellow skin scarcely covered\n",
            "the work of muscles and arteries beneath; his hair was of a lustrous\n",
            "black, and flowing; his teeth of a pearly whiteness; but these\n",
            "luxuriances only formed a more horrid contrast with his watery eyes,\n",
            "that seemed almost of the same colour as the dun-white sockets in which\n",
            "they were set, his shrivelled complexion and straight black lips.\n",
            "\n",
            "- Delighted and surprised, I embraced her,\n",
            "but as I imprinted the first kiss on her lips, they became livid with\n",
            "the hue of death; her features appeared to change, and I thought that I\n",
            "held the corpse of my dead mother in my arms; a shroud enveloped her\n",
            "form, and I saw the grave-worms crawling in the folds of the flannel.\n",
            "\n",
            "- I took refuge in the\n",
            "courtyard belonging to the house which I inhabited, where I remained\n",
            "during the rest of the night, walking up and down in the greatest\n",
            "agitation, listening attentively, catching and fearing each sound as if\n",
            "it were to announce the approach of the demoniacal corpse to which I\n",
            "had so miserably given life.\n",
            "\n"
          ]
        }
      ]
    },
    {
      "cell_type": "markdown",
      "metadata": {
        "id": "FZkOKPyqbPUy"
      },
      "source": [
        "# Ejercicios"
      ]
    },
    {
      "cell_type": "markdown",
      "metadata": {
        "id": "8FceaxoTbVgN"
      },
      "source": [
        "## Matriz de similitud entre oraciones\n",
        "\n",
        "Para la similitud entre las oraciones se uso el número de palabras que aparecen en ambas. **Reemplazar por similitud coseno** y comparar los resultados.\n",
        "\n",
        "Un muy buen primer acercamiento podría ser usando Latent Semantic Analysis y calcular la similitud coseno entre todos los documentos.\n",
        "\n",
        "Si tienen una DataFrame con las columnas ```[id_documento_1, id_documento_2, similitud]```, usar la función [```pandas.DataFrame.pivot```](https://pandas.pydata.org/docs/reference/api/pandas.DataFrame.pivot.html) puede ayudar a crear la matriz de similitud, dicha función toma como argumentos \"index\", \"columns\" y \"values\".\n",
        "\n",
        "\n"
      ]
    },
    {
      "cell_type": "markdown",
      "metadata": {
        "id": "HqBKwF5MfShn"
      },
      "source": [
        "## Idioma * \n",
        "\n",
        "Este ejemplo esta hecho para texto en inglés por las stopwords que se usan y el radicalizador (PorterStemmer). Hacer los cambios necesarios para que reciba textos en español.\n",
        "\n",
        "Esto es, cambiar las stopwords (nltk tiene stopwords en español) y el radicalizador (Pista: ```nltk.stemmer``` tiene más radicalizadores y uno de ellos tienen un algoritmo para el español)"
      ]
    },
    {
      "cell_type": "markdown",
      "metadata": {
        "id": "zJt0u90fgAWH"
      },
      "source": [
        "## Oraciones vs. Palabras\n",
        "\n",
        "En este Notebook utilizamos las oraciones para obtener el resumen, de haber utilizado las palabras, de TextRank obtendríamos las palabras clave del texto. \n",
        "\n",
        "Implementar TextRank con palabras. Para la matriz de similitud (o adyacencias), se pueden ligar las palabras que son consecutivas o definir una ventana de k palabras consecutivas en cada oración (parecido a skip-gram) y ligar todas estas palabras. En este caso, la matriz A tendría la dimensión del vocabulario (lista de palabras únicas) y tendría un 1 si las palabras están ligadas.\n",
        "\n",
        "Una alternativa más sería ocupar un embedding de palabras (e.g. word2vec) y calcular la similitud coseno entre los vectores de cada palabra para llenas a A.\n",
        "\n",
        "Después de eso, todo sería lo mismo."
      ]
    },
    {
      "cell_type": "markdown",
      "metadata": {
        "id": "LdXDlhlAkkPt"
      },
      "source": [
        "## Resumen sobre un tema * \n",
        "\n",
        "Aquí usamos sólo un documento para aplicarle TextRank. Podemos tener un corpus de documentos del mismo tema (e.g. noticias sobre el AIFA, etc) y aplicarlo para obtener los puntos importantes de todo el corpus.\n",
        "\n",
        "A la implementación actual no se le tiene que cambiar nada, sólo concatenar en una sola cadena de texto todo el corpus.\n",
        "\n",
        "Ejercicio: Construir un corpus con 4 artículos sobre un tema de interés, concatenarlos y pasarlo como parámetro a la función ```summary```."
      ]
    },
    {
      "cell_type": "markdown",
      "metadata": {
        "id": "sRPeC_Mjre7_"
      },
      "source": [
        "## Mejorar la función ```summary```\n",
        "\n",
        "Podemos dividir el código de la función para que funcionen como módulos y permita cierta libertad a la hora de ejecutarse. Por ejemplo, podríamos tener varias funciones que calculen la matriz A de diferentes maneras y que dentro de ```summary``` se ejecute una de tantas de acuerdo a un parámetro de la función.\n",
        "\n",
        "Ejercicio: Crear funciones para cada paso de ```summary```"
      ]
    },
    {
      "cell_type": "markdown",
      "metadata": {
        "id": "flM_zk_I0HAW"
      },
      "source": [
        "# Sobre la obtención de los valores de PageRank\n",
        "\n",
        "https://nlp.stanford.edu/IR-book/html/htmledition/the-pagerank-computation-1.html\n",
        "\n",
        "https://nlp.stanford.edu/IR-book/html/htmledition/markov-chains-1.html"
      ]
    }
  ]
}