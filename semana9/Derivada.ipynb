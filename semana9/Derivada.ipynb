{
  "nbformat": 4,
  "nbformat_minor": 0,
  "metadata": {
    "colab": {
      "name": "semana9_Calculo_Opt_Derivada.ipynb",
      "provenance": [],
      "collapsed_sections": []
    },
    "kernelspec": {
      "name": "python3",
      "display_name": "Python 3"
    },
    "language_info": {
      "name": "python"
    }
  },
  "cells": [
    {
      "cell_type": "markdown",
      "source": [
        "[![Open In Colab](https://colab.research.google.com/assets/colab-badge.svg)](https://colab.research.google.com/github/MaxMitre/Algebra_Lineal/blob/main/semana9/Derivada.ipynb)\n",
        "\n",
        "\n",
        "\n"
      ],
      "metadata": {
        "id": "hwXMJaQLNAgl"
      }
    },
    {
      "cell_type": "markdown",
      "metadata": {
        "id": "T_5475og8tE1"
      },
      "source": [
        "## Objetivo"
      ]
    },
    {
      "cell_type": "markdown",
      "metadata": {
        "id": "s6MULV_a8vJr"
      },
      "source": [
        "1. Derivar funciones en python usando la definición de límite.\n",
        "2. Dar una breve introducción a [sympy](https://www.sympy.org/en/index.html).\n",
        "3. Obtener la matriz Jacobiana ocupando sympy\n",
        "4. Obtener la matriz Hessiana ocupando sympy\n"
      ]
    },
    {
      "cell_type": "markdown",
      "metadata": {
        "id": "G6Gahdrx8s_q"
      },
      "source": [
        "# Introducción"
      ]
    },
    {
      "cell_type": "markdown",
      "metadata": {
        "id": "lWxVLQqS46IH"
      },
      "source": [
        "Definición: La función $f$ es **diferenciable en a** si el $$lim_{h\\rightarrow 0} \\frac{f(a+ h) - f(a)}{h}.$$\n",
        "En este caso, dicho límite se representa mediante **$f'(a)$** y se denomina **la derivada de f en a**. \n",
        "\n",
        "También, $f$ es **diferenciable** si $f$ es diferenciable en $a$ para todo $a$ en el dominio de $f$. (Michael Spivak. (2012). Derivadas e integrales. En Calculus(151). Barcelona: Reverté.)"
      ]
    },
    {
      "cell_type": "code",
      "metadata": {
        "id": "n9CiM1zX4aUP"
      },
      "source": [
        "def derivada(func, a, h = 1e-7):\n",
        "    return (func(a + h) - func(a))/h"
      ],
      "execution_count": null,
      "outputs": []
    },
    {
      "cell_type": "markdown",
      "metadata": {
        "id": "G_RNoZjrBCTW"
      },
      "source": [
        "# Ejemplos\n",
        "\n",
        "Para cada ejemplo, se dará la función, $f$, y su derivada, $f'$, para evaluar la derivada en algún punto arbitrario en su soporte. "
      ]
    },
    {
      "cell_type": "code",
      "metadata": {
        "id": "V72EJi5WCj-V"
      },
      "source": [
        "import numpy as np"
      ],
      "execution_count": null,
      "outputs": []
    },
    {
      "cell_type": "markdown",
      "metadata": {
        "id": "KH9loslZBFAs"
      },
      "source": [
        "1. Sea $f(x) = x^2$, su derivada es $f'(x) = 2x$.\n",
        "\n"
      ]
    },
    {
      "cell_type": "code",
      "metadata": {
        "id": "QGh53yhb86JY",
        "colab": {
          "base_uri": "https://localhost:8080/"
        },
        "outputId": "8133a294-c459-49e1-ca23-5aee676a5d9c"
      },
      "source": [
        "a = 3\n",
        "aprox = derivada(lambda x: x**2, a)\n",
        "real = 2*a\n",
        "print(f'Aproximación: {aprox}')\n",
        "print(f\"Real: {real}\\n\")\n",
        "print(f'Diferencia: {np.abs(real - aprox)}')"
      ],
      "execution_count": null,
      "outputs": [
        {
          "output_type": "stream",
          "name": "stdout",
          "text": [
            "Aproximación: 6.000000087880153\n",
            "Real: 6\n",
            "\n",
            "Diferencia: 8.788015293248463e-08\n"
          ]
        }
      ]
    },
    {
      "cell_type": "code",
      "metadata": {
        "id": "kCmdFSLHCghn"
      },
      "source": [
        "def compara_derivada(func, derivative, a):\n",
        "    aprox = derivada(func, a)\n",
        "    real = derivative(a)\n",
        "    print(f'Aproximación: {aprox}')\n",
        "    print(f\"Real: {real}\\n\")\n",
        "    print(f'Diferencia: {np.abs(real - aprox)}')"
      ],
      "execution_count": null,
      "outputs": []
    },
    {
      "cell_type": "markdown",
      "metadata": {
        "id": "IFfbrmNCBWUY"
      },
      "source": [
        "2. Sea $f(x) = x^3$, su derivada es $f'(x) = 3x^2$."
      ]
    },
    {
      "cell_type": "code",
      "metadata": {
        "id": "96FagbV9ESCa",
        "colab": {
          "base_uri": "https://localhost:8080/"
        },
        "outputId": "8abab88f-88b7-4870-c86c-0464de908a4f"
      },
      "source": [
        "compara_derivada(lambda x: x**3, lambda x: 3*x**2, 3)"
      ],
      "execution_count": null,
      "outputs": [
        {
          "output_type": "stream",
          "name": "stdout",
          "text": [
            "Aproximación: 27.000000848431682\n",
            "Real: 27\n",
            "\n",
            "Diferencia: 8.484316822432447e-07\n"
          ]
        }
      ]
    },
    {
      "cell_type": "markdown",
      "metadata": {
        "id": "FgoqHzIWCUmG"
      },
      "source": [
        "3. Sea $f(x) = sin(x)$, su derivada es $f'(x) = cos(x)$."
      ]
    },
    {
      "cell_type": "code",
      "metadata": {
        "id": "po10m8_xCM0N",
        "colab": {
          "base_uri": "https://localhost:8080/"
        },
        "outputId": "13a4ebe8-b633-46e9-8af9-5f1efd170136"
      },
      "source": [
        "compara_derivada(lambda x: np.sin(x), lambda x: np.cos(x), 3)"
      ],
      "execution_count": null,
      "outputs": [
        {
          "output_type": "stream",
          "name": "stdout",
          "text": [
            "Aproximación: -0.9899925018652667\n",
            "Real: -0.9899924966004454\n",
            "\n",
            "Diferencia: 5.264821245631879e-09\n"
          ]
        }
      ]
    },
    {
      "cell_type": "markdown",
      "metadata": {
        "id": "DDL-LPmdVg0b"
      },
      "source": [
        "# Sympy"
      ]
    },
    {
      "cell_type": "markdown",
      "metadata": {
        "id": "B9CRofk0Vi6X"
      },
      "source": [
        "Es una libreria para álgebra computacional escrita completamente en python."
      ]
    },
    {
      "cell_type": "markdown",
      "metadata": {
        "id": "9g2EI50hWnCL"
      },
      "source": [
        "Para los ejemplos que vimos en la sección pasada, podemos calcular su derivada y evaluarla en diferentes puntos porque el resultado que tendremos será un función, no un escalar."
      ]
    },
    {
      "cell_type": "code",
      "metadata": {
        "id": "r4H0UsMpX4g1"
      },
      "source": [
        "from sympy import symbols, diff, lambdify"
      ],
      "execution_count": null,
      "outputs": []
    },
    {
      "cell_type": "code",
      "metadata": {
        "id": "Ovu0Lw2OXbSu",
        "colab": {
          "base_uri": "https://localhost:8080/",
          "height": 56
        },
        "outputId": "14afb0d0-c0e2-450b-9984-d383551786fa"
      },
      "source": [
        "# Definimos las variables que vamos a usar\n",
        "x = symbols('x')\n",
        "print(type(x))\n",
        "f = x**2\n",
        "f"
      ],
      "execution_count": null,
      "outputs": [
        {
          "output_type": "stream",
          "name": "stdout",
          "text": [
            "<class 'sympy.core.symbol.Symbol'>\n"
          ]
        },
        {
          "output_type": "execute_result",
          "data": {
            "text/plain": [
              "x**2"
            ],
            "text/latex": "$\\displaystyle x^{2}$"
          },
          "metadata": {},
          "execution_count": 9
        }
      ]
    },
    {
      "cell_type": "code",
      "metadata": {
        "id": "TSt00Pg3XusI",
        "colab": {
          "base_uri": "https://localhost:8080/",
          "height": 39
        },
        "outputId": "0b89c7e7-8eee-488e-e239-4af51fe9619b"
      },
      "source": [
        "f_prima = diff(f)\n",
        "f_prima"
      ],
      "execution_count": null,
      "outputs": [
        {
          "output_type": "execute_result",
          "data": {
            "text/plain": [
              "2*x"
            ],
            "text/latex": "$\\displaystyle 2 x$"
          },
          "metadata": {},
          "execution_count": 10
        }
      ]
    },
    {
      "cell_type": "code",
      "source": [
        "# Error, no es una función normal, es un objeto de sympy\n",
        "f_prima(2)"
      ],
      "metadata": {
        "colab": {
          "base_uri": "https://localhost:8080/",
          "height": 165
        },
        "id": "drOtcP5vyodU",
        "outputId": "c189cd8f-4116-4fa4-d413-1e8d2bbe34a0"
      },
      "execution_count": null,
      "outputs": [
        {
          "output_type": "error",
          "ename": "TypeError",
          "evalue": "ignored",
          "traceback": [
            "\u001b[0;31m---------------------------------------------------------------------------\u001b[0m",
            "\u001b[0;31mTypeError\u001b[0m                                 Traceback (most recent call last)",
            "\u001b[0;32m<ipython-input-11-7d24c1121994>\u001b[0m in \u001b[0;36m<module>\u001b[0;34m()\u001b[0m\n\u001b[0;32m----> 1\u001b[0;31m \u001b[0mf_prima\u001b[0m\u001b[0;34m(\u001b[0m\u001b[0;36m2\u001b[0m\u001b[0;34m)\u001b[0m\u001b[0;34m\u001b[0m\u001b[0;34m\u001b[0m\u001b[0m\n\u001b[0m",
            "\u001b[0;31mTypeError\u001b[0m: 'Mul' object is not callable"
          ]
        }
      ]
    },
    {
      "cell_type": "markdown",
      "metadata": {
        "id": "eGWpEO-hYGfv"
      },
      "source": [
        "Para evaluar las funciones (expresiones) usaremos los métodos [```subs```](https://docs.sympy.org/latest/tutorial/basic_operations.html#substitution) o la función [```evalf```](https://docs.sympy.org/latest/tutorial/basic_operations.html#evalf). La segunda es para que el resultado sea un valor de punto flotante."
      ]
    },
    {
      "cell_type": "code",
      "metadata": {
        "id": "nOAD3F40ZW2y",
        "colab": {
          "base_uri": "https://localhost:8080/",
          "height": 55
        },
        "outputId": "1966607e-c29e-4997-b183-b4e025ae598b"
      },
      "source": [
        "res = f_prima.subs(x, 0.5)\n",
        "print(type(res))\n",
        "res"
      ],
      "execution_count": null,
      "outputs": [
        {
          "output_type": "stream",
          "name": "stdout",
          "text": [
            "<class 'sympy.core.numbers.Float'>\n"
          ]
        },
        {
          "output_type": "execute_result",
          "data": {
            "text/plain": [
              "1.00000000000000"
            ],
            "text/latex": "$\\displaystyle 1.0$"
          },
          "metadata": {},
          "execution_count": 20
        }
      ]
    },
    {
      "cell_type": "code",
      "source": [
        "int(res)"
      ],
      "metadata": {
        "colab": {
          "base_uri": "https://localhost:8080/"
        },
        "id": "QCHbTle10T4w",
        "outputId": "84aad1db-c181-46d9-fa06-48e2c89d9da0"
      },
      "execution_count": null,
      "outputs": [
        {
          "output_type": "execute_result",
          "data": {
            "text/plain": [
              "1"
            ]
          },
          "metadata": {},
          "execution_count": 21
        }
      ]
    },
    {
      "cell_type": "code",
      "source": [
        "type(res+res)"
      ],
      "metadata": {
        "colab": {
          "base_uri": "https://localhost:8080/"
        },
        "id": "fvJNHD9Iznfl",
        "outputId": "1bfeb2f4-e0c8-4ffe-e0f3-1acb2cbe00cc"
      },
      "execution_count": null,
      "outputs": [
        {
          "output_type": "execute_result",
          "data": {
            "text/plain": [
              "sympy.core.numbers.Integer"
            ]
          },
          "metadata": {},
          "execution_count": 18
        }
      ]
    },
    {
      "cell_type": "code",
      "metadata": {
        "id": "L7jsknwgZhUB",
        "colab": {
          "base_uri": "https://localhost:8080/",
          "height": 55
        },
        "outputId": "67b4bab7-6407-4028-9214-2883b8db1df0"
      },
      "source": [
        "res = f_prima.evalf(subs = {x: 3})\n",
        "print(type(res))\n",
        "res"
      ],
      "execution_count": null,
      "outputs": [
        {
          "output_type": "stream",
          "name": "stdout",
          "text": [
            "<class 'sympy.core.numbers.Float'>\n"
          ]
        },
        {
          "output_type": "execute_result",
          "data": {
            "text/plain": [
              "6.00000000000000"
            ],
            "text/latex": "$\\displaystyle 6.0$"
          },
          "metadata": {},
          "execution_count": 22
        }
      ]
    },
    {
      "cell_type": "code",
      "source": [
        "float(res)"
      ],
      "metadata": {
        "colab": {
          "base_uri": "https://localhost:8080/"
        },
        "id": "h_MsQIm-0dwd",
        "outputId": "fdbeea34-83d0-4118-efd6-27049dcaa87f"
      },
      "execution_count": null,
      "outputs": [
        {
          "output_type": "execute_result",
          "data": {
            "text/plain": [
              "6.0"
            ]
          },
          "metadata": {},
          "execution_count": 23
        }
      ]
    },
    {
      "cell_type": "code",
      "metadata": {
        "id": "xIbRHJpSaD8p",
        "colab": {
          "base_uri": "https://localhost:8080/"
        },
        "outputId": "a9745b51-6eb9-4c2d-83a1-86176fdb4e00"
      },
      "source": [
        "func = lambdify(x, f_prima, \"math\")\n",
        "print(type(func(.5)))\n",
        "func(0.5)"
      ],
      "execution_count": null,
      "outputs": [
        {
          "output_type": "stream",
          "name": "stdout",
          "text": [
            "<class 'float'>\n"
          ]
        },
        {
          "output_type": "execute_result",
          "data": {
            "text/plain": [
              "1.0"
            ]
          },
          "metadata": {},
          "execution_count": 25
        }
      ]
    },
    {
      "cell_type": "markdown",
      "metadata": {
        "id": "ts-FJQmFfkzY"
      },
      "source": [
        "# Gradiente\n"
      ]
    },
    {
      "cell_type": "markdown",
      "metadata": {
        "id": "MPcvVVjPfn_d"
      },
      "source": [
        "Para $f : \\mathbb{R}^n \\to \\mathbb{R}$, su **gradiente**, $\\nabla f: \\mathbb{R}^n \\to \\mathbb{R}^n$, está definido en el punto $p = (x_1, \\dots, x_n)$ como el vector (columna):\n",
        "\n",
        "\\begin{align}\n",
        "\\nabla f(p) = \\left[\n",
        "    \\begin{matrix}\n",
        "    \\frac{\\partial f}{\\partial x_1}(p) \\\\\n",
        "    \\vdots \\\\\n",
        "    \\frac{\\partial f}{\\partial x_n}(p)\n",
        "    \\end{matrix}\n",
        "    \\right]\n",
        "\\end{align}"
      ]
    },
    {
      "cell_type": "markdown",
      "metadata": {
        "id": "-42x-6_PjhID"
      },
      "source": [
        "**Sea** $f(x, y) = \\frac{x}{y}$. Su gradiente es \n",
        "\n",
        "\\begin{align}\n",
        "    \\nabla f = \\left[\n",
        "        \\begin{matrix}\n",
        "        \\frac{\\partial g}{\\partial x} \\\\\n",
        "        \\frac{\\partial g}{\\partial y}\n",
        "        \\end{matrix}\n",
        "        \\right] = \\left[\n",
        "        \\begin{matrix}\n",
        "        \\frac{1}{y} \\\\\n",
        "        -\\frac{x}{y^2}\n",
        "        \\end{matrix}\n",
        "        \\right]\n",
        "\\end{align}"
      ]
    },
    {
      "cell_type": "code",
      "metadata": {
        "id": "PNj03dcqfqYd"
      },
      "source": [
        "f = lambda x, y: x/y"
      ],
      "execution_count": null,
      "outputs": []
    },
    {
      "cell_type": "markdown",
      "metadata": {
        "id": "uSU9TpAIm80h"
      },
      "source": [
        "Evaluaremos el gradiente en el punto $(1, 2)$."
      ]
    },
    {
      "cell_type": "code",
      "metadata": {
        "id": "tXild1m4l8v4"
      },
      "source": [
        "a = 1\n",
        "b = 2\n",
        "\n",
        "fx = lambda x: x/b\n",
        "fy = lambda y: a/y\n",
        "grad = np.zeros((2, 1))"
      ],
      "execution_count": null,
      "outputs": []
    },
    {
      "cell_type": "code",
      "metadata": {
        "id": "BSS-6RN9nfgK",
        "colab": {
          "base_uri": "https://localhost:8080/"
        },
        "outputId": "ad781cbd-465a-4054-f218-243c067e0d4d"
      },
      "source": [
        "grad[0] = derivada(fx, a)\n",
        "grad[1] = derivada(fy, b)\n",
        "grad"
      ],
      "execution_count": null,
      "outputs": [
        {
          "output_type": "execute_result",
          "data": {
            "text/plain": [
              "array([[ 0.5       ],\n",
              "       [-0.24999999]])"
            ]
          },
          "metadata": {},
          "execution_count": 28
        }
      ]
    },
    {
      "cell_type": "markdown",
      "metadata": {
        "id": "Pw3OlJOvoxSx"
      },
      "source": [
        "Ahora, lo haremos con ```sympy```"
      ]
    },
    {
      "cell_type": "code",
      "metadata": {
        "id": "qs3EBppNozYI"
      },
      "source": [
        "from sympy import symbols\n",
        "x, y = symbols('x y')\n",
        "f = x/y"
      ],
      "execution_count": null,
      "outputs": []
    },
    {
      "cell_type": "code",
      "metadata": {
        "id": "Zo36hSN2o7Dm",
        "colab": {
          "base_uri": "https://localhost:8080/",
          "height": 62
        },
        "outputId": "a6400e0c-78fd-4cbe-9159-895dfb562f0c"
      },
      "source": [
        "from sympy import Matrix\n",
        "grad = Matrix([f.diff(x), f.diff(y)])\n",
        "grad"
      ],
      "execution_count": null,
      "outputs": [
        {
          "output_type": "execute_result",
          "data": {
            "text/plain": [
              "Matrix([\n",
              "[    1/y],\n",
              "[-x/y**2]])"
            ],
            "text/latex": "$\\displaystyle \\left[\\begin{matrix}\\frac{1}{y}\\\\- \\frac{x}{y^{2}}\\end{matrix}\\right]$"
          },
          "metadata": {},
          "execution_count": 30
        }
      ]
    },
    {
      "cell_type": "code",
      "metadata": {
        "id": "PMj2zqmzpd3-",
        "colab": {
          "base_uri": "https://localhost:8080/",
          "height": 58
        },
        "outputId": "991ed1d0-b6aa-4b4d-e2e7-52da429d6cee"
      },
      "source": [
        "grad.subs([(x, a), (y, b)])"
      ],
      "execution_count": null,
      "outputs": [
        {
          "output_type": "execute_result",
          "data": {
            "text/plain": [
              "Matrix([\n",
              "[ 1/2],\n",
              "[-1/4]])"
            ],
            "text/latex": "$\\displaystyle \\left[\\begin{matrix}\\frac{1}{2}\\\\- \\frac{1}{4}\\end{matrix}\\right]$"
          },
          "metadata": {},
          "execution_count": 31
        }
      ]
    },
    {
      "cell_type": "code",
      "metadata": {
        "id": "U1hcyG-mpv_T",
        "colab": {
          "base_uri": "https://localhost:8080/",
          "height": 58
        },
        "outputId": "a695367e-be09-496d-e406-7013dace3e9c"
      },
      "source": [
        "grad.evalf(subs = {x: a, y: b})"
      ],
      "execution_count": null,
      "outputs": [
        {
          "output_type": "execute_result",
          "data": {
            "text/plain": [
              "Matrix([\n",
              "[  0.5],\n",
              "[-0.25]])"
            ],
            "text/latex": "$\\displaystyle \\left[\\begin{matrix}0.5\\\\-0.25\\end{matrix}\\right]$"
          },
          "metadata": {},
          "execution_count": 32
        }
      ]
    },
    {
      "cell_type": "code",
      "metadata": {
        "id": "ZbcgKt_6wy_U",
        "colab": {
          "base_uri": "https://localhost:8080/",
          "height": 62
        },
        "outputId": "7a85831e-189b-460f-ea3f-73efc7e311b0"
      },
      "source": [
        "X = [x, y]\n",
        "Matrix([f.diff(var) for var in X])"
      ],
      "execution_count": null,
      "outputs": [
        {
          "output_type": "execute_result",
          "data": {
            "text/plain": [
              "Matrix([\n",
              "[    1/y],\n",
              "[-x/y**2]])"
            ],
            "text/latex": "$\\displaystyle \\left[\\begin{matrix}\\frac{1}{y}\\\\- \\frac{x}{y^{2}}\\end{matrix}\\right]$"
          },
          "metadata": {},
          "execution_count": 33
        }
      ]
    },
    {
      "cell_type": "markdown",
      "metadata": {
        "id": "l9IRuNxZEKRS"
      },
      "source": [
        "# Matriz Jacobiana"
      ]
    },
    {
      "cell_type": "markdown",
      "metadata": {
        "id": "G1GgPXguEPTO"
      },
      "source": [
        "Suponga que $\\mathbf {F} :\\mathbb {R} ^{n}\\to \\mathbb {R} ^{m}$ es una función tal que sus derivadas parciales de primer orden existen en $\\mathbb {R} ^{n}$. La **matriz Jacobiana** de $\\mathbf {F} $, denotada por $\\mathbf {J} \n",
        "$, está definida como una matriz de tamaño $m\\times n$ cuya $(i,j)$-ésima entrada es $J_{i,j} = \\frac{\\partial f_i}{ \\partial x_j}$. O en su forma explícita, \n",
        "\n",
        "\\begin{align}\n",
        "J = \\left[ \\frac{\\partial \\mathbf{F}}{\\partial x_1} \\dots \\frac{\\partial \\mathbf{F}}{\\partial x_n} \\right] = \\left[ \n",
        "    \\begin{matrix}\n",
        "    \\nabla^T f_1 \\\\\n",
        "    \\vdots \\\\\n",
        "    \\nabla^T f_m\n",
        "    \\end{matrix}\n",
        "    \\right] = \n",
        "    \\left[ \n",
        "        \\begin{matrix}\n",
        "        \\frac{\\partial f_1}{\\partial x_1}& \\dots& \\frac{\\partial f_1}{\\partial x_n} \\\\\n",
        "        \\vdots& \\ddots&\\vdots\\\\\n",
        "        \\frac{\\partial f_m}{\\partial x_1} &\\dots& \\frac{\\partial f_m}{\\partial x_n} \\\\ \n",
        "        \\end{matrix}\n",
        "    \\right]\n",
        "\\end{align}"
      ]
    },
    {
      "cell_type": "markdown",
      "metadata": {
        "id": "qiZt_JcPq_IY"
      },
      "source": [
        "Obtendremos la matriz Jacobiana de la función $h(x, y, z) = (x^2, \\frac{x}{y}, 2x + 3y)$"
      ]
    },
    {
      "cell_type": "code",
      "metadata": {
        "id": "b-4osx70rQiI",
        "colab": {
          "base_uri": "https://localhost:8080/",
          "height": 80
        },
        "outputId": "fbcdfc64-0d95-4c7a-a104-9b115226cdc2"
      },
      "source": [
        "x, y, z = symbols('x y z') # Ya no es necesario definirlos porque están definidos arriba\n",
        "h = Matrix([\n",
        "            x**2, \n",
        "            x/y, \n",
        "            2*x + 3*y\n",
        "            ])\n",
        "h.jacobian([x, y, z])"
      ],
      "execution_count": null,
      "outputs": [
        {
          "output_type": "execute_result",
          "data": {
            "text/plain": [
              "Matrix([\n",
              "[2*x,       0, 0],\n",
              "[1/y, -x/y**2, 0],\n",
              "[  2,       3, 0]])"
            ],
            "text/latex": "$\\displaystyle \\left[\\begin{matrix}2 x & 0 & 0\\\\\\frac{1}{y} & - \\frac{x}{y^{2}} & 0\\\\2 & 3 & 0\\end{matrix}\\right]$"
          },
          "metadata": {},
          "execution_count": 34
        }
      ]
    },
    {
      "cell_type": "markdown",
      "metadata": {
        "id": "bF5YGpefyDhL"
      },
      "source": [
        "# Matriz Hessiana"
      ]
    },
    {
      "cell_type": "markdown",
      "metadata": {
        "id": "inBKsKgpyNAn"
      },
      "source": [
        "La matriz Hessiana es una matirz cuadrada con las derivadas parciales de segundo orden de una función.\n",
        "\n",
        "Sea $f : \\mathbb{R}^n \\to \\mathbb{R}$. Si todas las derivadas parciales de segundo orden existen y son continuas en el dominio de la función, entonces la matriz **Hessiana** de $f$ es una matriz cuadrada de $n\\times n$, de la siguiente manera:\n",
        "\n",
        "\\begin{align}\n",
        "H_f = \\left[\n",
        "    \\begin{matrix}\n",
        "    \\frac{\\partial^2 f}{\\partial x_1^2} & \\frac{\\partial^2 f}{\\partial x_1 \\partial x_2} & \\dots & \\frac{\\partial^2 f}{\\partial x_1 \\partial x_n} \\\\\n",
        "    \\frac{\\partial^2 f}{\\partial x_2 \\partial x_1} & \\frac{\\partial^2 f}{\\partial x_2^2} & \\dots & \\frac{\\partial^2 f}{\\partial x_1 \\partial x_n} \\\\\n",
        "    \\vdots & \\vdots & \\ddots & \\vdots \\\\\n",
        "    \\frac{\\partial^2 f}{\\partial x_n \\partial x_1} & \\frac{\\partial^2 f}{\\partial x_n \\partial x_2} & \\dots & \\frac{\\partial^2 f}{\\partial x_n^2} \\\\\n",
        "    \\end{matrix}\n",
        "    \\right]\n",
        "\\end{align}"
      ]
    },
    {
      "cell_type": "markdown",
      "metadata": {
        "id": "VeYC9kBwyGAs"
      },
      "source": [
        "Obtendremos la matriz hessiana de $f(x, y, z) = x^6y^4 + z^3$."
      ]
    },
    {
      "cell_type": "code",
      "metadata": {
        "id": "GRsIk32u1RXT"
      },
      "source": [
        "from sympy import hessian\n",
        "x, y, z = symbols(\"x y z\")\n",
        "f = x**6 * y**4 + z**3"
      ],
      "execution_count": null,
      "outputs": []
    },
    {
      "cell_type": "code",
      "metadata": {
        "id": "RiZRAL8t1VT2",
        "colab": {
          "base_uri": "https://localhost:8080/",
          "height": 78
        },
        "outputId": "7197a7a8-e713-44ee-f22d-9a6f4990601c"
      },
      "source": [
        "hessian(f, (x, y, z))"
      ],
      "execution_count": null,
      "outputs": [
        {
          "output_type": "execute_result",
          "data": {
            "text/plain": [
              "Matrix([\n",
              "[30*x**4*y**4, 24*x**5*y**3,   0],\n",
              "[24*x**5*y**3, 12*x**6*y**2,   0],\n",
              "[           0,            0, 6*z]])"
            ],
            "text/latex": "$\\displaystyle \\left[\\begin{matrix}30 x^{4} y^{4} & 24 x^{5} y^{3} & 0\\\\24 x^{5} y^{3} & 12 x^{6} y^{2} & 0\\\\0 & 0 & 6 z\\end{matrix}\\right]$"
          },
          "metadata": {},
          "execution_count": 36
        }
      ]
    },
    {
      "cell_type": "markdown",
      "source": [
        "¿Cuando puede ser útil esto?\n",
        "\n",
        "¿Cuando utilizarían una derivada numérica y cuando una derivada analítica?"
      ],
      "metadata": {
        "id": "MjgeqzTiN2xp"
      }
    }
  ]
}