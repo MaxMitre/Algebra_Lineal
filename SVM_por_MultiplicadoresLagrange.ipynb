{
  "nbformat": 4,
  "nbformat_minor": 0,
  "metadata": {
    "colab": {
      "name": "semana12_Calculo_SVM_por_MultiplicadoresLagrange.ipynb",
      "provenance": [],
      "collapsed_sections": []
    },
    "kernelspec": {
      "name": "python3",
      "display_name": "Python 3"
    },
    "language_info": {
      "name": "python"
    }
  },
  "cells": [
    {
      "cell_type": "markdown",
      "source": [
        "[![Open In Colab](https://colab.research.google.com/assets/colab-badge.svg)](https://colab.research.google.com/github/MaxMitre/Algebra_Lineal/blob/main/semana12/SVM_por_MultiplicadoresLagrange.ipynb)"
      ],
      "metadata": {
        "id": "IsdLoNnuOFV5"
      }
    },
    {
      "cell_type": "markdown",
      "source": [
        "# Suppor Vector Machine utilizando Multiplicadores de Lagrange"
      ],
      "metadata": {
        "id": "UVmei07Qpkvn"
      }
    },
    {
      "cell_type": "markdown",
      "source": [
        "La idea proviene de buscar el vector normal al plano (en nuestro caso recta) que divide los conjuntos de mejor manera dado un cierto margen (que tan separados estan los puntos de dicha recta).\n",
        "\n",
        "<center> <img src='https://miro.medium.com/max/875/1*pudOUTLinEievaMHrdFMwA.png'> </center>\n",
        "\n",
        "La ecuaciones utilizando el enfoque de producto punto entre vectores, sería de la siguiente forma.\n",
        "\n",
        "<center> <img src='https://miro.medium.com/max/875/1*0TwsWfYP1VorwSxXD_O97w.png'> </center>\n",
        "\n",
        "La teoriá de multiplicadores de Lagrange nos dicen que para las soluciones que maximizan/minimizan la función $f(x)$ restringida a $g(x)$, la curva de nivel de $f(x)$ es tangente a la curva de nivel de $g(x)$. Despues, si las curvas de nivel son tangentes, entonces sus gradientes son paralelos. En ecuaciones se ve como:\n",
        "\n",
        "<center> <img src='https://miro.medium.com/max/1400/1*TZDV9FB3xAO1X9d0DgPvNQ.png'> </center>\n",
        "\n",
        "Tras varias operaciones, nuestro problema a optimizar se vuelve:\n",
        "\n",
        "<center> <img src='https://miro.medium.com/max/875/1*6-p50VaQsLDN6gJD7qnPPg.png'> </center>\n",
        "\n",
        "Y los gradientes que modificaran nuestro entrenamiento (utilizando gradiente descendiente) son:\n",
        "\n",
        "<center> <img src='https://miro.medium.com/max/875/1*aS3V2y2WL7ggW0xfxRv3xQ.png'> </center>"
      ],
      "metadata": {
        "id": "krODOI3LJ0Gd"
      }
    },
    {
      "cell_type": "code",
      "source": [
        "from google.colab import drive\n",
        "drive.mount('/content/drive')"
      ],
      "metadata": {
        "colab": {
          "base_uri": "https://localhost:8080/"
        },
        "id": "Jz5gyKHdhHn-",
        "outputId": "e01dedd2-7f2f-4f4c-bff7-9c5e6768aa95"
      },
      "execution_count": null,
      "outputs": [
        {
          "output_type": "stream",
          "name": "stdout",
          "text": [
            "Drive already mounted at /content/drive; to attempt to forcibly remount, call drive.mount(\"/content/drive\", force_remount=True).\n"
          ]
        }
      ]
    },
    {
      "cell_type": "markdown",
      "source": [
        "# Dependencias"
      ],
      "metadata": {
        "id": "68ruhf3AisEa"
      }
    },
    {
      "cell_type": "code",
      "source": [
        "import numpy as np"
      ],
      "metadata": {
        "id": "I1FNoAwNhtO0"
      },
      "execution_count": null,
      "outputs": []
    },
    {
      "cell_type": "markdown",
      "source": [
        "# Datos"
      ],
      "metadata": {
        "id": "UzeZegQliofm"
      }
    },
    {
      "cell_type": "code",
      "source": [
        "data = np.genfromtxt('/content/drive/MyDrive/Curso-Algebra/semana12/data.csv', dtype=float, delimiter=',')"
      ],
      "metadata": {
        "id": "Qpx8p_cLhGOL"
      },
      "execution_count": null,
      "outputs": []
    },
    {
      "cell_type": "code",
      "source": [
        "# Arreglo de numpy, primer columna es la etiqueta, segunda y tercera columna son características de los datos\n",
        "data"
      ],
      "metadata": {
        "colab": {
          "base_uri": "https://localhost:8080/"
        },
        "id": "V_UU5AhGh9ck",
        "outputId": "eedee793-83f7-4f38-d434-c4fae1b389c9"
      },
      "execution_count": null,
      "outputs": [
        {
          "output_type": "execute_result",
          "data": {
            "text/plain": [
              "array([[ 1.    ,  2.6487,  4.5192],\n",
              "       [ 1.    ,  1.5438,  2.4443],\n",
              "       [ 1.    ,  1.899 ,  4.2409],\n",
              "       [ 1.    ,  2.4711,  5.8097],\n",
              "       [ 1.    ,  3.359 ,  6.4423],\n",
              "       [ 1.    ,  3.2406,  5.8097],\n",
              "       [ 1.    ,  3.8128,  6.3917],\n",
              "       [ 1.    ,  4.4441,  6.8725],\n",
              "       [ 1.    ,  3.6747,  6.7966],\n",
              "       [ 1.    ,  4.7401,  8.163 ],\n",
              "       [ 1.    ,  3.8917,  7.4038],\n",
              "       [ 1.    ,  4.602 ,  7.6316],\n",
              "       [ 1.    ,  5.7265,  7.7581],\n",
              "       [ 1.    ,  4.9571,  6.5688],\n",
              "       [ 1.    ,  3.9903,  5.3543],\n",
              "       [ 1.    ,  3.0236,  4.4686],\n",
              "       [ 1.    ,  2.0568,  2.9757],\n",
              "       [ 1.    ,  1.2676,  2.4443],\n",
              "       [ 1.    ,  1.169 ,  0.9008],\n",
              "       [ 1.    ,  1.7411,  2.1154],\n",
              "       [ 1.    ,  1.386 ,  3.2794],\n",
              "       [ 1.    ,  1.5636,  4.165 ],\n",
              "       [ 1.    ,  1.8793,  4.8482],\n",
              "       [ 1.    ,  2.7868,  3.33  ],\n",
              "       [ 1.    ,  3.5563,  5.1518],\n",
              "       [ 1.    ,  4.0693,  6.2652],\n",
              "       [ 1.    ,  4.3849,  6.2652],\n",
              "       [ 1.    ,  1.5438,  7.2014],\n",
              "       [ 1.    ,  2.412 ,  7.6569],\n",
              "       [ 1.    ,  1.7806,  6.1387],\n",
              "       [ 1.    ,  1.4057,  4.4939],\n",
              "       [ 1.    ,  2.6093,  4.8735],\n",
              "       [ 1.    ,  3.0828,  5.5314],\n",
              "       [ 1.    ,  3.9311,  6.0121],\n",
              "       [ 1.    ,  4.7598,  7.1508],\n",
              "       [ 1.    ,  5.3122,  7.7075],\n",
              "       [ 1.    ,  5.7068,  8.3148],\n",
              "       [ 1.    ,  5.1149,  8.5172],\n",
              "       [ 1.    ,  5.4109,  8.7449],\n",
              "       [ 1.    ,  3.8128,  7.8593],\n",
              "       [ 1.    ,  3.2406,  6.999 ],\n",
              "       [ 1.    ,  2.9052,  5.5061],\n",
              "       [ 1.    ,  2.6882,  4.9241],\n",
              "       [ 1.    ,  3.8325,  6.6447],\n",
              "       [ 1.    ,  4.5428,  7.6822],\n",
              "       [ 1.    ,  5.7857,  8.0364],\n",
              "       [ 1.    ,  6.5552,  8.9221],\n",
              "       [ 1.    ,  5.253 ,  7.8593],\n",
              "       [ 1.    ,  5.2333,  6.5941],\n",
              "       [ 1.    ,  4.7598,  6.0374],\n",
              "       [-1.    ,  4.5822,  2.7227],\n",
              "       [-1.    ,  3.6549,  1.9383],\n",
              "       [-1.    ,  2.9841,  1.6852],\n",
              "       [-1.    ,  4.4244,  4.3168],\n",
              "       [-1.    ,  3.7536,  3.4312],\n",
              "       [-1.    ,  5.2728,  5.4808],\n",
              "       [-1.    ,  4.8387,  4.1144],\n",
              "       [-1.    ,  4.4244,  3.2034],\n",
              "       [-1.    ,  5.3911,  4.1144],\n",
              "       [-1.    ,  6.0817,  5.1012],\n",
              "       [-1.    ,  5.5687,  4.8988],\n",
              "       [-1.    ,  6.4565,  5.9615],\n",
              "       [-1.    ,  6.0028,  5.7591],\n",
              "       [-1.    ,  6.7722,  6.6953],\n",
              "       [-1.    ,  6.6538,  5.7338],\n",
              "       [-1.    ,  7.1471,  6.6194],\n",
              "       [-1.    ,  7.5219,  7.2014],\n",
              "       [-1.    ,  6.8314,  7.2014],\n",
              "       [-1.    ,  7.6206,  8.5931],\n",
              "       [-1.    ,  7.1865,  7.7581],\n",
              "       [-1.    ,  7.7784,  7.7581],\n",
              "       [-1.    ,  7.6009,  5.1012],\n",
              "       [-1.    ,  6.496 ,  4.2156],\n",
              "       [-1.    ,  5.8055,  3.4818],\n",
              "       [-1.    ,  5.0163,  2.3684],\n",
              "       [-1.    ,  4.1876,  1.7864],\n",
              "       [-1.    ,  3.4379,  0.9008],\n",
              "       [-1.    ,  5.7857,  0.9008],\n",
              "       [-1.    ,  6.3382,  1.9636],\n",
              "       [-1.    ,  4.9571,  1.4069],\n",
              "       [-1.    ,  6.8511,  2.419 ],\n",
              "       [-1.    ,  6.0817,  2.8745],\n",
              "       [-1.    ,  7.1668,  4.0132],\n",
              "       [-1.    ,  7.226 ,  4.6711],\n",
              "       [-1.    ,  8.1533,  5.1771],\n",
              "       [-1.    ,  7.4825,  6.2146],\n",
              "       [-1.    ,  7.0484,  5.4555],\n",
              "       [-1.    ,  8.5084,  5.9868],\n",
              "       [-1.    ,  7.5417,  4.0891],\n",
              "       [-1.    ,  7.2063,  2.3937],\n",
              "       [-1.    ,  6.5355,  1.331 ],\n",
              "       [-1.    ,  5.4503,  1.7358],\n",
              "       [-1.    ,  5.8449,  2.4443],\n",
              "       [-1.    ,  4.8979,  3.1781],\n",
              "       [-1.    ,  5.8055,  4.6711],\n",
              "       [-1.    ,  7.3641,  5.9868],\n",
              "       [-1.    ,  6.2592,  4.6711],\n",
              "       [-1.    ,  8.3703,  7.581 ],\n",
              "       [-1.    ,  8.5676,  4.6457],\n",
              "       [-1.    ,  8.1676,  4.6457]])"
            ]
          },
          "metadata": {},
          "execution_count": 4
        }
      ]
    },
    {
      "cell_type": "markdown",
      "source": [
        "## Visualicación de los datos"
      ],
      "metadata": {
        "id": "liRHO8MOiuUp"
      }
    },
    {
      "cell_type": "code",
      "source": [
        "# Datos de clase 1\n",
        "class_plus = data[np.where(data[:,0] > 0)]\n",
        "class_plus"
      ],
      "metadata": {
        "colab": {
          "base_uri": "https://localhost:8080/"
        },
        "id": "Sxh8Ubo5ioQZ",
        "outputId": "3b3379d5-b0f1-458b-bae8-f54220954ba3"
      },
      "execution_count": null,
      "outputs": [
        {
          "output_type": "execute_result",
          "data": {
            "text/plain": [
              "array([[1.    , 2.6487, 4.5192],\n",
              "       [1.    , 1.5438, 2.4443],\n",
              "       [1.    , 1.899 , 4.2409],\n",
              "       [1.    , 2.4711, 5.8097],\n",
              "       [1.    , 3.359 , 6.4423],\n",
              "       [1.    , 3.2406, 5.8097],\n",
              "       [1.    , 3.8128, 6.3917],\n",
              "       [1.    , 4.4441, 6.8725],\n",
              "       [1.    , 3.6747, 6.7966],\n",
              "       [1.    , 4.7401, 8.163 ],\n",
              "       [1.    , 3.8917, 7.4038],\n",
              "       [1.    , 4.602 , 7.6316],\n",
              "       [1.    , 5.7265, 7.7581],\n",
              "       [1.    , 4.9571, 6.5688],\n",
              "       [1.    , 3.9903, 5.3543],\n",
              "       [1.    , 3.0236, 4.4686],\n",
              "       [1.    , 2.0568, 2.9757],\n",
              "       [1.    , 1.2676, 2.4443],\n",
              "       [1.    , 1.169 , 0.9008],\n",
              "       [1.    , 1.7411, 2.1154],\n",
              "       [1.    , 1.386 , 3.2794],\n",
              "       [1.    , 1.5636, 4.165 ],\n",
              "       [1.    , 1.8793, 4.8482],\n",
              "       [1.    , 2.7868, 3.33  ],\n",
              "       [1.    , 3.5563, 5.1518],\n",
              "       [1.    , 4.0693, 6.2652],\n",
              "       [1.    , 4.3849, 6.2652],\n",
              "       [1.    , 1.5438, 7.2014],\n",
              "       [1.    , 2.412 , 7.6569],\n",
              "       [1.    , 1.7806, 6.1387],\n",
              "       [1.    , 1.4057, 4.4939],\n",
              "       [1.    , 2.6093, 4.8735],\n",
              "       [1.    , 3.0828, 5.5314],\n",
              "       [1.    , 3.9311, 6.0121],\n",
              "       [1.    , 4.7598, 7.1508],\n",
              "       [1.    , 5.3122, 7.7075],\n",
              "       [1.    , 5.7068, 8.3148],\n",
              "       [1.    , 5.1149, 8.5172],\n",
              "       [1.    , 5.4109, 8.7449],\n",
              "       [1.    , 3.8128, 7.8593],\n",
              "       [1.    , 3.2406, 6.999 ],\n",
              "       [1.    , 2.9052, 5.5061],\n",
              "       [1.    , 2.6882, 4.9241],\n",
              "       [1.    , 3.8325, 6.6447],\n",
              "       [1.    , 4.5428, 7.6822],\n",
              "       [1.    , 5.7857, 8.0364],\n",
              "       [1.    , 6.5552, 8.9221],\n",
              "       [1.    , 5.253 , 7.8593],\n",
              "       [1.    , 5.2333, 6.5941],\n",
              "       [1.    , 4.7598, 6.0374]])"
            ]
          },
          "metadata": {},
          "execution_count": 5
        }
      ]
    },
    {
      "cell_type": "code",
      "source": [
        "# Datos de clase -1\n",
        "class_minus = data[np.where(data[:,0] < 0)]\n",
        "class_minus"
      ],
      "metadata": {
        "colab": {
          "base_uri": "https://localhost:8080/"
        },
        "id": "Yyq7b1mmmsB-",
        "outputId": "ad1404e8-0d56-48b3-a868-d5a0ef509e46"
      },
      "execution_count": null,
      "outputs": [
        {
          "output_type": "execute_result",
          "data": {
            "text/plain": [
              "array([[-1.    ,  4.5822,  2.7227],\n",
              "       [-1.    ,  3.6549,  1.9383],\n",
              "       [-1.    ,  2.9841,  1.6852],\n",
              "       [-1.    ,  4.4244,  4.3168],\n",
              "       [-1.    ,  3.7536,  3.4312],\n",
              "       [-1.    ,  5.2728,  5.4808],\n",
              "       [-1.    ,  4.8387,  4.1144],\n",
              "       [-1.    ,  4.4244,  3.2034],\n",
              "       [-1.    ,  5.3911,  4.1144],\n",
              "       [-1.    ,  6.0817,  5.1012],\n",
              "       [-1.    ,  5.5687,  4.8988],\n",
              "       [-1.    ,  6.4565,  5.9615],\n",
              "       [-1.    ,  6.0028,  5.7591],\n",
              "       [-1.    ,  6.7722,  6.6953],\n",
              "       [-1.    ,  6.6538,  5.7338],\n",
              "       [-1.    ,  7.1471,  6.6194],\n",
              "       [-1.    ,  7.5219,  7.2014],\n",
              "       [-1.    ,  6.8314,  7.2014],\n",
              "       [-1.    ,  7.6206,  8.5931],\n",
              "       [-1.    ,  7.1865,  7.7581],\n",
              "       [-1.    ,  7.7784,  7.7581],\n",
              "       [-1.    ,  7.6009,  5.1012],\n",
              "       [-1.    ,  6.496 ,  4.2156],\n",
              "       [-1.    ,  5.8055,  3.4818],\n",
              "       [-1.    ,  5.0163,  2.3684],\n",
              "       [-1.    ,  4.1876,  1.7864],\n",
              "       [-1.    ,  3.4379,  0.9008],\n",
              "       [-1.    ,  5.7857,  0.9008],\n",
              "       [-1.    ,  6.3382,  1.9636],\n",
              "       [-1.    ,  4.9571,  1.4069],\n",
              "       [-1.    ,  6.8511,  2.419 ],\n",
              "       [-1.    ,  6.0817,  2.8745],\n",
              "       [-1.    ,  7.1668,  4.0132],\n",
              "       [-1.    ,  7.226 ,  4.6711],\n",
              "       [-1.    ,  8.1533,  5.1771],\n",
              "       [-1.    ,  7.4825,  6.2146],\n",
              "       [-1.    ,  7.0484,  5.4555],\n",
              "       [-1.    ,  8.5084,  5.9868],\n",
              "       [-1.    ,  7.5417,  4.0891],\n",
              "       [-1.    ,  7.2063,  2.3937],\n",
              "       [-1.    ,  6.5355,  1.331 ],\n",
              "       [-1.    ,  5.4503,  1.7358],\n",
              "       [-1.    ,  5.8449,  2.4443],\n",
              "       [-1.    ,  4.8979,  3.1781],\n",
              "       [-1.    ,  5.8055,  4.6711],\n",
              "       [-1.    ,  7.3641,  5.9868],\n",
              "       [-1.    ,  6.2592,  4.6711],\n",
              "       [-1.    ,  8.3703,  7.581 ],\n",
              "       [-1.    ,  8.5676,  4.6457],\n",
              "       [-1.    ,  8.1676,  4.6457]])"
            ]
          },
          "metadata": {},
          "execution_count": 6
        }
      ]
    },
    {
      "cell_type": "code",
      "source": [
        "import matplotlib.pyplot as plt"
      ],
      "metadata": {
        "id": "IvRrbODhnFDo"
      },
      "execution_count": null,
      "outputs": []
    },
    {
      "cell_type": "code",
      "source": [
        "plt.scatter(class_plus[:, 1], class_plus[:, 2], label=\"Clase 1\")\n",
        "plt.scatter(class_minus[:, 1], class_minus[:, 2], label='Clase -1')\n",
        "plt.legend()"
      ],
      "metadata": {
        "colab": {
          "base_uri": "https://localhost:8080/",
          "height": 282
        },
        "id": "deODT3HznJ_q",
        "outputId": "9cace483-24e3-4c6a-bca3-7b369b7e145c"
      },
      "execution_count": null,
      "outputs": [
        {
          "output_type": "execute_result",
          "data": {
            "text/plain": [
              "<matplotlib.legend.Legend at 0x7f130ac91510>"
            ]
          },
          "metadata": {},
          "execution_count": 8
        },
        {
          "output_type": "display_data",
          "data": {
            "text/plain": [
              "<Figure size 432x288 with 1 Axes>"
            ],
            "image/png": "[encoded data removed]"
          },
          "metadata": {
            "needs_background": "light"
          }
        }
      ]
    },
    {
      "cell_type": "markdown",
      "source": [
        "# SVM con Multiplicadores de Lagrange\n",
        "\n",
        "Creación de la clase con la que instanciaremos objetos de tipo SVM.\n",
        "\n",
        "Esto se hace para poder trabajar mas facilmente con el modelo. Mas adelante desmenuzaremos los métodos que tienen los objetos de clase \"SVM\"."
      ],
      "metadata": {
        "id": "Stw4Oxtaixon"
      }
    },
    {
      "cell_type": "code",
      "execution_count": null,
      "metadata": {
        "id": "fQNzkOK4gFyg"
      },
      "outputs": [],
      "source": [
        "class SVM:\n",
        "    def __init__(self, X, y, num_of_epochs, lr, C):\n",
        "        \n",
        "        self.X = X\n",
        "        self.y = y\n",
        "        self.num_of_epochs = num_of_epochs\n",
        "        self.lr = lr\n",
        "        self.C = C\n",
        "        \n",
        "        # Add column vector of ones for computational convenience \n",
        "        self.X = np.column_stack((np.ones(len(X)), X)) \n",
        "        \n",
        "        # Initialize normal vector\n",
        "        self.w = np.ones(len(self.X[0]))\n",
        "\n",
        "\n",
        "    def distances(self, w, with_lagrange=True):\n",
        "      distances = self.y * (np.dot(self.X, w)) - 1\n",
        "\n",
        "      # get distance from the current decision boundary\n",
        "      # by considering 1 width of margin\n",
        "\n",
        "      if with_lagrange:  # if lagrange multiplier considered\n",
        "          # if distance is more than 0\n",
        "          # sample is not on the support vector\n",
        "          # Lagrange multiplier will be 0\n",
        "          distances[distances > 0] = 0\n",
        "\n",
        "      return distances\n",
        "\n",
        "\n",
        "    def get_cost_grads(self, X, w, y):\n",
        "      distances = self.distances(w)\n",
        "\n",
        "      # Get current cost\n",
        "      L = 1 / 2 * np.dot(w, w) - self.C * np.sum(distances)\n",
        "\n",
        "      dw = np.zeros(len(w))\n",
        "\n",
        "      for ind, d in enumerate(distances):\n",
        "          if d == 0:  # if sample is not on the support vector\n",
        "              di = w  # (alpha * y[ind] * X[ind]) = 0\n",
        "          else:\n",
        "              # (alpha * y[ind] * X[ind]) = y[ind] * X[ind]\n",
        "              di = w - (self.C * y[ind] * X[ind])\n",
        "          dw += di\n",
        "      return L, dw / len(X)\n",
        "\n",
        "\n",
        "\n",
        "    def fit(self):\n",
        "      for i in range(self.num_of_epochs):\n",
        "        L, dw = self.get_cost_grads(self.X, self.w, self.y)\n",
        "        self.w = self.w - self.lr * dw\n",
        "        if i % 100 == 0: # cada 1000\n",
        "            print(i, ' | ', L)\n",
        "\n",
        "\n",
        "    def predict(self, X):\n",
        "      X = np.column_stack((np.ones(len(X)), X))\n",
        "      return np.sign(X @ self.w)"
      ]
    },
    {
      "cell_type": "markdown",
      "source": [
        "## Método \"__init__\"\n",
        "\n",
        "Es el método constructor, donde definimos atributos básicos que tendrá nuestro modelo:\n",
        "\n",
        "    def __init__(self, X, y, num_of_epochs, lr, C):\n",
        "        \n",
        "        self.X = X\n",
        "        self.y = y\n",
        "        self.num_of_epochs = num_of_epochs\n",
        "        self.lr = lr\n",
        "        self.C = C\n",
        "        \n",
        "        # Add column vector of ones for computational convenience \n",
        "        self.X = np.column_stack((np.ones(len(X)), X)) \n",
        "        \n",
        "        # Initialize normal vector\n",
        "        self.w = np.ones(len(self.X[0]))\n",
        "\n",
        "Recibe:\n",
        "- \"X\" que serán las características o variables predictoras\n",
        "- \"y\" la variable objetivo o a predecir\n",
        "- \"num_of_epochs\" la cantidad de épocas que tendrá el entrenamiento\n",
        "- \"lr\" el learning rate (que tan rápido aprenderá el modelo)\n",
        "- \"C\" es la constante que controla que tanta influencia tiene los vectores de soporte en el entrenamiento, \"C\" mas grande equivale a hacer un margen menor, \"C\" pequeña a un margen mayor."
      ],
      "metadata": {
        "id": "NQJC67E05S4C"
      }
    },
    {
      "cell_type": "markdown",
      "source": [
        "## Método \"distances\"\n",
        "\n",
        "\n",
        "    def distances(self, w, with_lagrange=True):\n",
        "      distances = self.y * (np.dot(self.X, w)) - 1\n",
        "\n",
        "      # get distance from the current decision boundary\n",
        "      # by considering 1 width of margin\n",
        "\n",
        "      if with_lagrange:  # if lagrange multiplier considered\n",
        "          # if distance is more than 0\n",
        "          # sample is not on the support vector\n",
        "          # Lagrange multiplier will be 0\n",
        "          distances[distances > 0] = 0\n",
        "\n",
        "      return distances\n",
        "\n",
        "Este toma las distancias a la frontera de desición que tienen un margen de 1 de ancho. Si la distancia es positiva, estas no afectan el problema con restricción por lo que vuelve la \"distancia\" cero."
      ],
      "metadata": {
        "id": "FchV31_3_sOz"
      }
    },
    {
      "cell_type": "markdown",
      "source": [
        "## Método \"get_cost_grads\"\n",
        "\n",
        "\n",
        "\n",
        "    def get_cost_grads(self, X, w, y):\n",
        "      distances = self.distances(w)\n",
        "\n",
        "      # Get current cost\n",
        "      L = 1 / 2 * np.dot(w, w) - self.C * np.sum(distances)\n",
        "\n",
        "      dw = np.zeros(len(w))\n",
        "\n",
        "      for ind, d in enumerate(distances):\n",
        "          if d == 0:  # if sample is not on the support vector\n",
        "              di = w  # (alpha * y[ind] * X[ind]) = 0\n",
        "          else:\n",
        "              # (alpha * y[ind] * X[ind]) = y[ind] * X[ind]\n",
        "              di = w - (self.C * y[ind] * X[ind])\n",
        "          dw += di\n",
        "      return L, dw / len(X)\n",
        "\n",
        "Es para calcula el costo dado un vector normal \"w\" y para encontrar el gradiente de la función objetivo con respecto a \"w\"."
      ],
      "metadata": {
        "id": "VDXYOr_j_Pes"
      }
    },
    {
      "cell_type": "markdown",
      "source": [
        "## Métodos \"fit\" y \"predict\"\n",
        "\n",
        "    def fit(self):\n",
        "      for i in range(self.num_of_epochs):\n",
        "        L, dw = self.get_cost_grads(self.X, self.w, self.y)\n",
        "        self.w = self.w - self.lr * dw\n",
        "        if i % 1000 == 0:\n",
        "            print(i, ' | ', L)\n",
        "\n",
        "\n",
        "    def predict(self, X):\n",
        "      X = np.column_stack((np.ones(len(X)), X))\n",
        "      return np.sign(X @ self.w)\n",
        "\n",
        "El método \"fit\" se encarga de actualizar el vector \"w\" en cada iteración. \n",
        "\n",
        "El método \"predict\" nos entrega la clase predicha para algún vector de características. Lo hace tomando en cuenta la frontera de decisión."
      ],
      "metadata": {
        "id": "aKLyVAfNGqSG"
      }
    },
    {
      "cell_type": "markdown",
      "source": [
        "# Entrenamiento"
      ],
      "metadata": {
        "id": "iR_RSCliIVCk"
      }
    },
    {
      "cell_type": "code",
      "source": [
        "data"
      ],
      "metadata": {
        "colab": {
          "base_uri": "https://localhost:8080/"
        },
        "id": "GXGwsrm8Aikm",
        "outputId": "53865b0d-e68d-4286-fa54-8a9adb57d40f"
      },
      "execution_count": null,
      "outputs": [
        {
          "output_type": "execute_result",
          "data": {
            "text/plain": [
              "array([[ 1.    ,  2.6487,  4.5192],\n",
              "       [ 1.    ,  1.5438,  2.4443],\n",
              "       [ 1.    ,  1.899 ,  4.2409],\n",
              "       [ 1.    ,  2.4711,  5.8097],\n",
              "       [ 1.    ,  3.359 ,  6.4423],\n",
              "       [ 1.    ,  3.2406,  5.8097],\n",
              "       [ 1.    ,  3.8128,  6.3917],\n",
              "       [ 1.    ,  4.4441,  6.8725],\n",
              "       [ 1.    ,  3.6747,  6.7966],\n",
              "       [ 1.    ,  4.7401,  8.163 ],\n",
              "       [ 1.    ,  3.8917,  7.4038],\n",
              "       [ 1.    ,  4.602 ,  7.6316],\n",
              "       [ 1.    ,  5.7265,  7.7581],\n",
              "       [ 1.    ,  4.9571,  6.5688],\n",
              "       [ 1.    ,  3.9903,  5.3543],\n",
              "       [ 1.    ,  3.0236,  4.4686],\n",
              "       [ 1.    ,  2.0568,  2.9757],\n",
              "       [ 1.    ,  1.2676,  2.4443],\n",
              "       [ 1.    ,  1.169 ,  0.9008],\n",
              "       [ 1.    ,  1.7411,  2.1154],\n",
              "       [ 1.    ,  1.386 ,  3.2794],\n",
              "       [ 1.    ,  1.5636,  4.165 ],\n",
              "       [ 1.    ,  1.8793,  4.8482],\n",
              "       [ 1.    ,  2.7868,  3.33  ],\n",
              "       [ 1.    ,  3.5563,  5.1518],\n",
              "       [ 1.    ,  4.0693,  6.2652],\n",
              "       [ 1.    ,  4.3849,  6.2652],\n",
              "       [ 1.    ,  1.5438,  7.2014],\n",
              "       [ 1.    ,  2.412 ,  7.6569],\n",
              "       [ 1.    ,  1.7806,  6.1387],\n",
              "       [ 1.    ,  1.4057,  4.4939],\n",
              "       [ 1.    ,  2.6093,  4.8735],\n",
              "       [ 1.    ,  3.0828,  5.5314],\n",
              "       [ 1.    ,  3.9311,  6.0121],\n",
              "       [ 1.    ,  4.7598,  7.1508],\n",
              "       [ 1.    ,  5.3122,  7.7075],\n",
              "       [ 1.    ,  5.7068,  8.3148],\n",
              "       [ 1.    ,  5.1149,  8.5172],\n",
              "       [ 1.    ,  5.4109,  8.7449],\n",
              "       [ 1.    ,  3.8128,  7.8593],\n",
              "       [ 1.    ,  3.2406,  6.999 ],\n",
              "       [ 1.    ,  2.9052,  5.5061],\n",
              "       [ 1.    ,  2.6882,  4.9241],\n",
              "       [ 1.    ,  3.8325,  6.6447],\n",
              "       [ 1.    ,  4.5428,  7.6822],\n",
              "       [ 1.    ,  5.7857,  8.0364],\n",
              "       [ 1.    ,  6.5552,  8.9221],\n",
              "       [ 1.    ,  5.253 ,  7.8593],\n",
              "       [ 1.    ,  5.2333,  6.5941],\n",
              "       [ 1.    ,  4.7598,  6.0374],\n",
              "       [-1.    ,  4.5822,  2.7227],\n",
              "       [-1.    ,  3.6549,  1.9383],\n",
              "       [-1.    ,  2.9841,  1.6852],\n",
              "       [-1.    ,  4.4244,  4.3168],\n",
              "       [-1.    ,  3.7536,  3.4312],\n",
              "       [-1.    ,  5.2728,  5.4808],\n",
              "       [-1.    ,  4.8387,  4.1144],\n",
              "       [-1.    ,  4.4244,  3.2034],\n",
              "       [-1.    ,  5.3911,  4.1144],\n",
              "       [-1.    ,  6.0817,  5.1012],\n",
              "       [-1.    ,  5.5687,  4.8988],\n",
              "       [-1.    ,  6.4565,  5.9615],\n",
              "       [-1.    ,  6.0028,  5.7591],\n",
              "       [-1.    ,  6.7722,  6.6953],\n",
              "       [-1.    ,  6.6538,  5.7338],\n",
              "       [-1.    ,  7.1471,  6.6194],\n",
              "       [-1.    ,  7.5219,  7.2014],\n",
              "       [-1.    ,  6.8314,  7.2014],\n",
              "       [-1.    ,  7.6206,  8.5931],\n",
              "       [-1.    ,  7.1865,  7.7581],\n",
              "       [-1.    ,  7.7784,  7.7581],\n",
              "       [-1.    ,  7.6009,  5.1012],\n",
              "       [-1.    ,  6.496 ,  4.2156],\n",
              "       [-1.    ,  5.8055,  3.4818],\n",
              "       [-1.    ,  5.0163,  2.3684],\n",
              "       [-1.    ,  4.1876,  1.7864],\n",
              "       [-1.    ,  3.4379,  0.9008],\n",
              "       [-1.    ,  5.7857,  0.9008],\n",
              "       [-1.    ,  6.3382,  1.9636],\n",
              "       [-1.    ,  4.9571,  1.4069],\n",
              "       [-1.    ,  6.8511,  2.419 ],\n",
              "       [-1.    ,  6.0817,  2.8745],\n",
              "       [-1.    ,  7.1668,  4.0132],\n",
              "       [-1.    ,  7.226 ,  4.6711],\n",
              "       [-1.    ,  8.1533,  5.1771],\n",
              "       [-1.    ,  7.4825,  6.2146],\n",
              "       [-1.    ,  7.0484,  5.4555],\n",
              "       [-1.    ,  8.5084,  5.9868],\n",
              "       [-1.    ,  7.5417,  4.0891],\n",
              "       [-1.    ,  7.2063,  2.3937],\n",
              "       [-1.    ,  6.5355,  1.331 ],\n",
              "       [-1.    ,  5.4503,  1.7358],\n",
              "       [-1.    ,  5.8449,  2.4443],\n",
              "       [-1.    ,  4.8979,  3.1781],\n",
              "       [-1.    ,  5.8055,  4.6711],\n",
              "       [-1.    ,  7.3641,  5.9868],\n",
              "       [-1.    ,  6.2592,  4.6711],\n",
              "       [-1.    ,  8.3703,  7.581 ],\n",
              "       [-1.    ,  8.5676,  4.6457],\n",
              "       [-1.    ,  8.1676,  4.6457]])"
            ]
          },
          "metadata": {},
          "execution_count": 9
        }
      ]
    },
    {
      "cell_type": "code",
      "source": [
        "np.random.shuffle(data)\n",
        "\n",
        "train_y = data[:, 0]\n",
        "train_x = data[:, 1:]\n",
        "\n",
        "clf = SVM(train_x, train_y, num_of_epochs=10000, lr=1e-3, C=20) # 10000 epocas, C=30\n",
        "clf.fit()\n",
        "\n",
        "predict = np.sign(clf.predict(train_x))\n",
        "p = predict - train_y.flatten()\n",
        "\n",
        "# Prediction accuracy should be 1.0 for the training set\n",
        "print(\"Accuracy |\", len(np.where(p == 0)[0]) / len(p))"
      ],
      "metadata": {
        "colab": {
          "base_uri": "https://localhost:8080/"
        },
        "id": "0HlYFxadgwtf",
        "outputId": "bac4e9e1-1053-4e82-f2d4-5ba011a1122d"
      },
      "execution_count": null,
      "outputs": [
        {
          "output_type": "stream",
          "name": "stdout",
          "text": [
            "0  |  12555.524\n",
            "100  |  217.6708999984334\n",
            "200  |  157.5520486970894\n",
            "300  |  137.41080815146444\n",
            "400  |  134.33104537470302\n",
            "500  |  132.52907628612155\n",
            "600  |  131.38682734003143\n",
            "700  |  130.21820203829114\n",
            "800  |  130.08674995267054\n",
            "900  |  130.2455930372267\n",
            "1000  |  130.09430682834505\n",
            "1100  |  129.98439800142046\n",
            "1200  |  129.91925103281585\n",
            "1300  |  129.8566884944925\n",
            "1400  |  129.76402658297545\n",
            "1500  |  129.71509302974445\n",
            "1600  |  129.63711046827441\n",
            "1700  |  129.59795457577926\n",
            "1800  |  129.5516346813335\n",
            "1900  |  129.45225778639877\n",
            "2000  |  129.472078328828\n",
            "2100  |  129.38063521962295\n",
            "2200  |  129.40731534951524\n",
            "2300  |  129.32290783294607\n",
            "2400  |  129.2423989189715\n",
            "2500  |  129.27758217028978\n",
            "2600  |  129.20053622550355\n",
            "2700  |  129.24055081175186\n",
            "2800  |  129.17949113847484\n",
            "2900  |  129.15644096644144\n",
            "3000  |  129.15236196217438\n",
            "3100  |  129.13128235266794\n",
            "3200  |  129.12904667704802\n",
            "3300  |  129.1110423472948\n",
            "3400  |  129.1290490738312\n",
            "3500  |  129.0959942590794\n",
            "3600  |  129.09736209062132\n",
            "3700  |  129.1252651615916\n",
            "3800  |  129.10399625696962\n",
            "3900  |  129.11509530735864\n",
            "4000  |  129.09707942985926\n",
            "4100  |  129.10661124527005\n",
            "4200  |  129.09036820860132\n",
            "4300  |  129.0575528164274\n",
            "4400  |  129.11499338680267\n",
            "4500  |  129.09520993611903\n",
            "4600  |  129.115364402072\n",
            "4700  |  129.05879371577552\n",
            "4800  |  129.00257835458447\n",
            "4900  |  129.06144025215372\n",
            "5000  |  129.00614091937507\n",
            "5100  |  129.0647032402855\n",
            "5200  |  129.00913189753663\n",
            "5300  |  129.00536191088545\n",
            "5400  |  129.01511491102872\n",
            "5500  |  129.00740417677747\n",
            "5600  |  129.0172065126213\n",
            "5700  |  129.0541128273203\n",
            "5800  |  129.0383770331874\n",
            "5900  |  129.05684655905063\n",
            "6000  |  129.0419519849994\n",
            "6100  |  129.05769169919301\n",
            "6200  |  129.045238204616\n",
            "6300  |  129.01738990727185\n",
            "6400  |  129.0786543021451\n",
            "6500  |  129.06242476146625\n",
            "6600  |  129.08561545875642\n",
            "6700  |  129.03187711008758\n",
            "6800  |  128.9782244249619\n",
            "6900  |  129.03940500675472\n",
            "7000  |  128.98538831324922\n",
            "7100  |  129.04592644385613\n",
            "7200  |  128.9921428016737\n",
            "7300  |  128.9893190494075\n",
            "7400  |  129.00059945725138\n",
            "7500  |  129.06074798942\n",
            "7600  |  129.00367024001312\n",
            "7700  |  128.99704913582565\n",
            "7800  |  129.00783734809238\n",
            "7900  |  129.00160616875897\n",
            "8000  |  129.01140519206834\n",
            "8100  |  129.0042921935175\n",
            "8200  |  129.03203686856102\n",
            "8300  |  129.04812385545412\n",
            "8400  |  129.03712120545788\n",
            "8500  |  129.05038799303742\n",
            "8600  |  129.0401629261908\n",
            "8700  |  129.05237963726714\n",
            "8800  |  129.08034251271982\n",
            "8900  |  129.05519043430638\n",
            "9000  |  129.0829100085733\n",
            "9100  |  129.05783649788455\n",
            "9200  |  128.97974958687885\n",
            "9300  |  129.04082456744248\n",
            "9400  |  128.98752666239744\n",
            "9500  |  129.04821498716422\n",
            "9600  |  128.9942531663322\n",
            "9700  |  129.05515760100042\n",
            "9800  |  128.99510882427748\n",
            "9900  |  128.98873402041255\n",
            "Accuracy | 1.0\n"
          ]
        }
      ]
    },
    {
      "cell_type": "code",
      "source": [
        "# Creación de datos para verificación\n",
        "prueba = np.random.normal(5,1,size=(60,2))"
      ],
      "metadata": {
        "id": "YYGr-pTcgwq7"
      },
      "execution_count": null,
      "outputs": []
    },
    {
      "cell_type": "code",
      "source": [
        "plt.scatter(prueba[:,0], prueba[:,1])"
      ],
      "metadata": {
        "colab": {
          "base_uri": "https://localhost:8080/",
          "height": 282
        },
        "id": "9qmlB1FYg5W4",
        "outputId": "794d7b0e-e7ac-4e15-ee59-9140bdd7103c"
      },
      "execution_count": null,
      "outputs": [
        {
          "output_type": "execute_result",
          "data": {
            "text/plain": [
              "<matplotlib.collections.PathCollection at 0x7f130a65c950>"
            ]
          },
          "metadata": {},
          "execution_count": 14
        },
        {
          "output_type": "display_data",
          "data": {
            "text/plain": [
              "<Figure size 432x288 with 1 Axes>"
            ],
            "image/png": "[encoded data removed]"
          },
          "metadata": {
            "needs_background": "light"
          }
        }
      ]
    },
    {
      "cell_type": "code",
      "source": [
        "prueba_pred = clf.predict(prueba).reshape(-1,1)"
      ],
      "metadata": {
        "id": "-IfhTVsl_YNn"
      },
      "execution_count": null,
      "outputs": []
    },
    {
      "cell_type": "code",
      "source": [
        "puntos = np.concatenate((prueba_pred, prueba), axis=1)"
      ],
      "metadata": {
        "id": "LGQp9xeP_1GC"
      },
      "execution_count": null,
      "outputs": []
    },
    {
      "cell_type": "code",
      "source": [
        "puntos"
      ],
      "metadata": {
        "colab": {
          "base_uri": "https://localhost:8080/"
        },
        "id": "X_HIIkvMepML",
        "outputId": "f03e86b7-4f0f-4eb6-f02f-d3c84694f198"
      },
      "execution_count": null,
      "outputs": [
        {
          "output_type": "execute_result",
          "data": {
            "text/plain": [
              "array([[ 1.        ,  4.54545789,  5.90824181],\n",
              "       [-1.        ,  6.51814162,  5.64960753],\n",
              "       [-1.        ,  6.17231285,  6.18060673],\n",
              "       [-1.        ,  6.02352378,  3.95338364],\n",
              "       [ 1.        ,  4.82507631,  5.89884347],\n",
              "       [-1.        ,  5.98605282,  4.41914984],\n",
              "       [-1.        ,  5.95816167,  5.88295192],\n",
              "       [ 1.        ,  3.83887916,  5.55683822],\n",
              "       [ 1.        ,  3.65682154,  4.84878393],\n",
              "       [-1.        ,  4.99707969,  4.36245916],\n",
              "       [-1.        ,  5.15025317,  4.62389367],\n",
              "       [-1.        ,  4.37238687,  2.07135076],\n",
              "       [-1.        ,  4.7526389 ,  5.17520602],\n",
              "       [ 1.        ,  4.04596501,  5.32614366],\n",
              "       [-1.        ,  5.64870353,  2.98622982],\n",
              "       [-1.        ,  6.03913843,  5.23385965],\n",
              "       [-1.        ,  5.59474944,  5.45074368],\n",
              "       [-1.        ,  4.77608718,  4.48383475],\n",
              "       [-1.        ,  4.78655275,  4.23150123],\n",
              "       [-1.        ,  5.95579685,  5.32871571],\n",
              "       [-1.        ,  5.64318331,  5.93669878],\n",
              "       [ 1.        ,  4.61183837,  5.33767129],\n",
              "       [-1.        ,  4.88993863,  5.10670874],\n",
              "       [-1.        ,  5.2294002 ,  3.38882378],\n",
              "       [ 1.        ,  3.92357745,  4.39064374],\n",
              "       [-1.        ,  5.62399845,  3.98824743],\n",
              "       [-1.        ,  5.09587208,  4.53488913],\n",
              "       [ 1.        ,  3.29706704,  5.47430352],\n",
              "       [ 1.        ,  2.96321276,  6.31560711],\n",
              "       [ 1.        ,  4.16444807,  5.08477878],\n",
              "       [ 1.        ,  2.61943143,  5.68203832],\n",
              "       [ 1.        ,  3.60772554,  5.2702618 ],\n",
              "       [-1.        ,  4.57595325,  3.82080354],\n",
              "       [-1.        ,  5.62957635,  4.62889857],\n",
              "       [-1.        ,  4.35031476,  4.37255992],\n",
              "       [-1.        ,  6.62885821,  4.8957222 ],\n",
              "       [ 1.        ,  4.31874227,  6.8370693 ],\n",
              "       [-1.        ,  4.63927735,  3.7336639 ],\n",
              "       [ 1.        ,  4.01918838,  6.02046883],\n",
              "       [ 1.        ,  3.72312299,  5.09986543],\n",
              "       [-1.        ,  6.72429129,  5.34889882],\n",
              "       [-1.        ,  7.51084644,  3.19111467],\n",
              "       [ 1.        ,  4.01780102,  4.83265192],\n",
              "       [ 1.        ,  3.80701167,  5.12029437],\n",
              "       [-1.        ,  4.02600376,  4.16361883],\n",
              "       [-1.        ,  4.62180391,  3.87004712],\n",
              "       [-1.        ,  6.34572728,  5.11606599],\n",
              "       [-1.        ,  6.46131641,  5.32334127],\n",
              "       [ 1.        ,  5.59493964,  6.73465199],\n",
              "       [-1.        ,  5.2725737 ,  5.59523001],\n",
              "       [-1.        ,  5.16317209,  4.66348916],\n",
              "       [-1.        ,  5.11035414,  4.63503113],\n",
              "       [-1.        ,  4.83413776,  3.64886141],\n",
              "       [-1.        ,  6.26999719,  6.04479534],\n",
              "       [-1.        ,  5.19851936,  4.9069631 ],\n",
              "       [-1.        ,  7.32564402,  2.89239801],\n",
              "       [-1.        ,  5.08789741,  3.87350146],\n",
              "       [ 1.        ,  4.10402446,  7.58160447],\n",
              "       [ 1.        ,  2.96416136,  4.23891441],\n",
              "       [-1.        ,  5.20812841,  4.11482617]])"
            ]
          },
          "metadata": {},
          "execution_count": 18
        }
      ]
    },
    {
      "cell_type": "code",
      "source": [
        "plt.scatter(data[:,1], data[:, 2])\n",
        "plt.scatter(puntos[np.where(puntos[:,0] > 0)][:, 1], puntos[np.where(puntos[:,0] > 0)][:, 2], label=\"Clase 1\")\n",
        "plt.scatter(puntos[np.where(puntos[:,0] < 0)][:, 1], puntos[np.where(puntos[:,0] < 0)][:, 2], label='Clase -1')\n",
        "plt.legend()"
      ],
      "metadata": {
        "colab": {
          "base_uri": "https://localhost:8080/",
          "height": 282
        },
        "id": "j-9dgy5mCMPR",
        "outputId": "d709a67e-b8a5-4b47-faf7-129419fb0885"
      },
      "execution_count": null,
      "outputs": [
        {
          "output_type": "execute_result",
          "data": {
            "text/plain": [
              "<matplotlib.legend.Legend at 0x7f130a626090>"
            ]
          },
          "metadata": {},
          "execution_count": 20
        },
        {
          "output_type": "display_data",
          "data": {
            "text/plain": [
              "<Figure size 432x288 with 1 Axes>"
            ],
            "image/png": "[encoded data removed]"
          },
          "metadata": {
            "needs_background": "light"
          }
        }
      ]
    },
    {
      "cell_type": "markdown",
      "source": [
        "# Ligas de interes\n",
        "\n",
        "- https://medium.com/@tarlanahad/linear-svm-classifier-step-by-step-theoretical-explanation-with-python-implementation-d86c4973dc33\n",
        "\n",
        "- https://machinelearningmastery.com/method-of-lagrange-multipliers-the-theory-behind-support-vector-machines-part-3-implementing-an-svm-from-scratch-in-python/"
      ],
      "metadata": {
        "id": "ythIc5m_h77m"
      }
    }
  ]
}