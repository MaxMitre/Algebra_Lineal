{
  "nbformat": 4,
  "nbformat_minor": 0,
  "metadata": {
    "colab": {
      "name": "semana8_Calculo_Opt_Problema_del_Viajante.ipynb",
      "provenance": [],
      "collapsed_sections": []
    },
    "kernelspec": {
      "name": "python3",
      "display_name": "Python 3"
    },
    "language_info": {
      "name": "python"
    }
  },
  "cells": [
    {
      "cell_type": "markdown",
      "source": [
        "[![Open In Colab](https://colab.research.google.com/assets/colab-badge.svg)](https://colab.research.google.com/github/MaxMitre/Algebra_Lineal/blob/main/semana8/Problema_del_Viajante.ipynb)"
      ],
      "metadata": {
        "id": "vOZ4zN4PG9gJ"
      }
    },
    {
      "cell_type": "markdown",
      "source": [
        "# Introducción"
      ],
      "metadata": {
        "id": "mCVD1U5RG7fk"
      }
    },
    {
      "cell_type": "markdown",
      "metadata": {
        "id": "mEH70AWcz_q4"
      },
      "source": [
        "Utilizaremos programación lineal para resolver el **Problema del Viajante** (Travel Salesman Problem).\n",
        "\n",
        "El problema es encontrar la **ruta más corta que conecta a todas las ciudades**, con las restricciones de que debe ser una única ruta (i.e. no puede haber sub rutas) y sólo se puede entrar y salir de cada ciudad una sola vez.\n",
        "\n",
        "Se crearán las \"coordenadas\" de ciudades ficticias y para medir su distancia se usará la distancia euclideana. "
      ]
    },
    {
      "cell_type": "markdown",
      "metadata": {
        "id": "hDsNCo_xz-AN"
      },
      "source": [
        "# Dependencias"
      ]
    },
    {
      "cell_type": "code",
      "metadata": {
        "colab": {
          "base_uri": "https://localhost:8080/"
        },
        "id": "XEmr366AXhWk",
        "outputId": "3303d766-db95-4dad-aae7-f72c570e52ee"
      },
      "source": [
        "!pip install mip\n",
        "!pip install -U plotly"
      ],
      "execution_count": null,
      "outputs": [
        {
          "output_type": "stream",
          "name": "stdout",
          "text": [
            "Looking in indexes: https://pypi.org/simple, https://us-python.pkg.dev/colab-wheels/public/simple/\n",
            "Requirement already satisfied: mip in /usr/local/lib/python3.7/dist-packages (1.13.0)\n",
            "Requirement already satisfied: cffi in /usr/local/lib/python3.7/dist-packages (from mip) (1.15.0)\n",
            "Requirement already satisfied: pycparser in /usr/local/lib/python3.7/dist-packages (from cffi->mip) (2.21)\n",
            "Looking in indexes: https://pypi.org/simple, https://us-python.pkg.dev/colab-wheels/public/simple/\n",
            "Requirement already satisfied: plotly in /usr/local/lib/python3.7/dist-packages (5.8.0)\n",
            "Requirement already satisfied: tenacity>=6.2.0 in /usr/local/lib/python3.7/dist-packages (from plotly) (8.0.1)\n"
          ]
        }
      ]
    },
    {
      "cell_type": "code",
      "metadata": {
        "id": "tZajVv1NXSXl"
      },
      "source": [
        "import pandas as pd\n",
        "import numpy as np\n",
        "\n",
        "from scipy.spatial import distance_matrix\n",
        "\n",
        "from itertools import product\n",
        "from mip import Model, xsum, minimize, BINARY\n",
        "\n",
        "import plotly.express as px\n",
        "import plotly.io as pio"
      ],
      "execution_count": null,
      "outputs": []
    },
    {
      "cell_type": "code",
      "metadata": {
        "id": "ybQYQteqaJ8e"
      },
      "source": [
        "pio.templates.default = \"plotly_white\""
      ],
      "execution_count": null,
      "outputs": []
    },
    {
      "cell_type": "markdown",
      "metadata": {
        "id": "1IENwnBL2O2e"
      },
      "source": [
        "# Funciones para la visualización de los datos"
      ]
    },
    {
      "cell_type": "code",
      "metadata": {
        "id": "lUN7M8d_Z67I"
      },
      "source": [
        "def plot_cities(coords):\n",
        "    fig = px.scatter(coords.reset_index(), 'x', 'y', hover_name='index')\n",
        "    fig.update_traces(marker=dict(size=15,\n",
        "                                line=dict(width=2,\n",
        "                                            color='DarkSlateGrey')),\n",
        "                    selector=dict(mode='markers')\n",
        "                    )\n",
        "    return fig\n",
        "\n",
        "def plot_cities_and_route(points, edges):\n",
        "    fig = plot_cities(points)\n",
        "    for edge in edges:\n",
        "        fig.add_shape(\n",
        "            type = 'line', \n",
        "            x0 = points.loc[f'ciudad_{edge[0]}', 'x'], \n",
        "            x1 = points.loc[f'ciudad_{edge[1]}', 'x'], \n",
        "            y0 = points.loc[f'ciudad_{edge[0]}', 'y'], \n",
        "            y1 = points.loc[f'ciudad_{edge[1]}', 'y'], \n",
        "            line = dict(color = 'rgb(0, 0, 0)'), \n",
        "            opacity = .09,\n",
        "            )\n",
        "        fig.add_scatter(x = [mid_points[edge[0]][edge[1]][0]], y = [mid_points[edge[0]][edge[1]][1]], text = [c[edge[0]][edge[1]]], mode='text')\n",
        "    fig.update_traces(texttemplate='%{text:.2s}', textposition='top right')\n",
        "    fig.update_layout(uniformtext_minsize=8, uniformtext_mode='hide', showlegend=False)\n",
        "    fig.show()"
      ],
      "execution_count": null,
      "outputs": []
    },
    {
      "cell_type": "code",
      "metadata": {
        "id": "zqYLNhWL3TKd"
      },
      "source": [
        "def get_middle_points(coords):\n",
        "    return [[((x[0]+y[0])/2, (x[1]+y[1])/2) for _, y in coords.iterrows()] for _, x in coords.iterrows()]"
      ],
      "execution_count": null,
      "outputs": []
    },
    {
      "cell_type": "markdown",
      "metadata": {
        "id": "rzHE8IMz2AqW"
      },
      "source": [
        "# Datos"
      ]
    },
    {
      "cell_type": "markdown",
      "metadata": {
        "id": "YhQfYSMh5IAR"
      },
      "source": [
        "Primero crearemos las ciudades y sus coordenadas"
      ]
    },
    {
      "cell_type": "code",
      "metadata": {
        "colab": {
          "base_uri": "https://localhost:8080/",
          "height": 363
        },
        "id": "SqomUA2cYbrb",
        "outputId": "26d23acd-b91a-4c5a-d3ad-32bda7230694"
      },
      "source": [
        "np.random.seed(10)\n",
        "\n",
        "n = 10 # número de ciudades\n",
        "\n",
        "points = pd.DataFrame(np.random.randint(0, 30, (n, 2)), columns = ['x', 'y'], index = [f'ciudad_{i}' for i in range(n)])  # coordenadas en el plano cartesiano de cada ciudad\n",
        "points"
      ],
      "execution_count": null,
      "outputs": [
        {
          "output_type": "execute_result",
          "data": {
            "text/plain": [
              "           x   y\n",
              "ciudad_0   9  29\n",
              "ciudad_1   4  15\n",
              "ciudad_2   0  17\n",
              "ciudad_3  27  28\n",
              "ciudad_4  25  29\n",
              "ciudad_5  16  29\n",
              "ciudad_6  17  26\n",
              "ciudad_7   8   9\n",
              "ciudad_8   0  10\n",
              "ciudad_9   8  22"
            ],
            "text/html": [
              "\n",
              "  <div id=\"df-31663f1d-5f97-4f2b-86c1-405545ff17c5\">\n",
              "    <div class=\"colab-df-container\">\n",
              "      <div>\n",
              "<style scoped>\n",
              "    .dataframe tbody tr th:only-of-type {\n",
              "        vertical-align: middle;\n",
              "    }\n",
              "\n",
              "    .dataframe tbody tr th {\n",
              "        vertical-align: top;\n",
              "    }\n",
              "\n",
              "    .dataframe thead th {\n",
              "        text-align: right;\n",
              "    }\n",
              "</style>\n",
              "<table border=\"1\" class=\"dataframe\">\n",
              "  <thead>\n",
              "    <tr style=\"text-align: right;\">\n",
              "      <th></th>\n",
              "      <th>x</th>\n",
              "      <th>y</th>\n",
              "    </tr>\n",
              "  </thead>\n",
              "  <tbody>\n",
              "    <tr>\n",
              "      <th>ciudad_0</th>\n",
              "      <td>9</td>\n",
              "      <td>29</td>\n",
              "    </tr>\n",
              "    <tr>\n",
              "      <th>ciudad_1</th>\n",
              "      <td>4</td>\n",
              "      <td>15</td>\n",
              "    </tr>\n",
              "    <tr>\n",
              "      <th>ciudad_2</th>\n",
              "      <td>0</td>\n",
              "      <td>17</td>\n",
              "    </tr>\n",
              "    <tr>\n",
              "      <th>ciudad_3</th>\n",
              "      <td>27</td>\n",
              "      <td>28</td>\n",
              "    </tr>\n",
              "    <tr>\n",
              "      <th>ciudad_4</th>\n",
              "      <td>25</td>\n",
              "      <td>29</td>\n",
              "    </tr>\n",
              "    <tr>\n",
              "      <th>ciudad_5</th>\n",
              "      <td>16</td>\n",
              "      <td>29</td>\n",
              "    </tr>\n",
              "    <tr>\n",
              "      <th>ciudad_6</th>\n",
              "      <td>17</td>\n",
              "      <td>26</td>\n",
              "    </tr>\n",
              "    <tr>\n",
              "      <th>ciudad_7</th>\n",
              "      <td>8</td>\n",
              "      <td>9</td>\n",
              "    </tr>\n",
              "    <tr>\n",
              "      <th>ciudad_8</th>\n",
              "      <td>0</td>\n",
              "      <td>10</td>\n",
              "    </tr>\n",
              "    <tr>\n",
              "      <th>ciudad_9</th>\n",
              "      <td>8</td>\n",
              "      <td>22</td>\n",
              "    </tr>\n",
              "  </tbody>\n",
              "</table>\n",
              "</div>\n",
              "      <button class=\"colab-df-convert\" onclick=\"convertToInteractive('df-31663f1d-5f97-4f2b-86c1-405545ff17c5')\"\n",
              "              title=\"Convert this dataframe to an interactive table.\"\n",
              "              style=\"display:none;\">\n",
              "        \n",
              "  <svg xmlns=\"http://www.w3.org/2000/svg\" height=\"24px\"viewBox=\"0 0 24 24\"\n",
              "       width=\"24px\">\n",
              "    <path d=\"M0 0h24v24H0V0z\" fill=\"none\"/>\n",
              "    <path d=\"M18.56 5.44l.94 2.06.94-2.06 2.06-.94-2.06-.94-.94-2.06-.94 2.06-2.06.94zm-11 1L8.5 8.5l.94-2.06 2.06-.94-2.06-.94L8.5 2.5l-.94 2.06-2.06.94zm10 10l.94 2.06.94-2.06 2.06-.94-2.06-.94-.94-2.06-.94 2.06-2.06.94z\"/><path d=\"M17.41 7.96l-1.37-1.37c-.4-.4-.92-.59-1.43-.59-.52 0-1.04.2-1.43.59L10.3 9.45l-7.72 7.72c-.78.78-.78 2.05 0 2.83L4 21.41c.39.39.9.59 1.41.59.51 0 1.02-.2 1.41-.59l7.78-7.78 2.81-2.81c.8-.78.8-2.07 0-2.86zM5.41 20L4 18.59l7.72-7.72 1.47 1.35L5.41 20z\"/>\n",
              "  </svg>\n",
              "      </button>\n",
              "      \n",
              "  <style>\n",
              "    .colab-df-container {\n",
              "      display:flex;\n",
              "      flex-wrap:wrap;\n",
              "      gap: 12px;\n",
              "    }\n",
              "\n",
              "    .colab-df-convert {\n",
              "      background-color: #E8F0FE;\n",
              "      border: none;\n",
              "      border-radius: 50%;\n",
              "      cursor: pointer;\n",
              "      display: none;\n",
              "      fill: #1967D2;\n",
              "      height: 32px;\n",
              "      padding: 0 0 0 0;\n",
              "      width: 32px;\n",
              "    }\n",
              "\n",
              "    .colab-df-convert:hover {\n",
              "      background-color: #E2EBFA;\n",
              "      box-shadow: 0px 1px 2px rgba(60, 64, 67, 0.3), 0px 1px 3px 1px rgba(60, 64, 67, 0.15);\n",
              "      fill: #174EA6;\n",
              "    }\n",
              "\n",
              "    [theme=dark] .colab-df-convert {\n",
              "      background-color: #3B4455;\n",
              "      fill: #D2E3FC;\n",
              "    }\n",
              "\n",
              "    [theme=dark] .colab-df-convert:hover {\n",
              "      background-color: #434B5C;\n",
              "      box-shadow: 0px 1px 3px 1px rgba(0, 0, 0, 0.15);\n",
              "      filter: drop-shadow(0px 1px 2px rgba(0, 0, 0, 0.3));\n",
              "      fill: #FFFFFF;\n",
              "    }\n",
              "  </style>\n",
              "\n",
              "      <script>\n",
              "        const buttonEl =\n",
              "          document.querySelector('#df-31663f1d-5f97-4f2b-86c1-405545ff17c5 button.colab-df-convert');\n",
              "        buttonEl.style.display =\n",
              "          google.colab.kernel.accessAllowed ? 'block' : 'none';\n",
              "\n",
              "        async function convertToInteractive(key) {\n",
              "          const element = document.querySelector('#df-31663f1d-5f97-4f2b-86c1-405545ff17c5');\n",
              "          const dataTable =\n",
              "            await google.colab.kernel.invokeFunction('convertToInteractive',\n",
              "                                                     [key], {});\n",
              "          if (!dataTable) return;\n",
              "\n",
              "          const docLinkHtml = 'Like what you see? Visit the ' +\n",
              "            '<a target=\"_blank\" href=https://colab.research.google.com/notebooks/data_table.ipynb>data table notebook</a>'\n",
              "            + ' to learn more about interactive tables.';\n",
              "          element.innerHTML = '';\n",
              "          dataTable['output_type'] = 'display_data';\n",
              "          await google.colab.output.renderOutput(dataTable, element);\n",
              "          const docLink = document.createElement('div');\n",
              "          docLink.innerHTML = docLinkHtml;\n",
              "          element.appendChild(docLink);\n",
              "        }\n",
              "      </script>\n",
              "    </div>\n",
              "  </div>\n",
              "  "
            ]
          },
          "metadata": {},
          "execution_count": 6
        }
      ]
    },
    {
      "cell_type": "markdown",
      "metadata": {
        "id": "JVSBoy055MXq"
      },
      "source": [
        "Obtenemos el punto medio entre cada ciudad"
      ]
    },
    {
      "cell_type": "code",
      "metadata": {
        "id": "Op7Pz7Qk3V5M"
      },
      "source": [
        "mid_points = get_middle_points(points)"
      ],
      "execution_count": null,
      "outputs": []
    },
    {
      "cell_type": "code",
      "source": [
        "mid_points"
      ],
      "metadata": {
        "colab": {
          "base_uri": "https://localhost:8080/"
        },
        "id": "JhxoKGEGroe5",
        "outputId": "7ac55f3a-8680-43d7-be3d-7c7107e226b6"
      },
      "execution_count": null,
      "outputs": [
        {
          "output_type": "execute_result",
          "data": {
            "text/plain": [
              "[[(9.0, 29.0),\n",
              "  (6.5, 22.0),\n",
              "  (4.5, 23.0),\n",
              "  (18.0, 28.5),\n",
              "  (17.0, 29.0),\n",
              "  (12.5, 29.0),\n",
              "  (13.0, 27.5),\n",
              "  (8.5, 19.0),\n",
              "  (4.5, 19.5),\n",
              "  (8.5, 25.5)],\n",
              " [(6.5, 22.0),\n",
              "  (4.0, 15.0),\n",
              "  (2.0, 16.0),\n",
              "  (15.5, 21.5),\n",
              "  (14.5, 22.0),\n",
              "  (10.0, 22.0),\n",
              "  (10.5, 20.5),\n",
              "  (6.0, 12.0),\n",
              "  (2.0, 12.5),\n",
              "  (6.0, 18.5)],\n",
              " [(4.5, 23.0),\n",
              "  (2.0, 16.0),\n",
              "  (0.0, 17.0),\n",
              "  (13.5, 22.5),\n",
              "  (12.5, 23.0),\n",
              "  (8.0, 23.0),\n",
              "  (8.5, 21.5),\n",
              "  (4.0, 13.0),\n",
              "  (0.0, 13.5),\n",
              "  (4.0, 19.5)],\n",
              " [(18.0, 28.5),\n",
              "  (15.5, 21.5),\n",
              "  (13.5, 22.5),\n",
              "  (27.0, 28.0),\n",
              "  (26.0, 28.5),\n",
              "  (21.5, 28.5),\n",
              "  (22.0, 27.0),\n",
              "  (17.5, 18.5),\n",
              "  (13.5, 19.0),\n",
              "  (17.5, 25.0)],\n",
              " [(17.0, 29.0),\n",
              "  (14.5, 22.0),\n",
              "  (12.5, 23.0),\n",
              "  (26.0, 28.5),\n",
              "  (25.0, 29.0),\n",
              "  (20.5, 29.0),\n",
              "  (21.0, 27.5),\n",
              "  (16.5, 19.0),\n",
              "  (12.5, 19.5),\n",
              "  (16.5, 25.5)],\n",
              " [(12.5, 29.0),\n",
              "  (10.0, 22.0),\n",
              "  (8.0, 23.0),\n",
              "  (21.5, 28.5),\n",
              "  (20.5, 29.0),\n",
              "  (16.0, 29.0),\n",
              "  (16.5, 27.5),\n",
              "  (12.0, 19.0),\n",
              "  (8.0, 19.5),\n",
              "  (12.0, 25.5)],\n",
              " [(13.0, 27.5),\n",
              "  (10.5, 20.5),\n",
              "  (8.5, 21.5),\n",
              "  (22.0, 27.0),\n",
              "  (21.0, 27.5),\n",
              "  (16.5, 27.5),\n",
              "  (17.0, 26.0),\n",
              "  (12.5, 17.5),\n",
              "  (8.5, 18.0),\n",
              "  (12.5, 24.0)],\n",
              " [(8.5, 19.0),\n",
              "  (6.0, 12.0),\n",
              "  (4.0, 13.0),\n",
              "  (17.5, 18.5),\n",
              "  (16.5, 19.0),\n",
              "  (12.0, 19.0),\n",
              "  (12.5, 17.5),\n",
              "  (8.0, 9.0),\n",
              "  (4.0, 9.5),\n",
              "  (8.0, 15.5)],\n",
              " [(4.5, 19.5),\n",
              "  (2.0, 12.5),\n",
              "  (0.0, 13.5),\n",
              "  (13.5, 19.0),\n",
              "  (12.5, 19.5),\n",
              "  (8.0, 19.5),\n",
              "  (8.5, 18.0),\n",
              "  (4.0, 9.5),\n",
              "  (0.0, 10.0),\n",
              "  (4.0, 16.0)],\n",
              " [(8.5, 25.5),\n",
              "  (6.0, 18.5),\n",
              "  (4.0, 19.5),\n",
              "  (17.5, 25.0),\n",
              "  (16.5, 25.5),\n",
              "  (12.0, 25.5),\n",
              "  (12.5, 24.0),\n",
              "  (8.0, 15.5),\n",
              "  (4.0, 16.0),\n",
              "  (8.0, 22.0)]]"
            ]
          },
          "metadata": {},
          "execution_count": 8
        }
      ]
    },
    {
      "cell_type": "markdown",
      "metadata": {
        "id": "DBet8zI45QK8"
      },
      "source": [
        "Creamos la matriz de distancias"
      ]
    },
    {
      "cell_type": "code",
      "metadata": {
        "colab": {
          "base_uri": "https://localhost:8080/"
        },
        "id": "rqEtFqajZ3VL",
        "outputId": "86955354-c5b7-4579-96b1-c8327bdd2fab"
      },
      "source": [
        "c = distance_matrix(points, points)  # Distancia entre las ciudades\n",
        "c[:5, :5]"
      ],
      "execution_count": null,
      "outputs": [
        {
          "output_type": "execute_result",
          "data": {
            "text/plain": [
              "array([[ 0.        , 14.86606875, 15.        , 18.02775638, 16.        ],\n",
              "       [14.86606875,  0.        ,  4.47213595, 26.41968963, 25.23885893],\n",
              "       [15.        ,  4.47213595,  0.        , 29.15475947, 27.73084925],\n",
              "       [18.02775638, 26.41968963, 29.15475947,  0.        ,  2.23606798],\n",
              "       [16.        , 25.23885893, 27.73084925,  2.23606798,  0.        ]])"
            ]
          },
          "metadata": {},
          "execution_count": 9
        }
      ]
    },
    {
      "cell_type": "markdown",
      "metadata": {
        "id": "_HTrxK-V49WA"
      },
      "source": [
        "## Visualización de los datos"
      ]
    },
    {
      "cell_type": "code",
      "metadata": {
        "colab": {
          "base_uri": "https://localhost:8080/",
          "height": 542
        },
        "id": "3zIfF-pE2d1R",
        "outputId": "66daec5b-9e3e-4ded-a072-4e89026b4ed9"
      },
      "source": [
        "plot_cities_and_route(points, product(range(n), range(n))) # Visualización de las ciudades"
      ],
      "execution_count": null,
      "outputs": [
        {
          "output_type": "display_data",
          "data": {
            "text/html": [
              "<html>\n",
              "<head><meta charset=\"utf-8\" /></head>\n",
              "<body>\n",
              "    <div>            <script src=\"https://cdnjs.cloudflare.com/ajax/libs/mathjax/2.7.5/MathJax.js?config=TeX-AMS-MML_SVG\"></script><script type=\"text/javascript\">if (window.MathJax && window.MathJax.Hub && && window.MathJax.Hub.Config) {window.MathJax.Hub.Config({SVG: {font: \"STIX-Web\"}});}</script>                <script type=\"text/javascript\">window.PlotlyConfig = {MathJaxConfig: 'local'};</script>\n",
              "        <script src=\"https://cdn.plot.ly/plotly-2.12.1.min.js\"></script>                <div id=\"e6c3232a-a308-4896-afe3-bf5c9a0b7287\" class=\"plotly-graph-div\" style=\"height:525px; width:100%;\"></div>            <script type=\"text/javascript\">                                    window.PLOTLYENV=window.PLOTLYENV || {};                                    if (document.getElementById(\"e6c3232a-a308-4896-afe3-bf5c9a0b7287\")) {                    Plotly.newPlot(                        \"e6c3232a-a308-4896-afe3-bf5c9a0b7287\",                        [{\"hovertemplate\":\"<b>%{hovertext}</b><br><br>x=%{x}<br>y=%{y}<extra></extra>\",\"hovertext\":[\"ciudad_0\",\"ciudad_1\",\"ciudad_2\",\"ciudad_3\",\"ciudad_4\",\"ciudad_5\",\"ciudad_6\",\"ciudad_7\",\"ciudad_8\",\"ciudad_9\"],\"legendgroup\":\"\",\"marker\":{\"color\":\"#636efa\",\"symbol\":\"circle\",\"line\":{\"color\":\"DarkSlateGrey\",\"width\":2},\"size\":15},\"mode\":\"markers\",\"name\":\"\",\"orientation\":\"v\",\"showlegend\":false,\"x\":[9,4,0,27,25,16,17,8,0,8],\"xaxis\":\"x\",\"y\":[29,15,17,28,29,29,26,9,10,22],\"yaxis\":\"y\",\"type\":\"scatter\",\"textposition\":\"top right\",\"texttemplate\":\"%{text:.2s}\"},{\"mode\":\"text\",\"text\":[\"0.0\"],\"x\":[9.0],\"y\":[29.0],\"type\":\"scatter\",\"textposition\":\"top right\",\"texttemplate\":\"%{text:.2s}\"},{\"mode\":\"text\",\"text\":[\"14.866068747318506\"],\"x\":[6.5],\"y\":[22.0],\"type\":\"scatter\",\"textposition\":\"top right\",\"texttemplate\":\"%{text:.2s}\"},{\"mode\":\"text\",\"text\":[\"15.0\"],\"x\":[4.5],\"y\":[23.0],\"type\":\"scatter\",\"textposition\":\"top right\",\"texttemplate\":\"%{text:.2s}\"},{\"mode\":\"text\",\"text\":[\"18.027756377319946\"],\"x\":[18.0],\"y\":[28.5],\"type\":\"scatter\",\"textposition\":\"top right\",\"texttemplate\":\"%{text:.2s}\"},{\"mode\":\"text\",\"text\":[\"16.0\"],\"x\":[17.0],\"y\":[29.0],\"type\":\"scatter\",\"textposition\":\"top right\",\"texttemplate\":\"%{text:.2s}\"},{\"mode\":\"text\",\"text\":[\"7.0\"],\"x\":[12.5],\"y\":[29.0],\"type\":\"scatter\",\"textposition\":\"top right\",\"texttemplate\":\"%{text:.2s}\"},{\"mode\":\"text\",\"text\":[\"8.54400374531753\"],\"x\":[13.0],\"y\":[27.5],\"type\":\"scatter\",\"textposition\":\"top right\",\"texttemplate\":\"%{text:.2s}\"},{\"mode\":\"text\",\"text\":[\"20.024984394500787\"],\"x\":[8.5],\"y\":[19.0],\"type\":\"scatter\",\"textposition\":\"top right\",\"texttemplate\":\"%{text:.2s}\"},{\"mode\":\"text\",\"text\":[\"21.02379604162864\"],\"x\":[4.5],\"y\":[19.5],\"type\":\"scatter\",\"textposition\":\"top right\",\"texttemplate\":\"%{text:.2s}\"},{\"mode\":\"text\",\"text\":[\"7.0710678118654755\"],\"x\":[8.5],\"y\":[25.5],\"type\":\"scatter\",\"textposition\":\"top right\",\"texttemplate\":\"%{text:.2s}\"},{\"mode\":\"text\",\"text\":[\"14.866068747318506\"],\"x\":[6.5],\"y\":[22.0],\"type\":\"scatter\",\"textposition\":\"top right\",\"texttemplate\":\"%{text:.2s}\"},{\"mode\":\"text\",\"text\":[\"0.0\"],\"x\":[4.0],\"y\":[15.0],\"type\":\"scatter\",\"textposition\":\"top right\",\"texttemplate\":\"%{text:.2s}\"},{\"mode\":\"text\",\"text\":[\"4.47213595499958\"],\"x\":[2.0],\"y\":[16.0],\"type\":\"scatter\",\"textposition\":\"top right\",\"texttemplate\":\"%{text:.2s}\"},{\"mode\":\"text\",\"text\":[\"26.419689627245813\"],\"x\":[15.5],\"y\":[21.5],\"type\":\"scatter\",\"textposition\":\"top right\",\"texttemplate\":\"%{text:.2s}\"},{\"mode\":\"text\",\"text\":[\"25.238858928247925\"],\"x\":[14.5],\"y\":[22.0],\"type\":\"scatter\",\"textposition\":\"top right\",\"texttemplate\":\"%{text:.2s}\"},{\"mode\":\"text\",\"text\":[\"18.439088914585774\"],\"x\":[10.0],\"y\":[22.0],\"type\":\"scatter\",\"textposition\":\"top right\",\"texttemplate\":\"%{text:.2s}\"},{\"mode\":\"text\",\"text\":[\"17.029386365926403\"],\"x\":[10.5],\"y\":[20.5],\"type\":\"scatter\",\"textposition\":\"top right\",\"texttemplate\":\"%{text:.2s}\"},{\"mode\":\"text\",\"text\":[\"7.211102550927978\"],\"x\":[6.0],\"y\":[12.0],\"type\":\"scatter\",\"textposition\":\"top right\",\"texttemplate\":\"%{text:.2s}\"},{\"mode\":\"text\",\"text\":[\"6.4031242374328485\"],\"x\":[2.0],\"y\":[12.5],\"type\":\"scatter\",\"textposition\":\"top right\",\"texttemplate\":\"%{text:.2s}\"},{\"mode\":\"text\",\"text\":[\"8.06225774829855\"],\"x\":[6.0],\"y\":[18.5],\"type\":\"scatter\",\"textposition\":\"top right\",\"texttemplate\":\"%{text:.2s}\"},{\"mode\":\"text\",\"text\":[\"15.0\"],\"x\":[4.5],\"y\":[23.0],\"type\":\"scatter\",\"textposition\":\"top right\",\"texttemplate\":\"%{text:.2s}\"},{\"mode\":\"text\",\"text\":[\"4.47213595499958\"],\"x\":[2.0],\"y\":[16.0],\"type\":\"scatter\",\"textposition\":\"top right\",\"texttemplate\":\"%{text:.2s}\"},{\"mode\":\"text\",\"text\":[\"0.0\"],\"x\":[0.0],\"y\":[17.0],\"type\":\"scatter\",\"textposition\":\"top right\",\"texttemplate\":\"%{text:.2s}\"},{\"mode\":\"text\",\"text\":[\"29.154759474226502\"],\"x\":[13.5],\"y\":[22.5],\"type\":\"scatter\",\"textposition\":\"top right\",\"texttemplate\":\"%{text:.2s}\"},{\"mode\":\"text\",\"text\":[\"27.730849247724095\"],\"x\":[12.5],\"y\":[23.0],\"type\":\"scatter\",\"textposition\":\"top right\",\"texttemplate\":\"%{text:.2s}\"},{\"mode\":\"text\",\"text\":[\"20.0\"],\"x\":[8.0],\"y\":[23.0],\"type\":\"scatter\",\"textposition\":\"top right\",\"texttemplate\":\"%{text:.2s}\"},{\"mode\":\"text\",\"text\":[\"19.235384061671343\"],\"x\":[8.5],\"y\":[21.5],\"type\":\"scatter\",\"textposition\":\"top right\",\"texttemplate\":\"%{text:.2s}\"},{\"mode\":\"text\",\"text\":[\"11.313708498984761\"],\"x\":[4.0],\"y\":[13.0],\"type\":\"scatter\",\"textposition\":\"top right\",\"texttemplate\":\"%{text:.2s}\"},{\"mode\":\"text\",\"text\":[\"7.0\"],\"x\":[0.0],\"y\":[13.5],\"type\":\"scatter\",\"textposition\":\"top right\",\"texttemplate\":\"%{text:.2s}\"},{\"mode\":\"text\",\"text\":[\"9.433981132056603\"],\"x\":[4.0],\"y\":[19.5],\"type\":\"scatter\",\"textposition\":\"top right\",\"texttemplate\":\"%{text:.2s}\"},{\"mode\":\"text\",\"text\":[\"18.027756377319946\"],\"x\":[18.0],\"y\":[28.5],\"type\":\"scatter\",\"textposition\":\"top right\",\"texttemplate\":\"%{text:.2s}\"},{\"mode\":\"text\",\"text\":[\"26.419689627245813\"],\"x\":[15.5],\"y\":[21.5],\"type\":\"scatter\",\"textposition\":\"top right\",\"texttemplate\":\"%{text:.2s}\"},{\"mode\":\"text\",\"text\":[\"29.154759474226502\"],\"x\":[13.5],\"y\":[22.5],\"type\":\"scatter\",\"textposition\":\"top right\",\"texttemplate\":\"%{text:.2s}\"},{\"mode\":\"text\",\"text\":[\"0.0\"],\"x\":[27.0],\"y\":[28.0],\"type\":\"scatter\",\"textposition\":\"top right\",\"texttemplate\":\"%{text:.2s}\"},{\"mode\":\"text\",\"text\":[\"2.23606797749979\"],\"x\":[26.0],\"y\":[28.5],\"type\":\"scatter\",\"textposition\":\"top right\",\"texttemplate\":\"%{text:.2s}\"},{\"mode\":\"text\",\"text\":[\"11.045361017187261\"],\"x\":[21.5],\"y\":[28.5],\"type\":\"scatter\",\"textposition\":\"top right\",\"texttemplate\":\"%{text:.2s}\"},{\"mode\":\"text\",\"text\":[\"10.198039027185569\"],\"x\":[22.0],\"y\":[27.0],\"type\":\"scatter\",\"textposition\":\"top right\",\"texttemplate\":\"%{text:.2s}\"},{\"mode\":\"text\",\"text\":[\"26.870057685088806\"],\"x\":[17.5],\"y\":[18.5],\"type\":\"scatter\",\"textposition\":\"top right\",\"texttemplate\":\"%{text:.2s}\"},{\"mode\":\"text\",\"text\":[\"32.449961479175904\"],\"x\":[13.5],\"y\":[19.0],\"type\":\"scatter\",\"textposition\":\"top right\",\"texttemplate\":\"%{text:.2s}\"},{\"mode\":\"text\",\"text\":[\"19.924858845171276\"],\"x\":[17.5],\"y\":[25.0],\"type\":\"scatter\",\"textposition\":\"top right\",\"texttemplate\":\"%{text:.2s}\"},{\"mode\":\"text\",\"text\":[\"16.0\"],\"x\":[17.0],\"y\":[29.0],\"type\":\"scatter\",\"textposition\":\"top right\",\"texttemplate\":\"%{text:.2s}\"},{\"mode\":\"text\",\"text\":[\"25.238858928247925\"],\"x\":[14.5],\"y\":[22.0],\"type\":\"scatter\",\"textposition\":\"top right\",\"texttemplate\":\"%{text:.2s}\"},{\"mode\":\"text\",\"text\":[\"27.730849247724095\"],\"x\":[12.5],\"y\":[23.0],\"type\":\"scatter\",\"textposition\":\"top right\",\"texttemplate\":\"%{text:.2s}\"},{\"mode\":\"text\",\"text\":[\"2.23606797749979\"],\"x\":[26.0],\"y\":[28.5],\"type\":\"scatter\",\"textposition\":\"top right\",\"texttemplate\":\"%{text:.2s}\"},{\"mode\":\"text\",\"text\":[\"0.0\"],\"x\":[25.0],\"y\":[29.0],\"type\":\"scatter\",\"textposition\":\"top right\",\"texttemplate\":\"%{text:.2s}\"},{\"mode\":\"text\",\"text\":[\"9.0\"],\"x\":[20.5],\"y\":[29.0],\"type\":\"scatter\",\"textposition\":\"top right\",\"texttemplate\":\"%{text:.2s}\"},{\"mode\":\"text\",\"text\":[\"8.54400374531753\"],\"x\":[21.0],\"y\":[27.5],\"type\":\"scatter\",\"textposition\":\"top right\",\"texttemplate\":\"%{text:.2s}\"},{\"mode\":\"text\",\"text\":[\"26.248809496813376\"],\"x\":[16.5],\"y\":[19.0],\"type\":\"scatter\",\"textposition\":\"top right\",\"texttemplate\":\"%{text:.2s}\"},{\"mode\":\"text\",\"text\":[\"31.400636936215164\"],\"x\":[12.5],\"y\":[19.5],\"type\":\"scatter\",\"textposition\":\"top right\",\"texttemplate\":\"%{text:.2s}\"},{\"mode\":\"text\",\"text\":[\"18.384776310850235\"],\"x\":[16.5],\"y\":[25.5],\"type\":\"scatter\",\"textposition\":\"top right\",\"texttemplate\":\"%{text:.2s}\"},{\"mode\":\"text\",\"text\":[\"7.0\"],\"x\":[12.5],\"y\":[29.0],\"type\":\"scatter\",\"textposition\":\"top right\",\"texttemplate\":\"%{text:.2s}\"},{\"mode\":\"text\",\"text\":[\"18.439088914585774\"],\"x\":[10.0],\"y\":[22.0],\"type\":\"scatter\",\"textposition\":\"top right\",\"texttemplate\":\"%{text:.2s}\"},{\"mode\":\"text\",\"text\":[\"20.0\"],\"x\":[8.0],\"y\":[23.0],\"type\":\"scatter\",\"textposition\":\"top right\",\"texttemplate\":\"%{text:.2s}\"},{\"mode\":\"text\",\"text\":[\"11.045361017187261\"],\"x\":[21.5],\"y\":[28.5],\"type\":\"scatter\",\"textposition\":\"top right\",\"texttemplate\":\"%{text:.2s}\"},{\"mode\":\"text\",\"text\":[\"9.0\"],\"x\":[20.5],\"y\":[29.0],\"type\":\"scatter\",\"textposition\":\"top right\",\"texttemplate\":\"%{text:.2s}\"},{\"mode\":\"text\",\"text\":[\"0.0\"],\"x\":[16.0],\"y\":[29.0],\"type\":\"scatter\",\"textposition\":\"top right\",\"texttemplate\":\"%{text:.2s}\"},{\"mode\":\"text\",\"text\":[\"3.1622776601683795\"],\"x\":[16.5],\"y\":[27.5],\"type\":\"scatter\",\"textposition\":\"top right\",\"texttemplate\":\"%{text:.2s}\"},{\"mode\":\"text\",\"text\":[\"21.540659228538015\"],\"x\":[12.0],\"y\":[19.0],\"type\":\"scatter\",\"textposition\":\"top right\",\"texttemplate\":\"%{text:.2s}\"},{\"mode\":\"text\",\"text\":[\"24.839484696748443\"],\"x\":[8.0],\"y\":[19.5],\"type\":\"scatter\",\"textposition\":\"top right\",\"texttemplate\":\"%{text:.2s}\"},{\"mode\":\"text\",\"text\":[\"10.63014581273465\"],\"x\":[12.0],\"y\":[25.5],\"type\":\"scatter\",\"textposition\":\"top right\",\"texttemplate\":\"%{text:.2s}\"},{\"mode\":\"text\",\"text\":[\"8.54400374531753\"],\"x\":[13.0],\"y\":[27.5],\"type\":\"scatter\",\"textposition\":\"top right\",\"texttemplate\":\"%{text:.2s}\"},{\"mode\":\"text\",\"text\":[\"17.029386365926403\"],\"x\":[10.5],\"y\":[20.5],\"type\":\"scatter\",\"textposition\":\"top right\",\"texttemplate\":\"%{text:.2s}\"},{\"mode\":\"text\",\"text\":[\"19.235384061671343\"],\"x\":[8.5],\"y\":[21.5],\"type\":\"scatter\",\"textposition\":\"top right\",\"texttemplate\":\"%{text:.2s}\"},{\"mode\":\"text\",\"text\":[\"10.198039027185569\"],\"x\":[22.0],\"y\":[27.0],\"type\":\"scatter\",\"textposition\":\"top right\",\"texttemplate\":\"%{text:.2s}\"},{\"mode\":\"text\",\"text\":[\"8.54400374531753\"],\"x\":[21.0],\"y\":[27.5],\"type\":\"scatter\",\"textposition\":\"top right\",\"texttemplate\":\"%{text:.2s}\"},{\"mode\":\"text\",\"text\":[\"3.1622776601683795\"],\"x\":[16.5],\"y\":[27.5],\"type\":\"scatter\",\"textposition\":\"top right\",\"texttemplate\":\"%{text:.2s}\"},{\"mode\":\"text\",\"text\":[\"0.0\"],\"x\":[17.0],\"y\":[26.0],\"type\":\"scatter\",\"textposition\":\"top right\",\"texttemplate\":\"%{text:.2s}\"},{\"mode\":\"text\",\"text\":[\"19.235384061671343\"],\"x\":[12.5],\"y\":[17.5],\"type\":\"scatter\",\"textposition\":\"top right\",\"texttemplate\":\"%{text:.2s}\"},{\"mode\":\"text\",\"text\":[\"23.345235059857504\"],\"x\":[8.5],\"y\":[18.0],\"type\":\"scatter\",\"textposition\":\"top right\",\"texttemplate\":\"%{text:.2s}\"},{\"mode\":\"text\",\"text\":[\"9.848857801796104\"],\"x\":[12.5],\"y\":[24.0],\"type\":\"scatter\",\"textposition\":\"top right\",\"texttemplate\":\"%{text:.2s}\"},{\"mode\":\"text\",\"text\":[\"20.024984394500787\"],\"x\":[8.5],\"y\":[19.0],\"type\":\"scatter\",\"textposition\":\"top right\",\"texttemplate\":\"%{text:.2s}\"},{\"mode\":\"text\",\"text\":[\"7.211102550927978\"],\"x\":[6.0],\"y\":[12.0],\"type\":\"scatter\",\"textposition\":\"top right\",\"texttemplate\":\"%{text:.2s}\"},{\"mode\":\"text\",\"text\":[\"11.313708498984761\"],\"x\":[4.0],\"y\":[13.0],\"type\":\"scatter\",\"textposition\":\"top right\",\"texttemplate\":\"%{text:.2s}\"},{\"mode\":\"text\",\"text\":[\"26.870057685088806\"],\"x\":[17.5],\"y\":[18.5],\"type\":\"scatter\",\"textposition\":\"top right\",\"texttemplate\":\"%{text:.2s}\"},{\"mode\":\"text\",\"text\":[\"26.248809496813376\"],\"x\":[16.5],\"y\":[19.0],\"type\":\"scatter\",\"textposition\":\"top right\",\"texttemplate\":\"%{text:.2s}\"},{\"mode\":\"text\",\"text\":[\"21.540659228538015\"],\"x\":[12.0],\"y\":[19.0],\"type\":\"scatter\",\"textposition\":\"top right\",\"texttemplate\":\"%{text:.2s}\"},{\"mode\":\"text\",\"text\":[\"19.235384061671343\"],\"x\":[12.5],\"y\":[17.5],\"type\":\"scatter\",\"textposition\":\"top right\",\"texttemplate\":\"%{text:.2s}\"},{\"mode\":\"text\",\"text\":[\"0.0\"],\"x\":[8.0],\"y\":[9.0],\"type\":\"scatter\",\"textposition\":\"top right\",\"texttemplate\":\"%{text:.2s}\"},{\"mode\":\"text\",\"text\":[\"8.06225774829855\"],\"x\":[4.0],\"y\":[9.5],\"type\":\"scatter\",\"textposition\":\"top right\",\"texttemplate\":\"%{text:.2s}\"},{\"mode\":\"text\",\"text\":[\"13.0\"],\"x\":[8.0],\"y\":[15.5],\"type\":\"scatter\",\"textposition\":\"top right\",\"texttemplate\":\"%{text:.2s}\"},{\"mode\":\"text\",\"text\":[\"21.02379604162864\"],\"x\":[4.5],\"y\":[19.5],\"type\":\"scatter\",\"textposition\":\"top right\",\"texttemplate\":\"%{text:.2s}\"},{\"mode\":\"text\",\"text\":[\"6.4031242374328485\"],\"x\":[2.0],\"y\":[12.5],\"type\":\"scatter\",\"textposition\":\"top right\",\"texttemplate\":\"%{text:.2s}\"},{\"mode\":\"text\",\"text\":[\"7.0\"],\"x\":[0.0],\"y\":[13.5],\"type\":\"scatter\",\"textposition\":\"top right\",\"texttemplate\":\"%{text:.2s}\"},{\"mode\":\"text\",\"text\":[\"32.449961479175904\"],\"x\":[13.5],\"y\":[19.0],\"type\":\"scatter\",\"textposition\":\"top right\",\"texttemplate\":\"%{text:.2s}\"},{\"mode\":\"text\",\"text\":[\"31.400636936215164\"],\"x\":[12.5],\"y\":[19.5],\"type\":\"scatter\",\"textposition\":\"top right\",\"texttemplate\":\"%{text:.2s}\"},{\"mode\":\"text\",\"text\":[\"24.839484696748443\"],\"x\":[8.0],\"y\":[19.5],\"type\":\"scatter\",\"textposition\":\"top right\",\"texttemplate\":\"%{text:.2s}\"},{\"mode\":\"text\",\"text\":[\"23.345235059857504\"],\"x\":[8.5],\"y\":[18.0],\"type\":\"scatter\",\"textposition\":\"top right\",\"texttemplate\":\"%{text:.2s}\"},{\"mode\":\"text\",\"text\":[\"8.06225774829855\"],\"x\":[4.0],\"y\":[9.5],\"type\":\"scatter\",\"textposition\":\"top right\",\"texttemplate\":\"%{text:.2s}\"},{\"mode\":\"text\",\"text\":[\"0.0\"],\"x\":[0.0],\"y\":[10.0],\"type\":\"scatter\",\"textposition\":\"top right\",\"texttemplate\":\"%{text:.2s}\"},{\"mode\":\"text\",\"text\":[\"14.422205101855956\"],\"x\":[4.0],\"y\":[16.0],\"type\":\"scatter\",\"textposition\":\"top right\",\"texttemplate\":\"%{text:.2s}\"},{\"mode\":\"text\",\"text\":[\"7.0710678118654755\"],\"x\":[8.5],\"y\":[25.5],\"type\":\"scatter\",\"textposition\":\"top right\",\"texttemplate\":\"%{text:.2s}\"},{\"mode\":\"text\",\"text\":[\"8.06225774829855\"],\"x\":[6.0],\"y\":[18.5],\"type\":\"scatter\",\"textposition\":\"top right\",\"texttemplate\":\"%{text:.2s}\"},{\"mode\":\"text\",\"text\":[\"9.433981132056603\"],\"x\":[4.0],\"y\":[19.5],\"type\":\"scatter\",\"textposition\":\"top right\",\"texttemplate\":\"%{text:.2s}\"},{\"mode\":\"text\",\"text\":[\"19.924858845171276\"],\"x\":[17.5],\"y\":[25.0],\"type\":\"scatter\",\"textposition\":\"top right\",\"texttemplate\":\"%{text:.2s}\"},{\"mode\":\"text\",\"text\":[\"18.384776310850235\"],\"x\":[16.5],\"y\":[25.5],\"type\":\"scatter\",\"textposition\":\"top right\",\"texttemplate\":\"%{text:.2s}\"},{\"mode\":\"text\",\"text\":[\"10.63014581273465\"],\"x\":[12.0],\"y\":[25.5],\"type\":\"scatter\",\"textposition\":\"top right\",\"texttemplate\":\"%{text:.2s}\"},{\"mode\":\"text\",\"text\":[\"9.848857801796104\"],\"x\":[12.5],\"y\":[24.0],\"type\":\"scatter\",\"textposition\":\"top right\",\"texttemplate\":\"%{text:.2s}\"},{\"mode\":\"text\",\"text\":[\"13.0\"],\"x\":[8.0],\"y\":[15.5],\"type\":\"scatter\",\"textposition\":\"top right\",\"texttemplate\":\"%{text:.2s}\"},{\"mode\":\"text\",\"text\":[\"14.422205101855956\"],\"x\":[4.0],\"y\":[16.0],\"type\":\"scatter\",\"textposition\":\"top right\",\"texttemplate\":\"%{text:.2s}\"},{\"mode\":\"text\",\"text\":[\"0.0\"],\"x\":[8.0],\"y\":[22.0],\"type\":\"scatter\",\"textposition\":\"top right\",\"texttemplate\":\"%{text:.2s}\"}],                        {\"template\":{\"data\":{\"histogram2dcontour\":[{\"type\":\"histogram2dcontour\",\"colorbar\":{\"outlinewidth\":0,\"ticks\":\"\"},\"colorscale\":[[0.0,\"#0d0887\"],[0.1111111111111111,\"#46039f\"],[0.2222222222222222,\"#7201a8\"],[0.3333333333333333,\"#9c179e\"],[0.4444444444444444,\"#bd3786\"],[0.5555555555555556,\"#d8576b\"],[0.6666666666666666,\"#ed7953\"],[0.7777777777777778,\"#fb9f3a\"],[0.8888888888888888,\"#fdca26\"],[1.0,\"#f0f921\"]]}],\"choropleth\":[{\"type\":\"choropleth\",\"colorbar\":{\"outlinewidth\":0,\"ticks\":\"\"}}],\"histogram2d\":[{\"type\":\"histogram2d\",\"colorbar\":{\"outlinewidth\":0,\"ticks\":\"\"},\"colorscale\":[[0.0,\"#0d0887\"],[0.1111111111111111,\"#46039f\"],[0.2222222222222222,\"#7201a8\"],[0.3333333333333333,\"#9c179e\"],[0.4444444444444444,\"#bd3786\"],[0.5555555555555556,\"#d8576b\"],[0.6666666666666666,\"#ed7953\"],[0.7777777777777778,\"#fb9f3a\"],[0.8888888888888888,\"#fdca26\"],[1.0,\"#f0f921\"]]}],\"heatmap\":[{\"type\":\"heatmap\",\"colorbar\":{\"outlinewidth\":0,\"ticks\":\"\"},\"colorscale\":[[0.0,\"#0d0887\"],[0.1111111111111111,\"#46039f\"],[0.2222222222222222,\"#7201a8\"],[0.3333333333333333,\"#9c179e\"],[0.4444444444444444,\"#bd3786\"],[0.5555555555555556,\"#d8576b\"],[0.6666666666666666,\"#ed7953\"],[0.7777777777777778,\"#fb9f3a\"],[0.8888888888888888,\"#fdca26\"],[1.0,\"#f0f921\"]]}],\"heatmapgl\":[{\"type\":\"heatmapgl\",\"colorbar\":{\"outlinewidth\":0,\"ticks\":\"\"},\"colorscale\":[[0.0,\"#0d0887\"],[0.1111111111111111,\"#46039f\"],[0.2222222222222222,\"#7201a8\"],[0.3333333333333333,\"#9c179e\"],[0.4444444444444444,\"#bd3786\"],[0.5555555555555556,\"#d8576b\"],[0.6666666666666666,\"#ed7953\"],[0.7777777777777778,\"#fb9f3a\"],[0.8888888888888888,\"#fdca26\"],[1.0,\"#f0f921\"]]}],\"contourcarpet\":[{\"type\":\"contourcarpet\",\"colorbar\":{\"outlinewidth\":0,\"ticks\":\"\"}}],\"contour\":[{\"type\":\"contour\",\"colorbar\":{\"outlinewidth\":0,\"ticks\":\"\"},\"colorscale\":[[0.0,\"#0d0887\"],[0.1111111111111111,\"#46039f\"],[0.2222222222222222,\"#7201a8\"],[0.3333333333333333,\"#9c179e\"],[0.4444444444444444,\"#bd3786\"],[0.5555555555555556,\"#d8576b\"],[0.6666666666666666,\"#ed7953\"],[0.7777777777777778,\"#fb9f3a\"],[0.8888888888888888,\"#fdca26\"],[1.0,\"#f0f921\"]]}],\"surface\":[{\"type\":\"surface\",\"colorbar\":{\"outlinewidth\":0,\"ticks\":\"\"},\"colorscale\":[[0.0,\"#0d0887\"],[0.1111111111111111,\"#46039f\"],[0.2222222222222222,\"#7201a8\"],[0.3333333333333333,\"#9c179e\"],[0.4444444444444444,\"#bd3786\"],[0.5555555555555556,\"#d8576b\"],[0.6666666666666666,\"#ed7953\"],[0.7777777777777778,\"#fb9f3a\"],[0.8888888888888888,\"#fdca26\"],[1.0,\"#f0f921\"]]}],\"mesh3d\":[{\"type\":\"mesh3d\",\"colorbar\":{\"outlinewidth\":0,\"ticks\":\"\"}}],\"scatter\":[{\"fillpattern\":{\"fillmode\":\"overlay\",\"size\":10,\"solidity\":0.2},\"type\":\"scatter\"}],\"parcoords\":[{\"type\":\"parcoords\",\"line\":{\"colorbar\":{\"outlinewidth\":0,\"ticks\":\"\"}}}],\"scatterpolargl\":[{\"type\":\"scatterpolargl\",\"marker\":{\"colorbar\":{\"outlinewidth\":0,\"ticks\":\"\"}}}],\"bar\":[{\"error_x\":{\"color\":\"#2a3f5f\"},\"error_y\":{\"color\":\"#2a3f5f\"},\"marker\":{\"line\":{\"color\":\"white\",\"width\":0.5},\"pattern\":{\"fillmode\":\"overlay\",\"size\":10,\"solidity\":0.2}},\"type\":\"bar\"}],\"scattergeo\":[{\"type\":\"scattergeo\",\"marker\":{\"colorbar\":{\"outlinewidth\":0,\"ticks\":\"\"}}}],\"scatterpolar\":[{\"type\":\"scatterpolar\",\"marker\":{\"colorbar\":{\"outlinewidth\":0,\"ticks\":\"\"}}}],\"histogram\":[{\"marker\":{\"pattern\":{\"fillmode\":\"overlay\",\"size\":10,\"solidity\":0.2}},\"type\":\"histogram\"}],\"scattergl\":[{\"type\":\"scattergl\",\"marker\":{\"colorbar\":{\"outlinewidth\":0,\"ticks\":\"\"}}}],\"scatter3d\":[{\"type\":\"scatter3d\",\"line\":{\"colorbar\":{\"outlinewidth\":0,\"ticks\":\"\"}},\"marker\":{\"colorbar\":{\"outlinewidth\":0,\"ticks\":\"\"}}}],\"scattermapbox\":[{\"type\":\"scattermapbox\",\"marker\":{\"colorbar\":{\"outlinewidth\":0,\"ticks\":\"\"}}}],\"scatterternary\":[{\"type\":\"scatterternary\",\"marker\":{\"colorbar\":{\"outlinewidth\":0,\"ticks\":\"\"}}}],\"scattercarpet\":[{\"type\":\"scattercarpet\",\"marker\":{\"colorbar\":{\"outlinewidth\":0,\"ticks\":\"\"}}}],\"carpet\":[{\"aaxis\":{\"endlinecolor\":\"#2a3f5f\",\"gridcolor\":\"#C8D4E3\",\"linecolor\":\"#C8D4E3\",\"minorgridcolor\":\"#C8D4E3\",\"startlinecolor\":\"#2a3f5f\"},\"baxis\":{\"endlinecolor\":\"#2a3f5f\",\"gridcolor\":\"#C8D4E3\",\"linecolor\":\"#C8D4E3\",\"minorgridcolor\":\"#C8D4E3\",\"startlinecolor\":\"#2a3f5f\"},\"type\":\"carpet\"}],\"table\":[{\"cells\":{\"fill\":{\"color\":\"#EBF0F8\"},\"line\":{\"color\":\"white\"}},\"header\":{\"fill\":{\"color\":\"#C8D4E3\"},\"line\":{\"color\":\"white\"}},\"type\":\"table\"}],\"barpolar\":[{\"marker\":{\"line\":{\"color\":\"white\",\"width\":0.5},\"pattern\":{\"fillmode\":\"overlay\",\"size\":10,\"solidity\":0.2}},\"type\":\"barpolar\"}],\"pie\":[{\"automargin\":true,\"type\":\"pie\"}]},\"layout\":{\"autotypenumbers\":\"strict\",\"colorway\":[\"#636efa\",\"#EF553B\",\"#00cc96\",\"#ab63fa\",\"#FFA15A\",\"#19d3f3\",\"#FF6692\",\"#B6E880\",\"#FF97FF\",\"#FECB52\"],\"font\":{\"color\":\"#2a3f5f\"},\"hovermode\":\"closest\",\"hoverlabel\":{\"align\":\"left\"},\"paper_bgcolor\":\"white\",\"plot_bgcolor\":\"white\",\"polar\":{\"bgcolor\":\"white\",\"angularaxis\":{\"gridcolor\":\"#EBF0F8\",\"linecolor\":\"#EBF0F8\",\"ticks\":\"\"},\"radialaxis\":{\"gridcolor\":\"#EBF0F8\",\"linecolor\":\"#EBF0F8\",\"ticks\":\"\"}},\"ternary\":{\"bgcolor\":\"white\",\"aaxis\":{\"gridcolor\":\"#DFE8F3\",\"linecolor\":\"#A2B1C6\",\"ticks\":\"\"},\"baxis\":{\"gridcolor\":\"#DFE8F3\",\"linecolor\":\"#A2B1C6\",\"ticks\":\"\"},\"caxis\":{\"gridcolor\":\"#DFE8F3\",\"linecolor\":\"#A2B1C6\",\"ticks\":\"\"}},\"coloraxis\":{\"colorbar\":{\"outlinewidth\":0,\"ticks\":\"\"}},\"colorscale\":{\"sequential\":[[0.0,\"#0d0887\"],[0.1111111111111111,\"#46039f\"],[0.2222222222222222,\"#7201a8\"],[0.3333333333333333,\"#9c179e\"],[0.4444444444444444,\"#bd3786\"],[0.5555555555555556,\"#d8576b\"],[0.6666666666666666,\"#ed7953\"],[0.7777777777777778,\"#fb9f3a\"],[0.8888888888888888,\"#fdca26\"],[1.0,\"#f0f921\"]],\"sequentialminus\":[[0.0,\"#0d0887\"],[0.1111111111111111,\"#46039f\"],[0.2222222222222222,\"#7201a8\"],[0.3333333333333333,\"#9c179e\"],[0.4444444444444444,\"#bd3786\"],[0.5555555555555556,\"#d8576b\"],[0.6666666666666666,\"#ed7953\"],[0.7777777777777778,\"#fb9f3a\"],[0.8888888888888888,\"#fdca26\"],[1.0,\"#f0f921\"]],\"diverging\":[[0,\"#8e0152\"],[0.1,\"#c51b7d\"],[0.2,\"#de77ae\"],[0.3,\"#f1b6da\"],[0.4,\"#fde0ef\"],[0.5,\"#f7f7f7\"],[0.6,\"#e6f5d0\"],[0.7,\"#b8e186\"],[0.8,\"#7fbc41\"],[0.9,\"#4d9221\"],[1,\"#276419\"]]},\"xaxis\":{\"gridcolor\":\"#EBF0F8\",\"linecolor\":\"#EBF0F8\",\"ticks\":\"\",\"title\":{\"standoff\":15},\"zerolinecolor\":\"#EBF0F8\",\"automargin\":true,\"zerolinewidth\":2},\"yaxis\":{\"gridcolor\":\"#EBF0F8\",\"linecolor\":\"#EBF0F8\",\"ticks\":\"\",\"title\":{\"standoff\":15},\"zerolinecolor\":\"#EBF0F8\",\"automargin\":true,\"zerolinewidth\":2},\"scene\":{\"xaxis\":{\"backgroundcolor\":\"white\",\"gridcolor\":\"#DFE8F3\",\"linecolor\":\"#EBF0F8\",\"showbackground\":true,\"ticks\":\"\",\"zerolinecolor\":\"#EBF0F8\",\"gridwidth\":2},\"yaxis\":{\"backgroundcolor\":\"white\",\"gridcolor\":\"#DFE8F3\",\"linecolor\":\"#EBF0F8\",\"showbackground\":true,\"ticks\":\"\",\"zerolinecolor\":\"#EBF0F8\",\"gridwidth\":2},\"zaxis\":{\"backgroundcolor\":\"white\",\"gridcolor\":\"#DFE8F3\",\"linecolor\":\"#EBF0F8\",\"showbackground\":true,\"ticks\":\"\",\"zerolinecolor\":\"#EBF0F8\",\"gridwidth\":2}},\"shapedefaults\":{\"line\":{\"color\":\"#2a3f5f\"}},\"annotationdefaults\":{\"arrowcolor\":\"#2a3f5f\",\"arrowhead\":0,\"arrowwidth\":1},\"geo\":{\"bgcolor\":\"white\",\"landcolor\":\"white\",\"subunitcolor\":\"#C8D4E3\",\"showland\":true,\"showlakes\":true,\"lakecolor\":\"white\"},\"title\":{\"x\":0.05},\"mapbox\":{\"style\":\"light\"}}},\"xaxis\":{\"anchor\":\"y\",\"domain\":[0.0,1.0],\"title\":{\"text\":\"x\"}},\"yaxis\":{\"anchor\":\"x\",\"domain\":[0.0,1.0],\"title\":{\"text\":\"y\"}},\"legend\":{\"tracegroupgap\":0},\"margin\":{\"t\":60},\"shapes\":[{\"line\":{\"color\":\"rgb(0, 0, 0)\"},\"opacity\":0.09,\"type\":\"line\",\"x0\":9,\"x1\":9,\"y0\":29,\"y1\":29},{\"line\":{\"color\":\"rgb(0, 0, 0)\"},\"opacity\":0.09,\"type\":\"line\",\"x0\":9,\"x1\":4,\"y0\":29,\"y1\":15},{\"line\":{\"color\":\"rgb(0, 0, 0)\"},\"opacity\":0.09,\"type\":\"line\",\"x0\":9,\"x1\":0,\"y0\":29,\"y1\":17},{\"line\":{\"color\":\"rgb(0, 0, 0)\"},\"opacity\":0.09,\"type\":\"line\",\"x0\":9,\"x1\":27,\"y0\":29,\"y1\":28},{\"line\":{\"color\":\"rgb(0, 0, 0)\"},\"opacity\":0.09,\"type\":\"line\",\"x0\":9,\"x1\":25,\"y0\":29,\"y1\":29},{\"line\":{\"color\":\"rgb(0, 0, 0)\"},\"opacity\":0.09,\"type\":\"line\",\"x0\":9,\"x1\":16,\"y0\":29,\"y1\":29},{\"line\":{\"color\":\"rgb(0, 0, 0)\"},\"opacity\":0.09,\"type\":\"line\",\"x0\":9,\"x1\":17,\"y0\":29,\"y1\":26},{\"line\":{\"color\":\"rgb(0, 0, 0)\"},\"opacity\":0.09,\"type\":\"line\",\"x0\":9,\"x1\":8,\"y0\":29,\"y1\":9},{\"line\":{\"color\":\"rgb(0, 0, 0)\"},\"opacity\":0.09,\"type\":\"line\",\"x0\":9,\"x1\":0,\"y0\":29,\"y1\":10},{\"line\":{\"color\":\"rgb(0, 0, 0)\"},\"opacity\":0.09,\"type\":\"line\",\"x0\":9,\"x1\":8,\"y0\":29,\"y1\":22},{\"line\":{\"color\":\"rgb(0, 0, 0)\"},\"opacity\":0.09,\"type\":\"line\",\"x0\":4,\"x1\":9,\"y0\":15,\"y1\":29},{\"line\":{\"color\":\"rgb(0, 0, 0)\"},\"opacity\":0.09,\"type\":\"line\",\"x0\":4,\"x1\":4,\"y0\":15,\"y1\":15},{\"line\":{\"color\":\"rgb(0, 0, 0)\"},\"opacity\":0.09,\"type\":\"line\",\"x0\":4,\"x1\":0,\"y0\":15,\"y1\":17},{\"line\":{\"color\":\"rgb(0, 0, 0)\"},\"opacity\":0.09,\"type\":\"line\",\"x0\":4,\"x1\":27,\"y0\":15,\"y1\":28},{\"line\":{\"color\":\"rgb(0, 0, 0)\"},\"opacity\":0.09,\"type\":\"line\",\"x0\":4,\"x1\":25,\"y0\":15,\"y1\":29},{\"line\":{\"color\":\"rgb(0, 0, 0)\"},\"opacity\":0.09,\"type\":\"line\",\"x0\":4,\"x1\":16,\"y0\":15,\"y1\":29},{\"line\":{\"color\":\"rgb(0, 0, 0)\"},\"opacity\":0.09,\"type\":\"line\",\"x0\":4,\"x1\":17,\"y0\":15,\"y1\":26},{\"line\":{\"color\":\"rgb(0, 0, 0)\"},\"opacity\":0.09,\"type\":\"line\",\"x0\":4,\"x1\":8,\"y0\":15,\"y1\":9},{\"line\":{\"color\":\"rgb(0, 0, 0)\"},\"opacity\":0.09,\"type\":\"line\",\"x0\":4,\"x1\":0,\"y0\":15,\"y1\":10},{\"line\":{\"color\":\"rgb(0, 0, 0)\"},\"opacity\":0.09,\"type\":\"line\",\"x0\":4,\"x1\":8,\"y0\":15,\"y1\":22},{\"line\":{\"color\":\"rgb(0, 0, 0)\"},\"opacity\":0.09,\"type\":\"line\",\"x0\":0,\"x1\":9,\"y0\":17,\"y1\":29},{\"line\":{\"color\":\"rgb(0, 0, 0)\"},\"opacity\":0.09,\"type\":\"line\",\"x0\":0,\"x1\":4,\"y0\":17,\"y1\":15},{\"line\":{\"color\":\"rgb(0, 0, 0)\"},\"opacity\":0.09,\"type\":\"line\",\"x0\":0,\"x1\":0,\"y0\":17,\"y1\":17},{\"line\":{\"color\":\"rgb(0, 0, 0)\"},\"opacity\":0.09,\"type\":\"line\",\"x0\":0,\"x1\":27,\"y0\":17,\"y1\":28},{\"line\":{\"color\":\"rgb(0, 0, 0)\"},\"opacity\":0.09,\"type\":\"line\",\"x0\":0,\"x1\":25,\"y0\":17,\"y1\":29},{\"line\":{\"color\":\"rgb(0, 0, 0)\"},\"opacity\":0.09,\"type\":\"line\",\"x0\":0,\"x1\":16,\"y0\":17,\"y1\":29},{\"line\":{\"color\":\"rgb(0, 0, 0)\"},\"opacity\":0.09,\"type\":\"line\",\"x0\":0,\"x1\":17,\"y0\":17,\"y1\":26},{\"line\":{\"color\":\"rgb(0, 0, 0)\"},\"opacity\":0.09,\"type\":\"line\",\"x0\":0,\"x1\":8,\"y0\":17,\"y1\":9},{\"line\":{\"color\":\"rgb(0, 0, 0)\"},\"opacity\":0.09,\"type\":\"line\",\"x0\":0,\"x1\":0,\"y0\":17,\"y1\":10},{\"line\":{\"color\":\"rgb(0, 0, 0)\"},\"opacity\":0.09,\"type\":\"line\",\"x0\":0,\"x1\":8,\"y0\":17,\"y1\":22},{\"line\":{\"color\":\"rgb(0, 0, 0)\"},\"opacity\":0.09,\"type\":\"line\",\"x0\":27,\"x1\":9,\"y0\":28,\"y1\":29},{\"line\":{\"color\":\"rgb(0, 0, 0)\"},\"opacity\":0.09,\"type\":\"line\",\"x0\":27,\"x1\":4,\"y0\":28,\"y1\":15},{\"line\":{\"color\":\"rgb(0, 0, 0)\"},\"opacity\":0.09,\"type\":\"line\",\"x0\":27,\"x1\":0,\"y0\":28,\"y1\":17},{\"line\":{\"color\":\"rgb(0, 0, 0)\"},\"opacity\":0.09,\"type\":\"line\",\"x0\":27,\"x1\":27,\"y0\":28,\"y1\":28},{\"line\":{\"color\":\"rgb(0, 0, 0)\"},\"opacity\":0.09,\"type\":\"line\",\"x0\":27,\"x1\":25,\"y0\":28,\"y1\":29},{\"line\":{\"color\":\"rgb(0, 0, 0)\"},\"opacity\":0.09,\"type\":\"line\",\"x0\":27,\"x1\":16,\"y0\":28,\"y1\":29},{\"line\":{\"color\":\"rgb(0, 0, 0)\"},\"opacity\":0.09,\"type\":\"line\",\"x0\":27,\"x1\":17,\"y0\":28,\"y1\":26},{\"line\":{\"color\":\"rgb(0, 0, 0)\"},\"opacity\":0.09,\"type\":\"line\",\"x0\":27,\"x1\":8,\"y0\":28,\"y1\":9},{\"line\":{\"color\":\"rgb(0, 0, 0)\"},\"opacity\":0.09,\"type\":\"line\",\"x0\":27,\"x1\":0,\"y0\":28,\"y1\":10},{\"line\":{\"color\":\"rgb(0, 0, 0)\"},\"opacity\":0.09,\"type\":\"line\",\"x0\":27,\"x1\":8,\"y0\":28,\"y1\":22},{\"line\":{\"color\":\"rgb(0, 0, 0)\"},\"opacity\":0.09,\"type\":\"line\",\"x0\":25,\"x1\":9,\"y0\":29,\"y1\":29},{\"line\":{\"color\":\"rgb(0, 0, 0)\"},\"opacity\":0.09,\"type\":\"line\",\"x0\":25,\"x1\":4,\"y0\":29,\"y1\":15},{\"line\":{\"color\":\"rgb(0, 0, 0)\"},\"opacity\":0.09,\"type\":\"line\",\"x0\":25,\"x1\":0,\"y0\":29,\"y1\":17},{\"line\":{\"color\":\"rgb(0, 0, 0)\"},\"opacity\":0.09,\"type\":\"line\",\"x0\":25,\"x1\":27,\"y0\":29,\"y1\":28},{\"line\":{\"color\":\"rgb(0, 0, 0)\"},\"opacity\":0.09,\"type\":\"line\",\"x0\":25,\"x1\":25,\"y0\":29,\"y1\":29},{\"line\":{\"color\":\"rgb(0, 0, 0)\"},\"opacity\":0.09,\"type\":\"line\",\"x0\":25,\"x1\":16,\"y0\":29,\"y1\":29},{\"line\":{\"color\":\"rgb(0, 0, 0)\"},\"opacity\":0.09,\"type\":\"line\",\"x0\":25,\"x1\":17,\"y0\":29,\"y1\":26},{\"line\":{\"color\":\"rgb(0, 0, 0)\"},\"opacity\":0.09,\"type\":\"line\",\"x0\":25,\"x1\":8,\"y0\":29,\"y1\":9},{\"line\":{\"color\":\"rgb(0, 0, 0)\"},\"opacity\":0.09,\"type\":\"line\",\"x0\":25,\"x1\":0,\"y0\":29,\"y1\":10},{\"line\":{\"color\":\"rgb(0, 0, 0)\"},\"opacity\":0.09,\"type\":\"line\",\"x0\":25,\"x1\":8,\"y0\":29,\"y1\":22},{\"line\":{\"color\":\"rgb(0, 0, 0)\"},\"opacity\":0.09,\"type\":\"line\",\"x0\":16,\"x1\":9,\"y0\":29,\"y1\":29},{\"line\":{\"color\":\"rgb(0, 0, 0)\"},\"opacity\":0.09,\"type\":\"line\",\"x0\":16,\"x1\":4,\"y0\":29,\"y1\":15},{\"line\":{\"color\":\"rgb(0, 0, 0)\"},\"opacity\":0.09,\"type\":\"line\",\"x0\":16,\"x1\":0,\"y0\":29,\"y1\":17},{\"line\":{\"color\":\"rgb(0, 0, 0)\"},\"opacity\":0.09,\"type\":\"line\",\"x0\":16,\"x1\":27,\"y0\":29,\"y1\":28},{\"line\":{\"color\":\"rgb(0, 0, 0)\"},\"opacity\":0.09,\"type\":\"line\",\"x0\":16,\"x1\":25,\"y0\":29,\"y1\":29},{\"line\":{\"color\":\"rgb(0, 0, 0)\"},\"opacity\":0.09,\"type\":\"line\",\"x0\":16,\"x1\":16,\"y0\":29,\"y1\":29},{\"line\":{\"color\":\"rgb(0, 0, 0)\"},\"opacity\":0.09,\"type\":\"line\",\"x0\":16,\"x1\":17,\"y0\":29,\"y1\":26},{\"line\":{\"color\":\"rgb(0, 0, 0)\"},\"opacity\":0.09,\"type\":\"line\",\"x0\":16,\"x1\":8,\"y0\":29,\"y1\":9},{\"line\":{\"color\":\"rgb(0, 0, 0)\"},\"opacity\":0.09,\"type\":\"line\",\"x0\":16,\"x1\":0,\"y0\":29,\"y1\":10},{\"line\":{\"color\":\"rgb(0, 0, 0)\"},\"opacity\":0.09,\"type\":\"line\",\"x0\":16,\"x1\":8,\"y0\":29,\"y1\":22},{\"line\":{\"color\":\"rgb(0, 0, 0)\"},\"opacity\":0.09,\"type\":\"line\",\"x0\":17,\"x1\":9,\"y0\":26,\"y1\":29},{\"line\":{\"color\":\"rgb(0, 0, 0)\"},\"opacity\":0.09,\"type\":\"line\",\"x0\":17,\"x1\":4,\"y0\":26,\"y1\":15},{\"line\":{\"color\":\"rgb(0, 0, 0)\"},\"opacity\":0.09,\"type\":\"line\",\"x0\":17,\"x1\":0,\"y0\":26,\"y1\":17},{\"line\":{\"color\":\"rgb(0, 0, 0)\"},\"opacity\":0.09,\"type\":\"line\",\"x0\":17,\"x1\":27,\"y0\":26,\"y1\":28},{\"line\":{\"color\":\"rgb(0, 0, 0)\"},\"opacity\":0.09,\"type\":\"line\",\"x0\":17,\"x1\":25,\"y0\":26,\"y1\":29},{\"line\":{\"color\":\"rgb(0, 0, 0)\"},\"opacity\":0.09,\"type\":\"line\",\"x0\":17,\"x1\":16,\"y0\":26,\"y1\":29},{\"line\":{\"color\":\"rgb(0, 0, 0)\"},\"opacity\":0.09,\"type\":\"line\",\"x0\":17,\"x1\":17,\"y0\":26,\"y1\":26},{\"line\":{\"color\":\"rgb(0, 0, 0)\"},\"opacity\":0.09,\"type\":\"line\",\"x0\":17,\"x1\":8,\"y0\":26,\"y1\":9},{\"line\":{\"color\":\"rgb(0, 0, 0)\"},\"opacity\":0.09,\"type\":\"line\",\"x0\":17,\"x1\":0,\"y0\":26,\"y1\":10},{\"line\":{\"color\":\"rgb(0, 0, 0)\"},\"opacity\":0.09,\"type\":\"line\",\"x0\":17,\"x1\":8,\"y0\":26,\"y1\":22},{\"line\":{\"color\":\"rgb(0, 0, 0)\"},\"opacity\":0.09,\"type\":\"line\",\"x0\":8,\"x1\":9,\"y0\":9,\"y1\":29},{\"line\":{\"color\":\"rgb(0, 0, 0)\"},\"opacity\":0.09,\"type\":\"line\",\"x0\":8,\"x1\":4,\"y0\":9,\"y1\":15},{\"line\":{\"color\":\"rgb(0, 0, 0)\"},\"opacity\":0.09,\"type\":\"line\",\"x0\":8,\"x1\":0,\"y0\":9,\"y1\":17},{\"line\":{\"color\":\"rgb(0, 0, 0)\"},\"opacity\":0.09,\"type\":\"line\",\"x0\":8,\"x1\":27,\"y0\":9,\"y1\":28},{\"line\":{\"color\":\"rgb(0, 0, 0)\"},\"opacity\":0.09,\"type\":\"line\",\"x0\":8,\"x1\":25,\"y0\":9,\"y1\":29},{\"line\":{\"color\":\"rgb(0, 0, 0)\"},\"opacity\":0.09,\"type\":\"line\",\"x0\":8,\"x1\":16,\"y0\":9,\"y1\":29},{\"line\":{\"color\":\"rgb(0, 0, 0)\"},\"opacity\":0.09,\"type\":\"line\",\"x0\":8,\"x1\":17,\"y0\":9,\"y1\":26},{\"line\":{\"color\":\"rgb(0, 0, 0)\"},\"opacity\":0.09,\"type\":\"line\",\"x0\":8,\"x1\":8,\"y0\":9,\"y1\":9},{\"line\":{\"color\":\"rgb(0, 0, 0)\"},\"opacity\":0.09,\"type\":\"line\",\"x0\":8,\"x1\":0,\"y0\":9,\"y1\":10},{\"line\":{\"color\":\"rgb(0, 0, 0)\"},\"opacity\":0.09,\"type\":\"line\",\"x0\":8,\"x1\":8,\"y0\":9,\"y1\":22},{\"line\":{\"color\":\"rgb(0, 0, 0)\"},\"opacity\":0.09,\"type\":\"line\",\"x0\":0,\"x1\":9,\"y0\":10,\"y1\":29},{\"line\":{\"color\":\"rgb(0, 0, 0)\"},\"opacity\":0.09,\"type\":\"line\",\"x0\":0,\"x1\":4,\"y0\":10,\"y1\":15},{\"line\":{\"color\":\"rgb(0, 0, 0)\"},\"opacity\":0.09,\"type\":\"line\",\"x0\":0,\"x1\":0,\"y0\":10,\"y1\":17},{\"line\":{\"color\":\"rgb(0, 0, 0)\"},\"opacity\":0.09,\"type\":\"line\",\"x0\":0,\"x1\":27,\"y0\":10,\"y1\":28},{\"line\":{\"color\":\"rgb(0, 0, 0)\"},\"opacity\":0.09,\"type\":\"line\",\"x0\":0,\"x1\":25,\"y0\":10,\"y1\":29},{\"line\":{\"color\":\"rgb(0, 0, 0)\"},\"opacity\":0.09,\"type\":\"line\",\"x0\":0,\"x1\":16,\"y0\":10,\"y1\":29},{\"line\":{\"color\":\"rgb(0, 0, 0)\"},\"opacity\":0.09,\"type\":\"line\",\"x0\":0,\"x1\":17,\"y0\":10,\"y1\":26},{\"line\":{\"color\":\"rgb(0, 0, 0)\"},\"opacity\":0.09,\"type\":\"line\",\"x0\":0,\"x1\":8,\"y0\":10,\"y1\":9},{\"line\":{\"color\":\"rgb(0, 0, 0)\"},\"opacity\":0.09,\"type\":\"line\",\"x0\":0,\"x1\":0,\"y0\":10,\"y1\":10},{\"line\":{\"color\":\"rgb(0, 0, 0)\"},\"opacity\":0.09,\"type\":\"line\",\"x0\":0,\"x1\":8,\"y0\":10,\"y1\":22},{\"line\":{\"color\":\"rgb(0, 0, 0)\"},\"opacity\":0.09,\"type\":\"line\",\"x0\":8,\"x1\":9,\"y0\":22,\"y1\":29},{\"line\":{\"color\":\"rgb(0, 0, 0)\"},\"opacity\":0.09,\"type\":\"line\",\"x0\":8,\"x1\":4,\"y0\":22,\"y1\":15},{\"line\":{\"color\":\"rgb(0, 0, 0)\"},\"opacity\":0.09,\"type\":\"line\",\"x0\":8,\"x1\":0,\"y0\":22,\"y1\":17},{\"line\":{\"color\":\"rgb(0, 0, 0)\"},\"opacity\":0.09,\"type\":\"line\",\"x0\":8,\"x1\":27,\"y0\":22,\"y1\":28},{\"line\":{\"color\":\"rgb(0, 0, 0)\"},\"opacity\":0.09,\"type\":\"line\",\"x0\":8,\"x1\":25,\"y0\":22,\"y1\":29},{\"line\":{\"color\":\"rgb(0, 0, 0)\"},\"opacity\":0.09,\"type\":\"line\",\"x0\":8,\"x1\":16,\"y0\":22,\"y1\":29},{\"line\":{\"color\":\"rgb(0, 0, 0)\"},\"opacity\":0.09,\"type\":\"line\",\"x0\":8,\"x1\":17,\"y0\":22,\"y1\":26},{\"line\":{\"color\":\"rgb(0, 0, 0)\"},\"opacity\":0.09,\"type\":\"line\",\"x0\":8,\"x1\":8,\"y0\":22,\"y1\":9},{\"line\":{\"color\":\"rgb(0, 0, 0)\"},\"opacity\":0.09,\"type\":\"line\",\"x0\":8,\"x1\":0,\"y0\":22,\"y1\":10},{\"line\":{\"color\":\"rgb(0, 0, 0)\"},\"opacity\":0.09,\"type\":\"line\",\"x0\":8,\"x1\":8,\"y0\":22,\"y1\":22}],\"uniformtext\":{\"minsize\":8,\"mode\":\"hide\"},\"showlegend\":false},                        {\"responsive\": true}                    ).then(function(){\n",
              "                            \n",
              "var gd = document.getElementById('e6c3232a-a308-4896-afe3-bf5c9a0b7287');\n",
              "var x = new MutationObserver(function (mutations, observer) {{\n",
              "        var display = window.getComputedStyle(gd).display;\n",
              "        if (!display || display === 'none') {{\n",
              "            console.log([gd, 'removed!']);\n",
              "            Plotly.purge(gd);\n",
              "            observer.disconnect();\n",
              "        }}\n",
              "}});\n",
              "\n",
              "// Listen for the removal of the full notebook cells\n",
              "var notebookContainer = gd.closest('#notebook-container');\n",
              "if (notebookContainer) {{\n",
              "    x.observe(notebookContainer, {childList: true});\n",
              "}}\n",
              "\n",
              "// Listen for the clearing of the current output cell\n",
              "var outputEl = gd.closest('.output');\n",
              "if (outputEl) {{\n",
              "    x.observe(outputEl, {childList: true});\n",
              "}}\n",
              "\n",
              "                        })                };                            </script>        </div>\n",
              "</body>\n",
              "</html>"
            ]
          },
          "metadata": {}
        }
      ]
    },
    {
      "cell_type": "markdown",
      "source": [
        "6 -> 5 -> 2 -> 1 -> ...."
      ],
      "metadata": {
        "id": "0Tn68uAaw47d"
      }
    },
    {
      "cell_type": "markdown",
      "metadata": {
        "id": "0xRnmV6S5g6a"
      },
      "source": [
        "# TSP con programación lineal"
      ]
    },
    {
      "cell_type": "markdown",
      "metadata": {
        "id": "r1W3Lf7G5loM"
      },
      "source": [
        "Considere $n$ puntos, $V = \\left\\{0, 1, \\dots, n-1 \\right\\}$, y la matriz de distancia $D_{n\\times n}$ con entradas $c_{i, j} \\in \\mathbb{R^+}$.\n",
        "\n",
        "La variable $x_{i,j}$ es tal que \n",
        "$$  x_{i,j} = \\begin{cases} 1 & \\text{ el camino va de la ciudad } i \\text{ a la ciudad } j\\text{,} \\\\ 0 & \\text{caso contrario.} \\end{cases} $$\n",
        "\n",
        "Tomando una variable dummy $y_i$ que guarda información del orden en que se visitan las ciudades, a partir de la ciudad $1$. Esto se escribe como $ y_i < y_j$ si la ciudad $i$ se visita antes que la ciudad $j$.\n",
        "\n",
        "Programación lineal favorece la desigualdades no-estrictas respecto a la estrictas, por lo que se puede imponer una condición parecida a la siguiente\n",
        "\n",
        "$$ y_j \\geqslant y_i + x_{i,j} $$ \n",
        "\n",
        "cuando $x_{i,j} = 1$ (NOTESE que no es lo mismo que tomar solo $ y_j \\geqslant y_i + x_{i,j}$)\n"
      ]
    },
    {
      "cell_type": "markdown",
      "source": [
        "La solución es un conjunto de $n$ pares de puntos indicando la ciudad de salida y ciudad de llegada. Considerando las restricciones que se mencionaron al inicio, tenemos que\n",
        "\n",
        "Minimizar:\n",
        "$$\\sum_{i\\in V, j\\in V} c_{i, j}x_{i, j}$$\n",
        "Sujeto a:\n",
        "\\begin{align}\n",
        "\\sum_{i\\in V\\setminus \\{j\\}} x_{i, j} = 1 && \\forall j \\in V \\\\\n",
        "\\sum_{j\\in V\\setminus \\{i\\}} x_{i, j} = 1 && \\forall i \\in V \\\\\n",
        "y_j - (n+1)x_{i, j} \\geq y_i - n && \\forall i \\in V \\setminus \\{0\\}, j\\in V\\setminus \\{0, i\\} \\\\\n",
        "x_{i, j} \\in \\{0, 1\\} && \\forall i\\in V, j \\in V \\\\\n",
        "y_i \\geq 0 && \\forall i \\in V\n",
        "\\end{align}"
      ],
      "metadata": {
        "id": "O0CCd0M4M07T"
      }
    },
    {
      "cell_type": "code",
      "metadata": {
        "colab": {
          "base_uri": "https://localhost:8080/"
        },
        "id": "qi7wIe6QXxN0",
        "outputId": "436699d5-43e9-4270-f707-795a67dd57ce"
      },
      "source": [
        "# Número de nodos y vértices\n",
        "n, V = len(points), set(range(len(points)))\n",
        "print(f'Número de nodos:\\tn = {n}\\nVértices:\\tV = {V}')"
      ],
      "execution_count": null,
      "outputs": [
        {
          "output_type": "stream",
          "name": "stdout",
          "text": [
            "Número de nodos:\tn = 10\n",
            "Vértices:\tV = {0, 1, 2, 3, 4, 5, 6, 7, 8, 9}\n"
          ]
        }
      ]
    },
    {
      "cell_type": "code",
      "metadata": {
        "id": "XAxDjOJZXzST"
      },
      "source": [
        "model = Model()\n",
        "\n",
        "# Variables binarias que indican si se toma el camino de la ciudad i a la j\n",
        "x = [[model.add_var(var_type=BINARY) for j in V] for i in V]\n",
        "\n",
        "# Variables continuas para evitar subrutas\n",
        "y = [model.add_var() for i in V]"
      ],
      "execution_count": null,
      "outputs": []
    },
    {
      "cell_type": "markdown",
      "metadata": {
        "id": "FgF0eoZFAhDo"
      },
      "source": [
        "$$\\sum_{i\\in V, j\\in V} c_{i, j}x_{i, j}$$\n"
      ]
    },
    {
      "cell_type": "code",
      "metadata": {
        "id": "pPC4JFo-_9B3"
      },
      "source": [
        "# Función objetivo: \n",
        "model.objective = minimize(xsum(c[i][j]*x[i][j] for i in V for j in V))"
      ],
      "execution_count": null,
      "outputs": []
    },
    {
      "cell_type": "markdown",
      "metadata": {
        "id": "N6LNXjn8A3xj"
      },
      "source": [
        "$$\\sum_{j\\in V\\setminus \\{i\\}} x_{i, j} = 1 \\text{, } \\forall i \\in V$$"
      ]
    },
    {
      "cell_type": "code",
      "metadata": {
        "id": "ROs_e4P9__Vv"
      },
      "source": [
        "# Restricción : Sal de cada ciudad una única vez\n",
        "for i in V:\n",
        "    model += xsum(x[i][j] for j in V - {i}) == 1"
      ],
      "execution_count": null,
      "outputs": []
    },
    {
      "cell_type": "markdown",
      "metadata": {
        "id": "eyG_IucKAjLf"
      },
      "source": [
        "$$\\sum_{i\\in V\\setminus \\{j\\}} x_{i, j} = 1 \\text{, } \\forall j \\in V$$"
      ]
    },
    {
      "cell_type": "code",
      "metadata": {
        "id": "OTaKu8GdAA9g"
      },
      "source": [
        "# Restricción : Entra a cada ciudad una única vez\n",
        "for i in V:\n",
        "    model += xsum(x[j][i] for j in V - {i}) == 1"
      ],
      "execution_count": null,
      "outputs": []
    },
    {
      "cell_type": "markdown",
      "metadata": {
        "id": "sy6IPGajB22Z"
      },
      "source": [
        "$$y_j - (n+1)x_{i, j} \\geq y_i - n \\text{, } \\forall i \\in V \\setminus \\{0\\}, j\\in V\\setminus \\{0, i\\}$$"
      ]
    },
    {
      "cell_type": "code",
      "metadata": {
        "id": "Iakx3SpIACpL"
      },
      "source": [
        "# Elimina subrutas\n",
        "for (i, j) in product(V - {0}, V - {0}):\n",
        "    if i != j:\n",
        "        model += y[j] - (n+1)*x[i][j] >= y[i]-n"
      ],
      "execution_count": null,
      "outputs": []
    },
    {
      "cell_type": "code",
      "metadata": {
        "colab": {
          "base_uri": "https://localhost:8080/"
        },
        "id": "s8FQC88QAECs",
        "outputId": "444d4754-f198-467d-c6b1-259ce4edf805"
      },
      "source": [
        "# Optimizar\n",
        "model.optimize()\n",
        "\n",
        "# Revisar si se encontró una solución\n",
        "edges = []\n",
        "if model.num_solutions:\n",
        "    print('Ruta con distancia total %g encontrada: %s'\n",
        "              % (model.objective_value, points.index[0]))\n",
        "    nc = 0 # Indice de la ciudad actual\n",
        "    while True:\n",
        "        oc = nc \n",
        "        nc = [i for i in V if x[nc][i].x >= 0.99][0] # Indice de la ciudad a la que se siguió\n",
        "        edges.append((oc, nc)) # Guardamos el camino a tomar\n",
        "        print(' -> %s' % points.index[nc]) # Imprimimos el siguiente paso de la ruta\n",
        "        if nc == 0:  # Si regresa al inicio terminamos el ciclo\n",
        "            break\n",
        "    print('\\n')"
      ],
      "execution_count": null,
      "outputs": [
        {
          "output_type": "stream",
          "name": "stdout",
          "text": [
            "Ruta con distancia total 82.3372 encontrada: ciudad_0\n",
            " -> ciudad_9\n",
            " -> ciudad_1\n",
            " -> ciudad_2\n",
            " -> ciudad_8\n",
            " -> ciudad_7\n",
            " -> ciudad_6\n",
            " -> ciudad_3\n",
            " -> ciudad_4\n",
            " -> ciudad_5\n",
            " -> ciudad_0\n",
            "\n",
            "\n"
          ]
        }
      ]
    },
    {
      "cell_type": "code",
      "metadata": {
        "colab": {
          "base_uri": "https://localhost:8080/"
        },
        "id": "o1ZP922Azyrh",
        "outputId": "cc07872d-d1c8-4da3-d535-899aee2c5d2f"
      },
      "source": [
        "plot_cities_and_route(points, edges)"
      ],
      "execution_count": null,
      "outputs": [
        {
          "output_type": "display_data",
          "data": {
            "text/html": [
              "<html>\n",
              "<head><meta charset=\"utf-8\" /></head>\n",
              "<body>\n",
              "    <div>            <script src=\"https://cdnjs.cloudflare.com/ajax/libs/mathjax/2.7.5/MathJax.js?config=TeX-AMS-MML_SVG\"></script><script type=\"text/javascript\">if (window.MathJax && window.MathJax.Hub && && window.MathJax.Hub.Config) {window.MathJax.Hub.Config({SVG: {font: \"STIX-Web\"}});}</script>                <script type=\"text/javascript\">window.PlotlyConfig = {MathJaxConfig: 'local'};</script>\n",
              "        <script src=\"https://cdn.plot.ly/plotly-2.12.1.min.js\"></script>                <div id=\"fbeabe18-b4ff-4e8b-9da1-4d9726a80376\" class=\"plotly-graph-div\" style=\"height:525px; width:100%;\"></div>            <script type=\"text/javascript\">                                    window.PLOTLYENV=window.PLOTLYENV || {};                                    if (document.getElementById(\"fbeabe18-b4ff-4e8b-9da1-4d9726a80376\")) {                    Plotly.newPlot(                        \"fbeabe18-b4ff-4e8b-9da1-4d9726a80376\",                        [{\"hovertemplate\":\"<b>%{hovertext}</b><br><br>x=%{x}<br>y=%{y}<extra></extra>\",\"hovertext\":[\"ciudad_0\",\"ciudad_1\",\"ciudad_2\",\"ciudad_3\",\"ciudad_4\",\"ciudad_5\",\"ciudad_6\",\"ciudad_7\",\"ciudad_8\",\"ciudad_9\"],\"legendgroup\":\"\",\"marker\":{\"color\":\"#636efa\",\"symbol\":\"circle\",\"line\":{\"color\":\"DarkSlateGrey\",\"width\":2},\"size\":15},\"mode\":\"markers\",\"name\":\"\",\"orientation\":\"v\",\"showlegend\":false,\"x\":[9,4,0,27,25,16,17,8,0,8],\"xaxis\":\"x\",\"y\":[29,15,17,28,29,29,26,9,10,22],\"yaxis\":\"y\",\"type\":\"scatter\",\"textposition\":\"top right\",\"texttemplate\":\"%{text:.2s}\"},{\"mode\":\"text\",\"text\":[\"7.0710678118654755\"],\"x\":[8.5],\"y\":[25.5],\"type\":\"scatter\",\"textposition\":\"top right\",\"texttemplate\":\"%{text:.2s}\"},{\"mode\":\"text\",\"text\":[\"8.06225774829855\"],\"x\":[6.0],\"y\":[18.5],\"type\":\"scatter\",\"textposition\":\"top right\",\"texttemplate\":\"%{text:.2s}\"},{\"mode\":\"text\",\"text\":[\"4.47213595499958\"],\"x\":[2.0],\"y\":[16.0],\"type\":\"scatter\",\"textposition\":\"top right\",\"texttemplate\":\"%{text:.2s}\"},{\"mode\":\"text\",\"text\":[\"7.0\"],\"x\":[0.0],\"y\":[13.5],\"type\":\"scatter\",\"textposition\":\"top right\",\"texttemplate\":\"%{text:.2s}\"},{\"mode\":\"text\",\"text\":[\"8.06225774829855\"],\"x\":[4.0],\"y\":[9.5],\"type\":\"scatter\",\"textposition\":\"top right\",\"texttemplate\":\"%{text:.2s}\"},{\"mode\":\"text\",\"text\":[\"19.235384061671343\"],\"x\":[12.5],\"y\":[17.5],\"type\":\"scatter\",\"textposition\":\"top right\",\"texttemplate\":\"%{text:.2s}\"},{\"mode\":\"text\",\"text\":[\"10.198039027185569\"],\"x\":[22.0],\"y\":[27.0],\"type\":\"scatter\",\"textposition\":\"top right\",\"texttemplate\":\"%{text:.2s}\"},{\"mode\":\"text\",\"text\":[\"2.23606797749979\"],\"x\":[26.0],\"y\":[28.5],\"type\":\"scatter\",\"textposition\":\"top right\",\"texttemplate\":\"%{text:.2s}\"},{\"mode\":\"text\",\"text\":[\"9.0\"],\"x\":[20.5],\"y\":[29.0],\"type\":\"scatter\",\"textposition\":\"top right\",\"texttemplate\":\"%{text:.2s}\"},{\"mode\":\"text\",\"text\":[\"7.0\"],\"x\":[12.5],\"y\":[29.0],\"type\":\"scatter\",\"textposition\":\"top right\",\"texttemplate\":\"%{text:.2s}\"}],                        {\"template\":{\"data\":{\"histogram2dcontour\":[{\"type\":\"histogram2dcontour\",\"colorbar\":{\"outlinewidth\":0,\"ticks\":\"\"},\"colorscale\":[[0.0,\"#0d0887\"],[0.1111111111111111,\"#46039f\"],[0.2222222222222222,\"#7201a8\"],[0.3333333333333333,\"#9c179e\"],[0.4444444444444444,\"#bd3786\"],[0.5555555555555556,\"#d8576b\"],[0.6666666666666666,\"#ed7953\"],[0.7777777777777778,\"#fb9f3a\"],[0.8888888888888888,\"#fdca26\"],[1.0,\"#f0f921\"]]}],\"choropleth\":[{\"type\":\"choropleth\",\"colorbar\":{\"outlinewidth\":0,\"ticks\":\"\"}}],\"histogram2d\":[{\"type\":\"histogram2d\",\"colorbar\":{\"outlinewidth\":0,\"ticks\":\"\"},\"colorscale\":[[0.0,\"#0d0887\"],[0.1111111111111111,\"#46039f\"],[0.2222222222222222,\"#7201a8\"],[0.3333333333333333,\"#9c179e\"],[0.4444444444444444,\"#bd3786\"],[0.5555555555555556,\"#d8576b\"],[0.6666666666666666,\"#ed7953\"],[0.7777777777777778,\"#fb9f3a\"],[0.8888888888888888,\"#fdca26\"],[1.0,\"#f0f921\"]]}],\"heatmap\":[{\"type\":\"heatmap\",\"colorbar\":{\"outlinewidth\":0,\"ticks\":\"\"},\"colorscale\":[[0.0,\"#0d0887\"],[0.1111111111111111,\"#46039f\"],[0.2222222222222222,\"#7201a8\"],[0.3333333333333333,\"#9c179e\"],[0.4444444444444444,\"#bd3786\"],[0.5555555555555556,\"#d8576b\"],[0.6666666666666666,\"#ed7953\"],[0.7777777777777778,\"#fb9f3a\"],[0.8888888888888888,\"#fdca26\"],[1.0,\"#f0f921\"]]}],\"heatmapgl\":[{\"type\":\"heatmapgl\",\"colorbar\":{\"outlinewidth\":0,\"ticks\":\"\"},\"colorscale\":[[0.0,\"#0d0887\"],[0.1111111111111111,\"#46039f\"],[0.2222222222222222,\"#7201a8\"],[0.3333333333333333,\"#9c179e\"],[0.4444444444444444,\"#bd3786\"],[0.5555555555555556,\"#d8576b\"],[0.6666666666666666,\"#ed7953\"],[0.7777777777777778,\"#fb9f3a\"],[0.8888888888888888,\"#fdca26\"],[1.0,\"#f0f921\"]]}],\"contourcarpet\":[{\"type\":\"contourcarpet\",\"colorbar\":{\"outlinewidth\":0,\"ticks\":\"\"}}],\"contour\":[{\"type\":\"contour\",\"colorbar\":{\"outlinewidth\":0,\"ticks\":\"\"},\"colorscale\":[[0.0,\"#0d0887\"],[0.1111111111111111,\"#46039f\"],[0.2222222222222222,\"#7201a8\"],[0.3333333333333333,\"#9c179e\"],[0.4444444444444444,\"#bd3786\"],[0.5555555555555556,\"#d8576b\"],[0.6666666666666666,\"#ed7953\"],[0.7777777777777778,\"#fb9f3a\"],[0.8888888888888888,\"#fdca26\"],[1.0,\"#f0f921\"]]}],\"surface\":[{\"type\":\"surface\",\"colorbar\":{\"outlinewidth\":0,\"ticks\":\"\"},\"colorscale\":[[0.0,\"#0d0887\"],[0.1111111111111111,\"#46039f\"],[0.2222222222222222,\"#7201a8\"],[0.3333333333333333,\"#9c179e\"],[0.4444444444444444,\"#bd3786\"],[0.5555555555555556,\"#d8576b\"],[0.6666666666666666,\"#ed7953\"],[0.7777777777777778,\"#fb9f3a\"],[0.8888888888888888,\"#fdca26\"],[1.0,\"#f0f921\"]]}],\"mesh3d\":[{\"type\":\"mesh3d\",\"colorbar\":{\"outlinewidth\":0,\"ticks\":\"\"}}],\"scatter\":[{\"fillpattern\":{\"fillmode\":\"overlay\",\"size\":10,\"solidity\":0.2},\"type\":\"scatter\"}],\"parcoords\":[{\"type\":\"parcoords\",\"line\":{\"colorbar\":{\"outlinewidth\":0,\"ticks\":\"\"}}}],\"scatterpolargl\":[{\"type\":\"scatterpolargl\",\"marker\":{\"colorbar\":{\"outlinewidth\":0,\"ticks\":\"\"}}}],\"bar\":[{\"error_x\":{\"color\":\"#2a3f5f\"},\"error_y\":{\"color\":\"#2a3f5f\"},\"marker\":{\"line\":{\"color\":\"white\",\"width\":0.5},\"pattern\":{\"fillmode\":\"overlay\",\"size\":10,\"solidity\":0.2}},\"type\":\"bar\"}],\"scattergeo\":[{\"type\":\"scattergeo\",\"marker\":{\"colorbar\":{\"outlinewidth\":0,\"ticks\":\"\"}}}],\"scatterpolar\":[{\"type\":\"scatterpolar\",\"marker\":{\"colorbar\":{\"outlinewidth\":0,\"ticks\":\"\"}}}],\"histogram\":[{\"marker\":{\"pattern\":{\"fillmode\":\"overlay\",\"size\":10,\"solidity\":0.2}},\"type\":\"histogram\"}],\"scattergl\":[{\"type\":\"scattergl\",\"marker\":{\"colorbar\":{\"outlinewidth\":0,\"ticks\":\"\"}}}],\"scatter3d\":[{\"type\":\"scatter3d\",\"line\":{\"colorbar\":{\"outlinewidth\":0,\"ticks\":\"\"}},\"marker\":{\"colorbar\":{\"outlinewidth\":0,\"ticks\":\"\"}}}],\"scattermapbox\":[{\"type\":\"scattermapbox\",\"marker\":{\"colorbar\":{\"outlinewidth\":0,\"ticks\":\"\"}}}],\"scatterternary\":[{\"type\":\"scatterternary\",\"marker\":{\"colorbar\":{\"outlinewidth\":0,\"ticks\":\"\"}}}],\"scattercarpet\":[{\"type\":\"scattercarpet\",\"marker\":{\"colorbar\":{\"outlinewidth\":0,\"ticks\":\"\"}}}],\"carpet\":[{\"aaxis\":{\"endlinecolor\":\"#2a3f5f\",\"gridcolor\":\"#C8D4E3\",\"linecolor\":\"#C8D4E3\",\"minorgridcolor\":\"#C8D4E3\",\"startlinecolor\":\"#2a3f5f\"},\"baxis\":{\"endlinecolor\":\"#2a3f5f\",\"gridcolor\":\"#C8D4E3\",\"linecolor\":\"#C8D4E3\",\"minorgridcolor\":\"#C8D4E3\",\"startlinecolor\":\"#2a3f5f\"},\"type\":\"carpet\"}],\"table\":[{\"cells\":{\"fill\":{\"color\":\"#EBF0F8\"},\"line\":{\"color\":\"white\"}},\"header\":{\"fill\":{\"color\":\"#C8D4E3\"},\"line\":{\"color\":\"white\"}},\"type\":\"table\"}],\"barpolar\":[{\"marker\":{\"line\":{\"color\":\"white\",\"width\":0.5},\"pattern\":{\"fillmode\":\"overlay\",\"size\":10,\"solidity\":0.2}},\"type\":\"barpolar\"}],\"pie\":[{\"automargin\":true,\"type\":\"pie\"}]},\"layout\":{\"autotypenumbers\":\"strict\",\"colorway\":[\"#636efa\",\"#EF553B\",\"#00cc96\",\"#ab63fa\",\"#FFA15A\",\"#19d3f3\",\"#FF6692\",\"#B6E880\",\"#FF97FF\",\"#FECB52\"],\"font\":{\"color\":\"#2a3f5f\"},\"hovermode\":\"closest\",\"hoverlabel\":{\"align\":\"left\"},\"paper_bgcolor\":\"white\",\"plot_bgcolor\":\"white\",\"polar\":{\"bgcolor\":\"white\",\"angularaxis\":{\"gridcolor\":\"#EBF0F8\",\"linecolor\":\"#EBF0F8\",\"ticks\":\"\"},\"radialaxis\":{\"gridcolor\":\"#EBF0F8\",\"linecolor\":\"#EBF0F8\",\"ticks\":\"\"}},\"ternary\":{\"bgcolor\":\"white\",\"aaxis\":{\"gridcolor\":\"#DFE8F3\",\"linecolor\":\"#A2B1C6\",\"ticks\":\"\"},\"baxis\":{\"gridcolor\":\"#DFE8F3\",\"linecolor\":\"#A2B1C6\",\"ticks\":\"\"},\"caxis\":{\"gridcolor\":\"#DFE8F3\",\"linecolor\":\"#A2B1C6\",\"ticks\":\"\"}},\"coloraxis\":{\"colorbar\":{\"outlinewidth\":0,\"ticks\":\"\"}},\"colorscale\":{\"sequential\":[[0.0,\"#0d0887\"],[0.1111111111111111,\"#46039f\"],[0.2222222222222222,\"#7201a8\"],[0.3333333333333333,\"#9c179e\"],[0.4444444444444444,\"#bd3786\"],[0.5555555555555556,\"#d8576b\"],[0.6666666666666666,\"#ed7953\"],[0.7777777777777778,\"#fb9f3a\"],[0.8888888888888888,\"#fdca26\"],[1.0,\"#f0f921\"]],\"sequentialminus\":[[0.0,\"#0d0887\"],[0.1111111111111111,\"#46039f\"],[0.2222222222222222,\"#7201a8\"],[0.3333333333333333,\"#9c179e\"],[0.4444444444444444,\"#bd3786\"],[0.5555555555555556,\"#d8576b\"],[0.6666666666666666,\"#ed7953\"],[0.7777777777777778,\"#fb9f3a\"],[0.8888888888888888,\"#fdca26\"],[1.0,\"#f0f921\"]],\"diverging\":[[0,\"#8e0152\"],[0.1,\"#c51b7d\"],[0.2,\"#de77ae\"],[0.3,\"#f1b6da\"],[0.4,\"#fde0ef\"],[0.5,\"#f7f7f7\"],[0.6,\"#e6f5d0\"],[0.7,\"#b8e186\"],[0.8,\"#7fbc41\"],[0.9,\"#4d9221\"],[1,\"#276419\"]]},\"xaxis\":{\"gridcolor\":\"#EBF0F8\",\"linecolor\":\"#EBF0F8\",\"ticks\":\"\",\"title\":{\"standoff\":15},\"zerolinecolor\":\"#EBF0F8\",\"automargin\":true,\"zerolinewidth\":2},\"yaxis\":{\"gridcolor\":\"#EBF0F8\",\"linecolor\":\"#EBF0F8\",\"ticks\":\"\",\"title\":{\"standoff\":15},\"zerolinecolor\":\"#EBF0F8\",\"automargin\":true,\"zerolinewidth\":2},\"scene\":{\"xaxis\":{\"backgroundcolor\":\"white\",\"gridcolor\":\"#DFE8F3\",\"linecolor\":\"#EBF0F8\",\"showbackground\":true,\"ticks\":\"\",\"zerolinecolor\":\"#EBF0F8\",\"gridwidth\":2},\"yaxis\":{\"backgroundcolor\":\"white\",\"gridcolor\":\"#DFE8F3\",\"linecolor\":\"#EBF0F8\",\"showbackground\":true,\"ticks\":\"\",\"zerolinecolor\":\"#EBF0F8\",\"gridwidth\":2},\"zaxis\":{\"backgroundcolor\":\"white\",\"gridcolor\":\"#DFE8F3\",\"linecolor\":\"#EBF0F8\",\"showbackground\":true,\"ticks\":\"\",\"zerolinecolor\":\"#EBF0F8\",\"gridwidth\":2}},\"shapedefaults\":{\"line\":{\"color\":\"#2a3f5f\"}},\"annotationdefaults\":{\"arrowcolor\":\"#2a3f5f\",\"arrowhead\":0,\"arrowwidth\":1},\"geo\":{\"bgcolor\":\"white\",\"landcolor\":\"white\",\"subunitcolor\":\"#C8D4E3\",\"showland\":true,\"showlakes\":true,\"lakecolor\":\"white\"},\"title\":{\"x\":0.05},\"mapbox\":{\"style\":\"light\"}}},\"xaxis\":{\"anchor\":\"y\",\"domain\":[0.0,1.0],\"title\":{\"text\":\"x\"}},\"yaxis\":{\"anchor\":\"x\",\"domain\":[0.0,1.0],\"title\":{\"text\":\"y\"}},\"legend\":{\"tracegroupgap\":0},\"margin\":{\"t\":60},\"shapes\":[{\"line\":{\"color\":\"rgb(0, 0, 0)\"},\"opacity\":0.09,\"type\":\"line\",\"x0\":9,\"x1\":8,\"y0\":29,\"y1\":22},{\"line\":{\"color\":\"rgb(0, 0, 0)\"},\"opacity\":0.09,\"type\":\"line\",\"x0\":8,\"x1\":4,\"y0\":22,\"y1\":15},{\"line\":{\"color\":\"rgb(0, 0, 0)\"},\"opacity\":0.09,\"type\":\"line\",\"x0\":4,\"x1\":0,\"y0\":15,\"y1\":17},{\"line\":{\"color\":\"rgb(0, 0, 0)\"},\"opacity\":0.09,\"type\":\"line\",\"x0\":0,\"x1\":0,\"y0\":17,\"y1\":10},{\"line\":{\"color\":\"rgb(0, 0, 0)\"},\"opacity\":0.09,\"type\":\"line\",\"x0\":0,\"x1\":8,\"y0\":10,\"y1\":9},{\"line\":{\"color\":\"rgb(0, 0, 0)\"},\"opacity\":0.09,\"type\":\"line\",\"x0\":8,\"x1\":17,\"y0\":9,\"y1\":26},{\"line\":{\"color\":\"rgb(0, 0, 0)\"},\"opacity\":0.09,\"type\":\"line\",\"x0\":17,\"x1\":27,\"y0\":26,\"y1\":28},{\"line\":{\"color\":\"rgb(0, 0, 0)\"},\"opacity\":0.09,\"type\":\"line\",\"x0\":27,\"x1\":25,\"y0\":28,\"y1\":29},{\"line\":{\"color\":\"rgb(0, 0, 0)\"},\"opacity\":0.09,\"type\":\"line\",\"x0\":25,\"x1\":16,\"y0\":29,\"y1\":29},{\"line\":{\"color\":\"rgb(0, 0, 0)\"},\"opacity\":0.09,\"type\":\"line\",\"x0\":16,\"x1\":9,\"y0\":29,\"y1\":29}],\"uniformtext\":{\"minsize\":8,\"mode\":\"hide\"},\"showlegend\":false},                        {\"responsive\": true}                    ).then(function(){\n",
              "                            \n",
              "var gd = document.getElementById('fbeabe18-b4ff-4e8b-9da1-4d9726a80376');\n",
              "var x = new MutationObserver(function (mutations, observer) {{\n",
              "        var display = window.getComputedStyle(gd).display;\n",
              "        if (!display || display === 'none') {{\n",
              "            console.log([gd, 'removed!']);\n",
              "            Plotly.purge(gd);\n",
              "            observer.disconnect();\n",
              "        }}\n",
              "}});\n",
              "\n",
              "// Listen for the removal of the full notebook cells\n",
              "var notebookContainer = gd.closest('#notebook-container');\n",
              "if (notebookContainer) {{\n",
              "    x.observe(notebookContainer, {childList: true});\n",
              "}}\n",
              "\n",
              "// Listen for the clearing of the current output cell\n",
              "var outputEl = gd.closest('.output');\n",
              "if (outputEl) {{\n",
              "    x.observe(outputEl, {childList: true});\n",
              "}}\n",
              "\n",
              "                        })                };                            </script>        </div>\n",
              "</body>\n",
              "</html>"
            ]
          },
          "metadata": {}
        }
      ]
    }
  ]
}